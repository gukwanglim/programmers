{
 "cells": [
  {
   "cell_type": "code",
   "execution_count": null,
   "metadata": {},
   "outputs": [],
   "source": [
    "# 2차 1번\n",
    "\n",
    "from itertools import *\n",
    "\n",
    "def solution(number):\n",
    "    answer = 0\n",
    "\n",
    "    printList = list(permutations(number, 3))\n",
    "\n",
    "    for i in range(len(printList)):\n",
    "        if sum(printList[i]) == 0:\n",
    "            answer += 1\n",
    "    \n",
    "    answer /= 6\n",
    "\n",
    "    return answer"
   ]
  },
  {
   "cell_type": "code",
   "execution_count": null,
   "metadata": {},
   "outputs": [],
   "source": [
    "# 2차 2번\n",
    "\n",
    "# 시간 초과\n",
    "def solution(topping):\n",
    "    answer = 0\n",
    "\n",
    "    for i in range(len(topping) - 1):\n",
    "\n",
    "        a = topping[:i]\n",
    "        b = topping[i:]\n",
    "\n",
    "        if len(list(set(a))) == len(list(set(b))):\n",
    "            answer += 1\n",
    "\n",
    "    return answer\n",
    "\n",
    "\n",
    "# 유튜브 참고\n",
    "def solution(topping):\n",
    "    answer = 0\n",
    "\n",
    "    L, R = dict(), dict()                     # topping의 범위가 넓기 때문에 dict로 정의\n",
    "\n",
    "    for num in topping:\n",
    "        if num not in R:                      # 만약 dict R에 겹치는 원소가 없을 경우 그 원소를 key값으로 하는 val 만들기.\n",
    "            R[num] = 1\n",
    "        else:                                 # 만약 dict R에 이미 들어있는 원소가 있을 경우 해당 key값의 val 증가시키기.\n",
    "            R[num] += 1\n",
    "\n",
    "    for i in range(len(topping)):\n",
    "        num = topping[i]                      # topping의 원소를 num에 저장\n",
    "        R[num] -= 1                           # dict R에는 이미 모든 원소를 key값으로 들고 있기 때문에 해당 key값의 val에 -1\n",
    "        if R[num] == 0:                       # 만약 key의 val이 0이 된다면 그 key값을 삭제\n",
    "            del R[num]\n",
    "        if num not in L:                      # dict R만 있는 상태이므로 dict L에도 겹치는 key가 없으면 만들기\n",
    "            L[num] = 1\n",
    "        else:\n",
    "            L[num] += 1                       # dict L에 겹치는 key가 있으면 val 증가시키기\n",
    "        if len(L.keys()) == len(R.keys()):                        # 이렇게 만들어진 dict R, L의 개수를 비교하여 그 값이 같을 경우 answer += 1\n",
    "            answer += 1\n",
    "\n",
    "    return answer"
   ]
  }
 ],
 "metadata": {
  "language_info": {
   "name": "python"
  },
  "orig_nbformat": 4
 },
 "nbformat": 4,
 "nbformat_minor": 2
}
