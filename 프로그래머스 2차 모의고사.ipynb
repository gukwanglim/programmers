{
 "cells": [
  {
   "cell_type": "code",
   "execution_count": null,
   "metadata": {},
   "outputs": [],
   "source": [
    "# 2차 1번\n",
    "\n",
    "from itertools import *\n",
    "\n",
    "def solution(number):\n",
    "    answer = 0\n",
    "\n",
    "    printList = list(permutations(number, 3))\n",
    "\n",
    "    for i in range(len(printList)):\n",
    "        if sum(printList[i]) == 0:\n",
    "            answer += 1\n",
    "    \n",
    "    answer /= 6\n",
    "\n",
    "    return answer"
   ]
  },
  {
   "cell_type": "code",
   "execution_count": null,
   "metadata": {},
   "outputs": [],
   "source": [
    "# 2차 2번\n",
    "\n",
    "# 시간 초과\n",
    "def solution(topping):\n",
    "    answer = 0\n",
    "\n",
    "    for i in range(len(topping) - 1):\n",
    "\n",
    "        a = topping[:i]\n",
    "        b = topping[i:]\n",
    "\n",
    "        if len(list(set(a))) == len(list(set(b))):\n",
    "            answer += 1\n",
    "\n",
    "    return answer\n",
    "\n",
    "\n",
    "# 유튜브 참고\n",
    "def solution(topping):\n",
    "    answer = 0\n",
    "\n",
    "    L, R = dict(), dict()\n",
    "\n",
    "    for num in topping:\n",
    "        if num not in R:\n",
    "            R[num] = 1\n",
    "        else:\n",
    "            R[num] += 1\n",
    "\n",
    "    for i in range(len(topping)):\n",
    "        num = topping[i]\n",
    "        R[num] -= 1\n",
    "        if R[num] == 0:\n",
    "            del R[num]\n",
    "        if num not in L:\n",
    "            L[num] = 1\n",
    "        else:\n",
    "            L[num] += 1\n",
    "        if len(L.keys()) == len(R.keys()):\n",
    "            answer += 1\n",
    "\n",
    "    return answer"
   ]
  }
 ],
 "metadata": {
  "language_info": {
   "name": "python"
  },
  "orig_nbformat": 4
 },
 "nbformat": 4,
 "nbformat_minor": 2
}
