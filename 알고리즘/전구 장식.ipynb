{
 "cells": [
  {
   "attachments": {},
   "cell_type": "markdown",
   "metadata": {},
   "source": [
    "https://www.acmicpc.net/problem/5527\n",
    "\n",
    "![그래프](./image/28.png)"
   ]
  },
  {
   "cell_type": "code",
   "execution_count": null,
   "metadata": {},
   "outputs": [],
   "source": [
    "import sys\n",
    "input = sys.stdin.readline\n",
    "\n",
    "N = int(input())\n",
    "info = list(map(int, input().split()))\n",
    "\n",
    "chain = [0, 0]\n",
    "\n",
    "count = 1\n",
    "for index in range(1, N):\n",
    "    if info[index] == info[index - 1]:\n",
    "        chain.append(count)\n",
    "        count = 1\n",
    "    else:\n",
    "        count += 1\n",
    "chain.append(count)\n",
    "\n",
    "answer = 0\n",
    "for index in range(len(chain) - 2):\n",
    "    answer = max(answer, chain[index] + chain[index + 1] + chain[index + 2])\n",
    "print(answer)"
   ]
  }
 ],
 "metadata": {
  "kernelspec": {
   "display_name": "pydata",
   "language": "python",
   "name": "python3"
  },
  "language_info": {
   "name": "python",
   "version": "3.9.11 (main, Mar 28 2022, 04:40:48) [MSC v.1916 64 bit (AMD64)]"
  },
  "orig_nbformat": 4,
  "vscode": {
   "interpreter": {
    "hash": "286b3223e4baa2339d35639af96ec91063d7905066fed95d13bac9e189bc76bf"
   }
  }
 },
 "nbformat": 4,
 "nbformat_minor": 2
}
