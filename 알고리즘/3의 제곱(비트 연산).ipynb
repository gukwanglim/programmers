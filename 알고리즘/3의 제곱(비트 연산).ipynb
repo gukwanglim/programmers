{
 "cells": [
  {
   "attachments": {},
   "cell_type": "markdown",
   "metadata": {},
   "source": [
    "https://www.acmicpc.net/problem/4312\n",
    "\n",
    "![그래프](./image/133.png)"
   ]
  },
  {
   "cell_type": "code",
   "execution_count": null,
   "metadata": {
    "vscode": {
     "languageId": "plaintext"
    }
   },
   "outputs": [],
   "source": [
    "while True:\n",
    "    n = int(input())\n",
    "    \n",
    "    if n == 0:\n",
    "        break\n",
    "        \n",
    "    n -= 1\n",
    "    arr = []\n",
    "    a = 0\n",
    "    while True:\n",
    "        arr.append(3 ** a)\n",
    "        a += 1\n",
    "\n",
    "        if n < 2 ** a:\n",
    "            break\n",
    "            \n",
    "    p = []\n",
    "    for i in range(len(arr)):\n",
    "        if n & (1<<i):\n",
    "            p.append(arr[i])\n",
    "\n",
    "    answer = '{'\n",
    "    for i, j in enumerate(p):\n",
    "        if i == 0:\n",
    "            answer += ' ' + str(j)\n",
    "        else:\n",
    "            answer += ', ' + str(j)   \n",
    "    answer += ' }'\n",
    "\n",
    "    print(answer)"
   ]
  }
 ],
 "metadata": {
  "language_info": {
   "name": "python"
  },
  "orig_nbformat": 4
 },
 "nbformat": 4,
 "nbformat_minor": 2
}
