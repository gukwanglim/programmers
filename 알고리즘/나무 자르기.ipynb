{
 "cells": [
  {
   "cell_type": "markdown",
   "metadata": {},
   "source": [
    "https://www.acmicpc.net/problem/2805\n",
    "\n",
    "![그래프](./image/205.png)"
   ]
  },
  {
   "cell_type": "code",
   "execution_count": null,
   "metadata": {
    "vscode": {
     "languageId": "plaintext"
    }
   },
   "outputs": [],
   "source": [
    "N, M = map(int, input().split())\n",
    "trees = list(map(int, input().split()))\n",
    "\n",
    "def sum(height):\n",
    "    result = 0\n",
    "    for tree in trees:\n",
    "        if tree > height:\n",
    "            result += (tree - height)\n",
    "    return result\n",
    "\n",
    "left, right = 1, max(trees)-1\n",
    "\n",
    "while left <= right:\n",
    "    mid = (left + right) // 2\n",
    "\n",
    "    if sum(mid) < M:\n",
    "        right = mid - 1\n",
    "    else:\n",
    "        left = mid + 1\n",
    "\n",
    "print(right)"
   ]
  }
 ],
 "metadata": {
  "language_info": {
   "name": "python"
  },
  "orig_nbformat": 4
 },
 "nbformat": 4,
 "nbformat_minor": 2
}
