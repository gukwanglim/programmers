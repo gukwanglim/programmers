{
 "cells": [
  {
   "attachments": {},
   "cell_type": "markdown",
   "metadata": {},
   "source": [
    "https://school.programmers.co.kr/learn/courses/30/lessons/161989\n",
    "\n",
    "![그래프](./image/70.png)"
   ]
  },
  {
   "cell_type": "code",
   "execution_count": null,
   "metadata": {
    "vscode": {
     "languageId": "plaintext"
    }
   },
   "outputs": [],
   "source": [
    "def solution(n, m, section):\n",
    "    answer = 0\n",
    "    n_p = []\n",
    "    \n",
    "    if m == 1:\n",
    "        return len(section)\n",
    "    \n",
    "    while section:\n",
    "        if not n_p:\n",
    "            n_p.append(section.pop())\n",
    "        elif n_p[0] - m + 1 <= section[-1]:\n",
    "            n_p.append(section.pop())\n",
    "        else:\n",
    "            n_p = []\n",
    "            answer += 1\n",
    "            \n",
    "    if len(n_p) > 0:\n",
    "        answer += 1\n",
    "                \n",
    "    return answer"
   ]
  }
 ],
 "metadata": {
  "language_info": {
   "name": "python"
  },
  "orig_nbformat": 4
 },
 "nbformat": 4,
 "nbformat_minor": 2
}
