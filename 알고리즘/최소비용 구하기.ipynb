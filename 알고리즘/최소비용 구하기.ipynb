{
 "cells": [
  {
   "cell_type": "markdown",
   "metadata": {},
   "source": [
    "https://www.acmicpc.net/problem/1916\n",
    "\n",
    "![그래프](./image/191.png)"
   ]
  },
  {
   "cell_type": "code",
   "execution_count": null,
   "metadata": {
    "vscode": {
     "languageId": "plaintext"
    }
   },
   "outputs": [],
   "source": [
    "import sys\n",
    "import heapq\n",
    "input = sys.stdin.readline\n",
    "\n",
    "INF = 1000 * 100000 + 1\n",
    "N = int(input())\n",
    "M = int(input())\n",
    "adj = [[] for _ in range(N + 1)]\n",
    "for _ in range(M):\n",
    "    [v, u, c] = map(int, input().split())\n",
    "    adj[v].append([u, c])\n",
    "[S, E] = map(int, input().split())\n",
    "\n",
    "dist = [INF for _ in range(N + 1)]\n",
    "queue = []\n",
    "heapq.heappush(queue, (0, S))\n",
    "dist[S] = 0\n",
    "\n",
    "while queue:\n",
    "    (c, curr) = heapq.heappop(queue)\n",
    "    if c > dist[curr]:\n",
    "        continue\n",
    "    for [next, dc] in adj[curr]:\n",
    "        if dist[next] > c + dc:\n",
    "            dist[next] = c + dc\n",
    "            heapq.heappush(queue, (c + dc, next))\n",
    "print(dist[E])"
   ]
  }
 ],
 "metadata": {
  "language_info": {
   "name": "python"
  },
  "orig_nbformat": 4
 },
 "nbformat": 4,
 "nbformat_minor": 2
}
