{
 "cells": [
  {
   "attachments": {},
   "cell_type": "markdown",
   "metadata": {},
   "source": [
    "https://school.programmers.co.kr/learn/courses/30/lessons/154538\n",
    "\n",
    "![그래프](./image/95.png)"
   ]
  },
  {
   "cell_type": "code",
   "execution_count": null,
   "metadata": {
    "vscode": {
     "languageId": "plaintext"
    }
   },
   "outputs": [],
   "source": [
    "def solution(x, y, n):\n",
    "    dp = [float('inf')] * (y + 1)\n",
    "    dp[x] = 0\n",
    "    \n",
    "    if x == y:\n",
    "        return 0\n",
    "    \n",
    "    for i in range(x, y + 1):\n",
    "        if (i + n) <= y:\n",
    "            dp[i + n] = min(dp[i + n], dp[i] + 1)\n",
    "            \n",
    "        if (i * 2) <= y:\n",
    "            dp[i * 2] = min(dp[i * 2], dp[i] + 1)\n",
    "            \n",
    "        if (i * 3) <= y:\n",
    "            dp[i * 3]  = min(dp[i * 3], dp[i] + 1)\n",
    "            \n",
    "    if dp[y] == float('inf'):\n",
    "        return -1\n",
    "    \n",
    "    return dp[y]"
   ]
  }
 ],
 "metadata": {
  "language_info": {
   "name": "python"
  },
  "orig_nbformat": 4
 },
 "nbformat": 4,
 "nbformat_minor": 2
}
