{
 "cells": [
  {
   "attachments": {},
   "cell_type": "markdown",
   "metadata": {},
   "source": [
    "https://school.programmers.co.kr/learn/courses/30/lessons/17682\n",
    "\n",
    "![그래프](./image/21.png)"
   ]
  },
  {
   "cell_type": "code",
   "execution_count": null,
   "metadata": {},
   "outputs": [],
   "source": [
    "import math\n",
    "\n",
    "def solution(dartResult):\n",
    "    stack = []\n",
    "    \n",
    "    index = 0\n",
    "    while index < len(dartResult):\n",
    "        if dartResult[index].isnumeric():\n",
    "            number = int(dartResult[index])\n",
    "            if number == 1 and dartResult[index+1] == '0':\n",
    "                stack.append(10)\n",
    "                index += 1\n",
    "            else:\n",
    "                stack.append(number)\n",
    "        else:\n",
    "            if dartResult[index] == 'S':\n",
    "                stack.append(pow(stack.pop(), 1))\n",
    "            elif dartResult[index] == 'D':\n",
    "                stack.append(pow(stack.pop(), 2))\n",
    "            elif dartResult[index] == 'T':\n",
    "                stack.append(pow(stack.pop(), 3))\n",
    "            elif dartResult[index] == '*':\n",
    "                curr = stack.pop()\n",
    "                if len(stack):\n",
    "                    stack.append(stack.pop() * 2)\n",
    "                stack.append(curr * 2)\n",
    "            elif dartResult[index] == '#':\n",
    "                stack.append(stack.pop() * -1)\n",
    "        index += 1\n",
    "    return sum(stack)"
   ]
  }
 ],
 "metadata": {
  "kernelspec": {
   "display_name": "pydata",
   "language": "python",
   "name": "python3"
  },
  "language_info": {
   "name": "python",
   "version": "3.9.11 (main, Mar 28 2022, 04:40:48) [MSC v.1916 64 bit (AMD64)]"
  },
  "orig_nbformat": 4,
  "vscode": {
   "interpreter": {
    "hash": "286b3223e4baa2339d35639af96ec91063d7905066fed95d13bac9e189bc76bf"
   }
  }
 },
 "nbformat": 4,
 "nbformat_minor": 2
}
