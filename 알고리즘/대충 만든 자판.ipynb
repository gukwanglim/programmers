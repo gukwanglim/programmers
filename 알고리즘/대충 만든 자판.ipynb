{
 "cells": [
  {
   "attachments": {},
   "cell_type": "markdown",
   "metadata": {},
   "source": [
    "https://school.programmers.co.kr/learn/courses/30/lessons/160586\n",
    "\n",
    "![그래프](./image/71.png)"
   ]
  },
  {
   "cell_type": "code",
   "execution_count": null,
   "metadata": {
    "vscode": {
     "languageId": "plaintext"
    }
   },
   "outputs": [],
   "source": [
    "def solution(keymap, targets):\n",
    "    answer = []\n",
    "    dict_target = {}\n",
    "    \n",
    "    for i in targets:\n",
    "        butten = []\n",
    "        for j in i:\n",
    "            if j not in dict_target:\n",
    "                dict_target[j] = min([101] + [keymap[k].find(j) for k in range(len(keymap)) if keymap[k].find(j) + 1 != 0])\n",
    "            \n",
    "            butten.append(dict_target[j] + 1)\n",
    "            \n",
    "        if 102 in butten:\n",
    "            answer.append(-1)\n",
    "        else:\n",
    "            answer.append(sum(butten))\n",
    "            \n",
    "    return answer"
   ]
  }
 ],
 "metadata": {
  "language_info": {
   "name": "python"
  },
  "orig_nbformat": 4
 },
 "nbformat": 4,
 "nbformat_minor": 2
}
