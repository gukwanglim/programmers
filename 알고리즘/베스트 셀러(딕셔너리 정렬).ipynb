{
 "cells": [
  {
   "attachments": {},
   "cell_type": "markdown",
   "metadata": {},
   "source": [
    "https://www.acmicpc.net/problem/1302\n",
    "\n",
    "![그래프](./image/129.png)"
   ]
  },
  {
   "cell_type": "code",
   "execution_count": null,
   "metadata": {
    "vscode": {
     "languageId": "plaintext"
    }
   },
   "outputs": [],
   "source": [
    "count = int(input())\n",
    "book_list = [input() for _ in range(count)]\n",
    "\n",
    "dict_book = {}\n",
    "\n",
    "for i in set(book_list):\n",
    "    dict_book[i] = book_list.count(i)\n",
    "    \n",
    "dict_book = sorted(dict_book.items(), key = lambda x : [-x[1], x[0]])\n",
    "\n",
    "print(dict_book[0][0])"
   ]
  }
 ],
 "metadata": {
  "language_info": {
   "name": "python"
  },
  "orig_nbformat": 4
 },
 "nbformat": 4,
 "nbformat_minor": 2
}
