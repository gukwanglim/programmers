{
 "cells": [
  {
   "cell_type": "markdown",
   "metadata": {},
   "source": [
    "https://www.acmicpc.net/problem/1424\n",
    "\n",
    "![그래프](./image/201.png)"
   ]
  },
  {
   "cell_type": "code",
   "execution_count": null,
   "metadata": {
    "vscode": {
     "languageId": "plaintext"
    }
   },
   "outputs": [],
   "source": [
    "import sys\n",
    "input = sys.stdin.readline\n",
    "\n",
    "N = int(input())\n",
    "L = int(input())\n",
    "C = int(input())\n",
    "\n",
    "# N = 7\n",
    "# L = 2\n",
    "# C = 6\n",
    "\n",
    "answer = N\n",
    "for count in range(1, min(((C - L) // (L + 1)) + 1, N) + 1):\n",
    "    if count % 13 == 0:\n",
    "        continue\n",
    "    remain = N % count\n",
    "\n",
    "    add = 0\n",
    "    if remain > 0:\n",
    "        if remain % 13 == 0 and remain + 1 == count:\n",
    "            add = 2\n",
    "        else:\n",
    "            add = 1\n",
    "    answer = min(answer, N // count + add)\n",
    "print(answer)"
   ]
  }
 ],
 "metadata": {
  "language_info": {
   "name": "python"
  },
  "orig_nbformat": 4
 },
 "nbformat": 4,
 "nbformat_minor": 2
}
