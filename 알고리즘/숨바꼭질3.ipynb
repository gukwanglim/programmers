{
 "cells": [
  {
   "cell_type": "markdown",
   "metadata": {},
   "source": [
    "https://www.acmicpc.net/problem/13549\n",
    "\n",
    "![그래프](./image/198.png)"
   ]
  },
  {
   "cell_type": "code",
   "execution_count": null,
   "metadata": {
    "vscode": {
     "languageId": "plaintext"
    }
   },
   "outputs": [],
   "source": [
    "from collections import deque\n",
    "\n",
    "n, k = map(int, input().split())\n",
    "\n",
    "move_list = [0] * 100001\n",
    "\n",
    "queue = deque()\n",
    "queue.append(n)\n",
    "\n",
    "move_list[n] = 1\n",
    "tick = 1\n",
    "\n",
    "while move_list[k] == 0:\n",
    "    tick += 1\n",
    "    temp = [] \n",
    "    \n",
    "    while queue:\n",
    "        p = queue.popleft()\n",
    "        for i in [p-1, p+1, p*2]:\n",
    "            if i >= 0 and i < 100001 and move_list[i] == 0:\n",
    "                move_list[i] = tick \n",
    "                temp.append(i)\n",
    "    queue = deque(temp)\n",
    "print(move_list[k] - 1)"
   ]
  }
 ],
 "metadata": {
  "language_info": {
   "name": "python"
  },
  "orig_nbformat": 4
 },
 "nbformat": 4,
 "nbformat_minor": 2
}
