{
 "cells": [
  {
   "attachments": {},
   "cell_type": "markdown",
   "metadata": {},
   "source": [
    "https://school.programmers.co.kr/learn/courses/30/lessons/12952\n",
    "\n",
    "![그래프](./image/30.png)"
   ]
  },
  {
   "cell_type": "code",
   "execution_count": null,
   "metadata": {},
   "outputs": [],
   "source": [
    "n = 5\n",
    "\n",
    "stack = []\n",
    "res = 0\n",
    "for a in range(n):\n",
    "    for b in range(n):\n",
    "        z = []\n",
    "        rect = [[0 for _ in range(n)] for _ in range(n)]\n",
    "        cnt = 1\n",
    "        rect[a][b] = 1\n",
    "        for c in range(n):\n",
    "            rect[a][c] = 1\n",
    "        for c in range(n):\n",
    "            rect[c][b] = 1\n",
    "        for c in range(n):\n",
    "            if 0<=a+c <= n-1 and 0<=b+c <= n-1:\n",
    "                rect[a+c][b+c] = 1\n",
    "            if 0<=a-c <= n-1 and 0<=b-c <= n-1:\n",
    "                rect[a-c][b-c] = 1\n",
    "            if 0<=a-c <= n-1 and 0<=b+c <= n-1:\n",
    "                rect[a-c][b+c] = 1\n",
    "            if 0<=a+c <= n-1 and 0<=b-c <= n-1:\n",
    "                rect[a+c][b-c] = 1    \n",
    "        z.append((a,b))           \n",
    "        \n",
    "        for i in range(n):\n",
    "            for j in range(n):\n",
    "                if rect[i][j] == 0:\n",
    "                    for k in range(n):\n",
    "                        rect[i][k] = 1\n",
    "                    for k in range(n):\n",
    "                        rect[k][j] = 1\n",
    "                    for k in range(n):\n",
    "                        if 0<=i+k <= n-1 and 0<=j+k <= n-1:\n",
    "                            rect[i+k][j+k] = 1\n",
    "                        if 0<=i-k <= n-1 and 0<=j-k <= n-1:\n",
    "                            rect[i-k][j-k] = 1\n",
    "                        if 0<=i-k <= n-1 and 0<=j+k <= n-1:\n",
    "                            rect[i-k][j+k] = 1\n",
    "                        if 0<=i+k <= n-1 and 0<=j-k <= n-1:\n",
    "                            rect[i+k][j-k] = 1\n",
    "                    cnt += 1\n",
    "                    z.append((i,j))\n",
    "        z.sort()\n",
    "        if cnt == n and z not in stack:\n",
    "            stack.append(z)\n",
    "            res += 1 \n",
    "print(stack)\n",
    "print(res)"
   ]
  }
 ],
 "metadata": {
  "kernelspec": {
   "display_name": "pydata",
   "language": "python",
   "name": "python3"
  },
  "language_info": {
   "name": "python",
   "version": "3.9.11 (main, Mar 28 2022, 04:40:48) [MSC v.1916 64 bit (AMD64)]"
  },
  "orig_nbformat": 4,
  "vscode": {
   "interpreter": {
    "hash": "286b3223e4baa2339d35639af96ec91063d7905066fed95d13bac9e189bc76bf"
   }
  }
 },
 "nbformat": 4,
 "nbformat_minor": 2
}
