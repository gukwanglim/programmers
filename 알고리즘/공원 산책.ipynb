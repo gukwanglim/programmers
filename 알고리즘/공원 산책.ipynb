{
 "cells": [
  {
   "attachments": {},
   "cell_type": "markdown",
   "metadata": {},
   "source": [
    "https://school.programmers.co.kr/learn/courses/30/lessons/172928\n",
    "\n",
    "![그래프](./image/103.png)\n",
    "![그래프](./image/103-2.png)\n",
    "![그래프](./image/103-3.png)"
   ]
  },
  {
   "cell_type": "code",
   "execution_count": null,
   "metadata": {
    "vscode": {
     "languageId": "plaintext"
    }
   },
   "outputs": [],
   "source": [
    "def solution(park, routes):\n",
    "    dict_op = {'N':[-1, 0], 'S':[1, 0], 'W':[0, -1], 'E':[0, 1]}\n",
    "    isBound = lambda y, x: (y >= 0 and y < len(park) and x >= 0 and x < len(park[0]))\n",
    "    \n",
    "    for i in range(len(park)):\n",
    "        for j in range(len(park[0])):\n",
    "            if park[i][j] == 'S':\n",
    "                answer = [i, j]\n",
    "                break\n",
    "    \n",
    "    check = answer.copy()\n",
    "    for route in routes:\n",
    "        op, count = route.split(' ')[0], route.split(' ')[1]\n",
    "        for _ in range(int(count)):\n",
    "            if isBound(check[0] + dict_op[op][0], check[1] + dict_op[op][1]):\n",
    "                if park[check[0] + dict_op[op][0]][check[1] + dict_op[op][1]] == 'X':\n",
    "                    check = answer.copy()\n",
    "                    break\n",
    "                check = [check[0] + dict_op[op][0], check[1] + dict_op[op][1]]\n",
    "            else:\n",
    "                check = answer.copy()\n",
    "                break\n",
    "                \n",
    "        answer = check.copy()    \n",
    "    \n",
    "    return answer"
   ]
  },
  {
   "cell_type": "code",
   "execution_count": null,
   "metadata": {
    "vscode": {
     "languageId": "plaintext"
    }
   },
   "outputs": [],
   "source": [
    "# 위 풀이보다 깔끔한 풀이\n",
    "\n",
    "def solution(park, routes):\n",
    "    r,c,R,C = 0,0,len(park),len(park[0]) # r,c : S위치 / R,C : 보드경계\n",
    "    move = {\"E\":(0,1),\"W\":(0,-1),\"S\":(1,0),\"N\":(-1,0)}\n",
    "    for i,row in enumerate(park): # 시작점 찾기(for 구문 한 번으로 start 찾기)\n",
    "        if \"S\" in row:\n",
    "            r,c = i,row.find(\"S\")\n",
    "            break\n",
    "\n",
    "    for route in routes:\n",
    "        dr,dc = move[route[0]] # 입력받는 route의 움직임 방향\n",
    "        new_r,new_c = r,c # new_r,new_c : route 적용 후 위치\n",
    "        for _ in range(int(route[2])):\n",
    "            # 한칸씩 움직이면서, 보드 안쪽이고 \"X\"가 아니라면 한칸이동\n",
    "            if 0<=new_r+dr<R and 0<=new_c+dc<C and park[new_r+dr][new_c+dc] != \"X\":\n",
    "                new_r,new_c = new_r+dr,new_c+dc\n",
    "            else: # 아니라면 처음 위치로\n",
    "                new_r,new_c = r,c\n",
    "                break\n",
    "        r,c = new_r,new_c # 위치 업데이트\n",
    "\n",
    "    return [r,c]"
   ]
  }
 ],
 "metadata": {
  "language_info": {
   "name": "python"
  },
  "orig_nbformat": 4
 },
 "nbformat": 4,
 "nbformat_minor": 2
}
