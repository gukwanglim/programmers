{
 "cells": [
  {
   "attachments": {},
   "cell_type": "markdown",
   "metadata": {},
   "source": [
    "https://school.programmers.co.kr/learn/courses/30/lessons/178871\n",
    "\n",
    "![그래프](./image/84.png)"
   ]
  },
  {
   "cell_type": "code",
   "execution_count": null,
   "metadata": {
    "vscode": {
     "languageId": "plaintext"
    }
   },
   "outputs": [],
   "source": [
    "def solution(players, callings):\n",
    "    dict_player = {}\n",
    "    \n",
    "    for i, j in enumerate(players):\n",
    "        dict_player[j] = i\n",
    "    \n",
    "    for player in callings:\n",
    "        index = dict_player[player]\n",
    "        dict_player[player] -= 1\n",
    "        dict_player[players[index - 1]] += 1\n",
    "        \n",
    "        players[index - 1], players[index] = players[index], players[index - 1] \n",
    "    \n",
    "    return players"
   ]
  }
 ],
 "metadata": {
  "language_info": {
   "name": "python"
  },
  "orig_nbformat": 4
 },
 "nbformat": 4,
 "nbformat_minor": 2
}
