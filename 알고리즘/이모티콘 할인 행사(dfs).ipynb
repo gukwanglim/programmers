{
 "cells": [
  {
   "attachments": {},
   "cell_type": "markdown",
   "metadata": {},
   "source": [
    "https://school.programmers.co.kr/learn/courses/30/lessons/150368\n",
    "\n",
    "![그래프](./image/78.png)\n",
    "![그래프](./image/78-2.png)\n",
    "![그래프](./image/78-3.png)"
   ]
  },
  {
   "cell_type": "code",
   "execution_count": null,
   "metadata": {
    "vscode": {
     "languageId": "plaintext"
    }
   },
   "outputs": [],
   "source": [
    "def solution(users, emoticons):\n",
    "    answer = [0, 0]\n",
    "    discount = [10 ,20, 30, 40]\n",
    "    check = []\n",
    "    \n",
    "    def dfs(emoticon, depth):\n",
    "        if depth == len(emoticon):\n",
    "            check.append(emoticon[:])\n",
    "            return\n",
    "\n",
    "        for d in discount:\n",
    "            emoticon[depth] += d\n",
    "            dfs(emoticon, depth + 1)\n",
    "            emoticon[depth] -= d\n",
    "\n",
    "    dfs([0] * len(emoticons), 0)\n",
    "    \n",
    "    for c in check:\n",
    "        join, price = 0, [0] * len(users)\n",
    "        \n",
    "        # check 경우의 수 중 하나\n",
    "        # ex) 1번 이모티콘을 1, 2번 사람이 할인율을 보고 결정, 2번 이모티콘을 1, 2번 사람이 할인율을 보고 결정\n",
    "        for e_num, e in enumerate(emoticons):\n",
    "            for u_num, user in enumerate(users):\n",
    "                if user[0] <= c[e_num]:\n",
    "                    price[u_num] += e * (1 - (c[e_num] * 0.01))\n",
    "        \n",
    "        # check 경우의 수 중 하나에서 서비스 가입 여부 판단\n",
    "        for u_num, user in enumerate(users):\n",
    "            if price[u_num] >= user[1]:\n",
    "                join += 1\n",
    "                price[u_num] = 0\n",
    "                \n",
    "        if join >= answer[0]:\n",
    "            if join == answer[0]:\n",
    "                answer[1] = max(answer[1], sum(price))\n",
    "            else:\n",
    "                answer = [join, sum(price)]\n",
    "    \n",
    "    return answer"
   ]
  }
 ],
 "metadata": {
  "language_info": {
   "name": "python"
  },
  "orig_nbformat": 4
 },
 "nbformat": 4,
 "nbformat_minor": 2
}
