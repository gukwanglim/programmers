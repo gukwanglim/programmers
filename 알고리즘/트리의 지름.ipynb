{
 "cells": [
  {
   "cell_type": "markdown",
   "metadata": {},
   "source": [
    "https://www.acmicpc.net/problem/1167\n",
    "\n",
    "![그래프](./image/196.png)"
   ]
  },
  {
   "cell_type": "code",
   "execution_count": null,
   "metadata": {
    "vscode": {
     "languageId": "plaintext"
    }
   },
   "outputs": [],
   "source": [
    "import sys\n",
    "input = sys.stdin.readline\n",
    "\n",
    "V = int(input())\n",
    "adj = [[] for _ in range(V + 1)]\n",
    "for _ in range(V):\n",
    "    [v, *node] = map(int, input().split())\n",
    "    for i in range(0, len(node), 2):\n",
    "        if node[i] == -1:\n",
    "            break\n",
    "        adj[v].append([node[i], node[i + 1]])\n",
    "\n",
    "def dfs(x, y):\n",
    "    for a, b in adj[x]:\n",
    "        if visited[a] == -1:\n",
    "            visited[a] = b + y\n",
    "            dfs(a, b + y)\n",
    "\n",
    "visited = [-1 for _ in range(V + 1)]\n",
    "visited[1] = 0\n",
    "dfs(1, 0)\n",
    "\n",
    "start = visited.index(max(visited))\n",
    "visited = [-1 for _ in range(V + 1)]\n",
    "visited[start] = 0\n",
    "dfs(start, 0)\n",
    "\n",
    "print(max(visited))"
   ]
  }
 ],
 "metadata": {
  "language_info": {
   "name": "python"
  },
  "orig_nbformat": 4
 },
 "nbformat": 4,
 "nbformat_minor": 2
}
