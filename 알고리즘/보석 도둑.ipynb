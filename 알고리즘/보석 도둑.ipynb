{
 "cells": [
  {
   "cell_type": "markdown",
   "metadata": {},
   "source": [
    "https://www.acmicpc.net/problem/14232\n",
    "\n",
    "![그래프](./image/156.png)"
   ]
  },
  {
   "cell_type": "code",
   "execution_count": null,
   "metadata": {
    "vscode": {
     "languageId": "plaintext"
    }
   },
   "outputs": [],
   "source": [
    "import sys\n",
    "import math\n",
    "input = sys.stdin.readline\n",
    "\n",
    "k = int(input())\n",
    "answer = []\n",
    "for div in range(2, math.ceil(math.sqrt(k)) + 1):\n",
    "    while k % div == 0:\n",
    "        answer.append(div)\n",
    "        k = k // div\n",
    "if k > 1:\n",
    "    answer.append(k)\n",
    "print(len(answer))\n",
    "print(*answer)"
   ]
  }
 ],
 "metadata": {
  "language_info": {
   "name": "python"
  },
  "orig_nbformat": 4
 },
 "nbformat": 4,
 "nbformat_minor": 2
}
