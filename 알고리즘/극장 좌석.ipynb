{
 "cells": [
  {
   "attachments": {},
   "cell_type": "markdown",
   "metadata": {},
   "source": [
    "https://www.acmicpc.net/problem/2302\n",
    "\n",
    "![그래프](./image/137.png)"
   ]
  },
  {
   "cell_type": "code",
   "execution_count": null,
   "metadata": {
    "vscode": {
     "languageId": "plaintext"
    }
   },
   "outputs": [],
   "source": [
    "import sys\n",
    "input = sys.stdin.readline\n",
    "\n",
    "dp = [0, 1, 2]\n",
    "for n in range(40):\n",
    "    dp.append(dp[-2] + dp[-1])\n",
    "\n",
    "N = int(input())\n",
    "M = int(input())\n",
    "info = [0] + [int(input()) for m in range(M)] + [N + 1]\n",
    "\n",
    "# N = 9\n",
    "# M = 2\n",
    "# info = [0] + [4, 7] + [N + 1]\n",
    "\n",
    "answer = 1\n",
    "for index in range(1, M + 2):\n",
    "    count = info[index] - info[index - 1] - 1\n",
    "    if count == 0:\n",
    "        continue\n",
    "    answer = answer * dp[count]\n",
    "print(answer)"
   ]
  }
 ],
 "metadata": {
  "language_info": {
   "name": "python"
  },
  "orig_nbformat": 4
 },
 "nbformat": 4,
 "nbformat_minor": 2
}
