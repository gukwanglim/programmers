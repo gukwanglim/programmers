{
 "cells": [
  {
   "attachments": {},
   "cell_type": "markdown",
   "metadata": {},
   "source": [
    "https://school.programmers.co.kr/learn/courses/30/lessons/17684\n",
    "\n",
    "![그래프](./image/92.png)\n",
    "![그래프](./image/92-2.png)\n",
    "![그래프](./image/92-3.png)"
   ]
  },
  {
   "cell_type": "code",
   "execution_count": null,
   "metadata": {
    "vscode": {
     "languageId": "plaintext"
    }
   },
   "outputs": [],
   "source": [
    "from collections import deque\n",
    "\n",
    "def solution(msg):\n",
    "    dict = {}\n",
    "    answer = []\n",
    "\n",
    "    a = \"ABCDEFGHIJKLMNOPQRSTUVWXYZ\"\n",
    "    for i in range(len(a)):\n",
    "        dict[a[i]] = i+1\n",
    "\n",
    "    list_w = deque([])\n",
    "    string = ''\n",
    "    for i in msg:\n",
    "        list_w.append(i)\n",
    "\n",
    "    while list_w != deque([]):\n",
    "        string += list_w.popleft()\n",
    "        if string in dict:\n",
    "            continue\n",
    "\n",
    "        else:\n",
    "            a = len(dict)\n",
    "            dict[string] = a+1\n",
    "            answer.append(dict[string[:len(string)-1]])\n",
    "            string = string[-1]\n",
    "\n",
    "    answer.append(dict[string])\n",
    "    \n",
    "    return answer"
   ]
  }
 ],
 "metadata": {
  "language_info": {
   "name": "python"
  },
  "orig_nbformat": 4
 },
 "nbformat": 4,
 "nbformat_minor": 2
}
