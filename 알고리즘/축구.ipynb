{
 "cells": [
  {
   "attachments": {},
   "cell_type": "markdown",
   "metadata": {},
   "source": [
    "https://www.acmicpc.net/problem/1344\n",
    "\n",
    "![그래프](./image/128.png)"
   ]
  },
  {
   "cell_type": "code",
   "execution_count": null,
   "metadata": {
    "vscode": {
     "languageId": "plaintext"
    }
   },
   "outputs": [],
   "source": [
    "import sys\n",
    "input = sys.stdin.readline\n",
    "\n",
    "minute = 90\n",
    "interval = 5\n",
    "prime = [2, 3, 5, 7, 11, 13, 17]\n",
    "\n",
    "rateA = int(input()) / 100\n",
    "rateB = int(input())  / 100\n",
    "N = (minute // interval)\n",
    "C = [1 for _ in range(N + 1)]\n",
    "for i in range(N + 1):\n",
    "    for j in range(i - 1, 0, -1):\n",
    "        C[j] += C[j - 1]\n",
    "\n",
    "totalA = 0\n",
    "totalB = 0\n",
    "for count in range(N + 1):\n",
    "    if count in prime:\n",
    "        continue\n",
    "    totalA += C[count] * pow(rateA, count) * pow(1 - rateA, N - count)\n",
    "    totalB += C[count] * pow(rateB, count) * pow(1 - rateB, N - count)\n",
    "\n",
    "print(1 - (totalA * totalB))"
   ]
  }
 ],
 "metadata": {
  "language_info": {
   "name": "python"
  },
  "orig_nbformat": 4
 },
 "nbformat": 4,
 "nbformat_minor": 2
}
