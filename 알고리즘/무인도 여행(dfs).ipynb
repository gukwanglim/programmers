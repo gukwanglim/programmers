{
 "cells": [
  {
   "attachments": {},
   "cell_type": "markdown",
   "metadata": {},
   "source": [
    "https://school.programmers.co.kr/learn/courses/30/lessons/154540\n",
    "\n",
    "![그래프](./image/88.png)"
   ]
  },
  {
   "cell_type": "code",
   "execution_count": null,
   "metadata": {
    "vscode": {
     "languageId": "plaintext"
    }
   },
   "outputs": [],
   "source": [
    "import sys\n",
    "sys.setrecursionlimit(10**8)\n",
    "\n",
    "def solution(maps):\n",
    "    global count\n",
    "    target = []\n",
    "    \n",
    "    for i in range(len(maps)):\n",
    "        for j in range(len(maps[0])):\n",
    "            if maps[i][j] != 'X':\n",
    "                target.append([i, j])\n",
    "                \n",
    "    if not target:\n",
    "        return [-1]\n",
    "\n",
    "    def dfs(y, x):\n",
    "        global count\n",
    "        if [y, x] in target:\n",
    "            count += int(maps[y][x])\n",
    "            target.remove([y, x])\n",
    "            \n",
    "            dfs(y+1, x)\n",
    "            dfs(y-1, x)\n",
    "            dfs(y, x+1)\n",
    "            dfs(y, x-1)\n",
    "        \n",
    "    count_list = []\n",
    "    while target:\n",
    "        count = 0\n",
    "        dfs(target[0][0], target[0][1])\n",
    "        count_list.append(count)\n",
    "        \n",
    "    count_list.sort()\n",
    "    \n",
    "    return count_list"
   ]
  }
 ],
 "metadata": {
  "language_info": {
   "name": "python"
  },
  "orig_nbformat": 4
 },
 "nbformat": 4,
 "nbformat_minor": 2
}
