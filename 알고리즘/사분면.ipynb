{
 "cells": [
  {
   "cell_type": "markdown",
   "metadata": {},
   "source": [
    "https://www.acmicpc.net/problem/1891\n",
    "\n",
    "![그래프](./image/172-1.png)\n",
    "![그래프](./image/172-2.png)"
   ]
  },
  {
   "cell_type": "code",
   "execution_count": null,
   "metadata": {
    "vscode": {
     "languageId": "plaintext"
    }
   },
   "outputs": [],
   "source": [
    "BIN = ['', '00', '01', '11', '10']\n",
    "\n",
    "[d, number] = list(map(int, input().split()))\n",
    "[dx, dy] = list(map(int, input().split()))\n",
    "\n",
    "y, x = map(lambda n: int(''.join(n), 2), zip(*list(map(lambda n: BIN[int(n)], str(number)))))\n",
    "\n",
    "if 0 <= y-dy < pow(2, d) and 0 <= x-dx < pow(2, d):\n",
    "    move = list(map(lambda n: bin(n)[2:].zfill(d), [y-dy, x-dx]))\n",
    "    answer = ''\n",
    "    for index in range(d):\n",
    "        answer += str(BIN.index(move[0][index] + move[1][index]))\n",
    "    print(answer)\n",
    "else:\n",
    "    print(-1)"
   ]
  },
  {
   "cell_type": "code",
   "execution_count": null,
   "metadata": {
    "vscode": {
     "languageId": "plaintext"
    }
   },
   "outputs": [],
   "source": []
  }
 ],
 "metadata": {
  "language_info": {
   "name": "python"
  },
  "orig_nbformat": 4
 },
 "nbformat": 4,
 "nbformat_minor": 2
}
