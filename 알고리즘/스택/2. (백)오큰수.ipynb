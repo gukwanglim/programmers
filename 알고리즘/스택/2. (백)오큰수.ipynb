{
 "cells": [
  {
   "cell_type": "markdown",
   "metadata": {},
   "source": [
    "https://www.acmicpc.net/problem/17298\n",
    "\n",
    "![그래프](./image/2.png)"
   ]
  },
  {
   "cell_type": "markdown",
   "metadata": {},
   "source": [
    "처음 문제를 확인하고 단순하게 for 구문을 돌리면 될 것이라 생각했다.\n",
    "하지만 최대 범위 100000, 제한 시간이 1초로 1억번의 계산만 할 수 있다.\n",
    "이중 for 구문을 돌리는 순간 시간초과가 발생하는 문제이다."
   ]
  },
  {
   "cell_type": "code",
   "execution_count": null,
   "metadata": {},
   "outputs": [],
   "source": [
    "n = int(input())\n",
    "seq = list(map(int,input().split()))\n",
    "stack = []\n",
    "\n",
    "for i in range(n):                      # 시간초과를 해결하기 위해 stack을 사용한다. 코드를 살펴보면 for 구문과 whlie 구문을 사용하기 때문에 이중 for 구문과 별 다를바 없어 보이지만 상당히 다르다.\n",
    "    while stack:\n",
    "        print(seq,stack)\n",
    "        if seq[i] > seq[stack[-1]]:         # 2. 만약, 스택에 담긴 마지막 수와 현재의 인덱스에 담긴 수(쉽게 설명해 현재의 인덱스 이전의 수(뒤로 가면 다른 수와 비교된다.))를 비교하여 \n",
    "            seq[stack.pop()] = seq[i]           # 현재 인덱스에 담긴 수가 크다면 스택에 담긴 마지막 수를 pop하고, 이전 인덱스를 현 인덱스에 담긴 수로 변경한다.\n",
    "        else:\n",
    "            stack.append(i)                 # 3. 만약, 수가 변경되지 않는다면 스택에 현재의 인덱스를 추가한다.\n",
    "            break\n",
    "    \n",
    "    if not stack:                           # 1. for 구문으로 들어오는 i가 0일 경우, 혹은 stack이 존재하지 않을 경우 stack에 그 순간에 해당하는 인덱스(i)를 넣는다.\n",
    "        stack.append(i)\n",
    "        \n",
    "print(seq,stack)\n",
    "for i in stack:                             # 4. 마지막에 담겨있는 수는 오큰수가 존재하지 않기 때문에 -1로 출력한다.\n",
    "    seq[i] = -1\n",
    "    \n",
    "print(*seq)"
   ]
  },
  {
   "cell_type": "markdown",
   "metadata": {},
   "source": [
    "위에 적힌 코드 설명만 읽어보면 분명히 헷갈릴 것이다.\n",
    "때문에 [5, 3, 5, 8]을 예시로 설명을 하겠다.\n",
    "\n",
    "1. i=0 일 때, stack에 값이 존재하지 않으므로 0을 추가한다.                                                  -> seq=[5, 3, 5, 8], stack=[0]\n",
    "\n",
    "2. i=1 일 때, stack에 값이 존재하므로 stack의 마지막에 존재하는 수를 인덱스로 현재의 인덱스와 비교한다.\n",
    "    seq[stack[-1]]=seq[0] 과 seq[i]=seq[1] 을 비교하면 5 > 3으로 오큰수가 아니다.\n",
    "    때문에 seq를 수정하지 않고 stack에 3을 추가한다.                                                        -> seq=[5, 3, 5, 8], stack=[0, 1]\n",
    "\n",
    "3. i=2 일 때, \n",
    "    seq[stack[-1]]=seq[1] 과 seq[i]=seq[2] 를 비교하면 3 < 5로 오큰수가 성립한다.                           \n",
    "    때문에 stack의 마지막 값을 pop하여 현재 인덱스에 존재하는 값(seq[i])을 변경한다.                          -> seq[5, 5, 5, 8], stack=[0]\n",
    "\n",
    "4. 3번에서 if seq[i] > seq[stack[-1]]:를 통과했다고 i=3으로 넘어가는 것이 아니다.\n",
    "    현재는 while 구문에서 돌아가는 것으로 i를 변경시킬 for 구문은 아직 break를 받지 않았다.\n",
    "\n",
    "    때문에 아직 i=2 이며, 다시 한번 stack의 마지막 값과 현재 인덱스에 존재하는 값을 비교한다.\n",
    "    seq[stack[-1]]=seq[0] 과 seq[i]=seq[2] 를 비교하면 5 = 5이므로 오큰수가 아니다.\n",
    "    즉, seq를 수정하지 않고 현재의 인덱스를 stack에 추가한다.                                                -> seq[5, 5, 5, 8], stack[0, 2]\n",
    "\n",
    "5. 4번에서 stack에 값을 추가하며 break를 받았기 때문에 i=3이 된다.\n",
    "    seq[stack[-1]]=seq[2] 와 seq[i]=seq[3] 을 비교하면 5 < 8으로 오큰수가 성립한다.                         -> seq[5, 5, 8, 8], stack[0]\n",
    "\n",
    "6. for 구문의 i는 마지막 인덱스가 들어왔지만, stack이 존재하기 때문에 while 구문이 돌아간다.\n",
    "    seq[stack[-1]]=seq[0] 과 seq[i]=seq[3] 을 비교하면 5 < 8 으로 오큰수가 성립한다.                        -> seq[8, 5, 8, 8], stack[]\n",
    "\n",
    "7. seq가 수정되고 stack이 pop된다 하여도 while 구문은 아직 끝나지 않았다.\n",
    "    seq의 마지막 숫자는 비교할 수 있는 값이 존재하지 않기에 else를 만나 stack에 추가되고 break 된다.           -> seq[8, 5, 8, 8], stack[3]\n",
    "\n",
    "8. 즉, 마지막까지 stack에 존재하는 인덱스는 오큰수가 존재하지 않는 경우이다.\n",
    "    for 구문을 돌려 해당 인덱스의 값을 -1으로 변경하면 문제가 해결된다."
   ]
  }
 ],
 "metadata": {
  "kernelspec": {
   "display_name": "Python 3.9.11 ('pydata')",
   "language": "python",
   "name": "python3"
  },
  "language_info": {
   "name": "python",
   "version": "3.9.11"
  },
  "orig_nbformat": 4,
  "vscode": {
   "interpreter": {
    "hash": "286b3223e4baa2339d35639af96ec91063d7905066fed95d13bac9e189bc76bf"
   }
  }
 },
 "nbformat": 4,
 "nbformat_minor": 2
}
