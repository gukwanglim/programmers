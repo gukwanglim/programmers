{
 "cells": [
  {
   "attachments": {},
   "cell_type": "markdown",
   "metadata": {},
   "source": [
    "https://school.programmers.co.kr/learn/courses/30/lessons/154539\n",
    "\n",
    "![그래프](./image/5.png)"
   ]
  },
  {
   "cell_type": "code",
   "execution_count": null,
   "metadata": {
    "vscode": {
     "languageId": "plaintext"
    }
   },
   "outputs": [],
   "source": [
    "def solution(numbers):\n",
    "    answer = [-1 for i in range(len(numbers))]\n",
    "    stack = []\n",
    "    \n",
    "    for i in range(len(numbers)):\n",
    "        while stack:\n",
    "            if numbers[i] > numbers[stack[-1]]:\n",
    "                answer[stack.pop()] = numbers[i]\n",
    "            else:\n",
    "                break\n",
    "        \n",
    "        stack.append(i)\n",
    "    \n",
    "    return answer"
   ]
  }
 ],
 "metadata": {
  "language_info": {
   "name": "python"
  },
  "orig_nbformat": 4
 },
 "nbformat": 4,
 "nbformat_minor": 2
}
