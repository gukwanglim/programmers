{
 "cells": [
  {
   "attachments": {},
   "cell_type": "markdown",
   "metadata": {},
   "source": [
    "https://www.acmicpc.net/problem/1021\n",
    "\n",
    "![그래프](./image/4.png)"
   ]
  },
  {
   "cell_type": "code",
   "execution_count": null,
   "metadata": {},
   "outputs": [],
   "source": [
    "from collections import deque\n",
    "\n",
    "n, m = map(int, input().split())\n",
    "number = list(map(int, input().split()))\n",
    "num_list = deque()\n",
    "\n",
    "queue = deque([i for i in range(1, n+1)])\n",
    "\n",
    "count = 0\n",
    "for num in number:\n",
    "    num_list.append(num)\n",
    "    \n",
    "    while num_list:\n",
    "        if queue[0] == num:\n",
    "            queue.popleft()\n",
    "            num_list.popleft()\n",
    "        else:\n",
    "            if queue.index(num) < len(queue) / 2:\n",
    "                while queue[0] != num:\n",
    "                    queue.append(queue.popleft())\n",
    "                    count += 1\n",
    "            else:\n",
    "                while queue[0] != num:\n",
    "                    queue.appendleft(queue.pop())\n",
    "                    count += 1\n",
    "print(count)"
   ]
  }
 ],
 "metadata": {
  "kernelspec": {
   "display_name": "pydata",
   "language": "python",
   "name": "python3"
  },
  "language_info": {
   "name": "python",
   "version": "3.9.11 (main, Mar 28 2022, 04:40:48) [MSC v.1916 64 bit (AMD64)]"
  },
  "orig_nbformat": 4,
  "vscode": {
   "interpreter": {
    "hash": "286b3223e4baa2339d35639af96ec91063d7905066fed95d13bac9e189bc76bf"
   }
  }
 },
 "nbformat": 4,
 "nbformat_minor": 2
}
