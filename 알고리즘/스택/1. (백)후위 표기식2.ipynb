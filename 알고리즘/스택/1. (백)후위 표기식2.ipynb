{
 "cells": [
  {
   "cell_type": "markdown",
   "metadata": {},
   "source": [
    "https://www.acmicpc.net/problem/1935\n",
    "\n",
    "![그래프](./image/1.png)"
   ]
  },
  {
   "cell_type": "markdown",
   "metadata": {},
   "source": [
    "후위 표기식은 대표적인 스택 문제이다.\n",
    "후위 표기식 자체가 스택을 사용하여 계산을 하는 프로그램이기 때문이다."
   ]
  },
  {
   "cell_type": "code",
   "execution_count": null,
   "metadata": {},
   "outputs": [],
   "source": [
    "n = int(input())\n",
    "word = input()\n",
    "num_list = [int(input()) for _ in range(n)]\n",
    "\n",
    "stack = []\n",
    "for i in word:\n",
    "    if i.isalpha():\n",
    "        stack.append(num_list[ord(i) - 65])     # ord() 함수는 하나의 문자열을 인자로 받고 유니코드 정수를 반환한다.(A의 경우 65을 반환한다.)\n",
    "    else:\n",
    "        a = stack.pop()\n",
    "        b = stack.pop()\n",
    "        \n",
    "        if i == '+':\n",
    "            c = b + a                           # 두 숫자 중, 먼저 들어간 것을 앞에 사용해야 후위 표기식이 완성된다.\n",
    "\n",
    "        elif i == '-':\n",
    "            c = b - a\n",
    "\n",
    "        elif i == '*':\n",
    "            c = b * a\n",
    "        \n",
    "        elif i == '/':\n",
    "            c = b / a\n",
    "        \n",
    "        stack.append(c)\n",
    "\n",
    "print('%.2f' %stack[0])                         # 출력은 문제에 맞게 소수점 둘째 자리까지 나타낸다."
   ]
  }
 ],
 "metadata": {
  "kernelspec": {
   "display_name": "Python 3.9.7 ('base')",
   "language": "python",
   "name": "python3"
  },
  "language_info": {
   "name": "python",
   "version": "3.9.7"
  },
  "orig_nbformat": 4,
  "vscode": {
   "interpreter": {
    "hash": "d5801b79edcda5763ccfe48c18a4ee1d2165db6bc296bae4c89c41a89d640e66"
   }
  }
 },
 "nbformat": 4,
 "nbformat_minor": 2
}
