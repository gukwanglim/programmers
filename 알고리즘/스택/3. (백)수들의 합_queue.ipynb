{
 "cells": [
  {
   "cell_type": "markdown",
   "metadata": {},
   "source": [
    "https://www.acmicpc.net/problem/2003\n",
    "\n",
    "![그래프](./image/3.png)"
   ]
  },
  {
   "cell_type": "code",
   "execution_count": null,
   "metadata": {},
   "outputs": [],
   "source": [
    "from collections import deque\n",
    "\n",
    "n, m = map(int, input().split())\n",
    "n_list = list(map(int, input().split()))\n",
    "\n",
    "answer = 0\n",
    "queue = deque()\n",
    "for i in range(n):\n",
    "    if sum(queue) == m:\n",
    "        answer += 1\n",
    "        queue.popleft()\n",
    "        \n",
    "    queue.append(n_list[i])\n",
    "    \n",
    "    if sum(queue) == m:\n",
    "        queue.popleft()\n",
    "        answer += 1\n",
    "\n",
    "    elif sum(queue) > m:\n",
    "        while sum(queue) > m:\n",
    "            queue.popleft()\n",
    "\n",
    "while queue:\n",
    "    if sum(queue) == m:\n",
    "        queue.popleft()\n",
    "        answer += 1\n",
    "    else:\n",
    "        queue.popleft()\n",
    "        \n",
    "print(answer)"
   ]
  },
  {
   "cell_type": "markdown",
   "metadata": {},
   "source": [
    "더욱 짧고 간단한 코드가 가능할 것 같다."
   ]
  }
 ],
 "metadata": {
  "kernelspec": {
   "display_name": "Python 3.9.11 ('pydata')",
   "language": "python",
   "name": "python3"
  },
  "language_info": {
   "name": "python",
   "version": "3.9.11"
  },
  "orig_nbformat": 4,
  "vscode": {
   "interpreter": {
    "hash": "286b3223e4baa2339d35639af96ec91063d7905066fed95d13bac9e189bc76bf"
   }
  }
 },
 "nbformat": 4,
 "nbformat_minor": 2
}
