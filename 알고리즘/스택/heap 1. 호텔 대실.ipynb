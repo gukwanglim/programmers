{
 "cells": [
  {
   "attachments": {},
   "cell_type": "markdown",
   "metadata": {},
   "source": [
    "https://school.programmers.co.kr/learn/courses/30/lessons/155651\n",
    "\n",
    "![그래프](./image/heap1.png)"
   ]
  },
  {
   "cell_type": "code",
   "execution_count": null,
   "metadata": {
    "vscode": {
     "languageId": "plaintext"
    }
   },
   "outputs": [],
   "source": [
    "import heapq\n",
    "\n",
    "def h2m(time):\n",
    "    return int(time.split(':')[0]) * 60 + int(time.split(':')[1]) \n",
    "\n",
    "def solution(book_time):\n",
    "    answer = 0\n",
    "    heap = []\n",
    "    \n",
    "    for start, end in sorted(book_time):\n",
    "        start = h2m(start)\n",
    "        end = h2m(end) + 10\n",
    "        while heap and start >= heap[0]:\n",
    "            heapq.heappop(heap)\n",
    "            \n",
    "        heapq.heappush(heap, end)\n",
    "        \n",
    "        answer = max(answer, len(heap))\n",
    "    \n",
    "    return answer"
   ]
  }
 ],
 "metadata": {
  "language_info": {
   "name": "python"
  },
  "orig_nbformat": 4
 },
 "nbformat": 4,
 "nbformat_minor": 2
}
