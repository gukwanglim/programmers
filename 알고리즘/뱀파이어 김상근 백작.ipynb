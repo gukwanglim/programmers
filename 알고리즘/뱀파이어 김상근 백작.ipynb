{
 "cells": [
  {
   "attachments": {},
   "cell_type": "markdown",
   "metadata": {},
   "source": [
    "https://www.acmicpc.net/problem/4461\n",
    "\n",
    "![그래프](./image/44.png)"
   ]
  },
  {
   "cell_type": "code",
   "execution_count": null,
   "metadata": {},
   "outputs": [],
   "source": [
    "import sys\n",
    "input = sys.stdin.readline\n",
    "\n",
    "cube = [pow(num, 3) for num in range(4001)]\n",
    "cubeRoot = {cube : i + 1 for (i, cube) in enumerate(cube[1:])}\n",
    "\n",
    "while True:\n",
    "\tnum = int(input())\n",
    "\tif num == 0:\n",
    "\t\tbreak\n",
    "\t\n",
    "\tok = False\n",
    "\tfor b in range(1, 2000):\n",
    "\t\tres = num * cube[b]\n",
    "\t\tfor a in range(1, 4000 - (2 * b)):\n",
    "\t\t\tdif = res - cube[a]\n",
    "\t\t\tif dif in cubeRoot:\n",
    "\t\t\t\tc = cubeRoot[dif]\n",
    "\t\t\t\tif a + c + (2 * b) < 4000:\n",
    "\t\t\t\t\tok = True\n",
    "\t\t\t\t\tbreak\n",
    "\t\tif ok:\n",
    "\t\t\tbreak\n",
    "\tprint(\"({0}/{1})^3 + ({2}/{1})^3 = {3}\".format(max(a, c), b, min(a, c), num)) if ok else print(\"No value.\")"
   ]
  }
 ],
 "metadata": {
  "language_info": {
   "name": "python"
  },
  "orig_nbformat": 4
 },
 "nbformat": 4,
 "nbformat_minor": 2
}
