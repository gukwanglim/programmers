{
 "cells": [
  {
   "cell_type": "markdown",
   "metadata": {},
   "source": [
    "https://www.acmicpc.net/problem/16173\n",
    "\n",
    "![그래프](./image/199.png)"
   ]
  },
  {
   "cell_type": "code",
   "execution_count": null,
   "metadata": {
    "vscode": {
     "languageId": "plaintext"
    }
   },
   "outputs": [],
   "source": [
    "import sys\n",
    "from collections import deque\n",
    "\n",
    "MOVE = [[1, 0], [0, 1]]\n",
    "\n",
    "N = int(sys.stdin.readline())\n",
    "\n",
    "board = [list(map(int, sys.stdin.readline().split())) for _ in range(N)]\n",
    "\n",
    "isBound = lambda y, x: y > -1 and y < N and x > -1 and x < N\n",
    "\n",
    "queue = deque()\n",
    "queue.append((0, 0))\n",
    "visited = [[False for _ in range(N)] for _ in range(N)]\n",
    "\n",
    "while len(queue):\n",
    "    (y, x) = queue.popleft()\n",
    "    visited[y][x] = True\n",
    "    if board[y][x] == -1:\n",
    "        break\n",
    "\n",
    "    for move in MOVE:\n",
    "        [dy, dx] = list(map(lambda d: d * board[y][x], move))\n",
    "        if isBound(y+dy, x+dx) and not visited[y+dy][x+dx]:\n",
    "            queue.append((y+dy, x+dx))\n",
    "\n",
    "print('HaruHaru') if visited[N-1][N-1] else print('Hing')"
   ]
  }
 ],
 "metadata": {
  "language_info": {
   "name": "python"
  },
  "orig_nbformat": 4
 },
 "nbformat": 4,
 "nbformat_minor": 2
}
