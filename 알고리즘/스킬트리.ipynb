{
 "cells": [
  {
   "attachments": {},
   "cell_type": "markdown",
   "metadata": {},
   "source": [
    "https://school.programmers.co.kr/learn/courses/30/lessons/49993\n",
    "\n",
    "![그래프](./image/41.png)"
   ]
  },
  {
   "cell_type": "code",
   "execution_count": null,
   "metadata": {},
   "outputs": [],
   "source": [
    "def solution(skill, skill_trees):\n",
    "    result = 0\n",
    "    skill_order = list(skill)\n",
    "    list_skill =[[],skill_order]\n",
    "    for i in range(1,len(skill_order)) :\n",
    "        list_skill.append(skill_order[:-i])\n",
    "    for s in skill_trees :\n",
    "        stack = []\n",
    "        for k in s :\n",
    "            if k in skill_order :\n",
    "                stack.append(k)\n",
    "        if stack in list_skill :\n",
    "            result += 1\n",
    "    \n",
    "    return "
   ]
  }
 ],
 "metadata": {
  "language_info": {
   "name": "python"
  },
  "orig_nbformat": 4
 },
 "nbformat": 4,
 "nbformat_minor": 2
}
