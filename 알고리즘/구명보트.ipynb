{
 "cells": [
  {
   "attachments": {},
   "cell_type": "markdown",
   "metadata": {},
   "source": [
    "https://school.programmers.co.kr/learn/courses/30/lessons/42885\n",
    "\n",
    "![그래프](./image/25.png)"
   ]
  },
  {
   "cell_type": "code",
   "execution_count": null,
   "metadata": {},
   "outputs": [],
   "source": [
    "from collections import deque\n",
    "def solution(people, limit):\n",
    "    answer = 0\n",
    "    people.sort()\n",
    "    island = deque([])\n",
    "    for i in people:\n",
    "        island.append(i)\n",
    "    while island != deque([]):\n",
    "        boat = []\n",
    "        answer += 1\n",
    "        if len(island) > 1:\n",
    "            a = island.pop()\n",
    "            b = island.popleft()\n",
    "            boat.append(a)\n",
    "            if a + b <= limit:\n",
    "                boat.append(b)\n",
    "            else:\n",
    "                island.appendleft(b)\n",
    "        else:\n",
    "            island.pop()\n",
    "        \n",
    "    return answer"
   ]
  }
 ],
 "metadata": {
  "kernelspec": {
   "display_name": "pydata",
   "language": "python",
   "name": "python3"
  },
  "language_info": {
   "name": "python",
   "version": "3.9.11 (main, Mar 28 2022, 04:40:48) [MSC v.1916 64 bit (AMD64)]"
  },
  "orig_nbformat": 4,
  "vscode": {
   "interpreter": {
    "hash": "286b3223e4baa2339d35639af96ec91063d7905066fed95d13bac9e189bc76bf"
   }
  }
 },
 "nbformat": 4,
 "nbformat_minor": 2
}
