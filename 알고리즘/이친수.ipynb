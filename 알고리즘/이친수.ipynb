{
 "cells": [
  {
   "cell_type": "markdown",
   "metadata": {},
   "source": [
    "https://www.acmicpc.net/problem/2193\n",
    "\n",
    "![그래프](./image/202.png)"
   ]
  },
  {
   "cell_type": "code",
   "execution_count": null,
   "metadata": {
    "vscode": {
     "languageId": "plaintext"
    }
   },
   "outputs": [],
   "source": [
    "import sys\n",
    "input = sys.stdin.readline\n",
    "\n",
    "N = int(input())\n",
    "\n",
    "dp = [0] * (N + 1)\n",
    "dp[1] = 1\n",
    "\n",
    "for n in range(2, N + 1):\n",
    "    dp[n] = dp[n - 1] + dp[n - 2]\n",
    "print(dp[-1])"
   ]
  }
 ],
 "metadata": {
  "language_info": {
   "name": "python"
  },
  "orig_nbformat": 4
 },
 "nbformat": 4,
 "nbformat_minor": 2
}
