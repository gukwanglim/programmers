{
 "cells": [
  {
   "attachments": {},
   "cell_type": "markdown",
   "metadata": {},
   "source": [
    "https://www.acmicpc.net/problem/1590\n",
    "\n",
    "![그래프](./image/6.png)"
   ]
  },
  {
   "cell_type": "code",
   "execution_count": null,
   "metadata": {},
   "outputs": [],
   "source": [
    "num, t = map(int, input().split())\n",
    "bus_time = [list(map(int, input().split())) for _ in range(num)]\n",
    "\n",
    "answer = []\n",
    "for n in range(num):\n",
    "    s, i, c = bus_time[n]\n",
    "    for bus in range(c):\n",
    "        if s + (i * bus) >= t:\n",
    "            answer.append(s + (i * bus) - t)\n",
    "print(min(answer) if answer else -1)"
   ]
  }
 ],
 "metadata": {
  "language_info": {
   "name": "python"
  },
  "orig_nbformat": 4
 },
 "nbformat": 4,
 "nbformat_minor": 2
}
