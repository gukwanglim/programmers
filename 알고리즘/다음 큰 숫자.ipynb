{
 "cells": [
  {
   "attachments": {},
   "cell_type": "markdown",
   "metadata": {},
   "source": [
    "https://school.programmers.co.kr/learn/courses/30/lessons/12911\n",
    "\n",
    "![그래프](./image/82.png)"
   ]
  },
  {
   "cell_type": "code",
   "execution_count": null,
   "metadata": {
    "vscode": {
     "languageId": "plaintext"
    }
   },
   "outputs": [],
   "source": [
    "def solution(n):\n",
    "    list_n = [i for i in bin(n)][2:]\n",
    "    change = False\n",
    "    for index in range(len(list_n)-2,-1,-1) :\n",
    "        if list_n[index] < list_n[index+1] :\n",
    "            temp = list_n[index]\n",
    "            list_n[index] = list_n[index+1]\n",
    "            list_n[index+1] = temp\n",
    "            change = True\n",
    "            break\n",
    "    if change :\n",
    "        list_n = list_n[:index+1] + sorted(list_n[index+1:])\n",
    "    else :\n",
    "        list_n.insert(1,'0')\n",
    "        list_n = [list_n[0]] + sorted(list_n[1:])\n",
    "    result = ''.join(map(str,(['0','b']+list_n)))\n",
    "    \n",
    "    return int(result,2)"
   ]
  }
 ],
 "metadata": {
  "language_info": {
   "name": "python"
  },
  "orig_nbformat": 4
 },
 "nbformat": 4,
 "nbformat_minor": 2
}
