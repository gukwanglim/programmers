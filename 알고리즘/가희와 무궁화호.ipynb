{
 "cells": [
  {
   "attachments": {},
   "cell_type": "markdown",
   "metadata": {},
   "source": [
    "https://www.acmicpc.net/problem/24336\n",
    "\n",
    "![그래프](./image/4-1.png)\n",
    "![그래프](./image/4-2.png)\n",
    "![그래프](./image/4-3.png)"
   ]
  },
  {
   "cell_type": "code",
   "execution_count": null,
   "metadata": {},
   "outputs": [],
   "source": [
    "info = {'Seoul': 0, 'Yeongdeungpo': 9.1, 'Anyang': 23.9, 'Suwon': 41.5, 'Osan': 56.5, 'Seojeongri': 66.5, 'Pyeongtaek': 75\n",
    "      , 'Seonghwan': 84.4, 'Cheonan': 96.6, 'Sojeongni': 107.4, 'Jeonui': 114.9, 'Jochiwon': 129.3, 'Bugang': 139.8, 'Sintanjin': 151.9\n",
    "      , 'Daejeon': 166.3, 'Okcheon': 182.5, 'Iwon': 190.8, 'Jitan': 196.4, 'Simcheon': 200.8, 'Gakgye': 204.6, 'Yeongdong': 211.6, 'Hwanggan': 226.2\n",
    "      , 'Chupungnyeong': 234.7, 'Gimcheon': 253.8, 'Gumi': 276.7, 'Sagok': 281.3, 'Yangmok': 289.5, 'Waegwan': 296, 'Sindong': 305.9, 'Daegu': 323.1\n",
    "      , 'Dongdaegu': 326.3, 'Gyeongsan': 338.6, 'Namseonghyeon': 353.1, 'Cheongdo': 361.8, 'Sangdong': 372.2, 'Miryang': 381.6, 'Samnangjin': 394.1\n",
    "      , 'Wondong': 403.2, 'Mulgeum': 412.4, 'Hwamyeong': 421.8, 'Gupo': 425.2, 'Sasang': 430.3, 'Busan': 441.7}\n",
    "\n",
    "[N, Q] = list(map(int, input().split()))\n",
    "\n",
    "def timeToHour(time):\n",
    "    if time == '-:-':\n",
    "        return 0;\n",
    "    [hour, minute] = list(map(int, time.split(':')))\n",
    "    return (hour * 60) + minute\n",
    "\n",
    "schedule = {}\n",
    "for _ in range(N):\n",
    "    [station, arrival, departure] = input().split()\n",
    "    schedule[station] = [timeToHour(arrival), timeToHour(departure)]\n",
    "\n",
    "sections = [input().split() for _ in range(Q)]\n",
    "\n",
    "for [start, end] in sections:\n",
    "    distance = abs(info[end] - info[start])\n",
    "    duration = ((1440 + schedule[end][0] - schedule[start][1]) % 1440) / 60\n",
    "\n",
    "    print(distance / duration)"
   ]
  }
 ],
 "metadata": {
  "kernelspec": {
   "display_name": "pydata",
   "language": "python",
   "name": "python3"
  },
  "language_info": {
   "name": "python",
   "version": "3.9.11 (main, Mar 28 2022, 04:40:48) [MSC v.1916 64 bit (AMD64)]"
  },
  "orig_nbformat": 4,
  "vscode": {
   "interpreter": {
    "hash": "286b3223e4baa2339d35639af96ec91063d7905066fed95d13bac9e189bc76bf"
   }
  }
 },
 "nbformat": 4,
 "nbformat_minor": 2
}
