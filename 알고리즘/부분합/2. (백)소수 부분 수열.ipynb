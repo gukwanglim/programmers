{
 "cells": [
  {
   "attachments": {},
   "cell_type": "markdown",
   "metadata": {},
   "source": [
    "https://www.acmicpc.net/problem/6884\n",
    "\n",
    "![그래프](./image/2.png)"
   ]
  },
  {
   "cell_type": "code",
   "execution_count": null,
   "metadata": {},
   "outputs": [],
   "source": [
    "import math\n",
    "import sys\n",
    "input = sys.stdin.readline\n",
    "\n",
    "def isPrime(number):\n",
    "    if number < 2:\n",
    "        return False\n",
    "    for i in range(2, int(math.sqrt(number)) + 1):\n",
    "        if number % i == 0:\n",
    "            return False\n",
    "    return True\n",
    "\n",
    "T = int(input())\n",
    "for t in range(T):\n",
    "    [n, *info] = list(map(int, input().split()))\n",
    "\n",
    "    subtotal = [0]\n",
    "    for number in info:\n",
    "        subtotal.append(number + subtotal[-1])\n",
    "\n",
    "    answer = False\n",
    "    for x in range(2, n + 1):\n",
    "        for index in range(n - x + 1):\n",
    "            if isPrime(subtotal[index + x] - subtotal[index]):\n",
    "                print('Shortest primed subsequence is length {0}:'.format(x), end=' ')\n",
    "                print(*info[index:index + x])\n",
    "                answer = True\n",
    "                break\n",
    "        if answer:\n",
    "            break\n",
    "    if not answer:\n",
    "        print('This sequence is anti-primed.')"
   ]
  }
 ],
 "metadata": {
  "kernelspec": {
   "display_name": "pydata",
   "language": "python",
   "name": "python3"
  },
  "language_info": {
   "name": "python",
   "version": "3.9.11 (main, Mar 28 2022, 04:40:48) [MSC v.1916 64 bit (AMD64)]"
  },
  "orig_nbformat": 4,
  "vscode": {
   "interpreter": {
    "hash": "286b3223e4baa2339d35639af96ec91063d7905066fed95d13bac9e189bc76bf"
   }
  }
 },
 "nbformat": 4,
 "nbformat_minor": 2
}
