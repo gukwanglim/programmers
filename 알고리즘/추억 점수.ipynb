{
 "cells": [
  {
   "attachments": {},
   "cell_type": "markdown",
   "metadata": {},
   "source": [
    "https://school.programmers.co.kr/learn/courses/30/lessons/176963\n",
    "\n",
    "![그래프](./image/98.png)\n",
    "![그래프](./image/98-2.png)"
   ]
  },
  {
   "cell_type": "code",
   "execution_count": null,
   "metadata": {
    "vscode": {
     "languageId": "plaintext"
    }
   },
   "outputs": [],
   "source": [
    "def solution(name, yearning, photo):\n",
    "    answer = []\n",
    "    \n",
    "    dict_name = {}\n",
    "    for i in range(len(name)):\n",
    "        dict_name[name[i]] = yearning[i]\n",
    "        \n",
    "    for i in photo:\n",
    "        count = 0\n",
    "        for j in i:\n",
    "            if j in name:\n",
    "                count += dict_name[j]\n",
    "        \n",
    "        answer.append(count)\n",
    "    \n",
    "    return answer"
   ]
  }
 ],
 "metadata": {
  "language_info": {
   "name": "python"
  },
  "orig_nbformat": 4
 },
 "nbformat": 4,
 "nbformat_minor": 2
}
