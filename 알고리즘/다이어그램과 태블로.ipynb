{
 "cells": [
  {
   "cell_type": "markdown",
   "metadata": {},
   "source": [
    "https://www.acmicpc.net/problem/9646\n",
    "\n",
    "![그래프](./image/154.png)"
   ]
  },
  {
   "cell_type": "code",
   "execution_count": null,
   "metadata": {
    "vscode": {
     "languageId": "plaintext"
    }
   },
   "outputs": [],
   "source": [
    "import sys\n",
    "input = sys.stdin.readline\n",
    "\n",
    "while True:\n",
    "    try:\n",
    "        [k, info] = map(int, input().split())\n",
    "        N = int(input())\n",
    "\n",
    "        print(k, info, N)\n",
    "\n",
    "        \n",
    "    except EOFError:\n",
    "        break"
   ]
  }
 ],
 "metadata": {
  "language_info": {
   "name": "python"
  },
  "orig_nbformat": 4
 },
 "nbformat": 4,
 "nbformat_minor": 2
}
