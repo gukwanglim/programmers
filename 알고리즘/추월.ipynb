{
 "cells": [
  {
   "attachments": {},
   "cell_type": "markdown",
   "metadata": {},
   "source": [
    "https://www.acmicpc.net/problem/2002\n",
    "\n",
    "![그래프](./image/20.png)"
   ]
  },
  {
   "cell_type": "code",
   "execution_count": null,
   "metadata": {},
   "outputs": [],
   "source": [
    "n = int(input())\n",
    "\n",
    "t_enter = {}\n",
    "for i in range(n):\n",
    "    t_enter[input()] = i\n",
    "    \n",
    "t_out = [t_enter[input()] for _ in range(n)]\n",
    "\n",
    "start = 0\n",
    "count = 0\n",
    "while start < len(t_out):\n",
    "    min_list = min(t_out[start:])\n",
    "    min_index = t_out[start:].index(min_list) + start\n",
    "    count += min_index - start\n",
    "    start = min_index + 1\n",
    "print(count)"
   ]
  },
  {
   "cell_type": "code",
   "execution_count": null,
   "metadata": {},
   "outputs": [],
   "source": [
    "import sys\n",
    "input = sys.stdin.readline\n",
    "\n",
    "N = int(input())\n",
    "\n",
    "entr = [input().rstrip() for _ in range(N)]\n",
    "exit = {input().rstrip(): index for index in range(N)}\n",
    "\n",
    "loc = 0\n",
    "answer = 0\n",
    "for car in entr:\n",
    "    if exit[car] >= loc:\n",
    "        loc = exit[car]\n",
    "    else:\n",
    "        answer += 1\n",
    "print(answer)"
   ]
  }
 ],
 "metadata": {
  "kernelspec": {
   "display_name": "pydata",
   "language": "python",
   "name": "python3"
  },
  "language_info": {
   "name": "python",
   "version": "3.9.11"
  },
  "orig_nbformat": 4,
  "vscode": {
   "interpreter": {
    "hash": "286b3223e4baa2339d35639af96ec91063d7905066fed95d13bac9e189bc76bf"
   }
  }
 },
 "nbformat": 4,
 "nbformat_minor": 2
}
