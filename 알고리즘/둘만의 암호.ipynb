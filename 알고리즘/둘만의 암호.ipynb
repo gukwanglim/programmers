{
 "cells": [
  {
   "attachments": {},
   "cell_type": "markdown",
   "metadata": {},
   "source": [
    "https://school.programmers.co.kr/learn/courses/30/lessons/155652\n",
    "\n",
    "![그래프](./image/65.png)"
   ]
  },
  {
   "cell_type": "code",
   "execution_count": null,
   "metadata": {
    "vscode": {
     "languageId": "plaintext"
    }
   },
   "outputs": [],
   "source": [
    "def solution(s, skip, index):\n",
    "    answer = ''\n",
    "    skip = set(ord(i) for i in skip)\n",
    "    \n",
    "    for word in s:\n",
    "        count = index\n",
    "        word = ord(word)\n",
    "        \n",
    "        while count != 0:\n",
    "            word += 1\n",
    "            if word > ord('z'):\n",
    "                word = word - ord('z') + ord('a') - 1\n",
    "            if word in skip:\n",
    "                continue\n",
    "            count -= 1\n",
    "        answer += chr(word)\n",
    "        \n",
    "    return answer"
   ]
  }
 ],
 "metadata": {
  "language_info": {
   "name": "python"
  },
  "orig_nbformat": 4
 },
 "nbformat": 4,
 "nbformat_minor": 2
}
