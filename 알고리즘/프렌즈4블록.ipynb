{
 "cells": [
  {
   "attachments": {},
   "cell_type": "markdown",
   "metadata": {},
   "source": [
    "https://school.programmers.co.kr/learn/courses/30/lessons/17679\n",
    "\n",
    "![그래프](./image/97.png)\n",
    "![그래프](./image/97-2.png)\n",
    "![그래프](./image/97-3.png)\n",
    "![그래프](./image/97-4.png)"
   ]
  },
  {
   "cell_type": "code",
   "execution_count": null,
   "metadata": {
    "vscode": {
     "languageId": "plaintext"
    }
   },
   "outputs": [],
   "source": [
    "def solution(m, n, board):\n",
    "    answer = 0\n",
    "    for row in range(len(board)) :\n",
    "        board[row] = list(board[row])\n",
    "    \n",
    "    while True :\n",
    "        index_list = []\n",
    "        for i in range(m-1) :\n",
    "            for j in range(n-1) :\n",
    "                temp = {board[i][j],board[i][j+1],board[i+1][j],board[i+1][j+1]}\n",
    "                if len(temp) == 1 and type(temp.pop()) == str:\n",
    "                    index_list.append([i,j])\n",
    "                    index_list.append([i,j+1])\n",
    "                    index_list.append([i+1,j])\n",
    "                    index_list.append([i+1,j+1])\n",
    "        if index_list == [] :\n",
    "            return answer\n",
    "        redundancy = [] \n",
    "        for value in index_list:\n",
    "            if value not in redundancy:\n",
    "                redundancy.append(value)\n",
    "        answer += len(redundancy)\n",
    "        \n",
    "        for change in redundancy :\n",
    "            board[change[0]][change[1]] = 0\n",
    "        for i in range(m-2,-1,-1) :\n",
    "            for j in range(n) :\n",
    "                if type(board[i][j]) == str :\n",
    "                    k = i + 1\n",
    "                    while k < m and board[k][j] == 0:\n",
    "                        k += 1\n",
    "                    pop = board[k-1][j]\n",
    "                    board[k-1][j] = board[i][j]\n",
    "                    board[i][j] = pop"
   ]
  }
 ],
 "metadata": {
  "language_info": {
   "name": "python"
  },
  "orig_nbformat": 4
 },
 "nbformat": 4,
 "nbformat_minor": 2
}
