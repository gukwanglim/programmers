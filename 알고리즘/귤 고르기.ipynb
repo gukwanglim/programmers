{
 "cells": [
  {
   "attachments": {},
   "cell_type": "markdown",
   "metadata": {},
   "source": [
    "https://school.programmers.co.kr/learn/courses/30/lessons/138476\n",
    "\n",
    "![그래프](./image/74.png)"
   ]
  },
  {
   "cell_type": "code",
   "execution_count": null,
   "metadata": {
    "vscode": {
     "languageId": "plaintext"
    }
   },
   "outputs": [],
   "source": [
    "from collections import Counter\n",
    "\n",
    "def solution(k, tangerine):\n",
    "    answer = 0\n",
    "    \n",
    "    counter = Counter(tangerine)\n",
    "    t_list = sorted(list(counter.items()), key = lambda x:x[1], reverse  = True)\n",
    "    \n",
    "    for i in t_list:\n",
    "        k -= i[1]\n",
    "        answer += 1\n",
    "        \n",
    "        if k <= 0:\n",
    "            break\n",
    "    \n",
    "    return answer"
   ]
  }
 ],
 "metadata": {
  "language_info": {
   "name": "python"
  },
  "orig_nbformat": 4
 },
 "nbformat": 4,
 "nbformat_minor": 2
}
