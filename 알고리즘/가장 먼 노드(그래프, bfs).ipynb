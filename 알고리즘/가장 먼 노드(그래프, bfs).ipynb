{
 "cells": [
  {
   "attachments": {},
   "cell_type": "markdown",
   "metadata": {},
   "source": [
    "https://school.programmers.co.kr/learn/courses/30/lessons/49189\n",
    "\n",
    "![그래프](./image/91.png)"
   ]
  },
  {
   "cell_type": "code",
   "execution_count": null,
   "metadata": {
    "vscode": {
     "languageId": "plaintext"
    }
   },
   "outputs": [],
   "source": [
    "from collections import deque\n",
    "\n",
    "def solution(n, edge):\n",
    "    maps = [[] for _ in range(n + 1)]\n",
    "    visited = [0] * (n + 1)\n",
    "    visited[1] = 1\n",
    "    \n",
    "    for i, j in edge:\n",
    "        maps[i].append(j)\n",
    "        maps[j].append(i)\n",
    "        \n",
    "    for i in maps:\n",
    "        i.sort()\n",
    "        \n",
    "    def bfs(maps, start, visited):\n",
    "        queue = deque()\n",
    "        queue.append(start)\n",
    "\n",
    "        while queue:\n",
    "            nod = queue.popleft()\n",
    "            for i in maps[nod]:\n",
    "                if visited[i] == 0:\n",
    "                    visited[i] = visited[nod] + 1\n",
    "                    queue.append(i)\n",
    "                    \n",
    "        return max(visited)\n",
    "                    \n",
    "    max_g = bfs(maps, 1, visited)\n",
    "    \n",
    "    return visited.count(max_g)"
   ]
  }
 ],
 "metadata": {
  "language_info": {
   "name": "python"
  },
  "orig_nbformat": 4
 },
 "nbformat": 4,
 "nbformat_minor": 2
}
