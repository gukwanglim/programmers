{
 "cells": [
  {
   "attachments": {},
   "cell_type": "markdown",
   "metadata": {},
   "source": [
    "https://school.programmers.co.kr/learn/courses/30/lessons/142085\n",
    "\n",
    "![그래프](./image/51.png)"
   ]
  },
  {
   "cell_type": "code",
   "execution_count": null,
   "metadata": {},
   "outputs": [],
   "source": [
    "import heapq\n",
    "\n",
    "def solution(n, k, enemy):\n",
    "    heap = []\n",
    "    answer = 0\n",
    "    for i in range(len(enemy)):\n",
    "        heapq.heappush(heap, enemy[i])\n",
    "        if len(heap) > k:\n",
    "            n -= heapq.heappop(heap)\n",
    "            \n",
    "        if n < 0:\n",
    "            break\n",
    "        answer += 1\n",
    "    return answer"
   ]
  }
 ],
 "metadata": {
  "language_info": {
   "name": "python"
  },
  "orig_nbformat": 4
 },
 "nbformat": 4,
 "nbformat_minor": 2
}
