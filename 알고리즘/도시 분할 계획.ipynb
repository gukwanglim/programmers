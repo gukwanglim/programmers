{
 "cells": [
  {
   "cell_type": "markdown",
   "metadata": {},
   "source": [
    "https://www.acmicpc.net/problem/1647\n",
    "\n",
    "![그래프](./image/190.png)"
   ]
  },
  {
   "cell_type": "code",
   "execution_count": null,
   "metadata": {
    "vscode": {
     "languageId": "plaintext"
    }
   },
   "outputs": [],
   "source": [
    "import sys\n",
    "import heapq\n",
    "input = sys.stdin.readline\n",
    "\n",
    "[N, M] = map(int, input().split())\n",
    "heap = []\n",
    "for _ in range(M):\n",
    "    [A, B, C] = map(int, input().split())\n",
    "    heapq.heappush(heap, (C, A, B))\n",
    "\n",
    "parent = [n for n in range(N + 1)]\n",
    "\n",
    "def find(a):\n",
    "    if parent[a] != a:\n",
    "        parent[a] = find(parent[a])\n",
    "    return parent[a]\n",
    "\n",
    "def union(a, b):\n",
    "    pA = find(a)\n",
    "    pB = find(b)\n",
    "    parent[max(pA, pB)] = min(pA, pB)\n",
    "\n",
    "answer = []\n",
    "while heap:\n",
    "    [c, u, v] = heapq.heappop(heap)\n",
    "    if find(u) == find(v):\n",
    "        continue\n",
    "    union(u, v)\n",
    "    answer.append(c)\n",
    "\n",
    "print(sum(answer[:-1]))"
   ]
  }
 ],
 "metadata": {
  "language_info": {
   "name": "python"
  },
  "orig_nbformat": 4
 },
 "nbformat": 4,
 "nbformat_minor": 2
}
