{
 "cells": [
  {
   "cell_type": "markdown",
   "metadata": {},
   "source": [
    "https://www.acmicpc.net/problem/1021\n",
    "\n",
    "![그래프](./image/200.png)"
   ]
  },
  {
   "cell_type": "code",
   "execution_count": null,
   "metadata": {
    "vscode": {
     "languageId": "plaintext"
    }
   },
   "outputs": [],
   "source": [
    "from collections import deque\n",
    "import sys\n",
    "input = sys.stdin.readline\n",
    "\n",
    "[N, M] = list(map(int, input().split()))\n",
    "info = list(map(int, input().split()))\n",
    "\n",
    "# [N, M] = [32, 6]\n",
    "# info = [27, 16, 30, 11, 6, 23]\n",
    "dq = deque([i for i in range(1, N + 1)])\n",
    "\n",
    "answer = 0\n",
    "for index in info:\n",
    "    if dq.index(index) < len(dq) / 2:\n",
    "        while dq[0] != index:\n",
    "            dq.append(dq.popleft())\n",
    "            answer += 1\n",
    "    else:\n",
    "        while dq[0] != index:\n",
    "            dq.appendleft(dq.pop())\n",
    "            answer += 1\n",
    "    dq.popleft()\n",
    "print(answer)"
   ]
  }
 ],
 "metadata": {
  "language_info": {
   "name": "python"
  },
  "orig_nbformat": 4
 },
 "nbformat": 4,
 "nbformat_minor": 2
}
