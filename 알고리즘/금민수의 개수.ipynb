{
 "cells": [
  {
   "attachments": {},
   "cell_type": "markdown",
   "metadata": {},
   "source": [
    "https://www.acmicpc.net/problem/1527\n",
    "\n",
    "![그래프](./image/139.png)"
   ]
  },
  {
   "cell_type": "code",
   "execution_count": null,
   "metadata": {
    "vscode": {
     "languageId": "plaintext"
    }
   },
   "outputs": [],
   "source": [
    "import sys\n",
    "from itertools import product\n",
    "input = sys.stdin.readline\n",
    "\n",
    "start, end = map(int, input().split())\n",
    "x = len(str(start))\n",
    "y = len(str(end))\n",
    "\n",
    "count = 0\n",
    "\n",
    "for i in range(x, y+1):\n",
    "    product_list = list(product([4, 7], repeat=i))\n",
    "    for num in product_list:\n",
    "        n = int(''.join(map(str, num)))\n",
    "        if start <= n <= end:\n",
    "            count += 1\n",
    "\n",
    "print(count)"
   ]
  },
  {
   "cell_type": "code",
   "execution_count": null,
   "metadata": {
    "vscode": {
     "languageId": "plaintext"
    }
   },
   "outputs": [],
   "source": []
  }
 ],
 "metadata": {
  "language_info": {
   "name": "python"
  },
  "orig_nbformat": 4
 },
 "nbformat": 4,
 "nbformat_minor": 2
}
