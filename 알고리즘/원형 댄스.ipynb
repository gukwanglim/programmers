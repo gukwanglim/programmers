{
 "cells": [
  {
   "attachments": {},
   "cell_type": "markdown",
   "metadata": {},
   "source": [
    "https://www.acmicpc.net/problem/2117\n",
    "\n",
    "![그래프](./image/3.png)"
   ]
  },
  {
   "cell_type": "code",
   "execution_count": null,
   "metadata": {},
   "outputs": [],
   "source": [
    "n = int(input())\n",
    "\n",
    "a = 0\n",
    "b = 0\n",
    "\n",
    "n_list = [0]\n",
    "\n",
    "for i in range(n + 1):\n",
    "    if i != 0:\n",
    "        if i % 2 != 0:\n",
    "            a += b\n",
    "            n_list.append(a)\n",
    "            \n",
    "        else:\n",
    "            a += b\n",
    "            n_list.append(a)\n",
    "            \n",
    "            b += 1\n",
    "            \n",
    "print(n_list[-1])"
   ]
  }
 ],
 "metadata": {
  "kernelspec": {
   "display_name": "pydata",
   "language": "python",
   "name": "python3"
  },
  "language_info": {
   "name": "python",
   "version": "3.9.11 (main, Mar 28 2022, 04:40:48) [MSC v.1916 64 bit (AMD64)]"
  },
  "orig_nbformat": 4,
  "vscode": {
   "interpreter": {
    "hash": "286b3223e4baa2339d35639af96ec91063d7905066fed95d13bac9e189bc76bf"
   }
  }
 },
 "nbformat": 4,
 "nbformat_minor": 2
}
