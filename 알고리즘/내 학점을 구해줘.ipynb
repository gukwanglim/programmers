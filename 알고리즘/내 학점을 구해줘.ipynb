{
 "cells": [
  {
   "cell_type": "markdown",
   "metadata": {},
   "source": [
    "https://www.acmicpc.net/problem/10984\n",
    "\n",
    "![그래프](./image/174.png)"
   ]
  },
  {
   "cell_type": "code",
   "execution_count": null,
   "metadata": {
    "vscode": {
     "languageId": "plaintext"
    }
   },
   "outputs": [],
   "source": [
    "T = int(input())\n",
    "\n",
    "for _ in range(T):\n",
    "    N = int(input())\n",
    "    info = [tuple(input().split()) for _ in range(N)]\n",
    "\n",
    "    credit, total = 0, 0\n",
    "    for (C, G) in info:\n",
    "        credit += int(C)\n",
    "        total += int(C) * float(G)\n",
    "\n",
    "    print(credit, round(total / credit, 1))"
   ]
  }
 ],
 "metadata": {
  "language_info": {
   "name": "python"
  },
  "orig_nbformat": 4
 },
 "nbformat": 4,
 "nbformat_minor": 2
}
