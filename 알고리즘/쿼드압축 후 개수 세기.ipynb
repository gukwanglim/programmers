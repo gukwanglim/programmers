{
 "cells": [
  {
   "attachments": {},
   "cell_type": "markdown",
   "metadata": {},
   "source": [
    "https://school.programmers.co.kr/learn/courses/30/lessons/68936\n",
    "\n",
    "![그래프](./image/34.png)"
   ]
  },
  {
   "cell_type": "code",
   "execution_count": null,
   "metadata": {},
   "outputs": [],
   "source": [
    "top = [0,0]\n",
    "\n",
    "def solution(arr) :\n",
    "    tf = True\n",
    "    for i in range(len(arr)-1) :\n",
    "        if arr[i] == arr[i+1] and len(set(arr[i])) == 1:\n",
    "            continue\n",
    "        else :\n",
    "            tf = False\n",
    "            break\n",
    "    \n",
    "    if tf :\n",
    "        result = [[arr[0][0]]]\n",
    "    else :\n",
    "        result = [[],[],[],[]]\n",
    "        point = len(arr)//2\n",
    "\n",
    "        for sarr in range(0,point) :\n",
    "            result[0] += arr[sarr][:point]\n",
    "            result[1] += arr[sarr][point:]\n",
    "        for sarr in range(point,len(arr)) :\n",
    "            result[2] += arr[sarr][:point]\n",
    "            result[3] += arr[sarr][point:]\n",
    "\n",
    "    for i in range(len(result)) :\n",
    "        if len(set(result[i])) == 1 :   \n",
    "            if list(set(result[i])) == [1] :\n",
    "                top[1] += 1\n",
    "            else :\n",
    "                top[0] += 1\n",
    "        else :\n",
    "            if len(result[i]) == 4 :\n",
    "                for j in range(len(result[i])) :\n",
    "                    if result[i][j] == 1 :\n",
    "                        top[1] += 1\n",
    "                    else :\n",
    "                        top[0] += 1\n",
    "            else :\n",
    "                temp = []\n",
    "                for j in range(point):\n",
    "                    temp.append(result[i][j*(len(result[i])//point):(j+1)*(len(result[i])//point)])\n",
    "                solution(temp)\n",
    "                \n",
    "    return top"
   ]
  }
 ],
 "metadata": {
  "language_info": {
   "name": "python"
  },
  "orig_nbformat": 4
 },
 "nbformat": 4,
 "nbformat_minor": 2
}
