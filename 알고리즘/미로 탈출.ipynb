{
 "cells": [
  {
   "attachments": {},
   "cell_type": "markdown",
   "metadata": {},
   "source": [
    "https://school.programmers.co.kr/learn/courses/30/lessons/159993\n",
    "\n",
    "![그래프](./image/123.png)"
   ]
  },
  {
   "cell_type": "code",
   "execution_count": null,
   "metadata": {
    "vscode": {
     "languageId": "plaintext"
    }
   },
   "outputs": [],
   "source": [
    "from collections import deque\n",
    "\n",
    "def bfs(start, end, maps):\n",
    "    DIRECTION = [(0, -1), (1, 0), (0, 1), (-1, 0)]\n",
    "    isBound = lambda y, x: (y >= 0 and y < len(maps) and x >= 0 and x < len(maps[0]))\n",
    "    \n",
    "    visited = [[False] * len(maps[0]) for _ in range(len(maps))]\n",
    "    \n",
    "    queue = deque()\n",
    "    flag = False\n",
    "    for i in range(len(maps)):\n",
    "        for j in range(len(maps[0])):\n",
    "            if maps[i][j] == start:\n",
    "                queue.append([i, j, 0])\n",
    "                visited[i][j] = True\n",
    "                flage = True\n",
    "            if flag:\n",
    "                break\n",
    "        if flag:\n",
    "            break\n",
    "            \n",
    "    while queue:\n",
    "        [y, x, dist] = queue.popleft()\n",
    "        \n",
    "        if maps[y][x] == end:\n",
    "            return dist\n",
    "        \n",
    "        for dy, dx in DIRECTION:\n",
    "            if isBound(y+dy, x+dx) and maps[y+dy][x+dx] != 'X':\n",
    "                if not visited[y+dy][x+dx]:\n",
    "                    queue.append([y+dy, x+dx, dist+1])\n",
    "                    visited[y+dy][x+dx] = True\n",
    "    return -1\n",
    "\n",
    "\n",
    "def solution(maps):\n",
    "    path1 = bfs('S', 'L', maps)\n",
    "    path2 = bfs('L', 'E', maps)\n",
    "    \n",
    "    if path1 != -1 and path2 != -1:\n",
    "        return path1 + path2\n",
    "                \n",
    "    return -1"
   ]
  }
 ],
 "metadata": {
  "language_info": {
   "name": "python"
  },
  "orig_nbformat": 4
 },
 "nbformat": 4,
 "nbformat_minor": 2
}
