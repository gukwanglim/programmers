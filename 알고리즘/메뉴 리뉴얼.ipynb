{
 "cells": [
  {
   "attachments": {},
   "cell_type": "markdown",
   "metadata": {},
   "source": [
    "https://school.programmers.co.kr/learn/courses/30/lessons/72411\n",
    "\n",
    "![그래프](./image/33.png)\n",
    "![그래프](./image/33-2.png)"
   ]
  },
  {
   "cell_type": "code",
   "execution_count": null,
   "metadata": {
    "vscode": {
     "languageId": "plaintext"
    }
   },
   "outputs": [],
   "source": [
    "from itertools import combinations\n",
    "import collections\n",
    "\n",
    "def solution(orders, course):\n",
    "    result = []\n",
    "    for i in range(len(orders)) :\n",
    "        orders[i] = sorted(orders[i])\n",
    "    \n",
    "    for i in course :\n",
    "        for j in orders :\n",
    "            if len(j) >= i :\n",
    "                for p in combinations(j, i):\n",
    "                    result.append(''.join(p))\n",
    "\n",
    "    most_ordered = collections.Counter(result).most_common()\n",
    "    answer = []\n",
    "    for i in course :\n",
    "        max = 0\n",
    "        for j in most_ordered :\n",
    "            if j[1] >= 2 and len(j[0]) == i:\n",
    "                max = j[1]\n",
    "                break\n",
    "        for j in most_ordered :\n",
    "            if max == j[1] and len(j[0]) == i:\n",
    "                answer.append(j[0])\n",
    "        \n",
    "    return sorted(answer)"
   ]
  }
 ],
 "metadata": {
  "language_info": {
   "name": "python"
  },
  "orig_nbformat": 4
 },
 "nbformat": 4,
 "nbformat_minor": 2
}
