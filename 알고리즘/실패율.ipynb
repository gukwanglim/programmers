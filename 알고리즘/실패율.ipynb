{
 "cells": [
  {
   "attachments": {},
   "cell_type": "markdown",
   "metadata": {},
   "source": [
    "https://school.programmers.co.kr/learn/courses/30/lessons/42889\n",
    "\n",
    "![그래프](./image/19.png)"
   ]
  },
  {
   "cell_type": "code",
   "execution_count": null,
   "metadata": {},
   "outputs": [],
   "source": [
    "def solution(N, stages):\n",
    "    situation = [0 for i in range(N+1)]\n",
    "    for stage in stages:\n",
    "        situation[stage-1] += 1\n",
    "\n",
    "    answer = {}\n",
    "    arrival = len(stages)\n",
    "    for level, count in enumerate(situation[:N]):\n",
    "        try:\n",
    "            answer[level+1] = count/arrival\n",
    "        except:\n",
    "            answer[level+1] = 0\n",
    "        arrival -= count\n",
    "\n",
    "    return sorted(answer, key=answer.get, reverse=True)"
   ]
  }
 ],
 "metadata": {
  "language_info": {
   "name": "python"
  },
  "orig_nbformat": 4
 },
 "nbformat": 4,
 "nbformat_minor": 2
}
