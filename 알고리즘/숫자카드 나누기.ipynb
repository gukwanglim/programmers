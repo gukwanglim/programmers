{
 "cells": [
  {
   "attachments": {},
   "cell_type": "markdown",
   "metadata": {},
   "source": [
    "https://school.programmers.co.kr/learn/courses/30/lessons/135807\n",
    "\n",
    "![그래프](./image/56.png)"
   ]
  },
  {
   "cell_type": "code",
   "execution_count": null,
   "metadata": {
    "vscode": {
     "languageId": "plaintext"
    }
   },
   "outputs": [],
   "source": [
    "from math import gcd\n",
    "\n",
    "def get_gcd(arr):\n",
    "    g = arr[0]\n",
    "    for i in range(1,len(arr)):\n",
    "        g = gcd(g,arr[i])\n",
    "    return g\n",
    "    \n",
    "\n",
    "def solution(arrayA, arrayB):\n",
    "    result = 0\n",
    "    A, B = get_gcd(arrayA), get_gcd(arrayB)\n",
    "\n",
    "    for i in arrayB:\n",
    "        if i % A == 0:\n",
    "            break\n",
    "    else:\n",
    "        result = max(A,res)\n",
    "\t\n",
    "    \n",
    "    for i in arrayA:\n",
    "        if i % B == 0:\n",
    "            break\n",
    "    else:\n",
    "        result = max(B,res)\n",
    "\n",
    "    return result"
   ]
  }
 ],
 "metadata": {
  "language_info": {
   "name": "python"
  },
  "orig_nbformat": 4
 },
 "nbformat": 4,
 "nbformat_minor": 2
}
