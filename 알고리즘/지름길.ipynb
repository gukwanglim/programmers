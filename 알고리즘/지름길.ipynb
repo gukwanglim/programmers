{
 "cells": [
  {
   "attachments": {},
   "cell_type": "markdown",
   "metadata": {},
   "source": [
    "https://www.acmicpc.net/problem/1446\n",
    "\n",
    "![그래프](./image/9.png)"
   ]
  },
  {
   "cell_type": "code",
   "execution_count": null,
   "metadata": {},
   "outputs": [],
   "source": [
    "import sys\n",
    "input = sys.stdin.readline\n",
    "\n",
    "[N, D] = list(map(int, input().split()))\n",
    "info = {}\n",
    "for n in range(N):\n",
    "    [start, end, dist] = list(map(int, input().split()))\n",
    "    if end not in info:\n",
    "        info[end] = []\n",
    "    info[end].append([start, dist])\n",
    "\n",
    "dp = [d for d in range(D + 1)]\n",
    "\n",
    "for d in range(D + 1):\n",
    "    dp[d] = min(dp[d], dp[d - 1] + 1)\n",
    "    if d in info:\n",
    "        for [s, dist] in info[d]:\n",
    "            dp[d] = min(dp[d], dp[s] + dist)\n",
    "\n",
    "print(dp[-1])"
   ]
  }
 ],
 "metadata": {
  "language_info": {
   "name": "python"
  },
  "orig_nbformat": 4
 },
 "nbformat": 4,
 "nbformat_minor": 2
}
