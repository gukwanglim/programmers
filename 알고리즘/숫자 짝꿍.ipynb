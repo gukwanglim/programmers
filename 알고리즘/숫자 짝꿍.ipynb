{
 "cells": [
  {
   "attachments": {},
   "cell_type": "markdown",
   "metadata": {},
   "source": [
    "https://school.programmers.co.kr/learn/courses/30/lessons/131128\n",
    "\n",
    "![그래프](./image/57.png)"
   ]
  },
  {
   "cell_type": "code",
   "execution_count": null,
   "metadata": {
    "vscode": {
     "languageId": "plaintext"
    }
   },
   "outputs": [],
   "source": [
    "def solution(X, Y):\n",
    "    answer = ''\n",
    "    \n",
    "    x = {str(i):0 for i in range(10)}\n",
    "    y = {str(i):0 for i in range(10)}\n",
    "\n",
    "    for i in X:\n",
    "        x[i] += 1\n",
    "    for i in Y:\n",
    "        y[i] += 1\n",
    "        \n",
    "    for i in range(9, -1, -1):\n",
    "        for _ in range(min(x[str(i)], y[str(i)])):\n",
    "            answer += str(i)\n",
    "            \n",
    "            if answer == \"00\":\n",
    "                answer = \"0\"\n",
    "            \n",
    "    if answer == \"\":\n",
    "        answer = \"-1\"        \n",
    "    \n",
    "    return answer"
   ]
  }
 ],
 "metadata": {
  "language_info": {
   "name": "python"
  },
  "orig_nbformat": 4
 },
 "nbformat": 4,
 "nbformat_minor": 2
}
