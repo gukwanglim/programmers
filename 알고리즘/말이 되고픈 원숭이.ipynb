{
 "cells": [
  {
   "cell_type": "markdown",
   "metadata": {},
   "source": [
    "https://www.acmicpc.net/problem/1600\n",
    "\n",
    "![그래프](./image/180.png)"
   ]
  },
  {
   "cell_type": "code",
   "execution_count": null,
   "metadata": {
    "vscode": {
     "languageId": "plaintext"
    }
   },
   "outputs": [],
   "source": [
    "import sys\n",
    "from collections import deque\n",
    "input = sys.stdin.readline\n",
    "\n",
    "MONKEY = [(0, -1), (-1, 0), (0, 1), (1, 0)]\n",
    "HORSE = [(-1, -2), (-2, -1), (-2, 1), (-1, 2), (1, 2), (2, 1), (2, -1), (1, -2)]\n",
    "\n",
    "K = int(input())\n",
    "[W, H] = map(int, input().split())\n",
    "board = [list(map(int, input().split())) for _ in range(H)]\n",
    "\n",
    "# K = 1\n",
    "# [W, H] = [4, 4]\n",
    "# board = [[0, 0, 0, 0], [1, 0, 0, 0], [0, 0, 1, 0], [0, 1, 0, 0]]\n",
    "\n",
    "def isMove(y, x):\n",
    "    return (0 <= y < H and 0 <= x < W and board[y][x] == 0)\n",
    "\n",
    "def bfs():\n",
    "    visited = [[[False for k in range(K + 1)] for w in range(W)] for h in range(H)]\n",
    "    queue = deque([[0, 0, 0, 0]])\n",
    "    while queue:\n",
    "        [y, x, c, k] = queue.popleft()\n",
    "        if y == H - 1 and x == W - 1:\n",
    "            return c\n",
    "        if visited[y][x][k]:\n",
    "            continue\n",
    "        visited[y][x][k] = True\n",
    "        \n",
    "        if k < K:\n",
    "            for (dy, dx) in HORSE:\n",
    "                if isMove(y + dy, x + dx):\n",
    "                    queue.append([y + dy, x + dx, c + 1, k + 1])\n",
    "        for (dy, dx) in MONKEY:\n",
    "                if isMove(y + dy, x + dx):\n",
    "                    queue.append([y + dy, x + dx, c + 1, k])\n",
    "    return -1\n",
    "print(bfs())"
   ]
  }
 ],
 "metadata": {
  "language_info": {
   "name": "python"
  },
  "orig_nbformat": 4
 },
 "nbformat": 4,
 "nbformat_minor": 2
}
