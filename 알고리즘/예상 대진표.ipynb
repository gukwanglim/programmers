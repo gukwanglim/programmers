{
 "cells": [
  {
   "attachments": {},
   "cell_type": "markdown",
   "metadata": {},
   "source": [
    "https://school.programmers.co.kr/learn/courses/30/lessons/12985\n",
    "\n",
    "![그래프](./image/46.png)"
   ]
  },
  {
   "cell_type": "code",
   "execution_count": null,
   "metadata": {},
   "outputs": [],
   "source": [
    "def Prime_number(n) :\n",
    "    if n% 2 == 0 :\n",
    "        return n\n",
    "    else :\n",
    "        return n+1\n",
    "\n",
    "def solution(n,a,b):\n",
    "    answer = 0\n",
    "    \n",
    "    while a+1 != b and b+1 != a :\n",
    "        a = Prime_number(a)//2\n",
    "        b = Prime_number(b)//2\n",
    "        answer += 1\n",
    "    if min(a,b) % 2 == 0 :\n",
    "        temp = min(a,b)\n",
    "        if temp%4 != 0 :\n",
    "            answer -= 2\n",
    "        while temp != 0 :\n",
    "            temp //= 2\n",
    "            answer += 1\n",
    "        return answer \n",
    "    else :\n",
    "        return answer + 1"
   ]
  }
 ],
 "metadata": {
  "kernelspec": {
   "display_name": "pydata",
   "language": "python",
   "name": "python3"
  },
  "language_info": {
   "name": "python",
   "version": "3.9.11"
  },
  "orig_nbformat": 4,
  "vscode": {
   "interpreter": {
    "hash": "286b3223e4baa2339d35639af96ec91063d7905066fed95d13bac9e189bc76bf"
   }
  }
 },
 "nbformat": 4,
 "nbformat_minor": 2
}
