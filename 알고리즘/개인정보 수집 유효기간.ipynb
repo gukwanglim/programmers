{
 "cells": [
  {
   "attachments": {},
   "cell_type": "markdown",
   "metadata": {},
   "source": [
    "https://school.programmers.co.kr/learn/courses/30/lessons/150370\n",
    "\n",
    "![그래프](./image/66.png)"
   ]
  },
  {
   "cell_type": "code",
   "execution_count": null,
   "metadata": {
    "vscode": {
     "languageId": "plaintext"
    }
   },
   "outputs": [],
   "source": [
    "def solution(today, terms, privacies):\n",
    "    answer = []\n",
    "\n",
    "    today = today.split(\".\")\n",
    "    \n",
    "    int_today = []\n",
    "    for i in today:\n",
    "        int_today.append(int(i))        # 오늘 날짜 int_today = [2022, 5, 19]\n",
    "        \n",
    "    dict_terms = {}\n",
    "    for i in terms:\n",
    "        i = i.split(\" \")\n",
    "        dict_terms[i[0]] = i[1]         # 약관 종류 dict_terms = {'A': '6', 'B': '12', 'C': '3'}\n",
    "\n",
    "    for i, j in enumerate(privacies):\n",
    "        p = j.split(\" \")\n",
    "        \n",
    "        T = p[1]\n",
    "        yy = int(p[0].split(\".\")[0])\n",
    "        mm = int(p[0].split(\".\")[1])\n",
    "        dd = int(p[0].split(\".\")[2])\n",
    "        \n",
    "        today_y = (int_today[0] - yy)*12        # 정확한 날짜를 계산하는 것이 아닌 월을 사용하여 계산(1년 = 12개월)\n",
    "        today_m = int_today[1] - mm\n",
    "        today_d = int_today[2] - dd\n",
    "\n",
    "        today_ym = today_y + today_m            # 현재의 날짜와 수집 일짜를 빼면 얼마의 시간이 흐른 것인지 알 수 있음\n",
    "\n",
    "        if today_ym > int(dict_terms[T]):       # 만약, 정보의 수집 기간이 유효기간을 넘긴 경우 해당 문서를 제외\n",
    "            answer.append(i+1)\n",
    "        elif today_ym == int(dict_terms[T]):    # 만약, 개월 수가 같은 경우에는 일까지 확인\n",
    "            if today_d >= 0:                    # 이때는 일 수가 0 이하일 경우에는 해당 날짜가 지난 것으로 판단\n",
    "                answer.append(i+1)\n",
    "        \n",
    "    return answer"
   ]
  }
 ],
 "metadata": {
  "language_info": {
   "name": "python"
  },
  "orig_nbformat": 4
 },
 "nbformat": 4,
 "nbformat_minor": 2
}
