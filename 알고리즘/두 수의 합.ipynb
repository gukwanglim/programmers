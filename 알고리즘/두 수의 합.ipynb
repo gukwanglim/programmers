{
 "cells": [
  {
   "cell_type": "markdown",
   "metadata": {},
   "source": [
    "https://www.acmicpc.net/problem/9024\n",
    "\n",
    "![그래프](./image/181.png)"
   ]
  },
  {
   "cell_type": "code",
   "execution_count": null,
   "metadata": {
    "vscode": {
     "languageId": "plaintext"
    }
   },
   "outputs": [],
   "source": [
    "T = int(input())\n",
    "for _ in range(T):\n",
    "    N, K = map(int, input().split())\n",
    "    S = sorted(list(map(int, input().split())))\n",
    "    term = 2 * pow(10, 8)\n",
    "    \n",
    "    left, right = 0, len(S)-1\n",
    "    while left < right:\n",
    "        sum = S[left] + S[right]\n",
    "\n",
    "        if abs(sum - K) == term:\n",
    "            answer += 1\n",
    "        elif abs(sum - K) < term:\n",
    "            answer = 1\n",
    "            term = abs(sum - K)\n",
    "        \n",
    "        if sum == K:\n",
    "            left += 1\n",
    "            right -= 1\n",
    "        elif sum < K:\n",
    "            left += 1\n",
    "        elif sum > K:\n",
    "            right -= 1\n",
    "\n",
    "    print(answer)"
   ]
  }
 ],
 "metadata": {
  "language_info": {
   "name": "python"
  },
  "orig_nbformat": 4
 },
 "nbformat": 4,
 "nbformat_minor": 2
}
