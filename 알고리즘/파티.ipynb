{
 "cells": [
  {
   "cell_type": "markdown",
   "metadata": {},
   "source": [
    "https://www.acmicpc.net/problem/1238\n",
    "\n",
    "![그래프](./image/193.png)"
   ]
  },
  {
   "cell_type": "code",
   "execution_count": null,
   "metadata": {
    "vscode": {
     "languageId": "plaintext"
    }
   },
   "outputs": [],
   "source": [
    "import sys\n",
    "import heapq\n",
    "input = sys.stdin.readline\n",
    "\n",
    "[F, R] = [0, 1]\n",
    "INF = 1000 * 100000 + 1\n",
    "[N, M, X] = map(int, input().split())\n",
    "adj = [[[] for n in range(N + 1)] for _ in range(2)]\n",
    "for _ in range(M):\n",
    "    [v, u, c] = map(int, input().split())\n",
    "    adj[F][v].append([u, c])\n",
    "    adj[R][u].append([v, c])\n",
    "\n",
    "def dijkstra(mod):\n",
    "    dist = [INF for _ in range(N + 1)]\n",
    "    queue = []\n",
    "    heapq.heappush(queue, (0, X))\n",
    "    dist[X] = 0\n",
    "\n",
    "    while queue:\n",
    "        (c, curr) = heapq.heappop(queue)\n",
    "        if c > dist[curr]:\n",
    "            continue\n",
    "        for [next, dc] in adj[mod][curr]:\n",
    "            if dist[next] > c + dc:\n",
    "                dist[next] = c + dc\n",
    "                heapq.heappush(queue, (c + dc, next))\n",
    "    return dist\n",
    "\n",
    "answer = -1\n",
    "for [f, r] in zip(dijkstra(F)[1:], dijkstra(R)[1:]):\n",
    "    answer = max(answer, f + r)\n",
    "print(answer)"
   ]
  }
 ],
 "metadata": {
  "language_info": {
   "name": "python"
  },
  "orig_nbformat": 4
 },
 "nbformat": 4,
 "nbformat_minor": 2
}
