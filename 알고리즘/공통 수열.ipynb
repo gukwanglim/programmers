{
 "cells": [
  {
   "attachments": {},
   "cell_type": "markdown",
   "metadata": {},
   "source": [
    "https://www.acmicpc.net/problem/1622\n",
    "\n",
    "![그래프](./image/11.png)"
   ]
  },
  {
   "attachments": {},
   "cell_type": "markdown",
   "metadata": {},
   "source": [
    "이전까지의 백준 문제는 모두 몇 개의 문제가 주어지는지 알려주고, 이것을 가지고 for 구문을 받으며 문제를 풀 수 있게 해주었다.\n",
    "하지만 이번 문제는 몇 개의 문제가 주어지는 것인지 알려주지 않고 들어오는 만큼 문제를 풀어야 했기 때문에 try 구문을 이용하여 except를 사용해 문제를 해결해야 한다."
   ]
  },
  {
   "cell_type": "code",
   "execution_count": null,
   "metadata": {},
   "outputs": [],
   "source": [
    "import sys\n",
    "input = sys.stdin.readline\n",
    "from collections import defaultdict\n",
    "\n",
    "while True:\n",
    "    try:\n",
    "        a = input().rstrip()\n",
    "        b = input().rstrip()\n",
    "        alpha1 = defaultdict(int)\n",
    "        alpha2 = defaultdict(int)\n",
    "\n",
    "        for s in a:\n",
    "            alpha1[s] += 1\n",
    "        for s in b:\n",
    "            alpha2[s] += 1\n",
    "        \n",
    "        answer = ''\n",
    "        for c in sorted(set(a + b)):\n",
    "            answer += (c * min(alpha1[c], alpha2[c]))\n",
    "        print(answer)\n",
    "    except:\n",
    "        break"
   ]
  }
 ],
 "metadata": {
  "language_info": {
   "name": "python"
  },
  "orig_nbformat": 4
 },
 "nbformat": 4,
 "nbformat_minor": 2
}
