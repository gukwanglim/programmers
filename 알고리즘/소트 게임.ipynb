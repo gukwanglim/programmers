{
 "cells": [
  {
   "cell_type": "markdown",
   "metadata": {},
   "source": [
    "https://www.acmicpc.net/problem/1327\n",
    "\n",
    "![그래프](./image/146.png)"
   ]
  },
  {
   "cell_type": "code",
   "execution_count": null,
   "metadata": {
    "vscode": {
     "languageId": "plaintext"
    }
   },
   "outputs": [],
   "source": [
    "from collections import deque\n",
    "import sys\n",
    "input = sys.stdin.readline\n",
    "\n",
    "[N, K] = map(int, input().split())\n",
    "info = list(input().split())\n",
    "answer = ''.join(map(str, range(1, N + 1)))\n",
    "\n",
    "def bfs():\n",
    "    queue = deque([[''.join(info), 0]])\n",
    "    visited = set()\n",
    "    while queue:\n",
    "        [curr, count] = queue.popleft()\n",
    "        if curr == answer:\n",
    "            return count\n",
    "        for i in range(N - K + 1):\n",
    "            next = curr[:i] + curr[i:i+K][::-1] + curr[i+K:]\n",
    "            if next in visited:\n",
    "                continue\n",
    "            visited.add(next)\n",
    "            queue.append([next, count + 1])\n",
    "    return -1\n",
    "\n",
    "print(bfs())"
   ]
  }
 ],
 "metadata": {
  "language_info": {
   "name": "python"
  },
  "orig_nbformat": 4
 },
 "nbformat": 4,
 "nbformat_minor": 2
}
