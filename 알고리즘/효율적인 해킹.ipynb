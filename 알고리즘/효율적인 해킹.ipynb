{
 "cells": [
  {
   "cell_type": "markdown",
   "metadata": {},
   "source": [
    "https://www.acmicpc.net/problem/1325\n",
    "\n",
    "![그래프](./image/150.png)"
   ]
  },
  {
   "cell_type": "code",
   "execution_count": null,
   "metadata": {
    "vscode": {
     "languageId": "plaintext"
    }
   },
   "outputs": [],
   "source": [
    "import sys\n",
    "input = sys.stdin.readline\n",
    "from collections import deque\n",
    "\n",
    "[N, M] = map(int, input().split())\n",
    "adj = [[] for y in range(N + 1)]\n",
    "for _ in range(M):\n",
    "    [u, v] = map(int, input().split())\n",
    "    adj[v].append(u)\n",
    "\n",
    "def getCount(start):\n",
    "    count = 1\n",
    "    visited = [False for _ in range(N + 1)]\n",
    "    visited[start] = True\n",
    "    queue = deque([start])\n",
    "    while queue:\n",
    "        curr = queue.popleft()\n",
    "        for next in adj[curr]:\n",
    "            if visited[next]:\n",
    "                continue\n",
    "            visited[next] = True\n",
    "            queue.append(next)\n",
    "            count += 1\n",
    "    return count\n",
    "\n",
    "count = [0 for _ in range(N + 1)]\n",
    "for node in range(1, N + 1):\n",
    "    count[node] = getCount(node)\n",
    "\n",
    "answer = []\n",
    "maximum = max(count)\n",
    "for node in range(1, N + 1):\n",
    "    if count[node] == maximum:\n",
    "        answer.append(node)\n",
    "print(*answer)"
   ]
  }
 ],
 "metadata": {
  "language_info": {
   "name": "python"
  },
  "orig_nbformat": 4
 },
 "nbformat": 4,
 "nbformat_minor": 2
}
