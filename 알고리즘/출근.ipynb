{
 "cells": [
  {
   "cell_type": "markdown",
   "metadata": {},
   "source": [
    "https://www.acmicpc.net/problem/13903\n",
    "\n",
    "![그래프](./image/165.png)"
   ]
  },
  {
   "cell_type": "code",
   "execution_count": null,
   "metadata": {
    "vscode": {
     "languageId": "plaintext"
    }
   },
   "outputs": [],
   "source": [
    "import sys\n",
    "from collections import deque\n",
    "input = sys.stdin.readline\n",
    "\n",
    "[R, C] = map(int, input().split())\n",
    "INF = R * C + 1\n",
    "board = [list(map(int, input().split())) for r in range(R)]\n",
    "N = int(input())\n",
    "MOVE = [list(map(int, input().split())) for _ in range(N)]\n",
    "\n",
    "def isMove(r, c):\n",
    "    return 0 <= r < R and 0 <= c < C and board[r][c] == 1\n",
    "\n",
    "def bfs():\n",
    "    visited = [[False for c in range(C)] for r in range(R)]\n",
    "    queue = deque([])\n",
    "    for c in range(C):\n",
    "        if board[0][c] == 1:\n",
    "            queue.append([0, c, 0])\n",
    "            visited[0][c] = True\n",
    "    \n",
    "    while queue:\n",
    "        [r, c, cost] = queue.popleft()\n",
    "        if r == R - 1:\n",
    "            return cost\n",
    "        for [dr, dc] in MOVE:\n",
    "            if isMove(dr + r, dc + c) and not visited[dr + r][dc + c]:\n",
    "                queue.append([dr + r, dc + c, cost + 1])\n",
    "                visited[dr + r][dc + c] = True\n",
    "    return -1\n",
    "\n",
    "print(bfs())"
   ]
  }
 ],
 "metadata": {
  "language_info": {
   "name": "python"
  },
  "orig_nbformat": 4
 },
 "nbformat": 4,
 "nbformat_minor": 2
}
