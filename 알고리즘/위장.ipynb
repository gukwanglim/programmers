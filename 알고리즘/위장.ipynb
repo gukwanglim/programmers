{
 "cells": [
  {
   "attachments": {},
   "cell_type": "markdown",
   "metadata": {},
   "source": [
    "https://school.programmers.co.kr/learn/courses/30/lessons/42578\n",
    "\n",
    "![그래프](./image/85.png)"
   ]
  },
  {
   "cell_type": "code",
   "execution_count": null,
   "metadata": {
    "vscode": {
     "languageId": "plaintext"
    }
   },
   "outputs": [],
   "source": [
    "from itertools import *\n",
    "def solution(clothes):\n",
    "    answer = 0\n",
    "    closet = {}\n",
    "    for i in clothes:\n",
    "        closet[i[1]] = []\n",
    "    for i in clothes:\n",
    "        closet[i[1]].append(i[0])\n",
    "    for i in closet:\n",
    "        closet[i] = len(closet[i])\n",
    "\n",
    "    count = len(closet)\n",
    "    if count == 30:\n",
    "        a = count\n",
    "        while count!=0:\n",
    "            c = 1\n",
    "            while a != 0:\n",
    "                c *= a\n",
    "                a -= 1\n",
    "            answer += c \n",
    "            count -= 1\n",
    "        return answer\n",
    "    while count != 0:\n",
    "        list_n = []\n",
    "        a = list(combinations(closet,count))\n",
    "        for i in a:\n",
    "            m = []\n",
    "            for j in i:\n",
    "                m.append(closet[j])\n",
    "            list_n.append(m)\n",
    "        for i in list_n:\n",
    "            s = 1\n",
    "            for j in i:\n",
    "                s *= j\n",
    "            answer += s\n",
    "        count -= 1\n",
    "    return answer"
   ]
  }
 ],
 "metadata": {
  "language_info": {
   "name": "python"
  },
  "orig_nbformat": 4
 },
 "nbformat": 4,
 "nbformat_minor": 2
}
