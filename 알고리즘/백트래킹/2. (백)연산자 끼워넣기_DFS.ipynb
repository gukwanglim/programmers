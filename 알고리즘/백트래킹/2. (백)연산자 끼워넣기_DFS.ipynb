{
 "cells": [
  {
   "cell_type": "markdown",
   "metadata": {},
   "source": [
    "https://www.acmicpc.net/problem/14888\n",
    "\n",
    "![그래프](./image/2.png)"
   ]
  },
  {
   "cell_type": "markdown",
   "metadata": {},
   "source": [
    "숫자는 정해져 있는 상태에서 연산자만 변경되는 경우를 모두 계산하는 것으로 DFS를 사용해야 한다."
   ]
  },
  {
   "cell_type": "code",
   "execution_count": null,
   "metadata": {},
   "outputs": [],
   "source": [
    "import sys                                                  # 사용할 필요가 없어도 DFS를 활용할 때는 습관적으로 범위를 늘려주는 것이 좋다고 판단된다.\n",
    "input = sys.stdin.readline\n",
    "sys.setrecursionlimit(10**6) \n",
    "\n",
    "n = int(input())\n",
    "nums = list(map(int,input().split()))\n",
    "op = list(map(int,input().split()))\n",
    "\n",
    "result = nums[0]                                            # 먼저, 숫자의 위치는 고정되어 있는 상태로 첫 번째 숫자를 result에 넣어준다.\n",
    "least = \"\"                                                  # least와 most 값은 처음엔 아무것도 존재하지 않은 상태로 둔다.\n",
    "most = \"\"\n",
    "\n",
    "def dfs(num):\n",
    "    global result, least, most\n",
    "    if sum(op) == 0:                                        # op, 연산자는 0과 1로 표현되기 때문에 연산자를 모두 사용한 상태(sum(op) = 0)에서 결과값을 least, most에 저장한다.\n",
    "        if least == \"\":\n",
    "            least = result                                  \n",
    "            # 값을 넣은 적이 없을 때 최초값을 정해준다.\n",
    "            # 그냥 무작정 0 으로 하면 안된다.\n",
    "        elif least > result:                                # result보다 least가 큰 경우에 값을 넣는 이유는 least에는 작은 값을 저장해야 하기 때문에 result가 더 작을 경우 그 값을 받아오는 것이다.\n",
    "            least = result\n",
    "\n",
    "        if most == \"\":\n",
    "            most = result\n",
    "        elif most < result:                                 # 반대로 most의 경우는 현재 most에 담겨있는 값이 result에 담겨있는 값보다 작게되면 갱신되는 것아다.\n",
    "            most = result\n",
    "        return\n",
    "                                                            # nums = [3, 4, 5], op = [1, 0, 1, 0] 일 경우\n",
    "    for i in range(4):                                      # 연산자는 총 4개로 for 구문을 4번 돌린다.\n",
    "        if op[i] > 0:\n",
    "            preResult = result                              # 먼저, 계산하기 이전의 값을 따로 저장해 놓는다. 즉, 처음에는 preResult에 3이 저장된다.\n",
    "            print('1 : ', preResult)\n",
    "            # 계산하기 전 이전 값을 미리 저장\n",
    "            if i == 0:                          \n",
    "                result += nums[num]\n",
    "            elif i == 1:\n",
    "                result -= nums[num]\n",
    "            elif i == 2:\n",
    "                result *= nums[num]\n",
    "            else:\n",
    "                result = int(result / nums[num])    # 여기서는 // 을 사용하면 오류가 발생한다.(딱히 이유는 모르겠다.)\n",
    "            op[i] -= 1                                      # 한 번의 계산을 끝냈다면 사용한 연산자를 -1하여 값을 줄여준다.\n",
    "                \n",
    "            dfs(num+1)                                      # 아직 연산자가 더 남아있기 때문에 재귀를 돌아 남은 연산자를 넣게 된다.\n",
    "            result = preResult\n",
    "            print('2 : ', result)\n",
    "            # 부모 트리로 돌아왔으니 이전 값 대입\n",
    "            op[i] += 1\n",
    "            \n",
    "dfs(1)\n",
    "print(most,least,sep=\"\\n\")\n",
    "                                                            # 재귀를 시작하게 되면 위의 if 구문에서 sum(op)를 확인하게 되는데 아직 연산자가 남아있는 과정이므로 건너뛰어 다시 for 구문에 도착하게 된다.\n",
    "\n",
    "                                                            # 현재 result = 3 + 4 = 7으로 preResult에 7이 저장된다.\n",
    "                                                            # 추가로 op = [0, 0, 1, 0]으로 세 번째 연산자가 1이기 때문에 result = 7 * 5 = 35가 된다.\n",
    "\n",
    "                                                            # 다시 재귀를 실행하는데 이번에는 sum(op) = 0이므로 if 구문이 실행된다.\n",
    "                                                            # 여기서는 현재 least, most가 둘 다 \"\"이므로 rseult의 값인 35가 저장된다.\n",
    "\n",
    "                                                            # 한 번의 재귀가 return을 받았기 때문에 재귀 다음 단계로 넘어가 result = preResult, 즉, 현재 preResult에 담겨있는 7이 저장된다.\n",
    "                                                            # 추가로 현재의 i는 3인 상태로 op의 세 번째 인덱스에 1을 더해준다. [0, 0, 1, 0]\n",
    "\n",
    "                                                            # 만약, 가지가 하나 더 존재했다면 그 가지를 타고 들어가야 하지만, 현재 가지는 총 2개이기 때문에 한 번 더 올라가게 된다.\n",
    "                                                            # 즉, result는 다시 이전의 preResult를 받아와 3이 되고, i는 이전의 값을 받아와 op = [1, 0, 1, 0]이 된다.\n",
    "                                                                # 솔직히 이 부분은 이해하기 힘들다. i는 왜 그렇게 되는 것인지 알겠는데 이미 덧씌워진 preResult의 값이 변경되지 않은 이유를 잘 모르겠다.\n",
    "                                                            \n",
    "                                                            # 이제 재귀를 포함하지 않은 하나의 for 구문이 끝난 것이다.\n",
    "                                                            # 따라서 i는 1인 상태로 시작한다.\n",
    "\n",
    "                                                            # op의 두 번째 인덱스는 0이다. 때문에 바로 세 번째 인덱스로 넘어가 result(현재 3의 값을 가지고 있다.)에 4를 곱하게 된다.\n",
    "                                                            # result = 12가 된 상태에서 재귀를 만나 preResult에 12가 저장되고 5를 더하게 된다.\n",
    "\n",
    "                                                            # result = 17인 상태에서 sum(op) = 0 이므로 if 구문을 돌게 된다.\n",
    "                                                            # 이때, least = 35가 담겨있어 현재의 result 보다 큰 값을 가지고 있기 때문에 least = 17로 변경된다.\n",
    "\n",
    "                                                            # 이제 모든 구문을 끝났기 때문에 값을 출력하면 문제가 풀린다."
   ]
  }
 ],
 "metadata": {
  "kernelspec": {
   "display_name": "Python 3.9.11 ('pydata')",
   "language": "python",
   "name": "python3"
  },
  "language_info": {
   "name": "python",
   "version": "3.9.11"
  },
  "orig_nbformat": 4,
  "vscode": {
   "interpreter": {
    "hash": "286b3223e4baa2339d35639af96ec91063d7905066fed95d13bac9e189bc76bf"
   }
  }
 },
 "nbformat": 4,
 "nbformat_minor": 2
}
