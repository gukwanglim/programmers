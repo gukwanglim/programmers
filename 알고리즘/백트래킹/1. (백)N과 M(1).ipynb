{
 "cells": [
  {
   "cell_type": "markdown",
   "metadata": {},
   "source": [
    "https://www.acmicpc.net/problem/15649\n",
    "\n",
    "![그래프](./image/1.png)"
   ]
  },
  {
   "cell_type": "markdown",
   "metadata": {},
   "source": [
    "브루트 포스(모든 과정을 탐색)과 비슷한 문제이지만, 백트래킹의 경우에는 모든 조합이 아닌 한정 조건을 만족하는 조합의 경우의 수를 찾는 알고리즘이다.\n",
    "\n",
    "여기서 한정 조건을 통해 불필요한 조합을 배재하는 방법을 '가지치기'라 부른다."
   ]
  },
  {
   "cell_type": "code",
   "execution_count": null,
   "metadata": {},
   "outputs": [],
   "source": [
    "n, m = map(int, input().split())\n",
    "nums = []\n",
    "\n",
    "def seq():                          # 백트래킹을 시전할 함수를 선언한다.\n",
    "    if len(nums) == m:              # 만약, len(nums)가 m가 같아지면 print()를 실행한다.\n",
    "        print(*nums)                # 이때, 실행되는 print는 m을 기준으로 하기 때문에 중복 없이 m개를 고른 수열을 출력하는 것이 된다.\n",
    "        return                      # 함수 중간이 return이 있어도 끊기지 않고 출력되는 이유는 재귀로 돌아가기 때문이다.\n",
    "    \n",
    "    for i in range(1, n+1):         # 총 몇 가지의 숫자를 가지고 수열을 만들 것인지 정해지는 부분이다.\n",
    "        if i in nums:               # 만약, nums에 i가 존재한다면 continue가 된다.\n",
    "            continue                # 즉, n, m = 4, 2인 경우, nums에 1이 들어간 상태에서 재귀를 거쳐 2가 들어가게 된다. 다음으로 위의 if 구문을 만나 len(nums) == m을 만족하기 때문에 출력된다.\n",
    "        nums.append(i)              # 재귀가 끝나면 nums.pop()으로 인해 nums에 담긴 2가 사라지고 for 구문이 돌아 3이 들어오게 된다.\n",
    "        seq()\n",
    "        nums.pop()                  # (1,2), (1,3), (1,4)까지 끝나면 pop이 두 번 실행된다. 다시 말해, 4가 사라지고 1이 사라지게 된다.\n",
    "seq()                               # 그럼 다시 for 구문이 진행되며 nums에 2만 들어온 상태로 재귀를 실행하여 다음으로 1이 들어오게 된다."
   ]
  },
  {
   "cell_type": "markdown",
   "metadata": {},
   "source": [
    "https://www.acmicpc.net/problem/15650\n",
    "\n",
    "![그래프](./image/1-2.png)"
   ]
  },
  {
   "cell_type": "markdown",
   "metadata": {},
   "source": [
    "이 문제는 위의 문제에서 \"고른 수열은 오름차순이어야 한다.\"의 조건이 추가된 것이다.\n",
    "조건을 추가하기 위해서는 기존 코드의 for 구문에서 시작 부분을 지정해주면 해결이 가능하다."
   ]
  },
  {
   "cell_type": "code",
   "execution_count": null,
   "metadata": {},
   "outputs": [],
   "source": [
    "n, m = map(int, input().split())\n",
    "nums = []\n",
    "\n",
    "def seq(a):                         # 범위를 지정할 수 있도록 파라미터를 사용하게 만든다.\n",
    "    if len(nums) == m:\n",
    "        print(*nums)\n",
    "        return\n",
    "                                    # n = 4, m = 2일 경우\n",
    "    for i in range(a, n+1):         # for 구문을 돌리며 마라미터로 들어간 값부터 시작하는 for 구문을 생성한다.\n",
    "        if i in nums:               # 1이 먼저 들어가면 차례대로 2,3,4가 들어온 다음, nums가 []으로 돌아가고, 다음으로 2가 들어오는데 ragne(2, n+1)이므로 i는 다시 1로 시작하는 것이 아닌 2부터 시작\n",
    "            continue\n",
    "        nums.append(i)\n",
    "        seq(i)                      # 재귀를 돌릴 때에는 i부터 시작하도록 만든다.\n",
    "        nums.pop()\n",
    "seq(1)                              # 첫 시작은 1이기 때문에 1을 넣은 상태로 함수를 돌린다."
   ]
  },
  {
   "cell_type": "markdown",
   "metadata": {},
   "source": [
    "https://www.acmicpc.net/problem/15651\n",
    "\n",
    "![그래프](./image/1-3.png)"
   ]
  },
  {
   "cell_type": "markdown",
   "metadata": {},
   "source": [
    "같은 수를 넣어도 된다는 조건이 들어왔으므로 제일 처음 만든 코드에서 if 구문을 제거하면 문제가 해결된다."
   ]
  },
  {
   "cell_type": "code",
   "execution_count": null,
   "metadata": {},
   "outputs": [],
   "source": [
    "n, m = map(int, input().split())\n",
    "nums = []\n",
    "\n",
    "def seq():\n",
    "    if len(nums) == m:\n",
    "        print(*nums)\n",
    "        return\n",
    "    \n",
    "    for i in range(1, n+1):\n",
    "\n",
    "        nums.append(i)\n",
    "        seq()\n",
    "        nums.pop()\n",
    "seq()"
   ]
  },
  {
   "cell_type": "markdown",
   "metadata": {},
   "source": [
    "https://www.acmicpc.net/problem/15652\n",
    "\n",
    "![그래프](./image/1-4.png)"
   ]
  },
  {
   "cell_type": "markdown",
   "metadata": {},
   "source": [
    "비내림차순의 경우는 두 번째 코드에서 if 구문을 제거하면 된다."
   ]
  },
  {
   "cell_type": "code",
   "execution_count": null,
   "metadata": {},
   "outputs": [],
   "source": [
    "n, m = map(int, input().split())\n",
    "nums = []\n",
    "\n",
    "def seq(a):\n",
    "    if len(nums) == m:\n",
    "        print(*nums)\n",
    "        return\n",
    "    \n",
    "    for i in range(a, n+1):\n",
    "\n",
    "        nums.append(i)\n",
    "        seq(i)\n",
    "        nums.pop()\n",
    "seq(1)"
   ]
  }
 ],
 "metadata": {
  "kernelspec": {
   "display_name": "Python 3.9.11 ('pydata')",
   "language": "python",
   "name": "python3"
  },
  "language_info": {
   "name": "python",
   "version": "3.9.11"
  },
  "orig_nbformat": 4,
  "vscode": {
   "interpreter": {
    "hash": "286b3223e4baa2339d35639af96ec91063d7905066fed95d13bac9e189bc76bf"
   }
  }
 },
 "nbformat": 4,
 "nbformat_minor": 2
}
