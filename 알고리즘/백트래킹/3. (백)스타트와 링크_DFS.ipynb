{
 "cells": [
  {
   "cell_type": "markdown",
   "metadata": {},
   "source": [
    "https://www.acmicpc.net/problem/14889\n",
    "\n",
    "![그래프](./image/3-1.png)\n",
    "![그래프](./image/3-2.png)"
   ]
  },
  {
   "cell_type": "markdown",
   "metadata": {},
   "source": [
    "1. n / 2 만큼의 인원을 선출한다.\n",
    "2. 각 팀의 능력치 차이를 비교한다.\n",
    "3. 능력치의 차이가 0일 경우에는 바로 0을 출력, 즉시 종료, 아닐 경우 제일 작은 차이값을 출력 \n",
    "\n",
    "1번의 과정은 DFS를 이용하여 구한다."
   ]
  },
  {
   "cell_type": "code",
   "execution_count": 1,
   "metadata": {},
   "outputs": [
    {
     "name": "stdout",
     "output_type": "stream",
     "text": [
      "\n"
     ]
    }
   ],
   "source": [
    "import sys                                                          # DFS의 깊이를 늘리기 위해 sys를 사용하는 것도 있지만, result가 0이 될 경우 바로 종료하기 위해서도 필요하다.\n",
    "input = sys.stdin.readline          \n",
    "sys.setrecursionlimit(10**6)\n",
    "\n",
    "n = int(input())\n",
    "n_list = [list(map(int, input().split())) for _ in range(n)]\n",
    "\n",
    "for i in range(n):                                                  # 계산을 편하게 하기 위해서 위에서 받아온 n_list의 값을 미리 더해 놓는다.\n",
    "    for j in range(n):                                              # 여기서 조심해야 하는 것은 0으로 분간된 위, 아래 부분에서 위 부분만을 사용해야 하는 것이다.\n",
    "        n_list[i][j] += n_list[j][i]                                # 아래 부분은 위에서 더하여 나온 값을 다시 더하기 때문에 사용하게 된다면 큰 오류가 발생된다.\n",
    "\n",
    "a_team = []                                                         # 먼저, a팀의 인원을 선정한다. a팀의 인원이 선정되면 나머지 사람들은 자동으로 b팀이 되기 때문에 따로 b팀을 만들어 놓을 필요가 없다.\n",
    "result = \"\"                                                         # 출력을 위한 결과값을 잠시 \"\"으로 선정한다.\n",
    "        \n",
    "def seq(a):\n",
    "    global result                                                   # 현재 result는 def 밖의 내용으로 loacl 값이 된다. 때문에 global을 사용한다.\n",
    "    if len(a_team) == n//2:                                         # 만약, a팀의 인원수가 전체 인원의 절반이 된다면 \n",
    "        b_team = [i for i in range(n) if i not in a_team]           # 나머지 절반의 인원을 b팀으로 넣는다.\n",
    "        \n",
    "        a_score = 0                                                 \n",
    "        b_score = 0\n",
    "\n",
    "        for i in range(n//2):                                       # 전체 인원의 절반에 해당하는 수만큼 돌아간다.\n",
    "            for j in range(i+1, n//2):                              # 한 번 돌고 i가 1이 됐다면, 다음 for 구문에서 range를 만족시키지 못하기 때문에 그냥 건너뛴다. \n",
    "                a_score += n_list[a_team[i]][a_team[j]]\n",
    "                b_score += n_list[b_team[i]][b_team[j]]\n",
    "            \n",
    "        temp = abs(a_score - b_score)                               # 두 팀의 점수의 차를 절댓값으로 나타낸다.\n",
    "\n",
    "        if result == \"\":\n",
    "            result = temp                                           # result에 아무것도 적혀있지 않다면 현재 temp 값을 넣어준다.\n",
    "        elif result > temp:\n",
    "            result = temp                                           # result가 현재 temp 값보다 크다면 더 작은 수인 temp로 변경해준다.\n",
    "\n",
    "        if result == 0:                                             # result가 0이라면 그냥 0을 반환하고 sys를 끝낸다.\n",
    "            print(result)\n",
    "            sys.exit()\n",
    "        return\n",
    "\n",
    "    for i in range(a, n):                                           # i에 a부터 n-1까지의 값을 넣는다. 여기서 a부터 시작하는 이유는 재귀를 돌 때, 해당 a보다 앞에 존재하는 값을 무시하기 위해서이다.\n",
    "        if i in a_team:                                             # 만약, a팀에 이미 존재하는 사람이라면 i를 다음 사람으로 넘긴다.\n",
    "            continue\n",
    "        a_team.append(i)                                            # i가 a팀에 존재하지 않는 사람이라면 a팀에 넣어주고 재귀를 진행한다.\n",
    "        seq(i)\n",
    "        a_team.pop()                                                # 재귀가 끝나게 되면 나중에 들어갔던 사람을 빼고 다음 사람을 넣어 실행하게 된다.\n",
    "\n",
    "seq(0)\n",
    "print(result)"
   ]
  }
 ],
 "metadata": {
  "kernelspec": {
   "display_name": "Python 3.9.11 ('pydata')",
   "language": "python",
   "name": "python3"
  },
  "language_info": {
   "codemirror_mode": {
    "name": "ipython",
    "version": 3
   },
   "file_extension": ".py",
   "mimetype": "text/x-python",
   "name": "python",
   "nbconvert_exporter": "python",
   "pygments_lexer": "ipython3",
   "version": "3.9.11"
  },
  "orig_nbformat": 4,
  "vscode": {
   "interpreter": {
    "hash": "286b3223e4baa2339d35639af96ec91063d7905066fed95d13bac9e189bc76bf"
   }
  }
 },
 "nbformat": 4,
 "nbformat_minor": 2
}
