{
 "cells": [
  {
   "cell_type": "markdown",
   "metadata": {},
   "source": [
    "https://www.acmicpc.net/problem/1304\n",
    "\n",
    "![그래프](./image/147.png)"
   ]
  },
  {
   "cell_type": "code",
   "execution_count": null,
   "metadata": {
    "vscode": {
     "languageId": "plaintext"
    }
   },
   "outputs": [],
   "source": [
    "import sys\n",
    "input = sys.stdin.readline\n",
    "\n",
    "[N, M] = list(map(int, input().split()))\n",
    "info = sorted(filter(lambda m: m[0] > m[1], [list(map(int, input().split())) for m in range(M)]), key=lambda m: m[0])\n",
    "\n",
    "city = [-1 for n in range(N+1)]\n",
    "\n",
    "for [v, w] in info:\n",
    "    for curr in range(w, v+1):\n",
    "        city[curr] = city[w] if city[w] > -1 else w\n",
    "\n",
    "answer = [1]\n",
    "for div in range(2, N+1):\n",
    "    if N % div > 0:\n",
    "        continue\n",
    "\n",
    "    answer.append(div)\n",
    "\n",
    "    count = 0\n",
    "    index = 1\n",
    "    while index <= N:\n",
    "        if city[index] == -1:\n",
    "            count += 1\n",
    "            index += 1\n",
    "        else:\n",
    "            target = city[index]\n",
    "            while index <= N and city[index] == target:\n",
    "                count += 1\n",
    "                index += 1\n",
    "\n",
    "        if count == N // div:\n",
    "            count = 0\n",
    "        elif count > N // div:\n",
    "            answer.pop()\n",
    "            break\n",
    "\n",
    "print(max(answer))"
   ]
  }
 ],
 "metadata": {
  "language_info": {
   "name": "python"
  },
  "orig_nbformat": 4
 },
 "nbformat": 4,
 "nbformat_minor": 2
}
