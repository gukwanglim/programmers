{
 "cells": [
  {
   "cell_type": "markdown",
   "metadata": {},
   "source": [
    "https://www.acmicpc.net/problem/1477\n",
    "\n",
    "![그래프](./image/2-2.png)"
   ]
  },
  {
   "cell_type": "code",
   "execution_count": null,
   "metadata": {},
   "outputs": [],
   "source": [
    "[N, M, L] = list(map(int, input().split()))\n",
    "info = [0] + sorted(list(map(int, input().split()))) + [L]\n",
    "\n",
    "#[N, M, L] = [3, 1, 1000]\n",
    "#info = [0] + [200, 701, 800] + [L]\n",
    "\n",
    "#[N, M, L] = [6, 7, 800]\n",
    "#info = [0] + sorted([622, 411, 201, 555, 755, 82]) + [L]\n",
    "\n",
    "def neededMinCount(line):\n",
    "    count = 0\n",
    "    for index in range(1, len(info)):\n",
    "        section = info[index] - info[index-1]\n",
    "        count += int(section / line)                   # 이 부분은 (휴게소 사이의 거리 / 전체 범위의 중앙값) 을 사용하여 section이 line보다 큰 경우에만 값이 더해진다.\n",
    "        if section % line == 0:\n",
    "            count -= 1              #TODO 왜 정확히 나눠 떨어지면 -1을 해줘야 하지?  -> 휴게소가 필요한 개수를 묻는 것으로 210의 거리에 70의 차이를 나타낸다면 휴게소 2개가 들어가는 순간 끝이다.\n",
    "    return count                                                                    # 하지만, 220의 거리에 70의 차이를 나타낸다면 휴게소가 3개 필요해진다. (아래 그림 참조)\n",
    "\n",
    "\n",
    "[left, right] = [1, L-1]\n",
    "\n",
    "\n",
    "while left <= right:\n",
    "    mid = int((left + right) / 2)\n",
    "\n",
    "    if neededMinCount(mid) > M:\n",
    "        left = mid + 1\n",
    "    else:                               # neededMinCount를 통해 나온 count(휴게소의 개수) 보다 M(필요한 휴게소의 개수)가 작거나 같은 경우 오른쪽(작아지는 방향)을 제거\n",
    "        right = mid - 1\n",
    "\n",
    "print(left)"
   ]
  },
  {
   "cell_type": "markdown",
   "metadata": {},
   "source": [
    "코드를 조금 더 자세히 설명하자면 \n",
    "정의한 함수 neededMinCount()는 전제 범위(현 문제에서는 도로의 길이)의 절반에 해당하는 값을 이용하여 휴게소가 몇 개 들어갈 수 있는지를 반환하는 함수이다.\n",
    "\n",
    "먼저, info 리스트로 받은 휴게소의 거리를 가지고 for 구문을 돌려 각각의 휴게소 사이 거리(section)와 범위를 2로 나눈 mid값을 나눠 그 몫을 count에 더한다.\n",
    "    ('section / mid'를 count에 더하는 이유는 만약 section이 mid보다 크다면 몇 개의 휴게소가 지어질 수 있는지를 반환하기 위함이다.\n",
    "    또한, 'section % line == 0'일 경우에 count -= 1을 하는 이유는 거리 300인 도로에 100 마다 휴게소를 지을 경우, 3개가 아닌 2개를 세울 수 있기 때문이다.(마지막 300 부분에는 건물 생성 불가))\n",
    "\n",
    "거리(범위)와 휴게소의 개수(조건)의 관계를 살펴보자면 휴게소의 개수가 증가할수록 휴게소 사이의 거리는 좁아질 수밖에 없다.\n",
    "때문에 거리값을 계산했을 경우 휴게소의 개수(neededMinCount(mid))가 필요한 휴게소의 개수(M)보다 크다면 left가 줄어야 한다. \n",
    "\n",
    "마지막 while 구문에서 neededMinCount(mid) > M 일 때, left = mid + 1 를 하는 이유는 왼쪽 범위를 날렸기 때문에 다음 범위를 위해 날려버린 부분에서 1을 증가시켜 left에 저장한 것이다."
   ]
  },
  {
   "cell_type": "code",
   "execution_count": null,
   "metadata": {},
   "outputs": [],
   "source": [
    "# https://www.acmicpc.net/problem/2805 이 문제는 나무 자르기\n",
    "\n",
    "trees = [20, 15, 10 ,17]\n",
    "N = 4\n",
    "M = 7\n",
    "\n",
    "def sum(height):\n",
    "    result = 0\n",
    "    for tree in trees:\n",
    "        if tree > height:\n",
    "            result += (tree - height)\n",
    "            print('result : ', result)\n",
    "    return result\n",
    "\n",
    "left, right = 1, max(trees)-1\n",
    "\n",
    "while left <= right:\n",
    "    mid = (left + right) // 2\n",
    "\n",
    "    if sum(mid) < M:\n",
    "        right = mid - 1\n",
    "        print('right : ', right)\n",
    "    else:\n",
    "        left = mid + 1\n",
    "        print('left : ', left)"
   ]
  }
 ],
 "metadata": {
  "kernelspec": {
   "display_name": "Python 3.9.7 ('base')",
   "language": "python",
   "name": "python3"
  },
  "language_info": {
   "name": "python",
   "version": "3.9.7"
  },
  "orig_nbformat": 4,
  "vscode": {
   "interpreter": {
    "hash": "d5801b79edcda5763ccfe48c18a4ee1d2165db6bc296bae4c89c41a89d640e66"
   }
  }
 },
 "nbformat": 4,
 "nbformat_minor": 2
}
