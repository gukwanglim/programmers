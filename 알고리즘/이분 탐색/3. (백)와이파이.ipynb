{
 "cells": [
  {
   "cell_type": "markdown",
   "metadata": {},
   "source": [
    "https://www.acmicpc.net/problem/2110\n",
    "\n",
    "![그래프](./image/3.png)"
   ]
  },
  {
   "cell_type": "markdown",
   "metadata": {},
   "source": [
    "문제를 설명하자면 첫 번째 집과 마지막 집이 존재하고 모든 집에서 와이파이를 사용하기 위해 공유기를 설치해야 한다.\n",
    "공유기의 범위는 정해지지 않았지만, 만약, 공유기가 두 개만 존재할 경우에는 첫 번째 집과 마지막 집에 설치를 해야한다는 말이다.(이때 공유기의 범위는 '거리의 길이 / 2'가 된다.)\n",
    "여기서 공유기가 3개일 경우에는 '거리의 길이 / 3'이 되는 것이 맞지만, 집의 위치가 정확히 거리의 1/3 지점에 존재하는 것이 아니므로 최대한 1/3 지점에 맞는 위치의 집에 설치해야 한다는 뜻이다."
   ]
  },
  {
   "cell_type": "code",
   "execution_count": null,
   "metadata": {},
   "outputs": [],
   "source": [
    "# 백준에서 단순 input으로 값을 받게 되면 시간초과가 발생한다. 때문에 import math,sys를 사용한다.(여기서 math는 굳이 사용하지 않아도 괜찮지만 사용하게 된다면 속도가 조금 더 빨라진다.)\n",
    "\n",
    "import math,sys\n",
    "input = sys.stdin.readline\n",
    "\n",
    "n, c = map(int, input().split())\n",
    "h_list = [int(input()) for _ in range(n)]\n",
    "h_list.sort()\n",
    "\n",
    "left, right = 1, h_list[-1] - h_list[0]                 # 범위는 거리 전체가 아닌 첫 번째 집에서 마지막 집까지의 거리이다.\n",
    "\n",
    "if c == 2:                                              # 공유기가 2개만 존재할 경우, 첫 번째 집에서 마지막 집까지의 거리가 출력되어야 한다.\n",
    "    print(h_list[-1] - h_list[0])\n",
    "\n",
    "else:\n",
    "    while left < right:                                 # left <= right 를 사용한다면 마지막 줄 else에서 'right = mid - 1'을 사용해야 한다.\n",
    "                                                        # 이 코드처럼 'right = mid'를 사용한다면 left < right 으로 가야 한다.\n",
    "        mid = (left + right) // 2\n",
    "        count = 1                                       # count가 0이 아닌 1부터 시작하는 이유는 첫 번째 집에 공유기를 설치하는 것은 확정된 사실이기 때문이다.(두 번째 공유기는 마지막 집에 설치된다.)\n",
    "        last_set = h_list[0]                            # 출력해야하는 값은 집과 집 사이의 거리 중, 최대, 최소가 아닌 공유기가 설치된 집과 집 사이의 거리이므로 마지막 공유기가 설치된 집을 저장한다.\n",
    "\n",
    "        for i in range(n):\n",
    "            if h_list[i] - last_set >= mid:             # 이분 탐색을 단순한 집의 위치가 아닌 공유기가 설치된 집을 기준으로 해야하기 때문에 다음과 같이 조건을 설정한다.\n",
    "                count += 1\n",
    "                last_set = h_list[i]                    # 조건에 맞춰 공유기를 설치했으니 마지막으로 공유기를 설치한 집의 정보를 다시 저장한다.\n",
    "\n",
    "        if count >= c:\n",
    "            result = mid                                # 조건에 맞는 순간(현재 조건은 탐색 중인 집에서 이전에 설치된 공유기까지의 거리가 mid보다 클 경우) mid의 정보는 가장 가까운 공유기의 거리이다.\n",
    "            left = mid + 1\n",
    "        else:\n",
    "            right = mid\n",
    "    print(result)"
   ]
  },
  {
   "cell_type": "markdown",
   "metadata": {},
   "source": [
    "1. 휴게소의 경우는 건물과 건물 사이에 휴게소를 세워 간격을 좁게 만드는 것\n",
    "\n",
    "2. 랜선의 경우는 여러 개의 랜선을 같은 크기로 자르는 것\n",
    "\n",
    "3. 와이파이의 경우는 특정 구역에 마킹을 해놓고 마킹과 마킹 사이의 거리가 가장 짧은 경우를 찾는 것"
   ]
  }
 ],
 "metadata": {
  "kernelspec": {
   "display_name": "Python 3.9.7 ('base')",
   "language": "python",
   "name": "python3"
  },
  "language_info": {
   "name": "python",
   "version": "3.9.7"
  },
  "orig_nbformat": 4,
  "vscode": {
   "interpreter": {
    "hash": "d5801b79edcda5763ccfe48c18a4ee1d2165db6bc296bae4c89c41a89d640e66"
   }
  }
 },
 "nbformat": 4,
 "nbformat_minor": 2
}
