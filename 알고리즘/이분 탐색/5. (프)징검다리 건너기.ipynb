{
 "cells": [
  {
   "cell_type": "markdown",
   "metadata": {},
   "source": [
    "https://school.programmers.co.kr/learn/courses/30/lessons/64062\n",
    "\n",
    "![그래프](./image/5.png)"
   ]
  },
  {
   "cell_type": "markdown",
   "metadata": {},
   "source": [
    "문제를 읽어보면 최대 몇 명까지 보낼 수 있는지를 물어본다. 최대, 최소를 물어보는 문제는 dp와 이분 탐색이 존재했다.(물론, 다른 알고리즘에서도 최대와 최소는 쉽게 물어본다.)\n",
    "직감상으로 if 구문을 잘 돌리면 문제가 해결될 것 같았다.(경험상 dp의 경우 if를 잘 돌리면 나올 것 같은 예감이 강하고, 이분 탐색의 경우 문제를 간단히 풀 수 있겠다는 예감이 든다.)\n",
    "마지막으로 딱히 정렬이 된 문제라고 생각되지 않았다. -> 때문에 dp 문제일 것이라고 생각이 강하게 들었다.\n",
    "\n",
    "하지만, 예제를 확인하는 순간 이전에 풀었던 와이파이 문제와 비슷하다는 생각이 들었다.(와이파이의 경우는 이분 탐색 문제)\n",
    "\n",
    "![그래프](./image/5-2.png)"
   ]
  },
  {
   "cell_type": "markdown",
   "metadata": {},
   "source": [
    "막상 문제를 풀어보니 와이파이 문제와는 살짝 다른 느낌이었다.\n",
    "\n",
    "이유는 이렇다.\n",
    "와이파이의 경우는 마지막에 공유기를 설치한 집의 정보를 저장하여 가장 가까운 집(공유기 설치된)과의 거리를 출력하게 된다.\n",
    "이것을 징검다리에 비유하면 사라져버린 징검다리의 정보를 저장하여 이미 사라진 징검다리와의 거리를 찾게 된다. 즉, 문제에서 요구되는 사항이 아닌 다른 값을 출력하게 되는 것이다.\n",
    "\n",
    "그렇다면 징검다리에서 저장해야 하는 값은 무엇일까?"
   ]
  },
  {
   "cell_type": "markdown",
   "metadata": {},
   "source": [
    "#### 문제의 조건이 중요하다.\n",
    "징검다리의 조건을 보면 k만큼 떨어져 있는 징검다리는 건널 수 없다.\n",
    "즉, 와이파이에서는 공유기를 설치한 집이 문제의 핵심이라면 징검다리에는 사라지는 징검다리의 연속성이 문제의 핵심이다.\n",
    "\n",
    "##### 따라서 저장해야하는 정보는 사라진 징검다리의 연속성이다.\n",
    "비교해야 할 값은 k. 즉, 넘어간 사람의 수가 아닌 사라지는 징검다리의 연속된 개수이다."
   ]
  },
  {
   "cell_type": "code",
   "execution_count": null,
   "metadata": {},
   "outputs": [],
   "source": [
    "stones = [2, 4, 5, 3, 2, 1, 4, 2, 5, 1]\n",
    "k = 3\n",
    "\n",
    "left, right = 1, max(stones)            # k를 무시하고 최대로 건널 수 있는 사람의 수는 최대 징검다리이다.(범위)\n",
    "                                        # 이때 조건은 연속으로 사라진 징검다리의 개수가 된다.\n",
    "while left <= right:\n",
    "    mid = (left + right) // 2\n",
    "    \n",
    "    count = 0\n",
    "    for i in stones:                    # 징검다리에 적힌 숫자가 mid보다 작거나 같은 경우에 count를 증가시킨다. \n",
    "        if i - mid <= 0:                # (문제를 적용시키기 위해 for 구문을 돌리게 된다면 mid를 활용해야 한다는 사실을 기억)\n",
    "            count += 1\n",
    "        else:                           # 만약, 징검다리에 적힌 숫자가 mid보다 크다면 count를 다시 0으로 리셋한다.\n",
    "            count = 0                   # (이것은 사라진 징검다리의 연속성이 끊김을 표현한다.)\n",
    "        \n",
    "        if count >= k:                  # 사라진 징검다리가 총 k번 연속된다면 다음 사람은 건널 수 없게 된다.\n",
    "            break\n",
    "    \n",
    "    if count >= k:                      # 사라진 징검다리가 k번 연속되면 right의 값을 mid-1로 변경한다.\n",
    "        right = mid - 1                 # 여기서 헷갈리지 말아야 할 사항은 count는 사라진 징검다리의 수(연속)를 저장한 것이고, left, right가 건너간 사람의 수를 표현한 것이다. \n",
    "    else:                               # 또한, count가 k보다 크거나 같아지면 더 이상 사람이 건널 수 없는 것이므로 right의 값을 조정해야 한다.\n",
    "        left = mid + 1                  # 따라서 count가 k보다 작다면 아직 징검다리를 건널 수 있기 때문에 left의 값을 조정해야한다.\n",
    "        \n",
    "print(left, right)                      # 마지막으로 출력하는 값은 건널 수 있는 최대 사람 수로 left를 선정해야한다."
   ]
  }
 ],
 "metadata": {
  "kernelspec": {
   "display_name": "Python 3.9.7 ('base')",
   "language": "python",
   "name": "python3"
  },
  "language_info": {
   "name": "python",
   "version": "3.9.7"
  },
  "orig_nbformat": 4,
  "vscode": {
   "interpreter": {
    "hash": "d5801b79edcda5763ccfe48c18a4ee1d2165db6bc296bae4c89c41a89d640e66"
   }
  }
 },
 "nbformat": 4,
 "nbformat_minor": 2
}
