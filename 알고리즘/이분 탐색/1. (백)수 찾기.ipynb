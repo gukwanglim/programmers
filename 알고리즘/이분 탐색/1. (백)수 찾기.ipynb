{
 "cells": [
  {
   "cell_type": "markdown",
   "metadata": {},
   "source": [
    "https://www.acmicpc.net/problem/1920\n",
    "\n",
    "![그래프](./image/1.png)"
   ]
  },
  {
   "cell_type": "markdown",
   "metadata": {},
   "source": [
    "이분 탐색 문제는 직감적으로 그냥 간단하게 돌리면 나오는 문제라고 느껴진다.\n",
    "다만, 간단하게 코드를 구현할 경우 시간초과가 발생하게 된다.\n",
    "이런 경우에는 이분 탐색으로 문제를 해결한다.(대부분의 문제들이 최솟값, 최댓값을 구하라고 한다.(물론, 최솟값, 최댓값을 구하라는 말은 dp에서도 많이 찾아볼 수 있다.))"
   ]
  },
  {
   "cell_type": "code",
   "execution_count": null,
   "metadata": {},
   "outputs": [],
   "source": [
    "n = int(input())\n",
    "A = list(map(int, input().split()))\n",
    "A.sort()\n",
    "\n",
    "m = int(input())\n",
    "B = list(map(int, input().split()))\n",
    "\n",
    "for num in B:\n",
    "    left, right = 0, len(A) - 1\n",
    "    \n",
    "    is_find = False\n",
    "    \n",
    "    while True:\n",
    "        mid = (left + right) // 2\n",
    "        if num == A[mid]:\n",
    "            print(1)\n",
    "            is_find = True\n",
    "            break\n",
    "        elif num > A[mid]:\n",
    "            left = mid + 1\n",
    "        elif num < A[mid]:\n",
    "            right = mid - 1\n",
    "            \n",
    "        if left > right:\n",
    "            break\n",
    "            \n",
    "    if not is_find:\n",
    "        print(0)"
   ]
  },
  {
   "cell_type": "markdown",
   "metadata": {},
   "source": [
    "이분 탐색의 가장 기본적인 형태"
   ]
  },
  {
   "cell_type": "code",
   "execution_count": null,
   "metadata": {},
   "outputs": [],
   "source": [
    "# 문제 자체는 아래와 같은 방식으로도 풀 수 있지만 시간초과가 발생한다.\n",
    "\n",
    "n = int(input())\n",
    "A = list(map(int, input().split()))\n",
    "m = int(input())\n",
    "B = list(map(int, input().split()))\n",
    "\n",
    "for i in B:\n",
    "    answer = 0\n",
    "    if i in A:\n",
    "        answer = 1\n",
    "    print(answer)"
   ]
  }
 ],
 "metadata": {
  "kernelspec": {
   "display_name": "Python 3.9.7 ('base')",
   "language": "python",
   "name": "python3"
  },
  "language_info": {
   "name": "python",
   "version": "3.9.7"
  },
  "orig_nbformat": 4,
  "vscode": {
   "interpreter": {
    "hash": "d5801b79edcda5763ccfe48c18a4ee1d2165db6bc296bae4c89c41a89d640e66"
   }
  }
 },
 "nbformat": 4,
 "nbformat_minor": 2
}
