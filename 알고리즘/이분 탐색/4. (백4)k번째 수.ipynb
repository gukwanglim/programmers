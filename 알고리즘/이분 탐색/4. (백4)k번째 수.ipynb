{
 "cells": [
  {
   "cell_type": "markdown",
   "metadata": {},
   "source": [
    "https://www.acmicpc.net/problem/1300\n",
    "\n",
    "![그래프](./image/4.png)"
   ]
  },
  {
   "cell_type": "markdown",
   "metadata": {},
   "source": [
    "문제가 잘 이해되지 않았다.\n",
    "다른 예시를 살펴보면 N=5 일 경우에 B[10]=5라고 한다.\n",
    "\n",
    "B=[1,2,3,4,5,2,4,6,8,10,3,6,9,12,15...]의 순서로 들어간다고 판단했었는데 아니었다.\n",
    "\n",
    "![그래프](./image/4-2.png)\n",
    "\n",
    "실제로는 위 사진과 같이 정렬된 상태로 들어가게 된다."
   ]
  },
  {
   "cell_type": "code",
   "execution_count": null,
   "metadata": {},
   "outputs": [],
   "source": [
    "n = int(input())\n",
    "k = int(input())\n",
    "\n",
    "start, end = 1, n**2\n",
    "result = 0\n",
    "\n",
    "if n**2 == k:\n",
    "    print(k)\n",
    "    # k가 n의 제곱이면 당연히 맨 끝자리 수이므로 k를 출력한다.\n",
    "else:\n",
    "    while(start < end):\n",
    "        mid = (start+end)//2\n",
    "\n",
    "        c = 0\n",
    "        # mid보다 작거나 같은 숫자 계산\n",
    "        for i in range(1,n+1):\n",
    "            c += min(mid // i, n)\n",
    "        \n",
    "        if c >= k:\n",
    "            end = mid\n",
    "            result = mid\n",
    "        elif c < k:\n",
    "            start = mid+1\n",
    "    print(result)\n",
    "\n",
    "# 이분 탐색을 이용하는 것보다 수학적으로 다가가는 것이 더 어렵다"
   ]
  }
 ],
 "metadata": {
  "kernelspec": {
   "display_name": "Python 3.9.7 ('base')",
   "language": "python",
   "name": "python3"
  },
  "language_info": {
   "name": "python",
   "version": "3.9.7"
  },
  "orig_nbformat": 4,
  "vscode": {
   "interpreter": {
    "hash": "d5801b79edcda5763ccfe48c18a4ee1d2165db6bc296bae4c89c41a89d640e66"
   }
  }
 },
 "nbformat": 4,
 "nbformat_minor": 2
}
