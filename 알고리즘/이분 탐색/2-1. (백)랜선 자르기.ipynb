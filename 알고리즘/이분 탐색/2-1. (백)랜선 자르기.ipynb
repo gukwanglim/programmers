{
 "cells": [
  {
   "cell_type": "markdown",
   "metadata": {},
   "source": [
    "https://www.acmicpc.net/problem/1654\n",
    "\n",
    "![그래프](./image/2.png)"
   ]
  },
  {
   "cell_type": "markdown",
   "metadata": {},
   "source": [
    "랜선 자르기 문제는 스터디에서 공부했던 휴게소 세우기 문제와 똑같다고 판단된다. \n",
    "\n",
    "휴게소와 비교하여 말하자면 \n",
    "    전체 랜선의 길이(모든 랜선의 합) = 도로의 길이\n",
    "    잘린 상태로 존재하는 랜선 = 이미 존재하는 휴게소의 위치\n",
    "    몇 개로 잘라야 하는지 = 몇 개의 휴게소를 추가해야 하는지\n",
    "라고 할 수 있다.\n",
    "\n",
    "문제를 보면 랜선을 길이가 같은 N개로 나눠 최대 랜선의 길이를 구해야 한다.\n",
    "\n",
    "힌트를 보면 '802cm 랜선에서 4개, 743cm 랜선에서 3개, 457cm 랜선에서 2개, 539cm 랜선에서 2개를 잘라내 모두 11개를 만들 수 있다.'고 한다.\n",
    "실제로 나눠보면 802 => 200.5 4개, 743 => 247.666 3개, 457 => 228.5 2개, 539 =? 269.5 2개 로 잘리게 된다.\n",
    "즉, 제일 짧은 길이인 200.5를 기준으로 길이를 맞추고 남은 랜선은 버린다는 말이 된다.\n",
    "따라서 구해야 할 것은 N개로 랜선을 잘랐을 경우, 자른 랜선의 최소 길이이다.(랜선은 정수 단위로 나와야 한다.)"
   ]
  },
  {
   "cell_type": "code",
   "execution_count": null,
   "metadata": {},
   "outputs": [],
   "source": [
    "# 휴게소 세우기를 활용하여 만든 코드(하지만 백준에서 돌리면 틀리게 된다.)\n",
    "\n",
    "[k, n] = list(map(int, input().split()))\n",
    "k_list = [int(input()) for _ in range(k)]\n",
    "\n",
    "def cut(mid):\n",
    "    count = 0\n",
    "    for i in k_list:\n",
    "        count += int(i / mid)\n",
    "        if i % mid == 0:\n",
    "            count -= 1\n",
    "    return count\n",
    "\n",
    "[left, right] = [1, max(k_list)]\n",
    "\n",
    "while left <= right:\n",
    "    mid = int((left + right) / 2)\n",
    "    \n",
    "    if cut(mid) >= n:\n",
    "        left = mid + 1\n",
    "        print('left : ', left)\n",
    "    else:\n",
    "        right = mid - 1\n",
    "        print('right : ', right)\n",
    "\n",
    "print(int(right)) \n",
    "\n",
    "# 무엇보다 마지막 while 구문에서 \"if cut(mid) >= n:\"가 아닌 \"if cut(mid) > n:\"로 사용하면 정답이 완전 틀리게 된다.\n",
    "# 그 이유는 잘 모르겠다..."
   ]
  },
  {
   "cell_type": "code",
   "execution_count": null,
   "metadata": {},
   "outputs": [],
   "source": [
    "# 검색하여 찾아본 코드\n",
    "\n",
    "[k, n] = list(map(int, input().split()))\n",
    "k_list = [int(input()) for _ in range(k)]\n",
    "\n",
    "left = 1\n",
    "right = max(k_list)\n",
    "\n",
    "while left <= right:\n",
    "    mid = (left + right) // 2\n",
    "    \n",
    "    count = 0\n",
    "    for i in range(k):\n",
    "        count += k_list[i] // mid\n",
    "    \n",
    "    if count >= n:\n",
    "        left = mid + 1\n",
    "    else:\n",
    "        right = mid - 1\n",
    "\n",
    "print(int(right))   \n",
    "\n",
    "# 처음 만든 코드에서 함수를 정의하지 않고 바로 넣은 코드로 위와 다르지 않다고 생각했는데 이 코드는 정답으로 뜬다.\n",
    "# 아마 처음 만든 코드에서는 for 구문 한 번 돌아간 것으로 나머지 랜선을 판단해서 그런 것이라고 판단된다.\n",
    "\n",
    "# 무엇보다 휴게소 문제에서는 right를 전 범위(여기서를 모든 랜선의 합)로 풀었는데 이 문제는 제일 긴 랜선으로 한다.\n",
    "# 단순히 for 구문을 어떻게 돌리느냐의 차이로 인해 범위를 설정하는 것 같은데 아직 감이 잡히지 않는다."
   ]
  }
 ],
 "metadata": {
  "kernelspec": {
   "display_name": "Python 3.9.7 ('base')",
   "language": "python",
   "name": "python3"
  },
  "language_info": {
   "name": "python",
   "version": "3.9.7"
  },
  "orig_nbformat": 4,
  "vscode": {
   "interpreter": {
    "hash": "d5801b79edcda5763ccfe48c18a4ee1d2165db6bc296bae4c89c41a89d640e66"
   }
  }
 },
 "nbformat": 4,
 "nbformat_minor": 2
}
