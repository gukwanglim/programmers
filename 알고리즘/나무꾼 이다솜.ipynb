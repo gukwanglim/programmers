{
 "cells": [
  {
   "cell_type": "markdown",
   "metadata": {},
   "source": [
    "https://www.acmicpc.net/problem/1421\n",
    "\n",
    "![그래프](./image/185.png)"
   ]
  },
  {
   "cell_type": "code",
   "execution_count": null,
   "metadata": {
    "vscode": {
     "languageId": "plaintext"
    }
   },
   "outputs": [],
   "source": [
    "import sys\n",
    "input = sys.stdin.readline\n",
    "\n",
    "[N, C, W] = map(int, input().split())\n",
    "trees = [int(input()) for _ in range(N)]\n",
    "\n",
    "answer = 0\n",
    "for standard in range(1, max(trees) + 1):\n",
    "    money = 0\n",
    "    for tree in trees:\n",
    "        count, remain = divmod(tree, standard)\n",
    "        if count == 0:\n",
    "            continue\n",
    "        money += max(W * standard * count - (C * (count - 1) if remain == 0 else C * count), 0)\n",
    "    answer = max(money, answer)\n",
    "print(answer)"
   ]
  }
 ],
 "metadata": {
  "language_info": {
   "name": "python"
  },
  "orig_nbformat": 4
 },
 "nbformat": 4,
 "nbformat_minor": 2
}
