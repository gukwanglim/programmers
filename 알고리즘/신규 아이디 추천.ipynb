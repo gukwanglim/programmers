{
 "cells": [
  {
   "attachments": {},
   "cell_type": "markdown",
   "metadata": {},
   "source": [
    "https://school.programmers.co.kr/learn/courses/30/lessons/72410\n",
    "\n",
    "![그래프](./image/17.png)"
   ]
  },
  {
   "cell_type": "code",
   "execution_count": null,
   "metadata": {},
   "outputs": [],
   "source": [
    "def solution(new_id):\n",
    "    new_id_list = list(new_id)\n",
    "    id_2 = \"\"\n",
    "    for i in range(len(new_id_list)):\n",
    "        if new_id_list[i].isalpha():\n",
    "            new_id_list[i] = new_id_list[i].lower()\n",
    "    for i in range(len(new_id_list)):\n",
    "        if new_id_list[i].isalpha() or new_id_list[i].isdigit() or new_id_list[i] == '-' or new_id_list[i] == '_' or new_id_list[i] == \".\" :\n",
    "            id_2 += new_id_list[i]\n",
    "        else:\n",
    "            pass\n",
    "    id_2_list = list(id_2)\n",
    "    id_3 = []\n",
    "    for i in range(len(id_2_list)):\n",
    "        if i == 0:\n",
    "            id_3.append(id_2_list[i])\n",
    "        else:\n",
    "            if id_2_list[i] == \".\":\n",
    "                if id_3[-1] == \".\":\n",
    "                    pass\n",
    "                else:\n",
    "                    id_3.append(id_2_list[i])\n",
    "            else:\n",
    "                id_3.append(id_2_list[i])\n",
    "    while len(id_3)>0 and id_3[0]=='.':\n",
    "        id_3.pop(0)\n",
    "    if len(id_3) == 0:\n",
    "        id_3 = [\"a\"]\n",
    "    while id_3[-1]==\".\":\n",
    "        id_3.pop(-1)\n",
    "    id_4 = id_3\n",
    "    if id_4 == []:\n",
    "        id_4 = ['a']\n",
    "    id_5 = id_4\n",
    "    if len(id_5) > 15 :\n",
    "        id_5 =id_5[:15]\n",
    "        while id_5[-1] == \".\":\n",
    "            id_5.pop(-1)\n",
    "    id_6 = id_5\n",
    "    while len(id_6) <= 2:\n",
    "        id_6.append(id_6[-1])\n",
    "    id_7 = id_6\n",
    "    answer = \"\"\n",
    "    for i in id_7:\n",
    "        answer += i\n",
    "\n",
    "    return answer"
   ]
  }
 ],
 "metadata": {
  "kernelspec": {
   "display_name": "pydata",
   "language": "python",
   "name": "python3"
  },
  "language_info": {
   "name": "python",
   "version": "3.9.11 (main, Mar 28 2022, 04:40:48) [MSC v.1916 64 bit (AMD64)]"
  },
  "orig_nbformat": 4,
  "vscode": {
   "interpreter": {
    "hash": "286b3223e4baa2339d35639af96ec91063d7905066fed95d13bac9e189bc76bf"
   }
  }
 },
 "nbformat": 4,
 "nbformat_minor": 2
}
