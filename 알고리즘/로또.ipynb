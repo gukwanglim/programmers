{
 "cells": [
  {
   "cell_type": "markdown",
   "metadata": {},
   "source": [
    "https://www.acmicpc.net/problem/6603\n",
    "\n",
    "![그래프](./image/167.png)"
   ]
  },
  {
   "cell_type": "code",
   "execution_count": null,
   "metadata": {
    "vscode": {
     "languageId": "plaintext"
    }
   },
   "outputs": [],
   "source": [
    "import sys\n",
    "input = sys.stdin.readline\n",
    "\n",
    "def dfs(depth, idx):\n",
    "    if depth == 6:\n",
    "        print(*out)\n",
    "        return\n",
    "    \n",
    "    for i in range(idx, count):\n",
    "        out.append(numbers[i])\n",
    "        dfs(depth+1, i+1)\n",
    "        out.pop()\n",
    "\n",
    "while True:\n",
    "    array = list(map(int, input().split()))\n",
    "    \n",
    "    count = array[0]\n",
    "    numbers = array[1:]\n",
    "    \n",
    "    out = []\n",
    "    dfs(0, 0)\n",
    "    \n",
    "    if count == 0:\n",
    "        break\n",
    "        \n",
    "    print()"
   ]
  }
 ],
 "metadata": {
  "language_info": {
   "name": "python"
  },
  "orig_nbformat": 4
 },
 "nbformat": 4,
 "nbformat_minor": 2
}
