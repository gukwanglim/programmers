{
 "cells": [
  {
   "attachments": {},
   "cell_type": "markdown",
   "metadata": {},
   "source": [
    "https://school.programmers.co.kr/learn/courses/30/lessons/132265\n",
    "\n",
    "![그래프](./image/67.png)"
   ]
  },
  {
   "cell_type": "code",
   "execution_count": null,
   "metadata": {
    "vscode": {
     "languageId": "plaintext"
    }
   },
   "outputs": [],
   "source": [
    "from collections import Counter\n",
    "\n",
    "def solution(topping):\n",
    "    answer = 0\n",
    "    \n",
    "    A = set()\n",
    "    B = Counter(topping)\n",
    "    for i in topping:\n",
    "        A.add(i)\n",
    "        B[i] -= 1\n",
    "        \n",
    "        if B[i] == 0:\n",
    "            B.pop(i)\n",
    "        if len(A) == len(B):\n",
    "            answer += 1\n",
    "    \n",
    "    return answer"
   ]
  },
  {
   "attachments": {},
   "cell_type": "markdown",
   "metadata": {},
   "source": [
    "Counter는 들어오게 되는 리스트를 딕셔너리의 형태로 변환시켜준다.\n",
    "예를 들어 [a, a, b, b, b, c]와 같은 리스트를 Counter에 넣게 되면 {a:2, b:3, c:1}과 같이 딕셔너리 형태로 변환된다.\n",
    "또한, 이 안의 내용의 없애기 위해서는 remove가 아닌 pop을 사용해야 한다.(딕셔너리에서는 rmove 대신에 pop을 사용하기 때문에)"
   ]
  }
 ],
 "metadata": {
  "language_info": {
   "name": "python"
  },
  "orig_nbformat": 4
 },
 "nbformat": 4,
 "nbformat_minor": 2
}
