{
 "cells": [
  {
   "cell_type": "markdown",
   "metadata": {},
   "source": [
    "https://www.acmicpc.net/problem/1303\n",
    "\n",
    "![그래프](./image/195.png)"
   ]
  },
  {
   "cell_type": "code",
   "execution_count": null,
   "metadata": {
    "vscode": {
     "languageId": "plaintext"
    }
   },
   "outputs": [],
   "source": [
    "import sys\n",
    "input = sys.stdin.readline\n",
    "\n",
    "INF = 10000\n",
    "[N, M] = map(int, input().split())\n",
    "adj = [[0 if v == u else INF for v in range(N)] for u in range(N)]\n",
    "for _ in range(M):\n",
    "    [A, B] = map(int, input().split())\n",
    "    adj[A - 1][B - 1] = 1\n",
    "    adj[B - 1][A - 1] = 1\n",
    "\n",
    "for m in range(N):\n",
    "    for s in range(N):\n",
    "        for e in range(N):\n",
    "            adj[s][e] = min(adj[s][e], adj[s][m] + adj[m][e])\n",
    "\n",
    "answer = 0\n",
    "minimum = INF\n",
    "for v in range(N):\n",
    "    if minimum > sum(adj[v]):\n",
    "        answer = v + 1\n",
    "        minimum = sum(adj[v])\n",
    "print(answer)"
   ]
  }
 ],
 "metadata": {
  "language_info": {
   "name": "python"
  },
  "orig_nbformat": 4
 },
 "nbformat": 4,
 "nbformat_minor": 2
}
