{
 "cells": [
  {
   "attachments": {},
   "cell_type": "markdown",
   "metadata": {},
   "source": [
    "https://www.acmicpc.net/problem/1495\n",
    "\n",
    "![그래프](./image/144.png)"
   ]
  },
  {
   "cell_type": "code",
   "execution_count": null,
   "metadata": {
    "vscode": {
     "languageId": "plaintext"
    }
   },
   "outputs": [],
   "source": [
    "[N, S, M] = list(map(int, input().split()))\n",
    "difference = [0] + list(map(int, input().split()))\n",
    "\n",
    "dp = [[False for c in range(M+1)] for r in range(N+1)]\n",
    "dp[0][S] = True\n",
    "\n",
    "for index in range(1, N+1):\n",
    "    for volume in range(M+1):\n",
    "        if dp[index-1][volume]:\n",
    "            if volume + difference[index] <= M:\n",
    "                dp[index][volume + difference[index]] = True\n",
    "            if volume - difference[index] >= 0:\n",
    "                dp[index][volume - difference[index]] = True\n",
    "\n",
    "answer = -1\n",
    "for volume in range(M+1):\n",
    "    if dp[N][volume]:\n",
    "        answer = volume\n",
    "print(answer)"
   ]
  }
 ],
 "metadata": {
  "language_info": {
   "name": "python"
  },
  "orig_nbformat": 4
 },
 "nbformat": 4,
 "nbformat_minor": 2
}
