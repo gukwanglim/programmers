{
 "cells": [
  {
   "attachments": {},
   "cell_type": "markdown",
   "metadata": {},
   "source": [
    "https://school.programmers.co.kr/learn/courses/30/lessons/181188\n",
    "\n",
    "![그래프](./image/101.png)"
   ]
  },
  {
   "cell_type": "code",
   "execution_count": null,
   "metadata": {
    "vscode": {
     "languageId": "plaintext"
    }
   },
   "outputs": [],
   "source": [
    "def contraction(target1, target2):\n",
    "    if target1[1] > target2[0]:\n",
    "        return [max(target1[0], target2[0]), min(target1[1], target2[1])]\n",
    "    return []\n",
    "\n",
    "def solution(targets):\n",
    "    answer = 1\n",
    "    targets.sort(key = lambda x : x[0])\n",
    "    check = [-1, 1_000_000_001]\n",
    "    \n",
    "    for target in targets:\n",
    "        check = contraction(check, target)\n",
    "\n",
    "        if not check:\n",
    "            check = target\n",
    "            answer += 1\n",
    "    \n",
    "    return answer"
   ]
  }
 ],
 "metadata": {
  "language_info": {
   "name": "python"
  },
  "orig_nbformat": 4
 },
 "nbformat": 4,
 "nbformat_minor": 2
}
