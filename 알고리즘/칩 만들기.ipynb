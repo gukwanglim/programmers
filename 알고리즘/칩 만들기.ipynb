{
 "cells": [
  {
   "attachments": {},
   "cell_type": "markdown",
   "metadata": {},
   "source": [
    "https://www.acmicpc.net/problem/2236\n",
    "\n",
    "![그래프](./image/40.png)"
   ]
  },
  {
   "cell_type": "code",
   "execution_count": null,
   "metadata": {},
   "outputs": [],
   "source": [
    "import sys\n",
    "input = sys.stdin.readline\n",
    "\n",
    "[INDEX, VALUE] = [0, 1]\n",
    "\n",
    "[N, K] = map(int, input().split())\n",
    "info = list(map(int, input().split()))\n",
    "\n",
    "answer = [0 for n in range(N)]\n",
    "\n",
    "order = sorted(enumerate(info), key=lambda item: -item[VALUE])\n",
    "for index in range(K):\n",
    "    if index < N:\n",
    "        answer[order[index][INDEX]] = order[index][INDEX] + 1\n",
    "        print(order[index][INDEX] + 1)\n",
    "    else:\n",
    "        print(0)\n",
    "\n",
    "for index in answer:\n",
    "    print(index)"
   ]
  }
 ],
 "metadata": {
  "kernelspec": {
   "display_name": "pydata",
   "language": "python",
   "name": "python3"
  },
  "language_info": {
   "name": "python",
   "version": "3.9.11"
  },
  "orig_nbformat": 4,
  "vscode": {
   "interpreter": {
    "hash": "286b3223e4baa2339d35639af96ec91063d7905066fed95d13bac9e189bc76bf"
   }
  }
 },
 "nbformat": 4,
 "nbformat_minor": 2
}
