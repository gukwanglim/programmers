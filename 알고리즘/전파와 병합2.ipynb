{
 "cells": [
  {
   "attachments": {},
   "cell_type": "markdown",
   "metadata": {},
   "source": [
    "https://www.acmicpc.net/problem/23302\n",
    "\n",
    "![그래프](./image/5.png)"
   ]
  },
  {
   "cell_type": "code",
   "execution_count": null,
   "metadata": {},
   "outputs": [],
   "source": [
    "ALPHABET = ['', 'A', 'B', 'C', 'D', 'E', 'F', 'G', 'H', 'I', 'J', 'K', 'L', 'M', 'N', 'O', 'P', 'Q', 'R', 'S', 'T', 'U', 'V', 'W', 'X', 'Y', 'Z']\n",
    "\n",
    "def location(r, c):\n",
    "    return ALPHABET[(c) // 26] + ALPHABET[(c) % 26 + 1] + str(r+1)\n",
    "\n",
    "[R, C] = list(map(int, input().split()))\n",
    "sheet = [input().split(\" \") for _ in range(R)]\n",
    "\n",
    "info = {}\n",
    "for r in range(R):  \n",
    "    for c in range(C):\n",
    "        if sheet[r][c] == '.':\n",
    "            info[location(r, c)] = []\n",
    "        else:\n",
    "            info[location(r, c)] = sheet[r][c].split(\"+\")\n",
    "\n",
    "global cycle\n",
    "cycle = 'no'\n",
    "\n",
    "stack = list(info.keys())\n",
    "\n",
    "visited = {cell:False for cell in info.keys()}\n",
    "finished = {cell:False for cell in info.keys()}\n",
    "\n",
    "def dfs(curr):\n",
    "    global cycle\n",
    "    if cycle == 'yes':\n",
    "        return\n",
    "\n",
    "    visited[curr] = True\n",
    "\n",
    "    for next in info[curr]:\n",
    "        if not visited[next]:\n",
    "            dfs(next)\n",
    "        elif not finished[next]:\n",
    "            cycle = 'yes'\n",
    "\n",
    "    finished[curr] = True\n",
    "\n",
    "for cell in info.keys():\n",
    "    dfs(cell)\n",
    "\n",
    "print(cycle)"
   ]
  }
 ],
 "metadata": {
  "kernelspec": {
   "display_name": "pydata",
   "language": "python",
   "name": "python3"
  },
  "language_info": {
   "name": "python",
   "version": "3.9.11 (main, Mar 28 2022, 04:40:48) [MSC v.1916 64 bit (AMD64)]"
  },
  "orig_nbformat": 4,
  "vscode": {
   "interpreter": {
    "hash": "286b3223e4baa2339d35639af96ec91063d7905066fed95d13bac9e189bc76bf"
   }
  }
 },
 "nbformat": 4,
 "nbformat_minor": 2
}
