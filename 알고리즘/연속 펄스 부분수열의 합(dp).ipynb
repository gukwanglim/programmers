{
 "cells": [
  {
   "attachments": {},
   "cell_type": "markdown",
   "metadata": {},
   "source": [
    "https://school.programmers.co.kr/learn/courses/30/lessons/161988\n",
    "\n",
    "![그래프](./image/79.png)"
   ]
  },
  {
   "cell_type": "code",
   "execution_count": null,
   "metadata": {
    "vscode": {
     "languageId": "plaintext"
    }
   },
   "outputs": [],
   "source": [
    "# 부분수열을 사용하여 값을 변경하고 모든 리스트의 합 중 최대를 고르는 것이 아니라 변경한 부분수열의 합을 구하는 문제\n",
    "\n",
    "def solution(sequence):\n",
    "    answer = 0\n",
    "    n = len(sequence)\n",
    "    \n",
    "    dp1 = [sequence[i] * (-1) ** i for i in range(n)]               # 1로 시작하는 펄수, -1로 시작하는 펄스를 곱하여 dp와 seq를 만든다\n",
    "    dp2 = [sequence[i] * (-1) ** (i + 1) for i in range(n)]         # 여기서 dp와 seq를 따로 만드는 이유는 dp의 경우에는 앞의 수와 합을 작성하는 것이고 seq의 경우에는 기본 내용을 남겨놓고 불러오는 것이다\n",
    "    seq1 = [sequence[i] * (-1) ** i for i in range(n)]\n",
    "    seq2 = [sequence[i] * (-1) ** (i + 1) for i in range(n)]\n",
    "    \n",
    "    for i in range(n):\n",
    "        if i >= 1:\n",
    "            dp1[i] = max(dp1[i - 1] + seq1[i], seq1[i])\n",
    "            dp2[i] = max(dp2[i - 1] + seq2[i], seq2[i])\n",
    "    \n",
    "    return answer"
   ]
  }
 ],
 "metadata": {
  "language_info": {
   "name": "python"
  },
  "orig_nbformat": 4
 },
 "nbformat": 4,
 "nbformat_minor": 2
}
