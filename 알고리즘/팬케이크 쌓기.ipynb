{
 "cells": [
  {
   "cell_type": "markdown",
   "metadata": {},
   "source": [
    "https://www.acmicpc.net/problem/12744\n",
    "\n",
    "![그래프](./image/164.png)"
   ]
  },
  {
   "cell_type": "code",
   "execution_count": null,
   "metadata": {
    "vscode": {
     "languageId": "plaintext"
    }
   },
   "outputs": [],
   "source": [
    "DIRE = {'+': 1, '-': -1}\n",
    "N = int(input())\n",
    "info = [0]\n",
    "for _ in range(N):\n",
    "    [num, dire] = input().split()\n",
    "    info.append(int(num) * DIRE[dire])\n",
    "\n",
    "def reverse(array, s, e):\n",
    "    for i in range(math.ceil((e - s) / 2)):\n",
    "        array[s + i], array[e - i] = array[e - i], array[s + i]\n",
    "    for i in range(s, e + 1):\n",
    "        array[i] *= -1\n",
    "    return array\n",
    "\n",
    "def bfs():\n",
    "    queue = deque([[info.copy(), 0]])\n",
    "    visited = set()\n",
    "\n",
    "    while queue:\n",
    "        [cake, count] = queue.popleft()\n",
    "\n",
    "        isSuccess = True\n",
    "        for index in range(N + 1):\n",
    "            if index != cake[index]:\n",
    "                isSuccess = False\n",
    "                break\n",
    "        if isSuccess:\n",
    "            return count\n",
    "\n",
    "        for index in range(1, N + 1):\n",
    "            cake = reverse(cake, 1, index)\n",
    "            \n",
    "            if not ''.join(map(str, cake)) in visited:\n",
    "                queue.append([cake.copy(), count + 1])\n",
    "                visited.add(''.join(map(str, cake)))\n",
    "\n",
    "            cake = reverse(cake, 1, index)\n",
    "    return -1\n",
    "\n",
    "print(bfs())"
   ]
  }
 ],
 "metadata": {
  "language_info": {
   "name": "python"
  },
  "orig_nbformat": 4
 },
 "nbformat": 4,
 "nbformat_minor": 2
}
