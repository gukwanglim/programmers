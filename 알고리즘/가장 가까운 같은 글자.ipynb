{
 "cells": [
  {
   "attachments": {},
   "cell_type": "markdown",
   "metadata": {},
   "source": [
    "https://school.programmers.co.kr/learn/courses/30/lessons/142086\n",
    "\n",
    "![그래프](./image/69.png)"
   ]
  },
  {
   "cell_type": "code",
   "execution_count": null,
   "metadata": {
    "vscode": {
     "languageId": "plaintext"
    }
   },
   "outputs": [],
   "source": [
    "# find를 이용한 풀이\n",
    "\n",
    "from collections import deque\n",
    "\n",
    "def solution(s):\n",
    "    answer = []\n",
    "    \n",
    "    queue = deque()\n",
    "    for i in s:\n",
    "        if i in queue:\n",
    "            answer.append(S.find(i) + 1)\n",
    "        else:\n",
    "            answer.append(-1)\n",
    "        \n",
    "        S = ''\n",
    "        queue.appendleft(i)\n",
    "        for j in queue:\n",
    "            S += j\n",
    "    \n",
    "    return answer"
   ]
  },
  {
   "cell_type": "code",
   "execution_count": null,
   "metadata": {
    "vscode": {
     "languageId": "plaintext"
    }
   },
   "outputs": [],
   "source": [
    "# index를 이용한 풀이\n",
    "\n",
    "def solution(s):\n",
    "    answer = []\n",
    "    dic = dict()\n",
    "    for i in range(len(s)):\n",
    "        if s[i] not in dic:\n",
    "            answer.append(-1)\n",
    "        else:\n",
    "            answer.append(i - dic[s[i]])\n",
    "        dic[s[i]] = i\n",
    "\n",
    "    return answer"
   ]
  }
 ],
 "metadata": {
  "language_info": {
   "name": "python"
  },
  "orig_nbformat": 4
 },
 "nbformat": 4,
 "nbformat_minor": 2
}
