{
 "cells": [
  {
   "cell_type": "markdown",
   "metadata": {},
   "source": [
    "https://www.acmicpc.net/problem/12852\n",
    "\n",
    "![그래프](./image/204.png)"
   ]
  },
  {
   "cell_type": "code",
   "execution_count": null,
   "metadata": {
    "vscode": {
     "languageId": "plaintext"
    }
   },
   "outputs": [],
   "source": [
    "import sys\n",
    "\n",
    "n = int(sys.stdin.readline())\n",
    "dp = [[0, []] for _ in range(n+1)]\n",
    "\n",
    "dp[1][0] = 0\n",
    "dp[1][1] = [1]\n",
    "\n",
    "for x in range(2, n+1):\n",
    "    dp[x][0] = dp[x-1][0] + 1\n",
    "    dp[x][1] = dp[x-1][1] + [x]\n",
    "\n",
    "    if (x % 2 == 0):\n",
    "        if (dp[x][0] > dp[x//2][0] + 1):\n",
    "            dp[x][0] = dp[x//2][0] + 1\n",
    "            dp[x][1] = dp[x//2][1] + [x]\n",
    "\n",
    "    if (x % 3 == 0):\n",
    "        if (dp[x][0] > dp[x//3][0] + 1):\n",
    "            dp[x][0] = dp[x//3][0] + 1\n",
    "            dp[x][1] = dp[x//3][1] + [x]\n",
    "\n",
    "print(dp[n][0])\n",
    "\n",
    "for i in dp[n][1][::-1]:\n",
    "    print(i, end=\" \")"
   ]
  }
 ],
 "metadata": {
  "language_info": {
   "name": "python"
  },
  "orig_nbformat": 4
 },
 "nbformat": 4,
 "nbformat_minor": 2
}
