{
 "cells": [
  {
   "cell_type": "markdown",
   "metadata": {},
   "source": [
    "https://www.acmicpc.net/problem/1423\n",
    "\n",
    "![그래프](./image/178.png)"
   ]
  },
  {
   "cell_type": "code",
   "execution_count": null,
   "metadata": {
    "vscode": {
     "languageId": "plaintext"
    }
   },
   "outputs": [],
   "source": [
    "import sys\n",
    "input = sys.stdin.readline\n",
    "\n",
    "N = int(input())\n",
    "characters = list(map(int, input().split()))\n",
    "powers = list(map(int, input().split()))\n",
    "D = int(input())\n",
    "\n",
    "#N = 5\n",
    "#characters = [1, 2, 3, 4, 5]\n",
    "#powers = [1, 4, 9, 16, 25]\n",
    "#D = 10\n",
    "\n",
    "dp = [[[-1 for k in range(D + 1)] for level in range(N)] for day in range(D + 1)]\n",
    "\n",
    "def dfs(day, level, curr):\n",
    "    if level == N - 1:\n",
    "        return 0;\n",
    "\n",
    "    if dp[day][level][curr] > -1:\n",
    "        return dp[day][level][curr]\n",
    "\n",
    "    dp[day][level][curr] = 0\n",
    "    for next in range(characters[level] + curr + 1):\n",
    "        if day + next > D:\n",
    "            break;\n",
    "        dp[day][level][curr] = max(dp[day][level][curr], dfs(day + next, level + 1, next) + (powers[level + 1] - powers[level]) * next)\n",
    "    return dp[day][level][curr]\n",
    "\n",
    "print(sum(map(lambda level: characters[level] * powers[level], range(N))) + dfs(0, 0, 0))"
   ]
  }
 ],
 "metadata": {
  "language_info": {
   "name": "python"
  },
  "orig_nbformat": 4
 },
 "nbformat": 4,
 "nbformat_minor": 2
}
