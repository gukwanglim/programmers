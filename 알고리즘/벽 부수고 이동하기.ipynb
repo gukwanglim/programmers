{
 "cells": [
  {
   "cell_type": "markdown",
   "metadata": {},
   "source": [
    "https://www.acmicpc.net/problem/2206\n",
    "\n",
    "![그래프](./image/177.png)"
   ]
  },
  {
   "cell_type": "code",
   "execution_count": null,
   "metadata": {
    "vscode": {
     "languageId": "plaintext"
    }
   },
   "outputs": [],
   "source": [
    "from collections import deque\n",
    "import sys\n",
    "input = sys.stdin.readline\n",
    "\n",
    "n,m = map(int,input().split())\n",
    "mapp = [[],[]]\n",
    "for i in range(n):\n",
    "    _ = input().rstrip()\n",
    "    mapp[0].append(list(map(int,list(_))))\n",
    "    mapp[1].append(list(map(int,list(_))))\n",
    "    \n",
    "dx = [0,1,0,-1]\n",
    "dy = [1,0,-1,0]\n",
    "deq,r = deque(),[]\n",
    "\n",
    "deq.append((0,0,1))\n",
    "\n",
    "mapp[1][0][0] = 2\n",
    "mapp[0][0][0] = 2\n",
    "\n",
    "while(deq):\n",
    "    if mapp[0][n-1][m-1] > 0:\n",
    "        break\n",
    "    \n",
    "    x,y,smashed = deq.popleft()\n",
    "    for i in range(4):\n",
    "        a,b = x+dx[i], y+dy[i]\n",
    "        if n > a >= 0 and m > b >= 0:\n",
    "            if mapp[smashed][a][b] == 0:\n",
    "                mapp[smashed][a][b] = mapp[smashed][x][y]+1\n",
    "                if smashed == 1:\n",
    "                    mapp[0][a][b] = min(mapp[0][x][y],mapp[1][x][y])+1\n",
    "                deq.append((a,b,smashed))\n",
    "            \n",
    "            if smashed == 1 and mapp[1][a][b] == 1:\n",
    "                mapp[0][a][b] = mapp[1][x][y]+1\n",
    "                deq.append((a,b,0))\n",
    "\n",
    "print(mapp[0][n-1][m-1]-1 if mapp[0][n-1][m-1] > 0 else -1)"
   ]
  }
 ],
 "metadata": {
  "language_info": {
   "name": "python"
  },
  "orig_nbformat": 4
 },
 "nbformat": 4,
 "nbformat_minor": 2
}
