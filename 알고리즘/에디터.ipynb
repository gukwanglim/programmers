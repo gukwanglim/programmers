{
 "cells": [
  {
   "attachments": {},
   "cell_type": "markdown",
   "metadata": {},
   "source": [
    "https://www.acmicpc.net/problem/1406\n",
    "\n",
    "![그래프](./image/138.png)"
   ]
  },
  {
   "cell_type": "code",
   "execution_count": null,
   "metadata": {
    "vscode": {
     "languageId": "plaintext"
    }
   },
   "outputs": [],
   "source": [
    "import sys\n",
    "\n",
    "str_1 = list(sys.stdin.readline().rstrip())\n",
    "str_2 = []\n",
    "\n",
    "for i in range(int(sys.stdin.readline())):\n",
    "    com = list(sys.stdin.readline().split())\n",
    "    \n",
    "    if com[0] == 'L':\n",
    "        if str_1:\n",
    "            str_2.append(str_1.pop())\n",
    "            \n",
    "    elif com[0] == 'D':\n",
    "        if str_2:\n",
    "            str_1.append(str_2.pop())\n",
    "            \n",
    "    elif com[0] == 'B':\n",
    "        if str_1:\n",
    "            str_1.pop()\n",
    "            \n",
    "    elif com[0] == 'P':\n",
    "        str_1.append(com[1])\n",
    "        \n",
    "str_1.extend(reversed(str_2))\n",
    "print(''.join(str_1))"
   ]
  }
 ],
 "metadata": {
  "language_info": {
   "name": "python"
  },
  "orig_nbformat": 4
 },
 "nbformat": 4,
 "nbformat_minor": 2
}
