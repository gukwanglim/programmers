{
 "cells": [
  {
   "attachments": {},
   "cell_type": "markdown",
   "metadata": {},
   "source": [
    "https://www.acmicpc.net/problem/2232\n",
    "\n",
    "![그래프](./image/1.png)"
   ]
  },
  {
   "attachments": {},
   "cell_type": "markdown",
   "metadata": {},
   "source": [
    "제한 시간이 2초이며 N의 범위가 50,000까지인 문제이다.\n",
    "즉, for 구문을 돌려가면 하나하나 확인한다면 시간초과가 발생하게 된다.\n",
    "때문에 시간을 줄일 수 있는 방법을 모색해야 한다.\n",
    "\n",
    "일단, 문제를 푸는 순서를 생각해보면 리스트에서 제일 큰 숫자의 지뢰를 터트리는 것을 우선시 해야한다고 판단된다.\n",
    "때문에 제일 큰 숫자를 찾고, 그것의 좌우에 존재하하는 지뢰에 현재의 지뢰에 해당하는 데미지를 주고, 음수로 변경한다.\n",
    "만약, 옆에 존재하는 지뢰의 숫자가 음수인 경우에는 폭발을 멈추는 것으로 해야한다.\n",
    "\n",
    "따라서 이 문제를 스택으로 풀면 되지 않을까 생각했다."
   ]
  },
  {
   "cell_type": "code",
   "execution_count": null,
   "metadata": {},
   "outputs": [],
   "source": [
    "# 먼저, 스택을 이용하는 방식이다.\n",
    "# 큐를 이용하여 푸는 것이 더 편할 것이라고 생각하지만, 아직 처음부터 코드를 작성하기에는 살짝 아쉬운감이 있다.\n",
    "\n",
    "import sys\n",
    "input = sys.stdin.readline\n",
    "\n",
    "N = int(input())\n",
    "info = [int(input()) for n in range(N)]\n",
    "\n",
    "# N = 9\n",
    "# info = [1, 2, 5, 4, 3, 3, 6, 6, 2] # 3, 7, 8\n",
    "\n",
    "stack = sorted(enumerate(info), key=lambda x: x[1])\n",
    "isBoom = [False] * N\n",
    "\n",
    "answer = []\n",
    "while len(stack) > 0:\n",
    "    (index, power) = stack.pop()\n",
    "    if isBoom[index]:\n",
    "        continue\n",
    "\n",
    "    isBoom[index] = True\n",
    "    answer.append(index + 1)\n",
    "\n",
    "    left = index - 1\n",
    "    while left >= 0 and info[left + 1] > info[left] and not isBoom[left]:\n",
    "        isBoom[left] = True\n",
    "        left -= 1\n",
    "\n",
    "    right = index + 1\n",
    "    while right < N and info[right - 1] > info[right] and not isBoom[right]:\n",
    "        isBoom[right] = True\n",
    "        right += 1\n",
    "\n",
    "print(*sorted(answer), sep=\"\\n\")"
   ]
  }
 ],
 "metadata": {
  "kernelspec": {
   "display_name": "pydata",
   "language": "python",
   "name": "python3"
  },
  "language_info": {
   "name": "python",
   "version": "3.9.11 (main, Mar 28 2022, 04:40:48) [MSC v.1916 64 bit (AMD64)]"
  },
  "orig_nbformat": 4,
  "vscode": {
   "interpreter": {
    "hash": "286b3223e4baa2339d35639af96ec91063d7905066fed95d13bac9e189bc76bf"
   }
  }
 },
 "nbformat": 4,
 "nbformat_minor": 2
}
