{
 "cells": [
  {
   "attachments": {},
   "cell_type": "markdown",
   "metadata": {},
   "source": [
    "https://school.programmers.co.kr/learn/courses/30/lessons/17677\n",
    "\n",
    "![그래프](./image/16.png)\n",
    "![그래프](./image/16-2.png)"
   ]
  },
  {
   "cell_type": "code",
   "execution_count": null,
   "metadata": {},
   "outputs": [],
   "source": [
    "import math\n",
    "\n",
    "def solution(str1, str2):\n",
    "    a, b, c = [], [], 0,\n",
    "    \n",
    "    for i in range(len(str1)-1):\n",
    "        if str1[i:i+2].isalpha():\n",
    "            a.append(str1[i:i+2].lower())\n",
    "    for i in range(len(str2)-1):\n",
    "        if str2[i:i+2].isalpha():\n",
    "            b.append(str2[i:i+2].lower())\n",
    "            \n",
    "    done_box = []\n",
    "    for i in a:\n",
    "        if i not in done_box:\n",
    "            cnt_box = []\n",
    "            cnt_box.append(a.count(i))\n",
    "            cnt_box.append(b.count(i))\n",
    "            c += min(cnt_box)\n",
    "            done_box.append(i)\n",
    "                \n",
    "    d = len(a) + len(b) - c\n",
    "    \n",
    "    if c == 0 and d == 0: return 65536\n",
    "    else: return math.trunc(c/d*65536)"
   ]
  }
 ],
 "metadata": {
  "kernelspec": {
   "display_name": "pydata",
   "language": "python",
   "name": "python3"
  },
  "language_info": {
   "name": "python",
   "version": "3.9.11 (main, Mar 28 2022, 04:40:48) [MSC v.1916 64 bit (AMD64)]"
  },
  "orig_nbformat": 4,
  "vscode": {
   "interpreter": {
    "hash": "286b3223e4baa2339d35639af96ec91063d7905066fed95d13bac9e189bc76bf"
   }
  }
 },
 "nbformat": 4,
 "nbformat_minor": 2
}
