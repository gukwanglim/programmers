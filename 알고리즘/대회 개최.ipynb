{
 "cells": [
  {
   "cell_type": "markdown",
   "metadata": {},
   "source": [
    "https://www.acmicpc.net/problem/12915\n",
    "\n",
    "![그래프](./image/160.png)"
   ]
  },
  {
   "cell_type": "code",
   "execution_count": null,
   "metadata": {
    "vscode": {
     "languageId": "plaintext"
    }
   },
   "outputs": [],
   "source": [
    "import sys\n",
    "input = sys.stdin.readline\n",
    "\n",
    "[E, EM, M, MH, H] = map(int, input().split())\n",
    "\n",
    "count = 0\n",
    "while True:\n",
    "    if E > 0:\n",
    "        E -= 1\n",
    "    else:\n",
    "        if EM > 0:\n",
    "            EM -= 1\n",
    "        else:\n",
    "            break\n",
    "    \n",
    "    if H > 0:\n",
    "        H -= 1\n",
    "    else:\n",
    "        if MH > 0:\n",
    "            MH -= 1\n",
    "        else:\n",
    "            break\n",
    "    \n",
    "    if M > 0:\n",
    "        M -= 1\n",
    "    else:\n",
    "        if EM > MH and EM > 0:\n",
    "            EM -= 1\n",
    "        elif MH > EM and MH > 0:\n",
    "            MH -= 1\n",
    "        elif EM == MH and EM > 0:\n",
    "            EM -= 1\n",
    "        else:\n",
    "            break\n",
    "    count += 1\n",
    "print(count)"
   ]
  }
 ],
 "metadata": {
  "language_info": {
   "name": "python"
  },
  "orig_nbformat": 4
 },
 "nbformat": 4,
 "nbformat_minor": 2
}
