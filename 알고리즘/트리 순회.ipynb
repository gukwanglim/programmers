{
 "cells": [
  {
   "cell_type": "markdown",
   "metadata": {},
   "source": [
    "https://www.acmicpc.net/problem/1991\n",
    "\n",
    "![그래프](./image/168.png)"
   ]
  },
  {
   "cell_type": "code",
   "execution_count": null,
   "metadata": {
    "vscode": {
     "languageId": "plaintext"
    }
   },
   "outputs": [],
   "source": [
    "import sys\n",
    "input = sys.stdin.readline\n",
    "\n",
    "n = int(input())\n",
    "tree = {}\n",
    "\n",
    "for i in range(n):\n",
    "    root, left, right = input().split()\n",
    "    tree[root] = [left, right]\n",
    "    \n",
    "def preorder(root):\n",
    "    if root != '.':\n",
    "        print(root, end = '')\n",
    "        preorder(tree[root][0])\n",
    "        preorder(tree[root][1])\n",
    "        \n",
    "def inorder(root):\n",
    "    if root != '.':\n",
    "        inorder(tree[root][0])\n",
    "        print(root, end='')\n",
    "        inorder(tree[root][1])\n",
    "        \n",
    "def postorder(root):\n",
    "    if root != '.':\n",
    "        postorder(tree[root][0])\n",
    "        postorder(tree[root][1])\n",
    "        print(root, end='')\n",
    "    \n",
    "preorder('A')\n",
    "print()\n",
    "inorder('A')\n",
    "print()\n",
    "postorder('A')"
   ]
  }
 ],
 "metadata": {
  "language_info": {
   "name": "python"
  },
  "orig_nbformat": 4
 },
 "nbformat": 4,
 "nbformat_minor": 2
}
