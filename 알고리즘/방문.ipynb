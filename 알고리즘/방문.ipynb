{
 "cells": [
  {
   "attachments": {},
   "cell_type": "markdown",
   "metadata": {},
   "source": [
    "https://www.acmicpc.net/problem/12968\n",
    "\n",
    "![그래프](./image/26.png)"
   ]
  },
  {
   "cell_type": "code",
   "execution_count": null,
   "metadata": {},
   "outputs": [],
   "source": [
    "# 한 붓 그리기 (다만, 앞, 뒤로 왔다갔다 한 다음 다시 이어그리기를 할 수 있음)\n",
    "\n",
    "import sys\n",
    "input = sys.stdin.readline\n",
    "\n",
    "[R, C, K] = list(map(int, input().split()))\n",
    "if K == 1:\n",
    "    print(1)\n",
    "else:\n",
    "    if (R * C) % 2 == 0:\n",
    "        print(1)\n",
    "    else:\n",
    "        print(0)"
   ]
  }
 ],
 "metadata": {
  "kernelspec": {
   "display_name": "pydata",
   "language": "python",
   "name": "python3"
  },
  "language_info": {
   "name": "python",
   "version": "3.9.11 (main, Mar 28 2022, 04:40:48) [MSC v.1916 64 bit (AMD64)]"
  },
  "orig_nbformat": 4,
  "vscode": {
   "interpreter": {
    "hash": "286b3223e4baa2339d35639af96ec91063d7905066fed95d13bac9e189bc76bf"
   }
  }
 },
 "nbformat": 4,
 "nbformat_minor": 2
}
