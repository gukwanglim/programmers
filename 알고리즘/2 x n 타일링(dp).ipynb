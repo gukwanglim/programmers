{
 "cells": [
  {
   "attachments": {},
   "cell_type": "markdown",
   "metadata": {},
   "source": [
    "https://school.programmers.co.kr/learn/courses/30/lessons/12900\n",
    "\n",
    "![그래프](./image/112.png)"
   ]
  },
  {
   "cell_type": "code",
   "execution_count": null,
   "metadata": {
    "vscode": {
     "languageId": "plaintext"
    }
   },
   "outputs": [],
   "source": [
    "def solution(n):\n",
    "\n",
    "    dp = [0 for _ in range(n)]\n",
    "    dp[0], dp[1] = 1, 2\n",
    "    \n",
    "    if n < 3:\n",
    "        return dp[n-1]\n",
    "    else:\n",
    "        for i in range(2, n):\n",
    "            dp[i] = (dp[i-1] + dp[i-2]) % 1_000_000_007\n",
    "\n",
    "    return dp[-1]"
   ]
  }
 ],
 "metadata": {
  "language_info": {
   "name": "python"
  },
  "orig_nbformat": 4
 },
 "nbformat": 4,
 "nbformat_minor": 2
}
