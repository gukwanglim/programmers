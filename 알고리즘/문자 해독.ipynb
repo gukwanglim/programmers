{
 "cells": [
  {
   "attachments": {},
   "cell_type": "markdown",
   "metadata": {},
   "source": [
    "https://www.acmicpc.net/problem/1593\n",
    "\n",
    "![그래프](./image/140.png)"
   ]
  },
  {
   "cell_type": "code",
   "execution_count": null,
   "metadata": {
    "vscode": {
     "languageId": "plaintext"
    }
   },
   "outputs": [],
   "source": [
    "# 필요한 알파벳으로만 딕셔너리를 만들고 그것을 활용해서 문제를 풀기에는 시간이 너무 오래 걸림\n",
    "# 때문에 전체 알파벳으로 딕셔너리를 만들고 수를 증가시켰다가 감소시키는 방법이 훨씬 효율적\n",
    "\n",
    "import sys\n",
    "input = sys.stdin.readline\n",
    "\n",
    "g, s_ = map(int, input().split())\n",
    "w = list(input().strip())\n",
    "s = list(input().strip())\n",
    "\n",
    "word = [0 for _ in range(58)]\n",
    "window = [0 for _ in range(58)]\n",
    "\n",
    "for i in range(g):\n",
    "    word[ord(w[i]) - 65] += 1\n",
    "    \n",
    "count = 0\n",
    "for right in range(s_):\n",
    "    left = right + 1 - g\n",
    "    window[ord(s[right]) - 65] += 1\n",
    "    \n",
    "    if word == window:\n",
    "        count += 1\n",
    "    if left >= 0:\n",
    "        window[ord(s[left]) - 65] -= 1\n",
    "        \n",
    "print(count)"
   ]
  }
 ],
 "metadata": {
  "language_info": {
   "name": "python"
  },
  "orig_nbformat": 4
 },
 "nbformat": 4,
 "nbformat_minor": 2
}
