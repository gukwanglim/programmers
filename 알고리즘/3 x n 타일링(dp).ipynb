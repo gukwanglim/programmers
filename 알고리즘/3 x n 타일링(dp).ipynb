{
 "cells": [
  {
   "attachments": {},
   "cell_type": "markdown",
   "metadata": {},
   "source": [
    "https://school.programmers.co.kr/learn/courses/30/lessons/12902\n",
    "\n",
    "![그래프](./image/113.png)"
   ]
  },
  {
   "cell_type": "code",
   "execution_count": null,
   "metadata": {
    "vscode": {
     "languageId": "plaintext"
    }
   },
   "outputs": [],
   "source": [
    "def solution(n):\n",
    "    dp = [0 for _ in range(n+1)]\n",
    "    dp[0] = 1\n",
    "    \n",
    "    save = 0\n",
    "    \n",
    "    for i in range(2, n+1, 2):\n",
    "        dp[i] = (dp[i-2] * 3 + save * 2) % 1_000_000_007\n",
    "        save += dp[i-2]\n",
    "    \n",
    "    return dp[-1]"
   ]
  }
 ],
 "metadata": {
  "language_info": {
   "name": "python"
  },
  "orig_nbformat": 4
 },
 "nbformat": 4,
 "nbformat_minor": 2
}
