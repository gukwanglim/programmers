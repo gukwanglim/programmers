{
 "cells": [
  {
   "attachments": {},
   "cell_type": "markdown",
   "metadata": {},
   "source": [
    "https://www.acmicpc.net/problem/1781\n",
    "\n",
    "![그래프](./image/38.png)"
   ]
  },
  {
   "cell_type": "code",
   "execution_count": null,
   "metadata": {},
   "outputs": [],
   "source": [
    "import heapq\n",
    "import sys\n",
    "input = sys.stdin.readline\n",
    "\n",
    "N = int(input())\n",
    "info = sorted([list(map(int, input().split())) for _ in range(N)], key= lambda item: item[0])\n",
    "\n",
    "pq = []\n",
    "for [deadline, count] in info:\n",
    "    heapq.heappush(pq, count)\n",
    "    if len(pq) > deadline:\n",
    "        heapq.heappop(pq)\n",
    "print(sum(pq))"
   ]
  }
 ],
 "metadata": {
  "language_info": {
   "name": "python"
  },
  "orig_nbformat": 4
 },
 "nbformat": 4,
 "nbformat_minor": 2
}
