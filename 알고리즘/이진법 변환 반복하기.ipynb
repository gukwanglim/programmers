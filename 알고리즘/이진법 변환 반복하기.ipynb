{
 "cells": [
  {
   "attachments": {},
   "cell_type": "markdown",
   "metadata": {},
   "source": [
    "https://school.programmers.co.kr/learn/courses/30/lessons/70129\n",
    "\n",
    "![그래프](./image/36.png)"
   ]
  },
  {
   "cell_type": "code",
   "execution_count": null,
   "metadata": {},
   "outputs": [],
   "source": [
    "def solution(s):\n",
    "    answer = [0,0]\n",
    "    list_n = []\n",
    "    for i in s: #s를 리스트화\n",
    "        list_n.append(int(i))\n",
    "\n",
    "    while list_n != [1]:\n",
    "        answer[0] += 1\n",
    "        count = 0\n",
    "        while len(list_n)>count:\n",
    "            if list_n[count] == 0:\n",
    "                list_n.pop(count)\n",
    "                answer[1] += 1\n",
    "            else:\n",
    "                count += 1\n",
    "        if list_n != [1]:\n",
    "            n = len(list_n)\n",
    "            list_n= []\n",
    "            while n!= 0:    \n",
    "                list_n.append(n%2)\n",
    "                n = n//2\n",
    "                list_n = list_n[::-1]\n",
    "        else:\n",
    "            return answer"
   ]
  }
 ],
 "metadata": {
  "kernelspec": {
   "display_name": "pydata",
   "language": "python",
   "name": "python3"
  },
  "language_info": {
   "name": "python",
   "version": "3.9.11"
  },
  "orig_nbformat": 4,
  "vscode": {
   "interpreter": {
    "hash": "286b3223e4baa2339d35639af96ec91063d7905066fed95d13bac9e189bc76bf"
   }
  }
 },
 "nbformat": 4,
 "nbformat_minor": 2
}
