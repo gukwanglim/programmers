{
 "cells": [
  {
   "cell_type": "markdown",
   "metadata": {},
   "source": [
    "https://www.acmicpc.net/problem/6591\n",
    "\n",
    "![그래프](./image/161.png)"
   ]
  },
  {
   "cell_type": "code",
   "execution_count": null,
   "metadata": {
    "vscode": {
     "languageId": "plaintext"
    }
   },
   "outputs": [],
   "source": [
    "while True:\n",
    "    n, k = map(int, input().split())\n",
    "    \n",
    "    if n == 0 and k == 0:\n",
    "        break\n",
    "    if n - k < k:\n",
    "        k = n - k\n",
    "        \n",
    "    answer = 1\n",
    "    for i in range(1, k+1):\n",
    "        answer *= n\n",
    "        n -= 1\n",
    "        answer /= i\n",
    "        \n",
    "    print(int(answer))"
   ]
  }
 ],
 "metadata": {
  "language_info": {
   "name": "python"
  },
  "orig_nbformat": 4
 },
 "nbformat": 4,
 "nbformat_minor": 2
}
