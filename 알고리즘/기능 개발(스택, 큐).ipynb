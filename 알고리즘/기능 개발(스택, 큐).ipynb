{
 "cells": [
  {
   "attachments": {},
   "cell_type": "markdown",
   "metadata": {},
   "source": [
    "https://school.programmers.co.kr/learn/courses/30/lessons/42586\n",
    "\n",
    "![그래프](./image/116.png)\n",
    "![그래프](./image/116-2.png)"
   ]
  },
  {
   "cell_type": "code",
   "execution_count": null,
   "metadata": {
    "vscode": {
     "languageId": "plaintext"
    }
   },
   "outputs": [],
   "source": [
    "def solution(p, s):\n",
    "    answer = []\n",
    "    \n",
    "    for i in range(100):\n",
    "        count=0\n",
    "        if len(p) != 0 :\n",
    "            for j in range(len(p)):\n",
    "                p[j] += s[j]\n",
    "            while  p[0] >=100:\n",
    "                p.pop(0)\n",
    "                s.pop(0)\n",
    "                count +=1\n",
    "                if len(p) ==0:\n",
    "                    break\n",
    "            if count != 0:\n",
    "                answer.append(count)\n",
    "    return answer"
   ]
  }
 ],
 "metadata": {
  "language_info": {
   "name": "python"
  },
  "orig_nbformat": 4
 },
 "nbformat": 4,
 "nbformat_minor": 2
}
