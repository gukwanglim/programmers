{
 "cells": [
  {
   "attachments": {},
   "cell_type": "markdown",
   "metadata": {},
   "source": [
    "https://school.programmers.co.kr/learn/courses/30/lessons/42579#\n",
    "\n",
    "![그래프](./image/90.png)"
   ]
  },
  {
   "cell_type": "code",
   "execution_count": null,
   "metadata": {
    "vscode": {
     "languageId": "plaintext"
    }
   },
   "outputs": [],
   "source": [
    "def solution(genres, plays):\n",
    "    answer = []\n",
    "    \n",
    "    set_genres = set(genres)\n",
    "    dict_genres = {i:0 for i in set_genres}\n",
    "    d_list_genres = {i:[] for i in set_genres}\n",
    "    \n",
    "    check_list = [[] for _ in range(len(set_genres))]\n",
    "    \n",
    "    for genre in set_genres:\n",
    "        for i, j in enumerate(genres):\n",
    "            if genre == j:\n",
    "                dict_genres[j] += plays[i]                                          # dict_genres는 해당 장르의 전체 재생 횟수를 저장\n",
    "                d_list_genres[j].append(i)                                          # d_list_genres는 해당 장르의 인덱스를 저장\n",
    "                \n",
    "    sort_dict = sorted(dict_genres.items(), key = lambda x: x[1], reverse = True)\n",
    "    \n",
    "    for i, [g, p] in enumerate(sort_dict):\n",
    "        for j in list(d_list_genres[g]):\n",
    "            check_list[i].append([plays[j], j])                                     # check_list는 sort_dict의 순서대로 각각의 재생 횟수와 인덱스를 저장\n",
    "        check_list[i].sort(key = lambda x : [x[0], -x[1]])                          # XXX.sort(key = lambda x : [x[0], -x[1]])에서 -x[1]는 내림차순을 의미   \n",
    "\n",
    "    for i in check_list:\n",
    "        for _ in range(2):\n",
    "            if i:\n",
    "                [play, num] = i.pop()\n",
    "                answer.append(num)   \n",
    "    \n",
    "    return answer"
   ]
  }
 ],
 "metadata": {
  "language_info": {
   "name": "python"
  },
  "orig_nbformat": 4
 },
 "nbformat": 4,
 "nbformat_minor": 2
}
