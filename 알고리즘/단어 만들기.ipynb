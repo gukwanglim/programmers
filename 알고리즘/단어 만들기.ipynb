{
 "cells": [
  {
   "cell_type": "markdown",
   "metadata": {},
   "source": [
    "https://www.acmicpc.net/problem/1148\n",
    "\n",
    "![그래프](./image/206-1.png)\n",
    "![그래프](./image/206-2.png)"
   ]
  },
  {
   "cell_type": "code",
   "execution_count": null,
   "metadata": {
    "vscode": {
     "languageId": "plaintext"
    }
   },
   "outputs": [],
   "source": [
    "[MIN, MAX] = [0, 1]\n",
    "words = []\n",
    "while True:\n",
    "    s = input().strip()\n",
    "    if s == '-':\n",
    "        break\n",
    "    word = [0 for _ in range(26)]\n",
    "    for c in s:\n",
    "        word[ord(c) - 65] += 1\n",
    "    words.append(word)\n",
    "\n",
    "while True:\n",
    "    s = input().strip()\n",
    "    if s == '#':\n",
    "        break\n",
    "    board = [0 for _ in range(26)]\n",
    "    for c in s:\n",
    "        board[ord(c) - 65] += 1\n",
    "    \n",
    "    dp = [0 for _ in range(26)]\n",
    "    for word in words:\n",
    "        if all(map(lambda i: word[i] <= board[i], range(26))):\n",
    "            for i in range(26):\n",
    "                if word[i] > 0:\n",
    "                    dp[i] += 1\n",
    "    v_min = 200001\n",
    "    v_max = 0\n",
    "    for i in range(26):\n",
    "        if board[i] > 0:\n",
    "            v_min = min(v_min, dp[i])\n",
    "            v_max = max(v_max, dp[i])\n",
    "    answer = \"\"\n",
    "    for i in range(26):\n",
    "        if board[i] > 0 and dp[i] == v_min:\n",
    "            answer += chr(i + 65)\n",
    "    answer += \" \" + str(v_min) + \" \"\n",
    "    for i in range(26):\n",
    "        if board[i] > 0 and dp[i] == v_max:\n",
    "            answer += chr(i + 65)\n",
    "    answer += \" \" + str(v_max) + \" \"\n",
    "    print(answer)"
   ]
  }
 ],
 "metadata": {
  "language_info": {
   "name": "python"
  },
  "orig_nbformat": 4
 },
 "nbformat": 4,
 "nbformat_minor": 2
}
