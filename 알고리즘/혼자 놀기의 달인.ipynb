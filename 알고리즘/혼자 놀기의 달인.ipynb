{
 "cells": [
  {
   "attachments": {},
   "cell_type": "markdown",
   "metadata": {},
   "source": [
    "https://school.programmers.co.kr/learn/courses/30/lessons/131130\n",
    "\n",
    "![그래프](./image/87.png)\n",
    "![그래프](./image/87-2.png)"
   ]
  },
  {
   "cell_type": "code",
   "execution_count": null,
   "metadata": {
    "vscode": {
     "languageId": "plaintext"
    }
   },
   "outputs": [],
   "source": [
    "def solution(cards):\n",
    "    visited = [False] * len(cards)\n",
    "    dict_card = {}\n",
    "    check = []\n",
    "    \n",
    "    for i, j in enumerate(cards):\n",
    "        dict_card[str(j)] = i\n",
    "        \n",
    "    for i in cards:\n",
    "        count = 0\n",
    "        while True:\n",
    "            if visited[dict_card[str(i)]] == False:\n",
    "                visited[dict_card[str(i)]] = True\n",
    "                i = cards[i - 1]\n",
    "                count += 1\n",
    "            else:\n",
    "                break\n",
    "                \n",
    "        if count != 0:\n",
    "            check.append(count)\n",
    "    \n",
    "    check.sort(reverse = True)\n",
    "    if len(check) == 1:\n",
    "        return 0\n",
    "    else:\n",
    "        return check[0] * check[1]"
   ]
  }
 ],
 "metadata": {
  "language_info": {
   "name": "python"
  },
  "orig_nbformat": 4
 },
 "nbformat": 4,
 "nbformat_minor": 2
}
