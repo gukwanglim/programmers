{
 "cells": [
  {
   "cell_type": "markdown",
   "metadata": {},
   "source": [
    "https://www.acmicpc.net/problem/24468\n",
    "\n",
    "![그래프](./image/163-1.png)\n",
    "![그래프](./image/163-2.png)"
   ]
  },
  {
   "cell_type": "code",
   "execution_count": null,
   "metadata": {
    "vscode": {
     "languageId": "plaintext"
    }
   },
   "outputs": [],
   "source": [
    "import sys\n",
    "input = sys.stdin.readline\n",
    "\n",
    "[LOC, DIRE] = [0, 1]\n",
    "MOVE = {'L': -1, 'R': 1}\n",
    "[L, N, T] = map(int, input().split())\n",
    "info = []\n",
    "for _ in range(N):\n",
    "    [loc, dire] = input().split()\n",
    "    info.append([int(loc), MOVE[dire]])\n",
    "\n",
    "answer = 0\n",
    "for _ in range(T + 1):\n",
    "    count = [0 for _ in range(L + 1)]\n",
    "    for [loc, dire] in info:\n",
    "        count[loc] += 1\n",
    "        if count[loc] > 1:\n",
    "            answer += 1\n",
    "            \n",
    "    for i in range(N):\n",
    "        [loc, dire] = info[i]\n",
    "        if loc == 0 or loc == L or count[loc] > 1:\n",
    "            info[i] = [loc + (-1 * dire), -1 * dire]\n",
    "        else:\n",
    "            info[i] = [loc + dire, dire]\n",
    "print(answer)"
   ]
  }
 ],
 "metadata": {
  "language_info": {
   "name": "python"
  },
  "orig_nbformat": 4
 },
 "nbformat": 4,
 "nbformat_minor": 2
}
