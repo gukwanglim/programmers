{
 "cells": [
  {
   "attachments": {},
   "cell_type": "markdown",
   "metadata": {},
   "source": [
    "https://www.acmicpc.net/problem/13884\n",
    "\n",
    "![그래프](./image/22.png)"
   ]
  },
  {
   "cell_type": "code",
   "execution_count": null,
   "metadata": {},
   "outputs": [],
   "source": [
    "import math\n",
    "import sys\n",
    "input = sys.stdin.readline\n",
    "\n",
    "P = int(input())\n",
    "for _ in range(P):\n",
    "    [K, N] = list(map(int, input().split()))\n",
    "    info = []\n",
    "    for n in range(math.ceil(N / 10)):\n",
    "        info += list(map(int, input().split()))\n",
    "\n",
    "    stack = sorted(info, key=lambda item: -item)\n",
    "    for number in info:\n",
    "        if number == stack[-1]:\n",
    "            stack.pop()\n",
    "    print(K, len(stack))"
   ]
  }
 ],
 "metadata": {
  "language_info": {
   "name": "python"
  },
  "orig_nbformat": 4
 },
 "nbformat": 4,
 "nbformat_minor": 2
}
