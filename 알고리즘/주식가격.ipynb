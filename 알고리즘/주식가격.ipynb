{
 "cells": [
  {
   "attachments": {},
   "cell_type": "markdown",
   "metadata": {},
   "source": [
    "https://school.programmers.co.kr/learn/courses/30/lessons/42584\n",
    "\n",
    "![그래프](./image/62.png)"
   ]
  },
  {
   "cell_type": "code",
   "execution_count": null,
   "metadata": {
    "vscode": {
     "languageId": "plaintext"
    }
   },
   "outputs": [],
   "source": [
    "from collections import deque\n",
    "def solution(prices):   \n",
    "    answer = []\n",
    "    prices = deque(prices)\n",
    "    \n",
    "    while len(prices) != 0:\n",
    "        num = 0\n",
    "        a = prices.popleft()\n",
    "        for i in prices:\n",
    "            if a <= i:\n",
    "                num += 1\n",
    "            else:\n",
    "                num += 1\n",
    "                break\n",
    "        answer.append(num)\n",
    "    \n",
    "    return answer"
   ]
  }
 ],
 "metadata": {
  "language_info": {
   "name": "python"
  },
  "orig_nbformat": 4
 },
 "nbformat": 4,
 "nbformat_minor": 2
}
