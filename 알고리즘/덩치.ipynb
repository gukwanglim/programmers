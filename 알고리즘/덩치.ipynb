{
 "cells": [
  {
   "attachments": {},
   "cell_type": "markdown",
   "metadata": {},
   "source": [
    "https://www.acmicpc.net/problem/7568\n",
    "\n",
    "![그래프](./image/48.png)"
   ]
  },
  {
   "cell_type": "code",
   "execution_count": null,
   "metadata": {
    "vscode": {
     "languageId": "plaintext"
    }
   },
   "outputs": [],
   "source": [
    "import sys\n",
    "input = sys.stdin.readline\n",
    "\n",
    "N = int(input())\n",
    "info = [list(map(int, input().split())) for n in range(N)]\n",
    "\n",
    "for i in range(N):\n",
    "    rank = 1\n",
    "    for j in range(N):\n",
    "        if info[i][0] < info[j][0] and info[i][1] < info[j][1]:\n",
    "            rank += 1\n",
    "    print(rank, end=' ')"
   ]
  }
 ],
 "metadata": {
  "language_info": {
   "name": "python"
  },
  "orig_nbformat": 4
 },
 "nbformat": 4,
 "nbformat_minor": 2
}
