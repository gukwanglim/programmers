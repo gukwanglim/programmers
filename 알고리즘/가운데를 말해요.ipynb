{
 "cells": [
  {
   "cell_type": "markdown",
   "metadata": {},
   "source": [
    "https://www.acmicpc.net/problem/1655\n",
    "\n",
    "![그래프](./image/188.png)"
   ]
  },
  {
   "cell_type": "code",
   "execution_count": null,
   "metadata": {
    "vscode": {
     "languageId": "plaintext"
    }
   },
   "outputs": [],
   "source": [
    "import sys\n",
    "import heapq\n",
    "input = sys.stdin.readline\n",
    "\n",
    "maximum = [100000]\n",
    "minimum = [100000]\n",
    "\n",
    "N = int(input())\n",
    "for n in range(N):\n",
    "    num = int(input())\n",
    "    if len(minimum) == len(maximum):\n",
    "        heapq.heappush(maximum, -num)\n",
    "    else:\n",
    "        heapq.heappush(minimum, num)\n",
    "    if -maximum[0] > minimum[0]:\n",
    "        heapq.heappush(maximum, -heapq.heappop(minimum))\n",
    "        heapq.heappush(minimum, -heapq.heappop(maximum))\n",
    "\n",
    "    print(-maximum[0])"
   ]
  }
 ],
 "metadata": {
  "language_info": {
   "name": "python"
  },
  "orig_nbformat": 4
 },
 "nbformat": 4,
 "nbformat_minor": 2
}
