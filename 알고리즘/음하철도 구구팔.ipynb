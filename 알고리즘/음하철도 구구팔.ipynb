{
 "cells": [
  {
   "attachments": {},
   "cell_type": "markdown",
   "metadata": {},
   "source": [
    "https://www.acmicpc.net/problem/1393\n",
    "\n",
    "![그래프](./image/43.png)"
   ]
  },
  {
   "cell_type": "code",
   "execution_count": null,
   "metadata": {},
   "outputs": [],
   "source": [
    "import math\n",
    "\n",
    "xs, ys = map(int, input().split())\n",
    "xe, ye, dx, dy = map(int, input().split())\n",
    "\n",
    "d = math.gcd(dx, dy)\n",
    "dx = dx // d\n",
    "dy = dy // d\n",
    "\n",
    "while math.sqrt((xe - xs)**2 + (ye - ys)**2) > math.sqrt((xe + dx - xs)**2 + (ye + dy - ys)**2):\n",
    "    xe += dx\n",
    "    ye += dy\n",
    "    \n",
    "print(xe, ye)"
   ]
  }
 ],
 "metadata": {
  "kernelspec": {
   "display_name": "pydata",
   "language": "python",
   "name": "python3"
  },
  "language_info": {
   "name": "python",
   "version": "3.9.11"
  },
  "orig_nbformat": 4,
  "vscode": {
   "interpreter": {
    "hash": "286b3223e4baa2339d35639af96ec91063d7905066fed95d13bac9e189bc76bf"
   }
  }
 },
 "nbformat": 4,
 "nbformat_minor": 2
}
