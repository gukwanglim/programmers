{
 "cells": [
  {
   "attachments": {},
   "cell_type": "markdown",
   "metadata": {},
   "source": [
    "https://school.programmers.co.kr/learn/courses/30/lessons/150367\n",
    "\n",
    "![그래프](./image/106.png)\n",
    "![그래프](./image/106-2.png)\n",
    "![그래프](./image/106-3.png)"
   ]
  },
  {
   "cell_type": "code",
   "execution_count": null,
   "metadata": {
    "vscode": {
     "languageId": "plaintext"
    }
   },
   "outputs": [],
   "source": [
    "import math\n",
    "\n",
    "def check_binary(bin_num):\n",
    "    stack = [[0, len(bin_num) - 1, '1']]\n",
    "    \n",
    "    # 이진수를 left, rignt, end로 구분한다.\n",
    "    # 여기서 end는 이진수의 가운데 값으로 부모 노드를 뜻한다.\n",
    "    while stack:\n",
    "        [left, right, end] = stack.pop()\n",
    "        if left > right:\n",
    "            continue\n",
    "        mid = math.floor((left + right) / 2)\n",
    "            \n",
    "        # 즉, 부모 노드가 0 이면서 자식 노드가 1인 경우에는 이진트리를 그릴 수 없게 된다.\n",
    "        if end == '0' and bin_num[mid] == '1':\n",
    "            return 0\n",
    "            \n",
    "        # stack을 한 번에 두 개 append 시키는 이유는 가운데 숫자(mid)를 기준으로 두 개의 이진수가 만들어지기 때문이다.\n",
    "        stack.append([left, mid - 1, bin_num[mid]])\n",
    "        stack.append([mid + 1, right, bin_num[mid]])\n",
    "        \n",
    "    return 1\n",
    "\n",
    "def solution(numbers):\n",
    "    answer = []\n",
    "    \n",
    "    for number in numbers:\n",
    "        bin_num = bin(number)[2:]\n",
    "        level = 1\n",
    "        \n",
    "        # 이진수의 자릿수가 (2**n - 1) 꼴을 가져야 한다.\n",
    "        # 때문에 (2**n - 1)을 넘어가지 않도록 level을 설정한다.\n",
    "        # 여기서 level이 의미하는 것은 이진트리의 깊이이다.\n",
    "        while len(bin_num) > (math.pow(2, level) - 1):\n",
    "            level += 1\n",
    "            \n",
    "        # 위에서 구한 level을 활용하여 이진수의 최대 자릿수를 구하고, 빈 만큼 0을 넣어준다.\n",
    "        bin_num = '0' * int(math.pow(2, level) - 1 - len(bin_num)) + bin_num\n",
    "        answer.append(check_binary(bin_num))\n",
    "    \n",
    "    return answer"
   ]
  }
 ],
 "metadata": {
  "language_info": {
   "name": "python"
  },
  "orig_nbformat": 4
 },
 "nbformat": 4,
 "nbformat_minor": 2
}
