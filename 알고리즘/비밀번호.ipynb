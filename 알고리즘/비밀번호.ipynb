{
 "cells": [
  {
   "cell_type": "markdown",
   "metadata": {},
   "source": [
    "https://www.acmicpc.net/problem/13908\n",
    "\n",
    "![그래프](./image/162.png)"
   ]
  },
  {
   "cell_type": "code",
   "execution_count": null,
   "metadata": {
    "vscode": {
     "languageId": "plaintext"
    }
   },
   "outputs": [],
   "source": [
    "import math\n",
    "\n",
    "def nCr(n, r):\n",
    "    return int(math.factorial(n) / (math.factorial(n-r) * math.factorial(r)))\n",
    "\n",
    "n, m = map(int, input().split())\n",
    "if m != 0:\n",
    "    number = list(map(int, input().split()))\n",
    "else:\n",
    "    number = []\n",
    "\n",
    "answer = 0\n",
    "count = 10\n",
    "for i in range(m+1):\n",
    "    answer += ((-1) ** i) * (pow(count, n) * nCr(m, i))\n",
    "    count -= 1\n",
    "    \n",
    "print(answer)"
   ]
  }
 ],
 "metadata": {
  "language_info": {
   "name": "python"
  },
  "orig_nbformat": 4
 },
 "nbformat": 4,
 "nbformat_minor": 2
}
