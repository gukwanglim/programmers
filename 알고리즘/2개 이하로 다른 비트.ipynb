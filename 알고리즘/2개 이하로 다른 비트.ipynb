{
 "cells": [
  {
   "attachments": {},
   "cell_type": "markdown",
   "metadata": {},
   "source": [
    "https://school.programmers.co.kr/learn/courses/30/lessons/77885\n",
    "\n",
    "![그래프](./image/61.png)"
   ]
  },
  {
   "cell_type": "code",
   "execution_count": null,
   "metadata": {
    "vscode": {
     "languageId": "plaintext"
    }
   },
   "outputs": [],
   "source": [
    "def solution(numbers):\n",
    "    for i in range(len(numbers)) :\n",
    "        if numbers[i]%2 == 0 :\n",
    "            numbers[i] += 1\n",
    "        else :\n",
    "            numbers[i] = bin(numbers[i])\n",
    "            if numbers[i].count('0') == 1 :\n",
    "                numbers[i] = numbers[i][:3] + '0' + numbers[i][3:]\n",
    "            else :\n",
    "                numbers[i] = list(numbers[i])\n",
    "                for j in range(len(numbers[i])-1,2,-1) :\n",
    "                    if numbers[i][j] == '0' :\n",
    "                        numbers[i][j] = '1'\n",
    "                        numbers[i][j+1] = '0'\n",
    "                        break\n",
    "                numbers[i] = ''.join(numbers[i])\n",
    "            numbers[i] = int(numbers[i],2)\n",
    "\n",
    "    return numbers"
   ]
  }
 ],
 "metadata": {
  "language_info": {
   "name": "python"
  },
  "orig_nbformat": 4
 },
 "nbformat": 4,
 "nbformat_minor": 2
}
