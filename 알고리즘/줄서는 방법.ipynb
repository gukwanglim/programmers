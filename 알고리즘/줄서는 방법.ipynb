{
 "cells": [
  {
   "attachments": {},
   "cell_type": "markdown",
   "metadata": {},
   "source": [
    "https://school.programmers.co.kr/learn/courses/30/lessons/12936#\n",
    "\n",
    "![그래프](./image/109.png)"
   ]
  },
  {
   "cell_type": "code",
   "execution_count": null,
   "metadata": {
    "vscode": {
     "languageId": "plaintext"
    }
   },
   "outputs": [],
   "source": [
    "import math\n",
    "\n",
    "def solution(n, k):\n",
    "    answer = []\n",
    "    \n",
    "    num = [i for i in range(1,n+1)]\n",
    "    while num:\n",
    "        fact = math.factorial(len(num)-1)\n",
    "\n",
    "        ceil_k = math.ceil(k/fact)\n",
    "        floor_k = math.floor(k/fact)\n",
    "        \n",
    "        check = num[ceil_k - 1]\n",
    "        answer.append(check)\n",
    "        num.remove(check)\n",
    "        \n",
    "        k -= fact * floor_k\n",
    "    \n",
    "    return answer"
   ]
  }
 ],
 "metadata": {
  "language_info": {
   "name": "python"
  },
  "orig_nbformat": 4
 },
 "nbformat": 4,
 "nbformat_minor": 2
}
