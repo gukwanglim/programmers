{
 "cells": [
  {
   "cell_type": "markdown",
   "metadata": {},
   "source": [
    "https://www.acmicpc.net/problem/17245\n",
    "\n",
    "![그래프](./image/184.png)"
   ]
  },
  {
   "cell_type": "code",
   "execution_count": null,
   "metadata": {
    "vscode": {
     "languageId": "plaintext"
    }
   },
   "outputs": [],
   "source": [
    "N = int(input())\n",
    "server = [list(map(int, input().split())) for _ in range(N)]\n",
    "\n",
    "left, right = 0, max(max(computer) for computer in server)\n",
    "half = sum(sum(computer) for computer in server) / 2\n",
    "\n",
    "def onCount(minute):\n",
    "    result = 0\n",
    "    for computer in server:\n",
    "        for count in computer:\n",
    "            result += (count if count < minute else minute)\n",
    "    return result\n",
    "\n",
    "while left <= right:\n",
    "    mid = (left + right) // 2\n",
    "\n",
    "    if onCount(mid) < half:\n",
    "        left = mid + 1\n",
    "    else:\n",
    "        answer = mid\n",
    "        right = mid - 1\n",
    "\n",
    "print(answer)"
   ]
  }
 ],
 "metadata": {
  "language_info": {
   "name": "python"
  },
  "orig_nbformat": 4
 },
 "nbformat": 4,
 "nbformat_minor": 2
}
