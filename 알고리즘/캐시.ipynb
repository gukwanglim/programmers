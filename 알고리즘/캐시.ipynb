{
 "cells": [
  {
   "attachments": {},
   "cell_type": "markdown",
   "metadata": {},
   "source": [
    "https://school.programmers.co.kr/learn/courses/30/lessons/17680\n",
    "\n",
    "![그래프](./image/83.png)\n",
    "![그래프](./image/83-2.png)"
   ]
  },
  {
   "cell_type": "code",
   "execution_count": null,
   "metadata": {
    "vscode": {
     "languageId": "plaintext"
    }
   },
   "outputs": [],
   "source": [
    "def solution(cacheSize, cities):\n",
    "    result = 0\n",
    "    page = []\n",
    "    if cacheSize == 0 :\n",
    "        return len(cities) * 5\n",
    "    else :\n",
    "        for idx in range(len(cities)) :\n",
    "            cities[idx] = cities[idx].lower()\n",
    "        for city in cities :\n",
    "            if len(page) < cacheSize :\n",
    "                if city in page :\n",
    "                    result += 1\n",
    "                    page.remove(city)\n",
    "                else :\n",
    "                    result += 5\n",
    "            else :\n",
    "                if city in page :\n",
    "                    result += 1\n",
    "                    page.remove(city)\n",
    "                else :\n",
    "                    page.pop(0)\n",
    "                    result += 5\n",
    "            page.append(city)\n",
    "    return result"
   ]
  }
 ],
 "metadata": {
  "language_info": {
   "name": "python"
  },
  "orig_nbformat": 4
 },
 "nbformat": 4,
 "nbformat_minor": 2
}
