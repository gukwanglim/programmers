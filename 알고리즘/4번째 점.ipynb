{
 "cells": [
  {
   "cell_type": "markdown",
   "metadata": {},
   "source": [
    "https://www.acmicpc.net/problem/1894\n",
    "\n",
    "![그래프](./image/173.png)"
   ]
  },
  {
   "cell_type": "code",
   "execution_count": null,
   "metadata": {
    "vscode": {
     "languageId": "plaintext"
    }
   },
   "outputs": [],
   "source": [
    "while True :\n",
    "    try :\n",
    "        [x1, y1, x2, y2, x3, y3, x4, y4] = list(map(float, input().split()))\n",
    "        if x1 == x3 and y1 == y3:\n",
    "            print(\"{:.3f} {:.3f}\".format(x2 + x4 - x1,  y2 + y4 - y1))\n",
    "        if x1 == x4 and y1 == y4:\n",
    "            print(\"{:.3f} {:.3f}\".format(x2 + x3 - x1,  y2 + y3 - y1))\n",
    "        if x2 == x3 and y2 == y3:\n",
    "            print(\"{:.3f} {:.3f}\".format(x1 + x4 - x2,  y1 + y4 - y2))\n",
    "        if x2 == x4 and y2 == y4:\n",
    "            print(\"{:.3f} {:.3f}\".format(x1 + x3 - x2,  y1 + y3 - y2))\n",
    "    except EOFError:\n",
    "        break"
   ]
  }
 ],
 "metadata": {
  "language_info": {
   "name": "python"
  },
  "orig_nbformat": 4
 },
 "nbformat": 4,
 "nbformat_minor": 2
}
