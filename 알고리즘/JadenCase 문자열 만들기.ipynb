{
 "cells": [
  {
   "attachments": {},
   "cell_type": "markdown",
   "metadata": {},
   "source": [
    "https://school.programmers.co.kr/learn/courses/30/lessons/12951\n",
    "\n",
    "![그래프](./image/63.png)"
   ]
  },
  {
   "cell_type": "code",
   "execution_count": null,
   "metadata": {
    "vscode": {
     "languageId": "plaintext"
    }
   },
   "outputs": [],
   "source": [
    "def solution(s):\n",
    "    s = list(s)\n",
    "    count = 0\n",
    "    for i in range(len(s)):\n",
    "        if count ==0:\n",
    "            if s[i].isdigit():\n",
    "                count +=1\n",
    "            elif s[i].isalpha():\n",
    "                s[i] = s[i].upper()\n",
    "                count += 1\n",
    "            else:\n",
    "                count = 0\n",
    "        else:\n",
    "            if s[i].isdigit():\n",
    "                count +=1\n",
    "            elif s[i].isalpha():\n",
    "                s[i] = s[i].lower()\n",
    "            else:\n",
    "                count = 0\n",
    "                \n",
    "    answer =''\n",
    "    for i in s:\n",
    "        answer += i\n",
    "    return answer"
   ]
  }
 ],
 "metadata": {
  "language_info": {
   "name": "python"
  },
  "orig_nbformat": 4
 },
 "nbformat": 4,
 "nbformat_minor": 2
}
