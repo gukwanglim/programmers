{
 "cells": [
  {
   "attachments": {},
   "cell_type": "markdown",
   "metadata": {},
   "source": [
    "https://www.acmicpc.net/problem/1889\n",
    "\n",
    "![그래프](./image/64.png)"
   ]
  },
  {
   "cell_type": "code",
   "execution_count": null,
   "metadata": {
    "vscode": {
     "languageId": "plaintext"
    }
   },
   "outputs": [],
   "source": [
    "from collections import deque\n",
    "import sys\n",
    "input = sys.stdin.readline\n",
    "\n",
    "N = int(input())\n",
    "info = [list(map(lambda item: int(item) - 1, input().split())) for _ in range(N)]\n",
    "\n",
    "dp = [0 for n in range(N)]\n",
    "\n",
    "for [p1, p2] in info:\n",
    "    dp[p1] += 1\n",
    "    dp[p2] += 1\n",
    "\n",
    "queue = deque(list(map(lambda item: item[0], filter(lambda item: item[1] < 2, enumerate(dp)))))\n",
    "\n",
    "visited = [False for n in range(N)]\n",
    "while queue:\n",
    "    index = queue.popleft()\n",
    "    if visited[index]:\n",
    "        continue\n",
    "    visited[index] = True\n",
    "    \n",
    "    [p1, p2] = info[index]\n",
    "    \n",
    "    dp[p1] -= 1\n",
    "    if dp[p1] < 2:\n",
    "        queue.append(p1)\n",
    "    dp[p2] -= 1\n",
    "    if dp[p2] < 2:\n",
    "        queue.append(p2)\n",
    "\n",
    "answer = list(map(lambda item: item[0] + 1, filter(lambda item: not item[1], enumerate(visited))))\n",
    "print(len(answer))\n",
    "if answer:\n",
    "    print(*answer)"
   ]
  }
 ],
 "metadata": {
  "language_info": {
   "name": "python"
  },
  "orig_nbformat": 4
 },
 "nbformat": 4,
 "nbformat_minor": 2
}
