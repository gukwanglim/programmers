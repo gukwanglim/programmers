{
 "cells": [
  {
   "cell_type": "markdown",
   "metadata": {},
   "source": [
    "https://www.acmicpc.net/problem/5913\n",
    "\n",
    "![그래프](./image/166.png)"
   ]
  },
  {
   "cell_type": "code",
   "execution_count": null,
   "metadata": {
    "vscode": {
     "languageId": "plaintext"
    }
   },
   "outputs": [],
   "source": [
    "import sys\n",
    "input = sys.stdin.readline\n",
    "\n",
    "MOVE = [(0, -1), (-1, 0), (0, 1), (1, 0)]\n",
    "k = int(input())\n",
    "board = [[False for c in range(5)] for r in range(5)]\n",
    "tree = 5 * 5\n",
    "for _ in range(k):\n",
    "    [y, x] = map(int, input().split())\n",
    "    board[y - 1][x - 1] = True\n",
    "    tree -= 1\n",
    "\n",
    "def dfs(y, x, c):\n",
    "    if y == 4 and x == 4:\n",
    "        return all(map(all, board))\n",
    "    \n",
    "    answer = 0\n",
    "    for (dy, dx) in MOVE:\n",
    "        if 0 <= dy + y < 5 and 0 <= dx + x < 5 and not board[dy + y][dx + x]:\n",
    "             board[dy + y][dx + x] = True\n",
    "             answer += dfs(dy + y, dx + x, c + 1)\n",
    "             board[dy + y][dx + x] = False\n",
    "    return answer\n",
    "\n",
    "board[0][0] = True\n",
    "print(dfs(0, 0, 1))"
   ]
  }
 ],
 "metadata": {
  "language_info": {
   "name": "python"
  },
  "orig_nbformat": 4
 },
 "nbformat": 4,
 "nbformat_minor": 2
}
