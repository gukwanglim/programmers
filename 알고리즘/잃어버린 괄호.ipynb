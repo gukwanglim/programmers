{
 "cells": [
  {
   "attachments": {},
   "cell_type": "markdown",
   "metadata": {},
   "source": [
    "https://www.acmicpc.net/problem/1541\n",
    "\n",
    "![그래프](./image/10.png)"
   ]
  },
  {
   "cell_type": "code",
   "execution_count": null,
   "metadata": {},
   "outputs": [],
   "source": [
    "n = input()\n",
    "answer = 0\n",
    "\n",
    "if n[0] == '-':                     # 만약, 제일 앞에 -가 나오게 된다면 split을 진행한 상태에서 ['', '40+20, '30']과 같이 작성된다.\n",
    "    n = n[1:].split('-')            # -를 기준으로(- 제외하고) split이 되어야 하는데 제일 앞에 나올 경우에는 ''으로 들어가게 된다.\n",
    "    a = -1                          # 때문에 if 구문을 넣어 문제를 해결했다.\n",
    "else:\n",
    "    n = n.split('-')\n",
    "    a = 1\n",
    "    \n",
    "for i in n[0].split('+'):\n",
    "    answer += int(i)\n",
    "answer *= a\n",
    "\n",
    "for i in n[1:]:                     # n[1:]으로 인해 뒤에 나오게 되는 모든 수를 for 구문을 사용하여 돌아볼 수 있게 된다.\n",
    "    for j in i.split('+'):          # 마지막으로 answer -= int(j)를 한 이유는 처음에 -를 기준으로 split()을 사용했기 때문에 뒤에 나오게 되는 숫자는 모두 빼줘야 한다.\n",
    "        answer -= int(j)\n",
    "\n",
    "print(answer)"
   ]
  }
 ],
 "metadata": {
  "kernelspec": {
   "display_name": "pydata",
   "language": "python",
   "name": "python3"
  },
  "language_info": {
   "name": "python",
   "version": "3.9.11 (main, Mar 28 2022, 04:40:48) [MSC v.1916 64 bit (AMD64)]"
  },
  "orig_nbformat": 4,
  "vscode": {
   "interpreter": {
    "hash": "286b3223e4baa2339d35639af96ec91063d7905066fed95d13bac9e189bc76bf"
   }
  }
 },
 "nbformat": 4,
 "nbformat_minor": 2
}
