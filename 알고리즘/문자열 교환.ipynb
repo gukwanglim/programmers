{
 "cells": [
  {
   "attachments": {},
   "cell_type": "markdown",
   "metadata": {},
   "source": [
    "https://www.acmicpc.net/problem/1522\n",
    "\n",
    "![그래프](./image/126.png)"
   ]
  },
  {
   "cell_type": "code",
   "execution_count": null,
   "metadata": {
    "vscode": {
     "languageId": "plaintext"
    }
   },
   "outputs": [],
   "source": [
    "word = input()\n",
    "a_count = word.count('a')\n",
    "answer = float('inf')\n",
    "left = 0\n",
    "\n",
    "while left < len(word):\n",
    "    \n",
    "    right = left + a_count\n",
    "    \n",
    "    if right > len(word):\n",
    "        temp = word[left:] + word[:right-len(word)]\n",
    "    else:\n",
    "        temp = word[left:right]\n",
    "        \n",
    "    answer = min(answer, temp.count('b'))\n",
    "    left += 1\n",
    "\n",
    "print(answer)"
   ]
  }
 ],
 "metadata": {
  "language_info": {
   "name": "python"
  },
  "orig_nbformat": 4
 },
 "nbformat": 4,
 "nbformat_minor": 2
}
