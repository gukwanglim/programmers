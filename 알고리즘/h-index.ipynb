{
 "cells": [
  {
   "attachments": {},
   "cell_type": "markdown",
   "metadata": {},
   "source": [
    "https://school.programmers.co.kr/learn/courses/30/lessons/42747\n",
    "\n",
    "![그래프](./image/35.png)"
   ]
  },
  {
   "cell_type": "code",
   "execution_count": null,
   "metadata": {},
   "outputs": [],
   "source": [
    "def solution(citations):\n",
    "    citations = sorted(citations,reverse=True)\n",
    "    compare = citations[0]\n",
    "    \n",
    "    while compare > 0 :\n",
    "        count = 0\n",
    "        for i in citations :\n",
    "            if i >= compare :\n",
    "                count += 1\n",
    "        if count >= compare :\n",
    "            return compare\n",
    "        compare -= 1\n",
    "    return 0"
   ]
  }
 ],
 "metadata": {
  "language_info": {
   "name": "python"
  },
  "orig_nbformat": 4
 },
 "nbformat": 4,
 "nbformat_minor": 2
}
