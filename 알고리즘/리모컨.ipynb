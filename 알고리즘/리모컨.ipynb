{
 "cells": [
  {
   "cell_type": "markdown",
   "metadata": {},
   "source": [
    "https://www.acmicpc.net/problem/1107\n",
    "\n",
    "![그래프](./image/170.png)"
   ]
  },
  {
   "cell_type": "code",
   "execution_count": null,
   "metadata": {
    "vscode": {
     "languageId": "plaintext"
    }
   },
   "outputs": [],
   "source": [
    "import sys\n",
    "input = sys.stdin.readline\n",
    "\n",
    "N = int(input())\n",
    "M = int(input())\n",
    "btn = [True for _ in range(10)]\n",
    "if M > 0:\n",
    "    for n in map(int, input().split()):\n",
    "        btn[n] = False\n",
    "\n",
    "def dfs(curr):\n",
    "    minimum = 500000\n",
    "    for num in range(10):\n",
    "        if btn[num]:\n",
    "            next = str(num) + curr\n",
    "            minimum = min(minimum, abs(N - int(next)) + len(next))\n",
    "\n",
    "            if len(next) < 6:\n",
    "                minimum = min(minimum, dfs(next))\n",
    "    return minimum\n",
    "\n",
    "answer = min(500000, abs(100 - N))\n",
    "if M < 10:\n",
    "    answer = min(answer, dfs(\"\"))\n",
    "\n",
    "print(answer)"
   ]
  }
 ],
 "metadata": {
  "language_info": {
   "name": "python"
  },
  "orig_nbformat": 4
 },
 "nbformat": 4,
 "nbformat_minor": 2
}
