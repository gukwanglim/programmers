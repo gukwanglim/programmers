{
 "cells": [
  {
   "attachments": {},
   "cell_type": "markdown",
   "metadata": {},
   "source": [
    "https://school.programmers.co.kr/learn/courses/30/lessons/12981\n",
    "\n",
    "![그래프](./image/58.png)\n",
    "![그래프](./image/58-2.png)"
   ]
  },
  {
   "cell_type": "code",
   "execution_count": null,
   "metadata": {
    "vscode": {
     "languageId": "plaintext"
    }
   },
   "outputs": [],
   "source": [
    "def solution(n, words):\n",
    "    log = [words[0]]\n",
    "    TF = True\n",
    "    for idx in range(1,len(words)) :\n",
    "        if words[idx] not in log :\n",
    "            if words[idx-1][-1] == words[idx][0] :\n",
    "                log.append(words[idx])\n",
    "            else :\n",
    "                TF = False\n",
    "                break\n",
    "        else :\n",
    "            TF = False\n",
    "            break\n",
    "    print(idx)\n",
    "    if TF :\n",
    "        return [0,0]\n",
    "    else :\n",
    "        return [idx%n+1,idx//n+1]"
   ]
  }
 ],
 "metadata": {
  "language_info": {
   "name": "python"
  },
  "orig_nbformat": 4
 },
 "nbformat": 4,
 "nbformat_minor": 2
}
