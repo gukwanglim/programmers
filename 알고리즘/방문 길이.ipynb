{
 "cells": [
  {
   "attachments": {},
   "cell_type": "markdown",
   "metadata": {},
   "source": [
    "https://school.programmers.co.kr/learn/courses/30/lessons/49994\n",
    "\n",
    "![그래프](./image/37.png)\n",
    "![그래프](./image/37-2.png)\n",
    "![그래프](./image/37-3.png)\n",
    "![그래프](./image/37-4.png)"
   ]
  },
  {
   "cell_type": "code",
   "execution_count": null,
   "metadata": {},
   "outputs": [],
   "source": [
    "def solution(dirs):\n",
    "    position = [0,0]\n",
    "    move_list = []\n",
    "    for i in dirs :\n",
    "        movepoint = position[:]\n",
    "        if i == \"U\" :\n",
    "            movepoint[1] += 1\n",
    "            if movepoint[1] > 5 :\n",
    "                movepoint[1] -= 1\n",
    "                continue\n",
    "        elif i == \"L\" :\n",
    "            movepoint[0] -= 1\n",
    "            if movepoint[0] < -5 :\n",
    "                movepoint[1] += 1\n",
    "                continue\n",
    "        elif i == \"R\" :\n",
    "            movepoint[0] += 1\n",
    "            if movepoint[0] > 5 :\n",
    "                movepoint[0] -= 1\n",
    "                continue\n",
    "        else :\n",
    "            movepoint[1] -= 1\n",
    "            if movepoint[1] < -5 :\n",
    "                movepoint[1] += 1\n",
    "                continue\n",
    "        move_list.append([position,movepoint])\n",
    "        position = movepoint\n",
    "        \n",
    "    reverse_list = []\n",
    "    result = []\n",
    "    for i in move_list :\n",
    "        reverse_list.append([i[1],i[0]])\n",
    "    move_list += reverse_list\n",
    "    for i in move_list :\n",
    "        if i not in result :\n",
    "            result.append(i)\n",
    "    \n",
    "    return len(result)//2"
   ]
  }
 ],
 "metadata": {
  "language_info": {
   "name": "python"
  },
  "orig_nbformat": 4
 },
 "nbformat": 4,
 "nbformat_minor": 2
}
