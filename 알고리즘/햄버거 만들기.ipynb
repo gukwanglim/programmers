{
 "cells": [
  {
   "attachments": {},
   "cell_type": "markdown",
   "metadata": {},
   "source": [
    "https://school.programmers.co.kr/learn/courses/30/lessons/133502\n",
    "\n",
    "![그래프](./image/76.png)"
   ]
  },
  {
   "cell_type": "code",
   "execution_count": null,
   "metadata": {
    "vscode": {
     "languageId": "plaintext"
    }
   },
   "outputs": [],
   "source": [
    "    def solution(ingredient):\n",
    "        answer = 0\n",
    "        index = 0\n",
    "\n",
    "        while index < len(ingredient) - 3:\n",
    "            if ingredient[index:index+4] == [1, 2, 3, 1]:\n",
    "                del ingredient[index:index+4]\n",
    "                answer += 1\n",
    "                index = index - 3\n",
    "            else:\n",
    "                index += 1\n",
    "\n",
    "        return answer"
   ]
  }
 ],
 "metadata": {
  "language_info": {
   "name": "python"
  },
  "orig_nbformat": 4
 },
 "nbformat": 4,
 "nbformat_minor": 2
}
