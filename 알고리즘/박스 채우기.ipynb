{
 "cells": [
  {
   "cell_type": "markdown",
   "metadata": {},
   "source": [
    "https://www.acmicpc.net/problem/1493\n",
    "\n",
    "![그래프](./image/152.png)"
   ]
  },
  {
   "cell_type": "code",
   "execution_count": null,
   "metadata": {
    "vscode": {
     "languageId": "plaintext"
    }
   },
   "outputs": [],
   "source": [
    "# 그리디 알고리즘\n",
    "\n",
    "import sys\n",
    "input = sys.stdin.readline\n",
    "\n",
    "length, width, height = map(int, input().split())\n",
    "n = int(input())\n",
    "cube = [tuple(map(int, input().split())) for _ in range(n)]\n",
    "cube.sort(reverse=True)\n",
    "\n",
    "answer, total = 0, 0\n",
    "for (index, cnt) in cube: \n",
    "    total *= 8\n",
    "    T = pow(2, index)\n",
    "    limit = min(cnt, (((length // T) * (width // T) * (height // T)) - total))\n",
    "\n",
    "    answer += limit\n",
    "    total += limit\n",
    "\n",
    "print(answer) if total == (length * width * height) else print(-1)"
   ]
  },
  {
   "cell_type": "code",
   "execution_count": null,
   "metadata": {
    "vscode": {
     "languageId": "plaintext"
    }
   },
   "outputs": [],
   "source": [
    "# 분할 정복\n",
    "\n",
    "import sys\n",
    "input = sys.stdin.readline\n",
    "\n",
    "INF = 1000000 * 20\n",
    "[length, width, height] = list(map(int, input().split()))\n",
    "n = int(input())\n",
    "info = [0 for _ in range(21)]\n",
    "for _ in range(n):\n",
    "    [a, b] = list(map(int, input().split()))\n",
    "    info[a] = b\n",
    "\n",
    "def division(l, w, h):\n",
    "    for t in range(n - 1, -1, -1):\n",
    "        T = pow(2, t)\n",
    "        if T > min(l, w, h):\n",
    "            continue\n",
    "        if info[t] == 0:\n",
    "            continue\n",
    "        info[t] -= 1\n",
    "        return (0 if l - T == 0 else division(l - T, T, h))\\\n",
    "             + (0 if w - T == 0 else division(l, w - T, h))\\\n",
    "             + (0 if h - T == 0 else division(T, T, h - T))\\\n",
    "             + 1\n",
    "    return -INF\n",
    "\n",
    "answer = division(length, width, height)\n",
    "print(answer) if answer > -1 else print(-1)"
   ]
  }
 ],
 "metadata": {
  "language_info": {
   "name": "python"
  },
  "orig_nbformat": 4
 },
 "nbformat": 4,
 "nbformat_minor": 2
}
