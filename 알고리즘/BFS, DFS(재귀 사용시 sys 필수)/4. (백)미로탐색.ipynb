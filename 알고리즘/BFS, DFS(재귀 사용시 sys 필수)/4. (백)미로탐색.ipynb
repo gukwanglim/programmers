{
 "cells": [
  {
   "cell_type": "markdown",
   "metadata": {},
   "source": [
    "https://www.acmicpc.net/problem/2178\n",
    "\n",
    "![그래프](./image/4.png)"
   ]
  },
  {
   "cell_type": "markdown",
   "metadata": {},
   "source": [
    "최단 경로를 탐색하는 문제는 BFS로 풀어야 한다.\n",
    "물론, DFS로 풀 수도 있지만 분기점이 많을 경우 시간초과 문제가 발생한다.\n",
    "때문에 중복 탐색을 하지 않으면서 최단 경로를 찾아주는 BFS를 수행하여 문제를 해결해야 한다."
   ]
  },
  {
   "cell_type": "markdown",
   "metadata": {},
   "source": [
    "우선, BFS이므로 큐가 사용되야 한다.\n",
    "큐를 이용하여 가장 최근에 탐색한 좌표부터 다시 재탐색을 하는 방식을 사용한다.\n",
    "(재귀를 사용하여 BFS를 실행할 수 있지만, BFS의 경우에는 재귀를 사용하지 않는 방법이 더 직관적이고 해결하기 쉽다.)"
   ]
  },
  {
   "cell_type": "code",
   "execution_count": null,
   "metadata": {},
   "outputs": [],
   "source": [
    "from collections import deque\n",
    "\n",
    "n, m = map(int, input().split())\n",
    "board = [list(map(int,list(input().rstrip()))) for i in range(n)]\n",
    "\n",
    "DIRECTION = [(0, -1), (1, 0), (0, 1), (-1, 0)]\n",
    "isBound = lambda y, x: (y >= 0 and y < n and x >= 0 and x < m)          # 범위를 설정할 때는 인덱스가 0부터 시작하는 것을 감안하여 n,m보다 크기가 크지 않는 것이 맞다.\n",
    "\n",
    "queue = deque()\n",
    "queue.append([0, 0, 1])                                                 # 큐에 현재의 y,x 좌표와 이동한 거리 수를 저장한다.\n",
    "\n",
    "while queue:\n",
    "    [y, x, dist] = queue.popleft()\n",
    "    if y == n-1 and x == m-1:                                           # 이곳에서도 범위를 위와 같이 설정한다.(현재의 위치가 미로의 마지막 칸이라면 while을 끝낸다.)\n",
    "        break\n",
    "    for dy, dx in DIRECTION:                                            # 상하좌우로 움직임\n",
    "        if isBound(y+dy, x+dx):                                         # 범위 안에서\n",
    "            if board[y+dy][x+dx] == 1 or board[y+dy][x+dx] > dist+1:    # 움직인 칸에 1이 작성되어 있다면(뒤 board[y+dy][x+dx] > dist+1 부분은 이미 왔던 길을 찾았을 때)\n",
    "                board[y+dy][x+dx] = dist + 1                            # 그 칸에 지금까지 움직인 거리를 저장한다.\n",
    "                queue.append([y+dy, x+dx, dist+1])                      # 다시 큐에 현재의 위치와 지금까지 운직인 거리를 추가하면 while 구문으로 인해 다시 처음으로 돌아간다.\n",
    "print(dist)"
   ]
  }
 ],
 "metadata": {
  "kernelspec": {
   "display_name": "Python 3.9.11 ('pydata')",
   "language": "python",
   "name": "python3"
  },
  "language_info": {
   "name": "python",
   "version": "3.9.11"
  },
  "orig_nbformat": 4,
  "vscode": {
   "interpreter": {
    "hash": "286b3223e4baa2339d35639af96ec91063d7905066fed95d13bac9e189bc76bf"
   }
  }
 },
 "nbformat": 4,
 "nbformat_minor": 2
}
