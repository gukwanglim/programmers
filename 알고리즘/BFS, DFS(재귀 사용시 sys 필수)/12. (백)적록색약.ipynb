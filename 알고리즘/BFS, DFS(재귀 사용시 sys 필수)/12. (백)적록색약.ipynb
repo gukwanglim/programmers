{
 "cells": [
  {
   "cell_type": "markdown",
   "metadata": {},
   "source": [
    "https://www.acmicpc.net/problem/10026\n",
    "\n",
    "![그래프](./image/12.png)"
   ]
  },
  {
   "cell_type": "markdown",
   "metadata": {},
   "source": [
    "행렬의 형식으로 주어진 문제이며, 현재 위치에서 주변을 살펴보며 움직여야 하는 코드이므로 인접 행렬 방식을 사용하는 BFS를 이용하여 문제를 푼다."
   ]
  },
  {
   "cell_type": "code",
   "execution_count": null,
   "metadata": {},
   "outputs": [],
   "source": [
    "from collections import deque                                           # BFS로 풀기 위해 deque를 import 한다.\n",
    "import sys\n",
    "input = sys.stdin.readline\n",
    "\n",
    "n = int(input())\n",
    "n_list = [list(input().rstrip()) for _ in range(n)]\n",
    "visited = [([0] * n) for _ in range(n)]\n",
    "\n",
    "queue = deque()\n",
    "r_c, g_c, b_c, rg_c = 0, 0, 0, 0                                        # 먼저, R, G, B, RG(적록색약의 경우)의 군집의 숫자를 세기 위해 모두 0으로 설정한다.\n",
    "\n",
    "DIRECTION = [(0, -1), (1, 0), (0, 1), (-1, 0)]\n",
    "isBound = lambda y, x: (y >= 0 and y < n and x >= 0 and x < n)          # 조금 더 원활한 이해를 위해 아래쪽 코드부터 설명한다.\n",
    "\n",
    "def bfs(t, v):                                                          # 5. n_list[i][j]의 값이 타겟과 똑같은 경우에\n",
    "    if n_list[i][j] == t:                                                   # visited[i][j]를 정해진 숫자로 변경한다.\n",
    "        visited[i][j] = v\n",
    "        \n",
    "        while queue:                                                    # 6. 타겟으로 정해진 위치에서 상하좌우를 확인하고, 그 위치의 n_list가 타겟과 같으며, 아직 방문하지 않은 곳이라면 \n",
    "            y, x = queue.popleft()                                          # visited[y+dy][x+dx]의 값은 정해진 숫자로 변경하고, 현재의 위치를 queue에 저장한다.\n",
    "                                                                            # TODO 이러한 BFS 문제에서 주의해야 하는 점이 if 조건인데, 만약, visited를 확인하지 않고 코드를 진행하게 한다면\n",
    "            for dy, dx in DIRECTION:                                            # 무한 반복이 실행된다.(n_list의 값은 변경되지 않고 vistied의 값만 변경이 이뤄지기 때문에)\n",
    "                if isBound(y+dy, x+dx) and n_list[y+dy][x+dx] == t and visited[y+dy][x+dx] == 0:\n",
    "                    queue.append((y+dy, x+dx))\n",
    "                    visited[y+dy][x+dx] = v\n",
    "        return 1                                                        # 7. while 구문을 빠져나왔다는 말은 하나의 군집이 끝났다는 말이므로 1을 return한다.\n",
    "    return 0                                                                # 만약, while 구문을 거치지 않는 상태가 된다면 0을 return 한다.\n",
    "                    \n",
    "                    \n",
    "for i in range(n):                                                      # 1. 적록생약이 아닌 사람이 보는 관점에서 코드를 작성한다.\n",
    "    for j in range(n):\n",
    "        if visited[i][j]:                                               # 2. 처음의 visited 리스트는 모두 0이므로 0이 아닐 경우에는 continue를 사용하여 건너뛴다.\n",
    "            continue\n",
    "        queue.append((i, j))                                            # 3. 만약, visited[i][j]가 0이라면 queue에 i, j를 저장한다.\n",
    "        \n",
    "        r_c += bfs('R', 1)                                              # 4. 3번에서 생성한 queue를 기준으로 bfs() 함수를 돌리는데 이때 사용되는 파라미터는 타겟이 되는 색(RGB)\n",
    "        g_c += bfs('G', 1)                                                  # R혹은 G일 경우에는 1(적록색약은 R과 G를 구분하기 못하기 때문에 두 경우에는 1로 설정)\n",
    "        b_c += bfs('B', 2)                                                  # 현재의 for 구문이 끝나면 적록색약을 위한 코드가 한 번 더 돌아야한다.\n",
    "                                                                        # 8. r_c, g_c, b_c에 bfs() 함수에서 return 받은 각각의 값을 더해준다.\n",
    "for i in range(n):\n",
    "    for j in range(n):\n",
    "        if visited[i][j] == 2:                                          # 9. 적록색약의 경우를 확인하기 위해 구분하지 못하는 R과 G의 값을 하나로 뭉쳐 생각한다.\n",
    "            continue                                                        # 이때, n_list의 값은 확인하지 않아도 괜찮은 이유가 적록색약을 위해 visited를 구상했기 때문이다.(n_list의 경우는 처음과 변함없다.)\n",
    "        queue.append((i, j))                                            # 10. visited[i][j]의 값이 2가 아니라면(b가 아니라면) 분간하지 못하므로 queue에 값을 저장한다.\n",
    "        \n",
    "        if visited[i][j] == 1:                                          # 11. visited[i][j]의 값이 1이라면 2로 변경(처음 숫자(굳이 변경하지 않아도 문제는 없다.))하고 rg_c의 값을 증가시킨다.\n",
    "            visited[i][j] = 2\n",
    "            rg_c += 1\n",
    "            \n",
    "            while queue:\n",
    "                y, x = queue.popleft()\n",
    "                \n",
    "                for dy, dx in DIRECTION:\n",
    "                    if isBound(y+dy, x+dx) and visited[y+dy][x+dx] == 1:        # 12. 적록색약의 경우, visited 리스크만 확인하기 때문에 n_list의 값을 if 구문에 넣으면 안된다.\n",
    "                        queue.append((y+dy, x+dx))\n",
    "                        visited[y+dy][x+dx] = 2                                 # 13. for 구문(이 코드의 제일 위에 존재하는 부분)에서 확인할 수 있도록(visited의 역할을 하기 위해) 1의 값을 2로 변경한다.\n",
    "                                                                                    \n",
    "print(r_c + g_c + b_c, b_c + rg_c)"
   ]
  }
 ],
 "metadata": {
  "kernelspec": {
   "display_name": "Python 3.9.11 ('pydata')",
   "language": "python",
   "name": "python3"
  },
  "language_info": {
   "name": "python",
   "version": "3.9.11"
  },
  "orig_nbformat": 4,
  "vscode": {
   "interpreter": {
    "hash": "286b3223e4baa2339d35639af96ec91063d7905066fed95d13bac9e189bc76bf"
   }
  }
 },
 "nbformat": 4,
 "nbformat_minor": 2
}
