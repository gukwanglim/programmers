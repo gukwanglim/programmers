{
 "cells": [
  {
   "cell_type": "markdown",
   "metadata": {},
   "source": [
    "https://www.acmicpc.net/problem/2606\n",
    "\n",
    "![그래프](./image/1.png)"
   ]
  },
  {
   "cell_type": "markdown",
   "metadata": {},
   "source": [
    "연결된 노드가 존재한다면 바이러스에 감염된 컴퓨터이다.\n",
    "즉, 연결된 컴퓨터들을 따로 모아 저장하면 그것이 정답니다."
   ]
  },
  {
   "cell_type": "code",
   "execution_count": null,
   "metadata": {},
   "outputs": [],
   "source": [
    "n = int(input())\n",
    "m = int(input())\n",
    "\n",
    "c = [list(map(int, input().split())) for _ in range(m)]\n",
    "c.sort()\n",
    "\n",
    "v = set([1])                                                # 감염된 컴퓨터는 중복을 허용하지 않으므로 집합을 사용한다.(1번 컴퓨터는 감염 확정)\n",
    "\n",
    "for i in c:\n",
    "    if i[0] in v:                                       # 연결된 컴퓨터 중, 한 대가 바이러스에 감염된 상태라면 나머지 컴퓨터도 바이러스에 감염된 것이다.\n",
    "        v.add(i[1])\n",
    "        c.remove(i)                                     # 이런 식으로 끝내도 될 줄 알았는데 c.remove()가 진행된 후에도 c의 상태는 remove가 이뤄지기 전의 값이 들어 있다.\n",
    "                                                        # (c 리스트의 갱신이 안 되는 상태이다.)\n",
    "    elif i[1] in v:\n",
    "        v.add(i[0])\n",
    "        c.remove(i)\n",
    "\n",
    "print(len(v) - 1)\n",
    "        "
   ]
  },
  {
   "cell_type": "code",
   "execution_count": null,
   "metadata": {},
   "outputs": [],
   "source": [
    "n = int(input())\n",
    "m = int(input())\n",
    "\n",
    "c = [list(map(int, input().split())) for _ in range(m)]\n",
    "c.sort()\n",
    "\n",
    "\n",
    "v = set([1])                                            \n",
    "\n",
    "while True:\n",
    "    for i in c:\n",
    "        if i[0] in v:   \n",
    "            v.add(i[1])\n",
    "            c.remove(i)\n",
    "            break                       # 갱신 문제를 해결하기 위해서 break를 사용한다.\n",
    "                                        # 하지만, 그냥 for 구문에서 break를 사용하게 된다면 전부 돌지 않고 break를 만나는 순간 for 구문이 종료된다.\n",
    "        elif i[1] in v:                 # 이 문제를 해결하기 위한 방법이 while을 사용하는 것이다. \n",
    "            v.add(i[0])                 # while을 사용하게 되면 for 구문 안의 break를 만나게 되어도 while을 타고 다시 실행된다.\n",
    "            c.remove(i)                 # 때문에 갱신된 c 리스트를 가지고 원하는 결과값을 가져올 수 있게 된다.\n",
    "            break                       \n",
    "    else:                               # 하지만 while 구문의 종료는 따로 구현되지 않는다.(True 이외의 조건을 넣기에도 애매한 부분)\n",
    "        break                           # 이럴 경우에 사용하는 것이 for-else 구문으로 만약, for 구문 안에서 break를 만나지 않은 상태로 빠져나오게 되면 else 구문이 동작하게 되는 것이다.\n",
    "\n",
    "print(len(v) - 1)"
   ]
  }
 ],
 "metadata": {
  "kernelspec": {
   "display_name": "Python 3.9.7 ('base')",
   "language": "python",
   "name": "python3"
  },
  "language_info": {
   "name": "python",
   "version": "3.9.7"
  },
  "orig_nbformat": 4,
  "vscode": {
   "interpreter": {
    "hash": "d5801b79edcda5763ccfe48c18a4ee1d2165db6bc296bae4c89c41a89d640e66"
   }
  }
 },
 "nbformat": 4,
 "nbformat_minor": 2
}
