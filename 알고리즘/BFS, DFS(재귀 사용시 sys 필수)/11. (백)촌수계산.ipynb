{
 "cells": [
  {
   "cell_type": "markdown",
   "metadata": {},
   "source": [
    "https://www.acmicpc.net/problem/2644\n",
    "\n",
    "![그래프](./image/11.png)"
   ]
  },
  {
   "cell_type": "markdown",
   "metadata": {},
   "source": [
    "특정 정점에서 다른 정점까지의 최단 거리를 구하는 문제이다.\n",
    "가중치가 없는 간선만 존재하기 때문에 일반적인 BFS, DFS를 모두 사용해도 풀 수 있다.\n",
    "하지만, 기본적으로 BFS의 코드가 DFS 보다 간결하기 때문에 BFS를 사용하는 것이 좋다."
   ]
  },
  {
   "cell_type": "markdown",
   "metadata": {},
   "source": [
    "기본적으로 BFS, DFS 문제를 풀 때, 게임맵과 같은 틀이 나오는 경우(간단한 예를 들자면 토마토 문제와 같은 경우)에는 인접 행렬을 사용하여 문제를 풀고(DIRECTION을 정하여 풀기)\n",
    "지금과 같이 트리 형태로 된 문제를 풀 때는 인접 리스트 방식을 사용하는 것이 편하다.\n",
    "\n",
    "인접 리스트 방식을 사용하기 위해서는 연결요수의 개수 문제와 같이 서로 연결된 정점들을 리스트로 정리하여 문제를 푸는 방식이다."
   ]
  },
  {
   "cell_type": "code",
   "execution_count": null,
   "metadata": {},
   "outputs": [],
   "source": [
    "from collections import deque                           # BFS를 사용하기 위해 deque을 import 한다.\n",
    "import sys\n",
    "input = sys.stdin.readline\n",
    "\n",
    "n = int(input())                \n",
    "a,b = map(int,input().split())                          # a, b는 촌수를 따질 사람이다.(목표치)\n",
    "m = int(input())                                        \n",
    "\n",
    "# 인접 리스트 생성\n",
    "link = [[] for i in range(n+1)]                         # 인접 리스트를 생성하기 위해 총 사람 수보다 하나 많은 수의 빈 리스트(이차원)를 생성한다.(인덱스를 맞추기 위해)\n",
    "for _ in range(m):\n",
    "    x,y = map(int,input().split())                      # 각각의 관계를 리스트로 정리한다.\n",
    "    link[x].append(y)\n",
    "    link[y].append(x)\n",
    "\n",
    "# BFS 진행\n",
    "q = deque()                                             # BFS를 실행하기 위해 deque를 선언한다.\n",
    "q.append((a,0))                                         # 타깃이 되는 사람의 번호(a)와 이 사람과의 촌수(d)를 q에 넣는다.(나 자신은 0촌, 부모님은 1촌, 동생은 2촌이다.)\n",
    "dist = [float('inf')]*(n+1)                             # 총 인원수보다 하나 많은 inf를 생성하여 dist에 넣는다.     이때, dist의 역할은 방문을 했는지 안했는지의 유무라고 생각하면 편하다.\n",
    "while(q):\n",
    "    curNode, d = q.popleft()                            # curNode에는 현재 위치의 사람, d에는 현재의 촌수를 담아 사용한다.\n",
    "    dist[curNode] = d                                   # 현재 위치의 사람은 방문한 사람이라고 판단하여 dist의 값을 현재의 촌수로 변경한다.\n",
    "    for i in link[curNode]:                             # link에는 모든 사람의 연결 관계가 저장되있으므로 현재 사람(인덱스)에게 연결되어 있는 다른 사람(원소)을 꺼내 사용한다.\n",
    "        if dist[i] == float('inf'):                     \n",
    "            q.append((i,d+1))                           # 만약, 현재 사람과 연결되어 있는 사람이 한 번도 방문한 적 없는 사람이라면 현재의 촌수에 +1을 하여 적어준다.(나 자신이 아닌 나와 가까운 사람들이므로)\n",
    "print(dist[b] if dist[b] != float('inf') else -1)       # 마지막으로 타겟에 담긴 촌수를 출력한다. 만약, 타겟의 촌수가 inf로 되어있다면 가족이 아닌 사람이므로 -1을 출력한다.\n",
    "\n",
    "# 추가 내용 : BFS를 진행하는데 보면 dist = [float('inf')]*(n+1)으로 설정되어 있다.\n",
    "    # 그 이유는 마지막에 사용되는 dist의 상태를 보면 int가 들어가 있는데, 만약, str이 섞여 들어가 있으면 에러가 발생할 가능성이 생길 수 있다고 판단된다.\n",
    "    # 그렇다고해서 처음부터 dist에 0을 넣고 시작한다면 모든 사람이 자기 자신이라고 판단하고 코드가 돌게 된다.\n",
    "    # 이러한 오류를 막기 위해서 문자열이지만 float 형태를 가질 수 있는 float('inf)를 사용하는 것이다."
   ]
  }
 ],
 "metadata": {
  "kernelspec": {
   "display_name": "Python 3.9.11 ('pydata')",
   "language": "python",
   "name": "python3"
  },
  "language_info": {
   "name": "python",
   "version": "3.9.11"
  },
  "orig_nbformat": 4,
  "vscode": {
   "interpreter": {
    "hash": "286b3223e4baa2339d35639af96ec91063d7905066fed95d13bac9e189bc76bf"
   }
  }
 },
 "nbformat": 4,
 "nbformat_minor": 2
}
