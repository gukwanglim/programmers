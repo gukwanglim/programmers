{
 "cells": [
  {
   "attachments": {},
   "cell_type": "markdown",
   "metadata": {},
   "source": [
    "https://www.acmicpc.net/problem/26170\n",
    "\n",
    "![그래프](./image/13.png)"
   ]
  },
  {
   "cell_type": "code",
   "execution_count": null,
   "metadata": {
    "vscode": {
     "languageId": "plaintext"
    }
   },
   "outputs": [],
   "source": [
    "import sys\n",
    "input = sys.stdin.readline\n",
    "\n",
    "T = 3\n",
    "MOVE = [[0, -1], [-1, 0], [0, 1], [1, 0]]\n",
    "\n",
    "[R, C] = [5, 5]\n",
    "INF = R * C\n",
    "\n",
    "info = [list(map(int, input().split())) for _ in range(R)]\n",
    "[r, c] = list(map(int, input().split()))\n",
    "\n",
    "visited = [[False for c in range(C)] for r in range(R)]\n",
    "\n",
    "def dfs(y, x, c, t):\n",
    "    if t == T:\n",
    "        return c\n",
    "    \n",
    "    reslut = INF\n",
    "    visited[y][x] = True\n",
    "    for [dy, dx] in MOVE:\n",
    "        if 0 <= y + dy < R and 0 <= x + dx < C and not visited[y + dy][x + dx]:\n",
    "            if info[y + dy][x + dx] == 0:\n",
    "                reslut = min(reslut, dfs(y + dy, x + dx, c + 1, t))\n",
    "            elif info[y + dy][x + dx] == 1:\n",
    "                reslut = min(reslut, dfs(y + dy, x + dx, c + 1, t + 1))\n",
    "    visited[y][x] = False\n",
    "    return reslut\n",
    "\n",
    "answer = dfs(r, c, 0, 0)\n",
    "print(answer if answer < INF else -1)"
   ]
  }
 ],
 "metadata": {
  "language_info": {
   "name": "python"
  },
  "orig_nbformat": 4
 },
 "nbformat": 4,
 "nbformat_minor": 2
}
