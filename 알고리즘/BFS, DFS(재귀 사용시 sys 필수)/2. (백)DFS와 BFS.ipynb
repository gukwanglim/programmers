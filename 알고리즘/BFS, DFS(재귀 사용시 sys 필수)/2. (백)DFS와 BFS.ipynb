{
 "cells": [
  {
   "cell_type": "markdown",
   "metadata": {},
   "source": [
    "https://www.acmicpc.net/problem/1260\n",
    "\n",
    "![그래프](./image/2.png)"
   ]
  },
  {
   "cell_type": "markdown",
   "metadata": {},
   "source": [
    "이 문제를 해결하기 위해서는 인접행렬 방식을 이용하여 서로 연결되어 있는 간선을 저장해 놓은 상태로 문제를 풀어야 한다.\n",
    "때문에 간선이 연결된 상태를 표현하는 하나의 graph를 생성하여 그것을 이용해 문제를 해결한다."
   ]
  },
  {
   "cell_type": "code",
   "execution_count": null,
   "metadata": {},
   "outputs": [],
   "source": [
    "from collections import deque                                   # BFS를 사용하기 위해서는 deque를 사용하여 popleft를 실행하는 것이 시간 복잡도를 해소한다.\n",
    "\n",
    "n, m, v = map(int, input().split())\n",
    "m_list = [list(map(int, input().split())) for _ in range(m)]\n",
    "\n",
    "graph = [[0] * (n+1) for _ in range(n+1)]                       # 정점은 1부터 시작하기 때문에 쉽게 사용하기 위해 graph의 0번째 인덱스는 그냥 0으로 만들어 사용한다.\n",
    "d_visit = []                                            # dfs를 사용했을 때, 지나간 정점을 저장\n",
    "b_visit = []                                            # bfs를 사용했을 떼, 지나간 정점을 저장\n",
    "\n",
    "queue = deque()\n",
    "\n",
    "for i, j in m_list:                                    # 서로 연결된 정점을 graph에 1로 표현한다.\n",
    "    graph[i][j] = 1\n",
    "    graph[j][i] = 1\n",
    "\n",
    "def dfs(v):\n",
    "    if v not in d_visit:                               # 현재의 젇점이 d_visit에 저장되어 있지 않으면 추가한다.\n",
    "        d_visit.append(v)\n",
    "    else:                                              # 만약, 현재의 정점이 이미 d_visit에 저장되어 있다면 그냥 넘긴다.\n",
    "        return                                         # 이때, return 값은 아무것도 주어지지 않았으나 d_visit에 저장된 값은 남아있다.\n",
    "    \n",
    "    for i in range(1, n+1):                            # 위에서 생성한 graph를 활용하는 것으로 0번 인덱스를 건너뛰고 1번부터 사용한다.\n",
    "        if graph[v][i]:                                # 만약, graph[][]의 값이 1이라면 다시 한 번 dfs()를 사용한다.\n",
    "            dfs(i)                                    # 간단하게 설명하자면 1과 연결된 2가 있다면 2를 이용하여 다시 함수를 돌리고, 2에서 연결된 것이 없다면 for 구문이 끝나고 다시 1에 연결된 것을 찾는다.\n",
    "\n",
    "def bfs(v):\n",
    "    if v not in b_visit:                               # bfs의 경우도 dfs와 비슷하다.\n",
    "        b_visit.append(v)\n",
    "    \n",
    "    for i in range(1, n+1):\n",
    "        if graph[v][i] and i not in b_visit:           # 조건을 만족시키면 queue와 b_visit에 값이 추가되고\n",
    "            queue.append(i)                            # dfs와는 달리 추가되는 순간 재귀를 진행하는 것이 아닌 for 구문이 끝날 때까지 값을 저장하게 된다.\n",
    "            b_visit.append(i)\n",
    "    \n",
    "    if queue:                                          # 모든 저장이 끝나면 queue에 있던 제일 앞의 숫자를 지우고 재귀를 실행한다.\n",
    "        bfs(queue.popleft())\n",
    "        \n",
    "dfs(v)\n",
    "bfs(v)\n",
    "\n",
    "print(*d_visit)\n",
    "print(*b_visit)"
   ]
  }
 ],
 "metadata": {
  "kernelspec": {
   "display_name": "Python 3.9.7 ('base')",
   "language": "python",
   "name": "python3"
  },
  "language_info": {
   "name": "python",
   "version": "3.9.7"
  },
  "orig_nbformat": 4,
  "vscode": {
   "interpreter": {
    "hash": "d5801b79edcda5763ccfe48c18a4ee1d2165db6bc296bae4c89c41a89d640e66"
   }
  }
 },
 "nbformat": 4,
 "nbformat_minor": 2
}
