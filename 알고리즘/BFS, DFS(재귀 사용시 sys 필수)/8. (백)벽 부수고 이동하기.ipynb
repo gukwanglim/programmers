{
 "cells": [
  {
   "cell_type": "markdown",
   "metadata": {},
   "source": [
    "https://www.acmicpc.net/problem/2206\n",
    "\n",
    "![그래프](./image/8.png)"
   ]
  },
  {
   "cell_type": "markdown",
   "metadata": {},
   "source": [
    "푸는 방법을 잘 모르겠어서 다른 사람이 푼 문제를 봤는데 벽을 부순 다음 지나갔을 경로와 그렇지 않을 경로를 구분하는 것을 3차원으로 만들어 \n",
    "1이 존재할 경우에는 아직 벽을 안 부순 상태, 0이 존재할 경우에는 벽을 부순 상태라고 저장하여 사용한다.\n",
    "하지만 3차원 배열을 사용하면서 코드를 작성하니 아직은 이해하기 어려운 부분이 많았다. 때문에 일단은 관련 코드를 가져와서 적어놓고 다음 기회에 더 집중적으로 공부해보기로 했다."
   ]
  },
  {
   "cell_type": "code",
   "execution_count": null,
   "metadata": {},
   "outputs": [],
   "source": [
    "# https://my-coding-notes.tistory.com/169\n",
    "\n",
    "from collections import deque\n",
    "import sys\n",
    "input = sys.stdin.readline\n",
    "\n",
    "n,m = map(int,input().split())\n",
    "# 3차원 배열 구성\n",
    "mapp = [[],[]]\n",
    "for i in range(n):\n",
    "    _ = input().rstrip()\n",
    "    mapp[0].append(list(map(int,list(_))))\n",
    "    mapp[1].append(list(map(int,list(_))))\n",
    "    \n",
    "dx = [0,1,0,-1]\n",
    "dy = [1,0,-1,0]\n",
    "deq,r = deque(),[]\n",
    "\n",
    "# x,y,부술 수 있는 벽의 수\n",
    "deq.append((0,0,1))\n",
    "\n",
    "# 벽이 1이기 때문에 편의상 첫 시작을 2로 하고 마지막에 1을 빼주었다.\n",
    "mapp[1][0][0] = 2\n",
    "mapp[0][0][0] = 2\n",
    "\n",
    "while(deq):\n",
    "    if mapp[0][n-1][m-1] > 0:\n",
    "        break\n",
    "    \n",
    "    x,y,smashed = deq.popleft()\n",
    "    for i in range(4):\n",
    "        a,b = x+dx[i], y+dy[i]\n",
    "        if n > a >= 0 and m > b >= 0:\n",
    "            if mapp[smashed][a][b] == 0:\n",
    "                mapp[smashed][a][b] = mapp[smashed][x][y]+1\n",
    "                if smashed == 1:\n",
    "                    mapp[0][a][b] = min(mapp[0][x][y],mapp[1][x][y])+1\n",
    "                deq.append((a,b,smashed))\n",
    "            \n",
    "            if smashed == 1 and mapp[1][a][b] == 1:\n",
    "                mapp[0][a][b] = mapp[1][x][y]+1\n",
    "                deq.append((a,b,0))\n",
    "\n",
    "# BFS가 끝났는데도 출구가 0이면 -1 출력\n",
    "print(mapp[0][n-1][m-1]-1 if mapp[0][n-1][m-1] > 0 else -1)"
   ]
  }
 ],
 "metadata": {
  "kernelspec": {
   "display_name": "Python 3.9.11 ('pydata')",
   "language": "python",
   "name": "python3"
  },
  "language_info": {
   "name": "python",
   "version": "3.9.11"
  },
  "orig_nbformat": 4,
  "vscode": {
   "interpreter": {
    "hash": "286b3223e4baa2339d35639af96ec91063d7905066fed95d13bac9e189bc76bf"
   }
  }
 },
 "nbformat": 4,
 "nbformat_minor": 2
}
