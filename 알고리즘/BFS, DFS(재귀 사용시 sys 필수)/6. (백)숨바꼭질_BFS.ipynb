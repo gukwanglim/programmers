{
 "cells": [
  {
   "cell_type": "markdown",
   "metadata": {},
   "source": [
    "https://www.acmicpc.net/problem/1697\n",
    "\n",
    "![그래프](./image/6.png)"
   ]
  },
  {
   "cell_type": "markdown",
   "metadata": {},
   "source": [
    "처음 문제를 읽는 순간 dp라는 생각이 들었다.\n",
    "하지만 이 문제는 두 사람이 만나기까지 최소 시간을 요구하는 BFS 문제이다.(생각해보면 dp의 경우는 피보나치가 대표적이지만 이 문제는 언제든 2를 곱할 수 있게 된다.)\n",
    "\n",
    "![그래프](./image/6-2.png)\n",
    "\n",
    "코드가 순차적으로 동작하는 과정을 살펴보면 위 사진과 같다.\n",
    "\n",
    "1차원 배열(이하 visit)의 각각의 좌표는 BFS로 방문한 순서이다.\n",
    "위의 visit[k]가 5이므로, visit[n]부터 이동하는데 총 4초가 걸린 것이다."
   ]
  },
  {
   "cell_type": "markdown",
   "metadata": {},
   "source": [
    "BFS의 문제는 큐의 활용이 중요한다.\n",
    "DFS를 활용할 때는 재귀의 사용에 중점을 둔다면 BFS의 경우에는 큐가 전부라고 해도 과언이 아니다."
   ]
  },
  {
   "cell_type": "code",
   "execution_count": null,
   "metadata": {},
   "outputs": [],
   "source": [
    "from collections import deque                                   # BFS를 사용하기 위해 deque를 import 한다.\n",
    "\n",
    "n, k = map(int, input().split())\n",
    "\n",
    "move_list = [0] * 100001                                        # 여기서 헷갈리면 안되는 것이 범위가 100000까지라고 0이 100000개 존재하는 것이 아닌 100001개 존재해야 한다.(인덱스는 0부터 시작)\n",
    "\n",
    "queue = deque()\n",
    "queue.append(n)                                                 # 먼저, 시작하는 값(인덱스)을 queue에 넣는다.\n",
    "\n",
    "move_list[n] = 1                                                # 현재의 위치는 움직이지 않아도 도착할 수 있는 곳으로 1을 적어 넣는다.(최종 값에서 1을 빼야한다는 뜻이다.)\n",
    "tick = 1                                                        # tick은 이동하는 횟수를 담게 된다.\n",
    "\n",
    "while move_list[k] == 0:                                        # 첫 번째 while 구문은 최종 도착지의 값이 0이 아닐 때까지 돌아가게 된다.\n",
    "    tick += 1                                                   # 즉, while을 한 바퀴 돌면 한 번 이동한 것으로 +1만큼 증가해야 한다.\n",
    "    temp = []                                                   # temp은 다음에 queue에 들어갈 값으로 한 번에 3개 이하의 값이 생성된다.(뒤로 한 칸, 앞으로 한 칸, 두 배 건너뛰기)\n",
    "    \n",
    "    while queue:                                                # 두 번째 while 구문은 queue가 없어질 때까지 돌아간다.\n",
    "        p = queue.popleft()\n",
    "        for i in [p-1, p+1, p*2]:                               # 뒤로 한 칸, 앞으로 한 칸, 두 배 건너뛰기(범위)\n",
    "            if i >= 0 and i < 100001 and move_list[i] == 0:     # 이동한 범위가 제한 구역 내에 존재하면서 move_list(방문한 기록)가 0이라면 움직이는 횟수(tick)로 변경한다.\n",
    "                move_list[i] = tick                             # (여기서 'move_list[i] == 0'인 이유는 whlie 구문이 모두 돌아가면 다시 제자리에서 이동을 시작하는 것이기 때문에 0 아닌\n",
    "                temp.append(i)                                  # 다른 숫자가 존재한다면 이미 i의 위치에 도착할 수 있는 최소 경로가 저장되어 있는 것이다.)\n",
    "    queue = deque(temp)                                         # 마지막으로 이동한 위치(뒤로 한 칸, 앞으로 한 칸, 두 배 건너뛰기)를 저장한 temp를 다시 queue에 넣으면서 반복한다.\n",
    "print(move_list[k] - 1)                                             # 위에서도 말했듯이 현재 위치를 1로 잡았고, 문제에서는 다음 위치로 이동한 순간이 1초이기 때문에 -1을 하여 출력한다."
   ]
  }
 ],
 "metadata": {
  "kernelspec": {
   "display_name": "Python 3.9.11 ('pydata')",
   "language": "python",
   "name": "python3"
  },
  "language_info": {
   "name": "python",
   "version": "3.9.11 (main, Mar 28 2022, 04:40:48) [MSC v.1916 64 bit (AMD64)]"
  },
  "orig_nbformat": 4,
  "vscode": {
   "interpreter": {
    "hash": "286b3223e4baa2339d35639af96ec91063d7905066fed95d13bac9e189bc76bf"
   }
  }
 },
 "nbformat": 4,
 "nbformat_minor": 2
}
