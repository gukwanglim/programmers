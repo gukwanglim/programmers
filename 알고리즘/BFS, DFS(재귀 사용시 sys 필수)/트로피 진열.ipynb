{
 "cells": [
  {
   "cell_type": "markdown",
   "metadata": {},
   "source": [
    "https://www.acmicpc.net/problem/1668\n",
    "\n",
    "![그래프](./image/175.png)"
   ]
  },
  {
   "cell_type": "code",
   "execution_count": null,
   "metadata": {
    "vscode": {
     "languageId": "plaintext"
    }
   },
   "outputs": [],
   "source": [
    "N = int(input())\n",
    "info = [int(input()) for _ in range(N)]\n",
    "\n",
    "[left, right] = [0, 0]\n",
    "answer = [0, 0]\n",
    "for index in range(N):\n",
    "    if info[index] > left:\n",
    "        answer[0] += 1\n",
    "        left = info[index]\n",
    "\n",
    "    if info[N-1-index] > right:\n",
    "        answer[1] += 1\n",
    "        right = info[N-1-index]\n",
    "\n",
    "for data in answer:\n",
    "    print(data)"
   ]
  }
 ],
 "metadata": {
  "language_info": {
   "name": "python"
  },
  "orig_nbformat": 4
 },
 "nbformat": 4,
 "nbformat_minor": 2
}
