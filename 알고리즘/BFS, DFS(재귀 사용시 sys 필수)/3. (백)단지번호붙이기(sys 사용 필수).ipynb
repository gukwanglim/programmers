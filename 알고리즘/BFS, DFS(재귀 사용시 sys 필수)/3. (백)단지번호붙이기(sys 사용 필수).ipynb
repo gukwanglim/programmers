{
 "cells": [
  {
   "cell_type": "markdown",
   "metadata": {},
   "source": [
    "https://www.acmicpc.net/problem/2667\n",
    "\n",
    "![그래프](./image/3.png)"
   ]
  },
  {
   "cell_type": "markdown",
   "metadata": {},
   "source": [
    "지금까지 위 사진과 같이 상하좌우로 이동하면서 길을 찾거나 숫자를 세는 DFS 문제를 풀 때, isBoard 와 같은 함수를 정의하여 범위 밖으로 나가게 될 경우에는 if 구문을 돌지 않도록 하는 식으로 문제를 해결했다.\n",
    "이번에는 기존의 방식이 아닌 굳이 범위를 지정해주지 않아도 되는 방식으로 문제를 풀어본다."
   ]
  },
  {
   "cell_type": "code",
   "execution_count": null,
   "metadata": {},
   "outputs": [],
   "source": [
    "n = int(input())\n",
    "map = [list(map(int,list(input()))) for i in range(n)]      # 문자열로 받아도 list(map())을 사용하게 되면 각 문자를 하나의 원소로 받아와 리스트에 저장할 수 있다.\n",
    "\n",
    "target = []                                                 # 먼저, 주어진 지도에서 1이 적힌 좌표를 target 리스트에 저장한다.\n",
    "for i in range(n):\n",
    "    for j in range(n):\n",
    "        if map[i][j]:\n",
    "            target.append((i,j))\n",
    "            \n",
    "def dfs(a, b):                                              # dfs 함수의 인자는 target에서 받아오는 원소를 사용한다.\n",
    "    global count                                            # 만약, global을 사용하지 않는다면 사용된 count는 초기화가 진행되지 않은 상태로 들어오게 된다.\n",
    "    if (a, b) in target:\n",
    "        count += 1\n",
    "        target.remove((a, b))                               # dfs를 사용한 a, b가 target에 존재할 경우 count를 증가시키고, target 리스트에서 해당 원소를 제거한다.\n",
    "        \n",
    "        dfs(a+1, b)                                         # 아래 while 구문에서 사용하게 되는 것은 target 리스트에 들어있는 원소만을 사용하기 때문에 \n",
    "        dfs(a-1, b)                                         # isBoard와 같은 함수를 정의하여 범위를 벚어나지 못하게 만들지 않아도 알아서 실행할 수 있게 된다.\n",
    "        dfs(a, b+1)\n",
    "        dfs(a, b-1)\n",
    "        \n",
    "count_list = []                                             # 각 동의 아파트 개수를 담을 리스트를 생성한다.\n",
    "while target:                                               # dfs 함수에서 target에 값이 존재하면 if 구문을 돌아 해당 원소를 제거하기 때문에 while의 조건은 target의 유무이다.\n",
    "    count = 0\n",
    "    dfs(target[0][0], target[0][1])                         # dfs의 인자를 target의 첫 번째 원소의 값을 넣는다. dfs가 돌고 나오면 기존에 들어있던 첫 번째 원소는 remove가 된 상태이고 \n",
    "    count_list.append(count)                                # 새로운 원소가 첫 번째 자리를 대신하게 된다.\n",
    "                                                            # dfs 함수에서 자리를 옮겨 확인하다가 0을 만나게 되면 함수는 끝나게 되고 count는 list에 저장된다. \n",
    "count_list.sort()                                           # 첫 번째 동의 아파트 수를 저장하게되면 while으로 인해 새로운 target의 원소가 들어간 상태로 def 함수가 동작한다.\n",
    "print(len(count_list))\n",
    "\n",
    "for i in count_list:\n",
    "    print(i)"
   ]
  },
  {
   "cell_type": "markdown",
   "metadata": {},
   "source": [
    "추가적으로 똑같은 문제인 유기농 배추(https://www.acmicpc.net/problem/1012) 문제도 있다."
   ]
  },
  {
   "cell_type": "code",
   "execution_count": null,
   "metadata": {},
   "outputs": [],
   "source": [
    "import sys\n",
    "sys.setrecursionlimit(10**8)                        # 재귀를 사용함에 있어서 파이썬의 기본 재귀 깊이 제한은 1000으로 매우 얕은 편이다.\n",
    "                                                    # 때문에 재귀를 사용하게 되는 경우에는 무조건 sys.setrecursionlimit(10**8) 의 사용이 필요하다.\n",
    "t = int(input())\n",
    "\n",
    "def dfs(a, b):\n",
    "    if [a, b] in k_list:\n",
    "        k_list.remove([a, b])\n",
    "\n",
    "        dfs(a+1, b)\n",
    "        dfs(a-1, b)\n",
    "        dfs(a, b+1)\n",
    "        dfs(a, b-1)\n",
    "\n",
    "for _ in range(t):\n",
    "    m, n, k = map(int, input().split())\n",
    "    k_list = [list(map(int, input().split())) for _ in range(k)]\n",
    "\n",
    "    answer = 0\n",
    "    while k_list:\n",
    "        answer += 1\n",
    "        dfs(k_list[0][0], k_list[0][1])\n",
    "\n",
    "    print(answer)"
   ]
  }
 ],
 "metadata": {
  "kernelspec": {
   "display_name": "Python 3.9.7 ('base')",
   "language": "python",
   "name": "python3"
  },
  "language_info": {
   "name": "python",
   "version": "3.9.7"
  },
  "orig_nbformat": 4,
  "vscode": {
   "interpreter": {
    "hash": "d5801b79edcda5763ccfe48c18a4ee1d2165db6bc296bae4c89c41a89d640e66"
   }
  }
 },
 "nbformat": 4,
 "nbformat_minor": 2
}
