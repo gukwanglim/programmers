{
 "cells": [
  {
   "cell_type": "markdown",
   "metadata": {},
   "source": [
    "https://www.acmicpc.net/problem/11724\n",
    "\n",
    "![그래프](./image/9.png)"
   ]
  },
  {
   "cell_type": "markdown",
   "metadata": {},
   "source": [
    "처음 이 문제를 봤을 때, 이전에 풀었던 바이러스 문제가 생각났다.\n",
    "바이러스에 감염된 컴퓨터와 연결된 컴퓨터는 같이 바이러스에 감염된다는 것은 이 문제에서 연결 요소와 같다는 뜻이기 때문이다.\n",
    "때문에 하나의 루트를 완성하면 완성된 루트를 제거하고 다시 함수를 돌려 만들어지는 루트의 개수를 출력하면 된다고 생각했다.\n",
    "하지만 그런 식으로 풀기에는 while, for 구문이 너무 복잡하게 꼬여서 문제를 해결하기에 오히려 방해가 됐다.(어쩌면 for 구문이 많아서 시간초과가 뜰 가능성도 존재한다.)"
   ]
  },
  {
   "cell_type": "markdown",
   "metadata": {},
   "source": [
    "먼저, 이 문제는 DFS라고 생각했다.(BFS로도 풀 수 있다.)\n",
    "하나의 노드를 타고 들어가 연결이 끊길 때까지 찾고, 그 루트를 하나의 서클로 보면 되기 때문다.\n",
    "\n",
    "하지만 막상 문제를 풀게되면 중요한 사실들을 쉽게 놓치는 경향이 있었다.\n",
    "DFS를 풀기 위해서는 우선 재귀를 생각해야하며, 재귀로 코드를 구성하기 위해서는 graph가 필요하다."
   ]
  },
  {
   "cell_type": "code",
   "execution_count": null,
   "metadata": {},
   "outputs": [],
   "source": [
    "import sys\n",
    "input = sys.stdin.readline\n",
    "sys.setrecursionlimit(10**6)                    # 재귀를 사용하기 위해서는 python의 제한을 풀어줘야 한다.(이것을 사용하지 않으면 시간초과도 아닌 런타임 에러가 발생한다.)\n",
    "\n",
    "n, m = map(int, input().split())\n",
    "\n",
    "graph = [[] for _ in range(n+1)]                # graph를 만들기 위해 빈 2차원 리스트를 생성한다. 이때, 2차원으로 생성하는 이유는 해당 인덱스를 가지고 있는 정점에 연결된 정점을 확인하기 위해서이다.\n",
    "visited = [0] * (n + 1)                         # 방문한 곳인지 아닌지를 판단하기 위해 visited 리스트로 만든다.\n",
    "                                                # graph와 visited에서 범위를 n+1로 설정한 이유는 모든 인덱스틑 0부터 시작하기 때문에 그냥 0의 자리는 비워놓고 편하게 보기 위해서이다.\n",
    "for _ in range(m):\n",
    "    a, b = map(int, input().split())            # 서로 연결된 정점을 praph 리스트에 담는다. \n",
    "    graph[a].append(b)                          # 여기서 graph[a].append(d)는 a 정점에 연결되어 있는 정점 b를 리스트에 넣어준 것이다.\n",
    "    graph[b].append(a)                          # a와 b가 연결되어 있다면 b도 a에 연결된 상태이므로 반대의 경우도 리스트에 넣어준다.\n",
    "    \n",
    "def dfs(v):                                     # dfs를 사용하기 위해 함수를 선언한다.\n",
    "    if visited[v] > 0:                          # 만약, v번째 정점에 방문한 상태라면 1을 추가할 것이기에 0보다 큰 수가 들어있다면 이미 방문한 정점이다. 고로 return을 수행하면 된다.\n",
    "        return\n",
    "    \n",
    "    visited[v] = 1                              # 위의 if 구문을 그냥 지나쳤다면 방문하지 않은 정점이기에 1로 변경시킨 후, 위에서 만든 graph[v]의 원소를 돌린다.\n",
    "    for i in graph[v]:                          # 예를 들어 1-2, 2-3과 같은 식으로 연결된 상태라면 1번 정점의 visited를 1로 변경 시킨 후, 1번과 연결된 다른 정점(graph[1])의 원소를 가져와 다시 dfs를 실행 \n",
    "        dfs(i)                                  # 2번도 방문하지 않은 상태라면 3번을 확인한다. 만약, 방문한 상태라면 if 구문을 통해 return이 되면 함수가 종료된다.\n",
    "        \n",
    "answer = 0                                      # 이제 연결된 사이클의 개수를 알아보기 위해 answer을 0으로 설정한다.\n",
    "for i in range(1, n+1):                         # praph와 visited에서 0번 인덱스는 버리기로 했기에 1번 인덱스부터 돌린다.\n",
    "    if visited[i] == 0:                         # 만약, 방문하지 않는 정점이라면 새로운 사이클의 시작이므로 answer에 1을 더한다.\n",
    "        answer += 1                             # 반대로 이미 방문한 정점이라면 if 구문을 그냥 지나갈 것이다.\n",
    "        dfs(i)                                  # 방문하지 않은 정점을 만난다면 dfs를 실행하여 방문 도장을 찍어준다.\n",
    "        \n",
    "print(answer)"
   ]
  }
 ],
 "metadata": {
  "kernelspec": {
   "display_name": "Python 3.9.11 ('pydata')",
   "language": "python",
   "name": "python3"
  },
  "language_info": {
   "name": "python",
   "version": "3.9.11"
  },
  "orig_nbformat": 4,
  "vscode": {
   "interpreter": {
    "hash": "286b3223e4baa2339d35639af96ec91063d7905066fed95d13bac9e189bc76bf"
   }
  }
 },
 "nbformat": 4,
 "nbformat_minor": 2
}
