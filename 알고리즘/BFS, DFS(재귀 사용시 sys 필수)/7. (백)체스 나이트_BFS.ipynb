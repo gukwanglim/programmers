{
 "cells": [
  {
   "cell_type": "markdown",
   "metadata": {},
   "source": [
    "https://www.acmicpc.net/problem/7562\n",
    "\n",
    "![그래프](./image/7.png)"
   ]
  },
  {
   "cell_type": "markdown",
   "metadata": {},
   "source": [
    "나이트가 움직이는 최단거리를 출력하는 문제로 BFS를 사용해야 한다."
   ]
  },
  {
   "cell_type": "code",
   "execution_count": null,
   "metadata": {},
   "outputs": [],
   "source": [
    "from collections import deque                                               # BFS를 사용하기 위한 deque\n",
    "\n",
    "t = int(input())\n",
    "\n",
    "for _ in range(t):\n",
    "    n = int(input())\n",
    "    start = list(map(int, input().split()))\n",
    "    end = list(map(int, input().split()))\n",
    "    \n",
    "    board = [[0]*n for _ in range(n)]                                       # 0으로 구성된 체스판을 생성한다.\n",
    "    \n",
    "    DIRECTION = [[-2,1],[-2,-1],[1,2],[-1,2],[2,1],[2,-1],[1,-2],[-1,-2]]   # 나이트가 움직일 수 있는 방향을 설정한다.\n",
    "    isBound = lambda y, x: (y >= 0 and y < n and x >= 0 and x < n)          # 체스판 밖으로 나가지 못하게 범위를 설정한다.\n",
    "    \n",
    "    queue = deque()\n",
    "    queue.append(start)                                                     # BFS의 queue에 처음 들어가는 값은 시작값이다.\n",
    "    \n",
    "    if start == end:                                                        # 현재의 위치가 목적지라면 움직이지 않아도 된다.\n",
    "        print(0)\n",
    "    else:\n",
    "        while queue:\n",
    "            [y, x] = queue.popleft()\n",
    "            if y == end[0] and x == end[1]:                                 # 목적지에 도착하면 while 구문을 끝낸다.\n",
    "                break\n",
    "            for dy, dx in DIRECTION:\n",
    "                if isBound(y+dy, x+dx) and board[y+dy][x+dx] == 0:\n",
    "                    board[y+dy][x+dx] = board[y][x] + 1\n",
    "                    queue.append([y+dy, x+dx])\n",
    "\n",
    "        print(board[end[0]][end[1]])"
   ]
  }
 ],
 "metadata": {
  "kernelspec": {
   "display_name": "pydata",
   "language": "python",
   "name": "pydata"
  },
  "language_info": {
   "name": "python",
   "version": "3.9.11 (main, Mar 28 2022, 04:40:48) [MSC v.1916 64 bit (AMD64)]"
  },
  "orig_nbformat": 4,
  "vscode": {
   "interpreter": {
    "hash": "286b3223e4baa2339d35639af96ec91063d7905066fed95d13bac9e189bc76bf"
   }
  }
 },
 "nbformat": 4,
 "nbformat_minor": 2
}
