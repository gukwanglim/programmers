{
 "cells": [
  {
   "cell_type": "markdown",
   "metadata": {},
   "source": [
    "https://my-coding-notes.tistory.com/217\n",
    "\n",
    "![그래프](./image/10-1.png)\n",
    "![그래프](./image/10-2.png)"
   ]
  },
  {
   "cell_type": "markdown",
   "metadata": {},
   "source": [
    "이 문제는 수면의 높이를 점차 높여가며 전부 확인해야 하는 브루트 포스와 수면 높이에 따라 잠기지 않는 영역의 개수를 찾는 BFS를 함께 사용하는 문제이다."
   ]
  },
  {
   "cell_type": "code",
   "execution_count": null,
   "metadata": {},
   "outputs": [],
   "source": [
    "from collections import deque                                                   # BFS를 사용하기 위해 deque를 import 한다.\n",
    "\n",
    "n = int(input())\n",
    "mapp = [list(map(int, input().split())) for _ in range(n)]\n",
    "\n",
    "DIRECTION = [(0, -1), (1, 0), (0, 1), (-1, 0)]\n",
    "isBound = lambda y, x: (y >= 0 and y < n and x >= 0 and x < n)\n",
    "\n",
    "result = 0                                                                      # 결과로 출력할 침수되지 않은 구역의 개수를 result에 저장하게 된다.\n",
    "for i in range(100):                                                            # 브루스 포트(다음 번에 기회가 생기면 공부) 간단히 말해 100번 동안 돌아가면 수위를 높이기 위해 for 구문을 사용한다.\n",
    "    temp_map = [item[:] for item in mapp]                                       # 한 번 for 구문을 돌 때마다 temp_map은 기존 mapp으로 갱신되어야 하는데, 만약, copy()를 사용할 경우 코드가 꼬이게 된다.\n",
    "    \n",
    "    area = 0                                                                    # 물에 잠기지 않은 구역의 수를 저장하는데 만약, 잠기지 않은 구역이 상하좌우에 연속되어 있다면 area는 증가하지 않는다.\n",
    "    for j in range(n):\n",
    "        for k in range(n):\n",
    "            if temp_map[j][k] > i:\n",
    "                queue = deque([(j, k)])\n",
    "                area += 1                                                       # 현재 수위보다 높은 위치에 존재하는 도시의 수를 센다.\n",
    "\n",
    "                while queue:\n",
    "                    y, x = queue.popleft()\n",
    "                    if temp_map[y][x] <= i:                                     # while 구문을 돌면서 처음 들어온 구역의 상하좌우가 물에 잠긴 상태인지 확인한다.\n",
    "                        continue                                                # 만약, +dy, +dx한 구역이 물에 잠긴다면 아무런 행동을 수행하지 않고 다시 while을 진행한다.\n",
    "\n",
    "                    temp_map[y][x] = 0                                          # 물에 잠기지 않은 구역이라면 그 위치를 0으로 칠해준다. -> 다시 만나게 될 경우 무시할 수 있다.\n",
    "                    for dy, dx in DIRECTION:\n",
    "                        if isBound(y+dy, x+dx) and temp_map[y+dy][x+dx] > i:    # 범위를 만족하고, 물에 잠기지 않는 구역은 다시 queue 안에 넣고 while을 진행한다.\n",
    "                            queue.append((y+dy, x+dx))\n",
    "                            \n",
    "    if area == 0:                                                               # 만약, for, while을 돌았는데 area가 0이라면 모두 잠긴 상태로 더 이상 구문을 실행할 필요가 없어진다. \n",
    "        break           \n",
    "    if area > result:                                                           # area가 result보다 크다면 result의 값을 갱신하여 출력할 수 있도록 한다.\n",
    "        result = area\n",
    "print(result)"
   ]
  },
  {
   "cell_type": "markdown",
   "metadata": {},
   "source": [
    "처음 사용되는 for 구문(range(100)을 사용하는 부분)을 제외한다면, 전체 map에서 서로 연결되어 있는 부분의 개수를 뽑아낸 것이나 다름이 없다."
   ]
  }
 ],
 "metadata": {
  "kernelspec": {
   "display_name": "Python 3.9.11 ('pydata')",
   "language": "python",
   "name": "python3"
  },
  "language_info": {
   "name": "python",
   "version": "3.9.11"
  },
  "orig_nbformat": 4,
  "vscode": {
   "interpreter": {
    "hash": "286b3223e4baa2339d35639af96ec91063d7905066fed95d13bac9e189bc76bf"
   }
  }
 },
 "nbformat": 4,
 "nbformat_minor": 2
}
