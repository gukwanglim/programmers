{
 "cells": [
  {
   "attachments": {},
   "cell_type": "markdown",
   "metadata": {},
   "source": [
    "https://www.acmicpc.net/problem/2210\n",
    "\n",
    "![그래프](./image/14.png)"
   ]
  },
  {
   "cell_type": "code",
   "execution_count": null,
   "metadata": {},
   "outputs": [],
   "source": [
    "mt = [list(map(str, input().split())) for _ in range(5)]\n",
    "\n",
    "def dfs(y, x, n):\n",
    "    if len(n) == 6:\n",
    "        if n not in answer:\n",
    "            answer.append(n)\n",
    "            \n",
    "        return answer\n",
    "    \n",
    "    DIRECTION = [(0, -1), (1, 0), (0, 1), (-1, 0)]\n",
    "    isBound = lambda y, x: (y >= 0 and y < 5 and x >= 0 and x < 5) \n",
    "    \n",
    "    for dy, dx in DIRECTION:        \n",
    "        if isBound(y+dy, x+dx):\n",
    "            dfs(y+dy, x+dx, n+mt[y+dy][x+dx])\n",
    "\n",
    "answer = []\n",
    "for i in range(5):\n",
    "    for j in range(5):\n",
    "        dfs(i, j, mt[i][j])\n",
    "print(len(answer))"
   ]
  }
 ],
 "metadata": {
  "kernelspec": {
   "display_name": "pydata",
   "language": "python",
   "name": "python3"
  },
  "language_info": {
   "name": "python",
   "version": "3.9.11"
  },
  "orig_nbformat": 4,
  "vscode": {
   "interpreter": {
    "hash": "286b3223e4baa2339d35639af96ec91063d7905066fed95d13bac9e189bc76bf"
   }
  }
 },
 "nbformat": 4,
 "nbformat_minor": 2
}
