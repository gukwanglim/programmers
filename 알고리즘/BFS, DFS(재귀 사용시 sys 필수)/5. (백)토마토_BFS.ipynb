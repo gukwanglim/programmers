{
 "cells": [
  {
   "cell_type": "markdown",
   "metadata": {},
   "source": [
    "https://www.acmicpc.net/problem/7576\n",
    "\n",
    "![그래프](./image/5.png)"
   ]
  },
  {
   "cell_type": "markdown",
   "metadata": {},
   "source": [
    "이전의 문제들과 비슷하지만 BFS의 시작점이 여러개 존재할 수 있다는 점이 다르다.\n",
    "일단, 모든 지점을 거쳐야 한다는 점에서 DFS가 아닌 BFS에 초점을 두고 접근을 시도한다."
   ]
  },
  {
   "cell_type": "code",
   "execution_count": null,
   "metadata": {},
   "outputs": [],
   "source": [
    "from collections import deque\n",
    "\n",
    "m,n = map(int, input().split())\n",
    "tomato = [list(map(int, input().split())) for _ in range(n)]\n",
    "\n",
    "DIRECTION = [(0, -1), (1, 0), (0, 1), (-1, 0)]\n",
    "isBound = lambda y, x: (y >= 0 and y < n and x >= 0 and x < m)\n",
    "\n",
    "queue = deque()\n",
    "for i in range(n):\n",
    "    for j in range(m):\n",
    "        if tomato[i][j] == 1:                                   # 익은 토마토가 존재하는 위치 정보를 모두 queue 안에 저장한다.\n",
    "            queue.append((i, j))                                # 지금까지의 BFS는 시작 부분이 정해져 있었지만, 이 문제에서는 시작 부분의 위치와 개수도 정해지지 않은 문제이다. \n",
    "\n",
    "while queue:\n",
    "    [y, x] = queue.popleft()\n",
    "    for dy, dx in DIRECTION:\n",
    "        if isBound(y+dy, x+dx) and tomato[y+dy][x+dx] == 0:     # 1 주변에 존재하던 0을 만나게 되면 해당 위치에 이전에 존재하던 숫자에 1을 더한 수를 저장한다.('이동 수 + 1'이 된다.)\n",
    "            tomato[y+dy][x+dx] = tomato[y][x] + 1               \n",
    "            queue.append((y+dy, x+dx))\n",
    "            \n",
    "answer = 0\n",
    "for i in tomato:                                                # 이때, 이중 for 구문을 사용한다면 출력하기 어려워진다.(sys.exit()을 사용하면 해결되긴 한다. -> import sys를 해야한다.)\n",
    "    if 0 in i:\n",
    "        answer = 0      # 만약, 여기서 'answer = 0' 을 사용하지 않는다면 이미 for 구문이 동작하면서 저장된 answer가 그 상태로 출력되기 때문에 따로 answer = 0으로 지정해줘야 한다.\n",
    "        break\n",
    "    elif max(i) > answer:                                       # tomato 리스트에 저장된 값 중, 제일 큰 값이 걸린 시간을 의미한다.\n",
    "        answer = max(i)\n",
    "print(answer - 1)"
   ]
  }
 ],
 "metadata": {
  "kernelspec": {
   "display_name": "Python 3.9.11 ('pydata')",
   "language": "python",
   "name": "python3"
  },
  "language_info": {
   "name": "python",
   "version": "3.9.11"
  },
  "orig_nbformat": 4,
  "vscode": {
   "interpreter": {
    "hash": "286b3223e4baa2339d35639af96ec91063d7905066fed95d13bac9e189bc76bf"
   }
  }
 },
 "nbformat": 4,
 "nbformat_minor": 2
}
