{
 "cells": [
  {
   "cell_type": "markdown",
   "metadata": {},
   "source": [
    "https://www.acmicpc.net/problem/1553\n",
    "\n",
    "![그래프](./image/159.png)"
   ]
  },
  {
   "cell_type": "code",
   "execution_count": null,
   "metadata": {
    "vscode": {
     "languageId": "plaintext"
    }
   },
   "outputs": [],
   "source": [
    "import sys\n",
    "input = sys.stdin.readline\n",
    "\n",
    "domino = [[False for j in range(6 + 1)] for i in range(6 + 1)]\n",
    "answer = [list(map(int, list(input().strip()))) for _ in range(8)]\n",
    "visited = [[False for c in range(7)] for r in range(8)]\n",
    "\n",
    "def dfs(curr):\n",
    "    if curr == 56:\n",
    "        return 1\n",
    "    y = curr // 7\n",
    "    x = curr % 7\n",
    "    if visited[y][x]:\n",
    "        return dfs(curr + 1)\n",
    "    \n",
    "    count = 0\n",
    "    visited[y][x] = True\n",
    "    for (dy, dx) in [(0, 1), (1, 0)]:\n",
    "        if y + dy < 8 and x + dx < 7:\n",
    "            if visited[y + dy][x + dx]:\n",
    "                continue\n",
    "            if domino[answer[y][x]][answer[y + dy][x + dx]]:\n",
    "                continue\n",
    "            domino[answer[y][x]][answer[y + dy][x + dx]] = domino[answer[y + dy][x + dx]][answer[y][x]] = True\n",
    "            visited[y + dy][x + dx] = True\n",
    "            count += dfs(curr + 1)\n",
    "            visited[y + dy][x + dx] = False\n",
    "            domino[answer[y][x]][answer[y + dy][x + dx]] = domino[answer[y + dy][x + dx]][answer[y][x]] = False\n",
    "    visited[y][x] = False\n",
    "    return count\n",
    "    \n",
    "print(dfs(0))"
   ]
  }
 ],
 "metadata": {
  "language_info": {
   "name": "python"
  },
  "orig_nbformat": 4
 },
 "nbformat": 4,
 "nbformat_minor": 2
}
