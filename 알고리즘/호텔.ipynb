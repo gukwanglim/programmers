{
 "cells": [
  {
   "cell_type": "markdown",
   "metadata": {},
   "source": [
    "https://www.acmicpc.net/problem/1106\n",
    "\n",
    "![그래프](./image/197.png)"
   ]
  },
  {
   "cell_type": "code",
   "execution_count": null,
   "metadata": {
    "vscode": {
     "languageId": "plaintext"
    }
   },
   "outputs": [],
   "source": [
    "MAX = 1000 * 100\n",
    "\n",
    "[C, N] = list(map(int, input().split()))\n",
    "info = [list(map(int, input().split())) for _ in range(N)]\n",
    "\n",
    "dp = [MAX for _ in range(C+1)]\n",
    "stack = [(0, 0)]\n",
    "\n",
    "while stack:\n",
    "    [money, count] = stack.pop()\n",
    "\n",
    "    for [cost, profit] in info:\n",
    "        if dp[min(C, count + profit)] > money + cost:\n",
    "            dp[min(C, count + profit)] = money + cost\n",
    "            stack.append((money + cost, count + profit))\n",
    "\n",
    "print(dp[C])"
   ]
  }
 ],
 "metadata": {
  "language_info": {
   "name": "python"
  },
  "orig_nbformat": 4
 },
 "nbformat": 4,
 "nbformat_minor": 2
}
