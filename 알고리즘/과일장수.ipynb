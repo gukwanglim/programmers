{
 "cells": [
  {
   "attachments": {},
   "cell_type": "markdown",
   "metadata": {},
   "source": [
    "https://school.programmers.co.kr/learn/courses/30/lessons/135808\n",
    "\n",
    "![그래프](./image/49.png)"
   ]
  },
  {
   "cell_type": "code",
   "execution_count": null,
   "metadata": {},
   "outputs": [],
   "source": [
    "def solution(k, m, score):\n",
    "    answer = 0\n",
    "    \n",
    "    score = sorted(score)\n",
    "    \n",
    "    while score:\n",
    "        apple = [-1] * m\n",
    "        \n",
    "        for i in range(m):\n",
    "            if score:\n",
    "                apple[i] = score.pop()\n",
    "        \n",
    "        if -1 not in apple:\n",
    "            answer += min(apple) * m\n",
    "    \n",
    "    return answer"
   ]
  }
 ],
 "metadata": {
  "language_info": {
   "name": "python"
  },
  "orig_nbformat": 4
 },
 "nbformat": 4,
 "nbformat_minor": 2
}
