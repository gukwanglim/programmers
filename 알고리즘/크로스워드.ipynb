{
 "cells": [
  {
   "attachments": {},
   "cell_type": "markdown",
   "metadata": {},
   "source": [
    "https://www.acmicpc.net/problem/1706\n",
    "\n",
    "![그래프](./image/131.png)"
   ]
  },
  {
   "cell_type": "code",
   "execution_count": null,
   "metadata": {
    "vscode": {
     "languageId": "plaintext"
    }
   },
   "outputs": [],
   "source": [
    "r, c = map(int, input().split())\n",
    "board = []\n",
    "word_list = []\n",
    "\n",
    "for _ in range(r):\n",
    "    board.append(list(input()))\n",
    "\n",
    "for i in range(r):\n",
    "    word = ''\n",
    "    for j in range(c):\n",
    "        if board[i][j] != '#':\n",
    "            word += board[i][j]\n",
    "        elif board[i][j] == '#':\n",
    "            if len(word) > 1:\n",
    "                word_list.append(word)\n",
    "                word = ''\n",
    "            else:\n",
    "                word = ''\n",
    "            \n",
    "    if len(word) > 1:\n",
    "        word_list.append(word)\n",
    "        \n",
    "for j in range(c):\n",
    "    word = ''\n",
    "    for i in range(r):\n",
    "        if board[i][j] != '#':\n",
    "            word += board[i][j]\n",
    "        elif board[i][j] == '#':\n",
    "            if len(word) > 1:\n",
    "                word_list.append(word)\n",
    "                word = ''\n",
    "            else:\n",
    "                word = ''\n",
    "            \n",
    "    if len(word) > 1:\n",
    "        word_list.append(word)\n",
    "            \n",
    "word_list.sort()\n",
    "\n",
    "print(word_list[0])"
   ]
  }
 ],
 "metadata": {
  "language_info": {
   "name": "python"
  },
  "orig_nbformat": 4
 },
 "nbformat": 4,
 "nbformat_minor": 2
}
