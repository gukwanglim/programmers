{
 "cells": [
  {
   "cell_type": "markdown",
   "metadata": {},
   "source": [
    "https://www.acmicpc.net/problem/1644\n",
    "\n",
    "![그래프](./image/187.png)"
   ]
  },
  {
   "cell_type": "code",
   "execution_count": null,
   "metadata": {
    "vscode": {
     "languageId": "plaintext"
    }
   },
   "outputs": [],
   "source": [
    "import sys\n",
    "from collections import deque\n",
    "input = sys.stdin.readline\n",
    "\n",
    "N = int(input())\n",
    "MAX = N + 1\n",
    "prime = [False, False] + [True] * (MAX-1)\n",
    "for i in range(2, MAX + 1):\n",
    "  if prime[i]:\n",
    "    for j in range(2 * i, MAX + 1, i):\n",
    "        prime[j] = False\n",
    "\n",
    "answer = 0\n",
    "dequeue = deque([])\n",
    "summary = 0\n",
    "for num in range(1, N + 1):\n",
    "    if(prime[num]):\n",
    "        dequeue.append(num)\n",
    "        summary += num\n",
    "\n",
    "        while summary > N:\n",
    "            summary -= dequeue.popleft()\n",
    "        \n",
    "        if summary == N:\n",
    "            answer += 1\n",
    "print(answer)s"
   ]
  }
 ],
 "metadata": {
  "language_info": {
   "name": "python"
  },
  "orig_nbformat": 4
 },
 "nbformat": 4,
 "nbformat_minor": 2
}
