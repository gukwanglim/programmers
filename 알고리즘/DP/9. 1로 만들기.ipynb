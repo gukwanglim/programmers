{
 "cells": [
  {
   "cell_type": "markdown",
   "metadata": {},
   "source": [
    "https://www.acmicpc.net/problem/1463\n",
    "\n",
    "![그래프](./image/9.png)"
   ]
  },
  {
   "cell_type": "markdown",
   "metadata": {},
   "source": [
    "문제를 보는 순간 if 구문을 돌려서 만들면 된다고 느껴진다.\n",
    "지금까지 이런 느낌을 받는 문제라면 dp로 훨씬 간단하게 풀렸기 때문에 dp를 이용하도록 한다.\n",
    "\n",
    "하지만 dp로 풀려고 생각하니 어려움을 겪었다.\n",
    "이 문제는 최적 부분 구조이므로(예를 들어 10일 경우는 5*2, 9+1 두 가지로 볼 수 있다. 즉, 5를 만드는 최소한의 연산 횟수와 9를 만들 수 있는 최소한의 연산 횟수를 찾으면 된다.)"
   ]
  },
  {
   "cell_type": "code",
   "execution_count": null,
   "metadata": {},
   "outputs": [],
   "source": [
    "n = int(input())\n",
    "\n",
    "nums = [0, 0]                       # nums는 0과 1일 경우, 사용할 연산 개수를 저장한다.   \n",
    "\n",
    "for i in range(2,n+1):\n",
    "    num = [nums[i-1]+1]             # 새로운 리스트 num에는 nums에 저장된 마지막 값(인덱스에 맞는 연산 횟수)에 1을 더한 값을 넣는다.\n",
    "    if i % 2 == 0:                  # 인덱스가 2로 나뉠 겨우, 해당 인덱스를 2로 나눈 몫에 1을 더한 값을 넣는다.\n",
    "        num.append(nums[i//2]+1)    # 즉, 인덱스가 2일 경우에는 몫은 1이므로 nums의 1에 해당하는 값(1일 경우 연산 횟수)에 1을 더하여 num에 추가하는 것이다.\n",
    "    if i % 3 == 0:                  # 마찬가지로 인덱스가 3으로 나뉠 경우, 해당 인덱스를 3으로 나눈 몫에 1을 더한 값을 넣는다.\n",
    "        num.append(nums[i//3]+1)\n",
    "    nums.append(min(num))           # 마지막으로 num에 존재하는 값(2, 3으로 나누지 않을 경우(예를 들어 5인 경우)에는 1개, 2, 3로 나뉠 경우에는 2개, 2, 3 모두로 나뉠 경우에는 3개)중 제일 작은 값을 nums에 추가\n",
    "print(nums[n])                      # min 값을 넣는 이유는 최소한의 연산 횟수를 뽑아내기 위함이다."
   ]
  }
 ],
 "metadata": {
  "kernelspec": {
   "display_name": "Python 3.9.7 ('base')",
   "language": "python",
   "name": "python3"
  },
  "language_info": {
   "name": "python",
   "version": "3.9.7"
  },
  "orig_nbformat": 4,
  "vscode": {
   "interpreter": {
    "hash": "d5801b79edcda5763ccfe48c18a4ee1d2165db6bc296bae4c89c41a89d640e66"
   }
  }
 },
 "nbformat": 4,
 "nbformat_minor": 2
}
