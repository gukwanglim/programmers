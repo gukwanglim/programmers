{
 "cells": [
  {
   "cell_type": "markdown",
   "metadata": {},
   "source": [
    "https://www.acmicpc.net/problem/1679\n",
    "\n",
    "![그래프](./image/11.png)"
   ]
  },
  {
   "cell_type": "markdown",
   "metadata": {},
   "source": [
    "처음 문제를 확인했을 때, DFS를 사용해야 하는 것처럼 보였지만, 알고보면 DP를 사용하는 문제이다.\n",
    "인덱스를 선정할 때, 현재의 인덱스가 출력하는 값이 되고, 인덱스 안에 담긴 숫자가 해당 인덱스를 만들 때, 몇 가지의 숫자를 활용하여 만드는 것인지에 대한 것으로 풀어야 한다."
   ]
  }
 ],
 "metadata": {
  "kernelspec": {
   "display_name": "Python 3.9.11 ('pydata')",
   "language": "python",
   "name": "python3"
  },
  "language_info": {
   "name": "python",
   "version": "3.9.11"
  },
  "orig_nbformat": 4,
  "vscode": {
   "interpreter": {
    "hash": "286b3223e4baa2339d35639af96ec91063d7905066fed95d13bac9e189bc76bf"
   }
  }
 },
 "nbformat": 4,
 "nbformat_minor": 2
}
