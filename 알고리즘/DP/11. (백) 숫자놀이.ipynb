{
 "cells": [
  {
   "cell_type": "markdown",
   "metadata": {},
   "source": [
    "https://www.acmicpc.net/problem/1679\n",
    "\n",
    "![그래프](./image/11.png)"
   ]
  },
  {
   "cell_type": "markdown",
   "metadata": {},
   "source": [
    "처음 문제를 확인했을 때, DFS를 사용해야 하는 것처럼 보였지만, 알고보면 DP를 사용하는 문제이다.\n",
    "인덱스를 선정할 때, 현재의 인덱스가 출력하는 값이 되고, 인덱스 안에 담긴 숫자가 해당 인덱스를 만들 때, 몇 가지의 숫자를 활용하여 만드는 것인지에 대한 것으로 풀어야 한다."
   ]
  },
  {
   "cell_type": "code",
   "execution_count": null,
   "metadata": {},
   "outputs": [],
   "source": [
    "N = int(input())\n",
    "info = list(map(int, input().split()))\n",
    "K = int(input())\n",
    "\n",
    "dp = [0]                                    # dp 리스트 생성\n",
    "\n",
    "curr = 0                                    # 현재의 위치(index(1부터 시작), 만들 수 있는 수를 의미)\n",
    "while dp[-1] <= K:                          # dp의 마지막 원소가 k보다 클 경우, 다시 말해 사용해야하는 숫자 타일의 제한을 넘길 경우 while 구문 종료\n",
    "    curr += 1                               # curr의 첫 시작은 0부터 이므로 즉시 1을 증가시켜준다.\n",
    "\n",
    "    if curr in info:                        # curr이 info에 들어있는 숫자(타일 하나로 만들 수 있는 숫자)일 경우, dp에 1을 append한다.\n",
    "        dp.append(1)\n",
    "        continue                                # contiue의 쓰임이 항상 헷갈리는데 continue를 만나면 아래 코드가 실행되는 것이 아니라 위로 올라가 처음부터 실행되는 것이다.\n",
    "\n",
    "    dp.append(K+1)                          # 만약, 숫자 타일을 이용하여 값을 만들 수 없으면 while 구문이 끝나야 하기 때문에 k보다 1 큰 수를 넣는다.\n",
    "    for prev in info:                       # dp에서 가장 기본적으로 알아야 하는 법칙으로 1, 3 숫자 타일이 존재하고 4를 만들어야 할 때는 4-1=3으로 나온 3을 만들 수 있는 숫자 타일의 수에 1을 더하고\n",
    "        if curr - prev >= 0:                # 4-3=1을 만들 수 있는 숫자 타일의 수에 1을 더하면 최종적으로 4를 만들 수 있는 숫자 타일의 개수를 구할 수 있다.\n",
    "            dp[curr] = min(dp[curr], dp[curr - prev] + 1)   # 처음에는 dp[curr] = k+1의 값을 가지고 있다. 그 후, '현재 인덱스 - info에 들어있는 수'와 비교하여 작은 수를 담게 되고\n",
    "                                                            # for 구문이 돌아 info에 들어있는 다음 수와 현재 인덱스의 차를 가지고 더 작은 수를 찾아서 넣는 것이다.\n",
    "print(\"jjaksoon win at {0}\".format(curr)) if curr % 2 else print(\"holsoon win at {0}\".format(curr))"
   ]
  }
 ],
 "metadata": {
  "kernelspec": {
   "display_name": "Python 3.9.11 ('pydata')",
   "language": "python",
   "name": "python3"
  },
  "language_info": {
   "name": "python",
   "version": "3.9.11"
  },
  "orig_nbformat": 4,
  "vscode": {
   "interpreter": {
    "hash": "286b3223e4baa2339d35639af96ec91063d7905066fed95d13bac9e189bc76bf"
   }
  }
 },
 "nbformat": 4,
 "nbformat_minor": 2
}
