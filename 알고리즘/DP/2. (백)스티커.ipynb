{
 "cells": [
  {
   "cell_type": "markdown",
   "metadata": {},
   "source": [
    "https://www.acmicpc.net/problem/9465\n",
    "\n",
    "![그래프](./image/2.png)"
   ]
  },
  {
   "cell_type": "markdown",
   "metadata": {},
   "source": [
    "직감적으로 dp 문제라는 사실을 알기 어려웠다.\n",
    "대신 이전에 풀었던 동물원 문제와 비슷한 느낌을 가지고 있다.\n",
    "\n",
    "동물원 문제를 살펴보면 [0, 0, 0]으로 각 경우의 수에 해당하는 값을 저장한 후, 마지막에 정답을 출력하는 방식이다.\n",
    "이렇게 생각해보면 스티커 문제도 dp라고 느껴질 수 있다."
   ]
  },
  {
   "cell_type": "markdown",
   "metadata": {},
   "source": [
    "1. 사용하고자 하는 스티커의 상하좌우는 모두 버려야 한다. 즉, 대각선의 스티커만을 사용해야 한다는 뜻이다.\n",
    "2. 하지만 문제의 예시를 살펴보면 무조건 대각선의 스티커만을 선택하는 것이 아니라 그 다음 스티커의 점수를 고려하여 한 칸을 건너뛰고 다음 스티커를 고른 모습을 볼 수 있다.\n",
    "3. 따라서 단순히 대각선만을 고르는 경우의 점수(지그재그 방식)과 한 칸을 건너뛰고 선택하는 경우의 점수 중 더 높은 점수를 저장해야 한다."
   ]
  },
  {
   "cell_type": "code",
   "execution_count": null,
   "metadata": {},
   "outputs": [],
   "source": [
    "t = int(input())\n",
    "\n",
    "for _ in range(t):\n",
    "    n = int(input())\n",
    "    dp = [list(map(int, input().split())), list(map(int, input().split()))]             # dp 리스트는 0으로 채우는 것이 아닌 값을 받아와 사용해도 상관없다.\n",
    "    \n",
    "    if n > 1:                     # n>1 조건을 사용하지 않으면 런타임 에러가 발생한다.(한 칸짜리 스티커도 문제에 포함되어 있는 것 같다.) \n",
    "        dp[0][1] += dp[1][0]      # for 구문을 돌릴 때, 2번 index부터 시작하기 위해 첫 번째(스티커로 따지면 두 번째) 값을 미리 넣어준다.\n",
    "        dp[1][1] += dp[0][0]\n",
    "\n",
    "        for i in range(2, n):\n",
    "            dp[0][i] += max(dp[1][i-1], dp[0][i-2], dp[1][i-2])    # i번째 윗줄에는 i-1번째 아래 스티커에 적혀있는 값과 i-2번째 스티커에 적혀있는 값 중, 가장 큰 값을 저장한다.\n",
    "            dp[1][i] += max(dp[0][i-1], dp[0][i-2], dp[1][i-2])    # i번째 아랫줄에는 i-1번째 위 스티커에 적혀있는 값과 i-2번째 스티커에 적혀있는 값 중, 가장 큰 값을 저장한다.\n",
    "\n",
    "    print(max(dp[0][-1], dp[1][-1]))       # 마지막 줄의 값 중, 큰 값을 출력한다."
   ]
  },
  {
   "cell_type": "markdown",
   "metadata": {},
   "source": [
    "문제만 읽었을 때는 if 구문을 사용하여 해결해야겠다는 생각밖에 들지 않았다.\n",
    "if 구문을 포함하지 않으면 문제를 풀 수 없을 것이라 판단한 것이다.\n",
    "하지만 dp를 사용하여 풀어보면 if를 사용하지 않고 값을 저장하여 문제를 풀 수 있게 된다.\n",
    "\n",
    "즉, dp는 경우의 수 문제뿐만 아니라 나올 수 있는 값의 크기가 큰 것을 고르는 문제에도 사용될 수 있다는 뜻이다."
   ]
  }
 ],
 "metadata": {
  "kernelspec": {
   "display_name": "Python 3.9.7 ('base')",
   "language": "python",
   "name": "python3"
  },
  "language_info": {
   "name": "python",
   "version": "3.9.7"
  },
  "orig_nbformat": 4,
  "vscode": {
   "interpreter": {
    "hash": "d5801b79edcda5763ccfe48c18a4ee1d2165db6bc296bae4c89c41a89d640e66"
   }
  }
 },
 "nbformat": 4,
 "nbformat_minor": 2
}
