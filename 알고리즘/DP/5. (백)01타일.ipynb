{
 "cells": [
  {
   "cell_type": "markdown",
   "metadata": {},
   "source": [
    "https://www.acmicpc.net/problem/1904\n",
    "\n",
    "![그래프](./image/5.png)"
   ]
  },
  {
   "cell_type": "markdown",
   "metadata": {},
   "source": [
    "경우의 수를 구한는 전형적인 dp 문제라고 할 수 있다.\n",
    "심지어 규칙을 찾아보면\n",
    "n=1 : 1\n",
    "n=2 : 2\n",
    "n=3 : 3\n",
    "n=4 : 5\n",
    "n=5 : 8\n",
    "으로 피보나치 수열이라는 것을 확인할 수 있다."
   ]
  },
  {
   "cell_type": "code",
   "execution_count": null,
   "metadata": {},
   "outputs": [],
   "source": [
    "n = int(input())\n",
    "\n",
    "if n == 1:              # n이 1일 경우오는 오류가 발생한다\n",
    "    print(1)\n",
    "\n",
    "else:\n",
    "    dp = [0] * n\n",
    "\n",
    "    dp[0] = 1\n",
    "    dp[1] = 2\n",
    "\n",
    "    for i in range(2, n):\n",
    "        dp[i] = (dp[i-1] + dp[i-2] % 15746)\n",
    "    print(dp[-1] % 15746)"
   ]
  }
 ],
 "metadata": {
  "kernelspec": {
   "display_name": "Python 3.9.7 ('base')",
   "language": "python",
   "name": "python3"
  },
  "language_info": {
   "codemirror_mode": {
    "name": "ipython",
    "version": 3
   },
   "file_extension": ".py",
   "mimetype": "text/x-python",
   "name": "python",
   "nbconvert_exporter": "python",
   "pygments_lexer": "ipython3",
   "version": "3.9.7"
  },
  "orig_nbformat": 4,
  "vscode": {
   "interpreter": {
    "hash": "d5801b79edcda5763ccfe48c18a4ee1d2165db6bc296bae4c89c41a89d640e66"
   }
  }
 },
 "nbformat": 4,
 "nbformat_minor": 2
}
