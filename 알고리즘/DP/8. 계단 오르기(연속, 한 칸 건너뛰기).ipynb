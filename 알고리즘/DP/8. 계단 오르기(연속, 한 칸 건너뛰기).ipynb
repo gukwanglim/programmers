{
 "cells": [
  {
   "cell_type": "markdown",
   "metadata": {},
   "source": [
    "https://www.acmicpc.net/problem/2579\n",
    "\n",
    "![그래프](./image/8.png)"
   ]
  },
  {
   "cell_type": "markdown",
   "metadata": {},
   "source": [
    "최댓값을 출력해야 하는 문제이다. 최댓값을 물어봤기 때문에 먼저 이분 탐색을 생각했지만, 역시나 정렬되지 않는 수의 집합이 존재한다.\n",
    "따라서 이 문제는 dp로 다가가야 한다는 생각이 들었다.\n",
    "\n",
    "여기서 중요한 것은 한 칸씩 연속으로 세 칸을 밟을 수 없다는 것이다.\n",
    "즉, [0, 1, 2] 3칸을 기준으로 봤을 때, 0,1을 밟으면 2를 밟을 수 없고, 1,2를 밟으면 3을 밟을 수 없다.\n",
    "\n",
    "때문에 처음 조건을 작성해야 한다.\n",
    "만약, 2칸짜리 계단이라면 두 칸을 모두 밟는 것이 최대가 된다.(dp[1] += dp[0])\n",
    "3칸짜리 계단이라면 처음 한 칸을 건너뛰고 다음 두 칸을 밟는 것, 또는 처음 한 칸과 마지막 한 칸을 밟는 경우 중, 큰 값이 필요하다.(dp[2] = max(dp[1] + dp[2], dp[0] + dp[2]))"
   ]
  },
  {
   "cell_type": "code",
   "execution_count": null,
   "metadata": {},
   "outputs": [],
   "source": [
    "# 모든 칸을 밟게 되는 코드(정답 X)\n",
    "\n",
    "n = int(input())\n",
    "dp = [int(input()) for _ in range(n)]\n",
    "\n",
    "if n > 2:\n",
    "    dp[2] = max(dp[1] + dp[2], dp[0] + dp[2])\n",
    "if n > 1:\n",
    "    dp[1] += dp[0]\n",
    "\n",
    "for i in range(3, n):\n",
    "    dp[i] += max(dp[i-2], dp[i-1])\n",
    "print(dp[-1])\n",
    "\n",
    "# 이런 식으로 작성하게 된다면 처음 세 칸을 제외하고 나머지 칸은 모두 한 칸을 꾸준히 밟고 온 경우로만 계산하게 된다.\n",
    "# 즉, 계단의 리스트를 dp에 담은 상태로 업로드하지 말고, 출력하려고 하는 값의 리스트를 새로 만들어서 사용해야 한다."
   ]
  },
  {
   "cell_type": "markdown",
   "metadata": {},
   "source": [
    "위 코드의 문제를 잠시 설명하자면, 모든 값이 dp 리스트에만 저장되어 있기 때문에 dp를 활용하여 점수를 계산하게 되면 모든 칸을 밟는 경우만 출력이 되는 것이다.\n",
    "(쉽게 말해 3칸을 연달아 밟지 않는 경우의 수를 대입할 수 없게 된다.)"
   ]
  },
  {
   "cell_type": "code",
   "execution_count": null,
   "metadata": {},
   "outputs": [],
   "source": [
    "# 3칸을 연달아 밟는 경우를 없앤다.\n",
    "\n",
    "n = int(input())\n",
    "stair = [int(input()) for _ in range(n)]                            # 계단의 리스트는 게단의 리스트로 둔다.\n",
    "\n",
    "dp = [0] * n                                                        # dp의 리스트를 따로 만들어 점수를 계산할 수 있도록 한다.\n",
    "dp[0] = stair[0]                                                    # 한 칸만 존재한다면 정답은 이 한 칸의 점수가 된다.\n",
    "\n",
    "if n > 1:                                                           # 두 칸이 존재한다면 두 번째 칸의 점수는 '첫 번째 + 두 번째'의 점수가 된다.\n",
    "    dp[1] = stair[0] + stair[1]\n",
    "if n > 2:                                                           # 세 칸이 존재한다면 두 가지 경우로 나눌 수 있다.  1. '첫 번째 + 세 번째', 2. '두 번째 + 세 번째'  이 둘 중, 큰 값을 저장한다.\n",
    "    dp[2] = max(stair[1] + stair[2], stair[0] + stair[2])\n",
    "\n",
    "for i in range(3, n):                                               # 마지막으로 점화식을 이용한다.     dp[i-2] + stair[i]는 두 칸, 두 칸 씩 건너뛴 경우이다.\n",
    "    dp[i] += max((dp[i-2] + stair[i]), (dp[i-3] + stair[i-1] + stair[i]))                           # dp[i-3] + stair[i-1] + stair[i]는 한 칸, 두 칸, 한 칸 식 옯긴 경우이다. \n",
    "print(dp[-1])\n",
    "\n",
    "# 말로 설명하면 헷갈리는 부분이 많아진다.\n",
    "# 직접 그림을 그리면서 알아보면 훨씩 효과적이다."
   ]
  },
  {
   "cell_type": "markdown",
   "metadata": {},
   "source": [
    " O  O  O  O  -> stair\n",
    "[0, 1, 2]    -> dp\n",
    "\n",
    "dp[i-2] + stair[i]의 경우에서는 dp(점수의 합)[1]과 마지막 stair(네 번째 O)의 점수를 합했기 때문에 두 칸씩 건너 뛰었다고 할 수 있다.\n",
    "dp[i-3] + stair[i-1] + stair[i]의 경우에서는 dp[0]과 stair(세 번째 O)와 마지막 stair(네 번째 O)의 점수를 합했기 때문에 한 칸, 두 칸, 한 칸 이라고 할 수 있다.\n",
    "    여기서 dp[i-3]은 이미 앞의 점수를 합한 상태이므로 나머지 경우는 신경쓸 필요가 없어진다."
   ]
  }
 ],
 "metadata": {
  "kernelspec": {
   "display_name": "Python 3.9.7 ('base')",
   "language": "python",
   "name": "python3"
  },
  "language_info": {
   "name": "python",
   "version": "3.9.7"
  },
  "orig_nbformat": 4,
  "vscode": {
   "interpreter": {
    "hash": "d5801b79edcda5763ccfe48c18a4ee1d2165db6bc296bae4c89c41a89d640e66"
   }
  }
 },
 "nbformat": 4,
 "nbformat_minor": 2
}
