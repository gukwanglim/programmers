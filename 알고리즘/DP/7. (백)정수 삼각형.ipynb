{
 "cells": [
  {
   "cell_type": "markdown",
   "metadata": {},
   "source": [
    "https://www.acmicpc.net/problem/1932\n",
    "\n",
    "![그래프](./image/7.png)"
   ]
  },
  {
   "cell_type": "markdown",
   "metadata": {},
   "source": [
    "처음 문제를 읽었을 때, 이와 같은 문제는 DFS에서 많이 봤던 형식이라고 생각했다.\n",
    "하지만, 고를 수 있는 두 가지 숫자 중에서 큰 것만을 선택하고 작은 것을 버렸을 경우, 다음 이어질 숫자의 크기에 따라 정답을 도출할 수 없다고 판단된다.\n",
    "이 문제로 인해 DFS가 아닌 dp를 사용하여 문제를 풀어야 할 것 같다.(대표적인 DFS 문제라고 판단되지만 아직 이렇게 풀어야 한다는 확실한 증거를 가지고 가기 어려운 수준이다..)\n",
    "\n",
    "이 문제는 바로 위 인덱스의 숫자를 더해 아래 칸에 작성하고, 그것을 가지고 내려가며 계속 더하여 마지막에 최댓값을 출력하면 되는 문제이다.\n",
    "따라서 점화식은 dp[i][j] += max(dp[i-1][j], dp[i-1][j-1])이다.\n",
    "\n",
    "하지만, 가장 왼쪽에 존재하는 숫자(예시의 3,8 부분에서 3의 경우)는 j-1을 할 경우 out of index가 발생하기 때문에 조치를 취해야 한다.\n",
    "마찬가지로 가장 오른쪽에 존재하는 숫자(예시의 3,8 부분에서 8의 경우)는 j를 할 경우 out of index가 발생하기 때문에 조치를 취해야 한다."
   ]
  },
  {
   "cell_type": "code",
   "execution_count": null,
   "metadata": {},
   "outputs": [],
   "source": [
    "n = int(input())\n",
    "\n",
    "dp = [list(map(int, input().split())) for _ in range(n)]\n",
    "\n",
    "for i in range(1, n):\n",
    "    for j in range(len(dp[i])):\n",
    "        if j - 1 < 0:\n",
    "            dp[i][j] += dp[i-1][j]\n",
    "        elif j == (len(dp[i]) - 1):\n",
    "            dp[i][j] += dp[i-1][j-1]\n",
    "        else:\n",
    "            dp[i][j] += max(dp[i-1][j], dp[i-1][j-1])\n",
    "print(max(dp[-1]))"
   ]
  },
  {
   "cell_type": "markdown",
   "metadata": {},
   "source": [
    "문제를 계속 풀다보니 내가 if 구문을 사용하여 돌리면 풀 수 있겠다고 여겨지는 대부분의 문제가 dp로 해결할 수 있는 것들이다.\n",
    "따라서 앞으로는 문제를 읽고 if 구문의 냄새가 난다면 dp를 가장 먼저 생각하고 문제를 풀어야 할 것 같다."
   ]
  }
 ],
 "metadata": {
  "kernelspec": {
   "display_name": "Python 3.9.7 ('base')",
   "language": "python",
   "name": "python3"
  },
  "language_info": {
   "name": "python",
   "version": "3.9.7"
  },
  "orig_nbformat": 4,
  "vscode": {
   "interpreter": {
    "hash": "d5801b79edcda5763ccfe48c18a4ee1d2165db6bc296bae4c89c41a89d640e66"
   }
  }
 },
 "nbformat": 4,
 "nbformat_minor": 2
}
