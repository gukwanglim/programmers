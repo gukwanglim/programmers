{
 "cells": [
  {
   "cell_type": "markdown",
   "metadata": {},
   "source": [
    "https://www.acmicpc.net/problem/10844\n",
    "\n",
    "![그래프](./image/10.png)"
   ]
  },
  {
   "cell_type": "markdown",
   "metadata": {},
   "source": [
    "계단 오르기 문제와 비슷하다.\n",
    "하지만 계단 오르기의 경우에는 무조건 마지막 칸을 밟아야 하지만 와인 문제에서는 마지막 와인을 마시는 것이 아니라 단순히 최댓값을 구하는 문제이다."
   ]
  },
  {
   "cell_type": "code",
   "execution_count": null,
   "metadata": {},
   "outputs": [],
   "source": [
    "n = int(input())\n",
    "\n",
    "w = [int(input()) for _ in range(n)]\n",
    "dp = [0] * n\n",
    "\n",
    "dp[0] = w[0]\n",
    "if n > 1:\n",
    "    dp[1] = w[0] + w[1]\n",
    "if n > 2:\n",
    "    dp[2] = max((w[0] + w[1]), (w[0] + w[2]), (w[1] + w[2]))            # 새로운 내용 추가(계단 오르기 기준)\n",
    "    \n",
    "for i in range(3, n):\n",
    "    dp[i] = max(dp[i-1], (dp[i-2] + w[i]), (dp[i-3] + w[i-1] + w[i]))   # 새로운 내용 추가(계단 오르기 기준)\n",
    "print(dp[-1])"
   ]
  },
  {
   "cell_type": "markdown",
   "metadata": {},
   "source": [
    "계단 오르기와 똑같은 코드를 사용하지만 굳이 마지막 와인을 마실 필요가 없기 때문에 세 번 연달아 마시는 i번째의 값에서 i-1번째 값이 크다면 그 값으로 대체해준다.\n",
    "(솔직히 이 이유를 잘 모르겠다. 이전에 마신 것이 훨씬 크고 바로 다음 와인을 못 마신다면 그냥 넘겨야 문제가 없는 것 아닌가? 왜 더 큰 수를 받아오지? 이렇게 된다면 두 칸 건너뛸때 문제가 발생하지 않나?)\n",
    "\n",
    "생각해보니 몇 잔을 뛰어넘어서 마실 수 있다는 조건은 존재하지 않는다. 즉, 계단 오르기에서는 3칸 이상을 뛰어넘을 수 없었지만, 와인에서는 몇 잔을 뛰어 넘어도 상관없기 때문에 위 코드가 맞는 것이 된다."
   ]
  }
 ],
 "metadata": {
  "kernelspec": {
   "display_name": "Python 3.9.7 ('base')",
   "language": "python",
   "name": "python3"
  },
  "language_info": {
   "name": "python",
   "version": "3.9.7"
  },
  "orig_nbformat": 4,
  "vscode": {
   "interpreter": {
    "hash": "d5801b79edcda5763ccfe48c18a4ee1d2165db6bc296bae4c89c41a89d640e66"
   }
  }
 },
 "nbformat": 4,
 "nbformat_minor": 2
}
