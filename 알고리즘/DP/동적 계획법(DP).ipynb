{
 "cells": [
  {
   "cell_type": "markdown",
   "metadata": {},
   "source": [
    "1. 주어진 문제가 dp문제 유형이 맞는지 확인하고, 최종적으로 구할 큰 문제가 뭔지 확인한다.\n",
    "\n",
    "2. 작은 문제들과 큰 문제 사이의 관계를 점화식의 형태로 나타내 보자. \n",
    "\n",
    "3. top-down 방식 혹은 bottom-up 방식을 통해 문제를 풀어나가자.\n",
    "\n",
    "+) 탑다운 방식(하향식)은 메모이제이션을 통한 재귀함수를 이용한 방식이고 보톰업방식(상향식)은 결과 저장용 리스트인 dp테이블을 통해 반복문으로 문제를 해결하는 방식이다."
   ]
  },
  {
   "cell_type": "code",
   "execution_count": null,
   "metadata": {},
   "outputs": [],
   "source": [
    "# 피보나치 by 탑다운(메모이제이션)\n",
    "n = int(input())\n",
    "d = [0]*(n+1)    # 한 번 계산된 결과를 메모이제이션하기 위해 리스트를 초기화함\n",
    "\n",
    "def fibo(n) :  # 피보나치 함수를 재귀함수로 구현(탑다운 다이나믹 프로그래밍)\n",
    "    if n == 1 or n == 2 : # 종료 조건\n",
    "        return 1\n",
    "    if d[n] != 0 :  # 이미 계산한 적 있으면 그대로 반환\n",
    "        return d[n]\n",
    "    d[n] = fibo(n-1) + fibo(n-2)        # 아직 계산하지 않았으면 점화식에 의해 피보나치 결과 반환\n",
    "    return d[n]\n",
    "print(fibo(n))"
   ]
  },
  {
   "cell_type": "code",
   "execution_count": null,
   "metadata": {},
   "outputs": [],
   "source": [
    "# 피보나치 by 보텀업(상향식)\n",
    "n = int(input())\n",
    "d = [0]*(n+1)       # 결과 저장을 위해 dp테이블 초기화함\n",
    "\n",
    "d[1] = 1            # 첫번째와 두번째 피보나치 수는 1로 이미 설정함\n",
    "d[2] = 1\n",
    "\n",
    "for i in range(3,n+1) :     # 피보나치 반복문 (즉, 보텀업 다이나믹 프로그래밍)\n",
    "    d[i] = d[i-1] + d[i-2]\n",
    "\n",
    "print(d[n])"
   ]
  },
  {
   "cell_type": "markdown",
   "metadata": {},
   "source": [
    "dp 문제는 기본적으로 이전 경우의 수의 합이 다음 경우의 수가 되는 문제라고 할 수 있겠다.\n",
    "\n",
    "즉, 어떤한 경우의 수를 물어보는 문제일 경우에는 제일 먼제 dp를 떠올리자."
   ]
  }
 ],
 "metadata": {
  "kernelspec": {
   "display_name": "Python 3.9.7 ('base')",
   "language": "python",
   "name": "python3"
  },
  "language_info": {
   "name": "python",
   "version": "3.9.7"
  },
  "orig_nbformat": 4,
  "vscode": {
   "interpreter": {
    "hash": "d5801b79edcda5763ccfe48c18a4ee1d2165db6bc296bae4c89c41a89d640e66"
   }
  }
 },
 "nbformat": 4,
 "nbformat_minor": 2
}
