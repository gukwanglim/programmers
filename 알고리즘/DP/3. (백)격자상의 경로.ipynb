{
 "cells": [
  {
   "cell_type": "markdown",
   "metadata": {},
   "source": [
    "https://www.acmicpc.net/problem/10164\n",
    "\n",
    "![그래프](./image/3.png)"
   ]
  },
  {
   "cell_type": "code",
   "execution_count": null,
   "metadata": {},
   "outputs": [],
   "source": [
    "# 중, 고등학교에서 배우는 경로 찾기 공식을 이용하면 dp로 풀 수 있다.\n",
    "\n",
    "n, m, k = map(int, input().split())\n",
    "\n",
    "dp = [list(1 for _ in range(m)) for _ in range(n)]\n",
    "\n",
    "if k == 0:\n",
    "    for i in range(1, n):\n",
    "        for j in range(1, m):\n",
    "            dp[i][j] = dp[i-1][j] + dp[i][j-1]\n",
    "            \n",
    "else:\n",
    "    for i in range(1, (k // m) + 1):\n",
    "        for j in range(1, k - (m * i)):\n",
    "            dp[i][j] = dp[i-1][j] + dp[i][j-1]\n",
    "\n",
    "    for a in range(i, n):\n",
    "        dp[a][j] = dp[i][j]\n",
    "        \n",
    "    for b in range(j, m):\n",
    "        dp[i][b] = dp[i][j]\n",
    "\n",
    "    for c in range(i+1, n):\n",
    "        for d in range(j+1, m):\n",
    "            dp[c][d] = dp[c-1][d] + dp[c][d-1]\n",
    "\n",
    "print(dp[-1][-1])\n",
    "\n",
    "# 하지만 이처럼 작성하여 제출한다면 효율성 문제가 발생한다."
   ]
  },
  {
   "cell_type": "code",
   "execution_count": null,
   "metadata": {},
   "outputs": [],
   "source": [
    "# 때문에 다음과 같이 함수로 만들어 한 번에 정답을 도출할 수 있도록 한다.\n",
    "\n",
    "import sys\n",
    "input = sys.stdin.readline\n",
    "n,m,k = map(int,input().split())\n",
    "\n",
    "def find(n,m) :\n",
    "    dp = [[0]*(m+1)]*(n+1)\n",
    "\n",
    "    for i in range(1,n+1) :\n",
    "        for j in range(1,m+1) :\n",
    "            if i == 1 and j == 1 :\n",
    "                dp[i][j] = 1\n",
    "                continue\n",
    "            dp[i][j] = dp[i-1][j] + dp[i][j-1]\n",
    "    return dp[n][m]\n",
    "\n",
    "if k == 0 :\n",
    "    print(find(n,m))\n",
    "else :\n",
    "    dotN1 = (k-1)//m + 1\n",
    "    dotM1 = k - (dotN1-1)*m\n",
    "    dotN2 = n - (dotN1-1)\n",
    "    dotM2 = m - (dotM1-1)\n",
    "\n",
    "    first = find(dotN1,dotM1)\n",
    "    second = find(dotN2,dotM2)\n",
    "\n",
    "    print(first*second)"
   ]
  },
  {
   "cell_type": "code",
   "execution_count": null,
   "metadata": {},
   "outputs": [],
   "source": [
    "# 하지만 더욱 빠른 효율성 해결을 위해서 math 라이브러리를 사용하는 것이 좋다.   \n",
    "\n",
    "import sys\n",
    "import math\n",
    "input = sys.stdin.readline\n",
    "\n",
    "n,m,k = map(int,input().split())\n",
    "dotN1 = (k-1)//m + 1\n",
    "dotM1 = k - (dotN1-1)*m\n",
    "dotN2 = n - (dotN1-1)\n",
    "dotM2 = m - (dotM1-1)\n",
    "\n",
    "if k == 0 :\n",
    "    print((math.factorial(n+m-2)//(math.factorial(n-1)*math.factorial(m-1))))\n",
    "else :\n",
    "    first = (math.factorial(dotN1+dotM1-2)//(math.factorial(dotN1-1)*math.factorial(dotM1-1)))\n",
    "    second = (math.factorial(dotN2+dotM2-2)//(math.factorial(dotN2-1)*math.factorial(dotM2-1)))\n",
    "    print(first*second)"
   ]
  }
 ],
 "metadata": {
  "kernelspec": {
   "display_name": "Python 3.9.7 ('base')",
   "language": "python",
   "name": "python3"
  },
  "language_info": {
   "name": "python",
   "version": "3.9.7"
  },
  "orig_nbformat": 4,
  "vscode": {
   "interpreter": {
    "hash": "d5801b79edcda5763ccfe48c18a4ee1d2165db6bc296bae4c89c41a89d640e66"
   }
  }
 },
 "nbformat": 4,
 "nbformat_minor": 2
}
