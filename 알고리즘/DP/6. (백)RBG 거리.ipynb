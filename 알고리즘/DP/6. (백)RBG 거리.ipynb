{
 "cells": [
  {
   "cell_type": "markdown",
   "metadata": {},
   "source": [
    "https://www.acmicpc.net/problem/1149\n",
    "\n",
    "![그래프](./image/6.png)"
   ]
  },
  {
   "cell_type": "markdown",
   "metadata": {},
   "source": [
    "출력해야 하는 값은 비용의 최솟값이다.\n",
    "지금까지 공부를 하면서 최솟값, 최댓값을 구하는 문제는 이분 탐색을 이용하는 것이 대부분이었다.\n",
    "그래서 이번에도 이분 탐색을 이용하려고 했으나 이분 탐색의 기본 조건인 정렬이 되지 않는 문제였기에 이분 탐색이 아니라고 판단했다.\n",
    "\n",
    "대신, 문제의 유형이 지난번에 풀었던 동물원, 스티커 문제와 비슷하여 그와 똑같은 dp를 이용하여 문제를 풀었다."
   ]
  },
  {
   "cell_type": "markdown",
   "metadata": {},
   "source": [
    "먼저, 한 집이 색을 칠한 경우, 바로 옆집은 같은 색을 사용하지 못한다. \n",
    "즉, 하나의 색을 배제하고 풀어야 한다.(이 과정은 스티커 문제와 동일하다.)\n",
    "따라서 dp 리스트를 2차원으로 생성하여 해당 인덱스(R:0, G:1, B:2)일 경우에는 다른 인덱스의 값 중, 최솟값을 선택하여 더해준다.\n",
    "\n",
    "점화식 : dp[i][0] += min(dp[i-1][1], dp[i-1][2]) -> n번째 집이 빨간색을 경우, n-1번째 집은 초록색 혹은 파란색이어야 한다."
   ]
  },
  {
   "cell_type": "code",
   "execution_count": null,
   "metadata": {},
   "outputs": [],
   "source": [
    "n = int(input())\n",
    "\n",
    "dp = [list(map(int, input().split())) for _ in range(n)]\n",
    "\n",
    "if n == 1:\n",
    "    print(min(dp))\n",
    "else:\n",
    "    for i in range(1, n):\n",
    "        dp[i][0] += min(dp[i-1][1], dp[i-1][2])\n",
    "        dp[i][1] += min(dp[i-1][0], dp[i-1][2])\n",
    "        dp[i][2] += min(dp[i-1][0], dp[i-1][1])\n",
    "print(min(dp[-1]))"
   ]
  },
  {
   "cell_type": "code",
   "execution_count": null,
   "metadata": {},
   "outputs": [],
   "source": [
    "# DFS를 이용한 풀이 방법(시간초과 오류가 발생한다.)\n",
    "\n",
    "import sys\n",
    "n = int(sys.stdin.readline())\n",
    "house = [list(map(int,sys.stdin.readline().split())) for i in range(n)]\n",
    "\n",
    "cost = 0\n",
    "minCost = 1000000\n",
    "\n",
    "def dfs(num,rgb):\n",
    "    global cost,minCost\n",
    "    \n",
    "    if num == n:\n",
    "        if minCost > cost:\n",
    "            minCost = cost\n",
    "        return\n",
    "    \n",
    "    for i in range(3):\n",
    "        if i == rgb and cost!=0:\n",
    "            continue\n",
    "        cost+=house[num][i]\n",
    "        dfs(num+1,i)\n",
    "        cost-=house[num][i]\n",
    "        \n",
    "dfs(0,0)\n",
    "    \n",
    "print(minCost)"
   ]
  }
 ],
 "metadata": {
  "kernelspec": {
   "display_name": "Python 3.9.7 ('base')",
   "language": "python",
   "name": "python3"
  },
  "language_info": {
   "name": "python",
   "version": "3.9.7"
  },
  "orig_nbformat": 4,
  "vscode": {
   "interpreter": {
    "hash": "d5801b79edcda5763ccfe48c18a4ee1d2165db6bc296bae4c89c41a89d640e66"
   }
  }
 },
 "nbformat": 4,
 "nbformat_minor": 2
}
