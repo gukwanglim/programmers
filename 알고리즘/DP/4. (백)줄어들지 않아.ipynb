{
 "cells": [
  {
   "cell_type": "markdown",
   "metadata": {},
   "source": [
    "https://www.acmicpc.net/problem/2688\n",
    "\n",
    "![그래프](./image/4.png)"
   ]
  },
  {
   "cell_type": "markdown",
   "metadata": {},
   "source": [
    "먼저, 모든 경우의 수를 더해야 하는 문제로 dp를 활용해야 한다는 사실을 쉽게 알 수 있는 문제이다.\n",
    "하지만 결과물을 보고 규칙을 찾기에는 난해하다."
   ]
  },
  {
   "cell_type": "markdown",
   "metadata": {},
   "source": [
    "줄어들지 않는 수를 만들기 위해서는 마지막 숫자를 a로 두고 수를 만들 때, 마지막 수가 a보다 크거나 같다면 만들 수 있다.\n",
    "즉, 2자리이면서 마지막 수를 5로 만들고 싶을 때는 95,85,75,65,55 이렇게 5개를 만들 수 있다.\n",
    "\n",
    "때문에 자리수 별로 줄어들지 않는 수를 만들기 위해서는 메모이제이션을 통해 마지막 수를 0~9까지의 배열에 담아 생성해야 한다."
   ]
  },
  {
   "cell_type": "markdown",
   "metadata": {},
   "source": [
    "처음에는 [1, 1, 1, 1, 1, 1, 1, 1, 1, 1]의 배열을 만든다.\n",
    "이 배열은 마지막 숫자가 0, 1, 2, 3, ..., 9인 배열을 뜻한다.\n",
    "\n",
    "그렇다면 2자리 수를 만들 때에는 각 배열의 현재 인덱스 이상의 원소값들을 모조리 더해주면 된다.\n",
    "따라서 2자리 수는 [10, 9, 8, 7, 6, 5, 4, 3, 2, 1],\n",
    "3자리 수는 [55, 45, 36, 28, 21, 15, 10, 6, 3, 1],\n",
    "4자리 수는 [220, 165, 120, 84, 56, 35, 20, 10, 4, 1] 과 같이 구성된다.\n",
    "\n",
    "솔직히 말해 규칙을 이해하기 어렵다.\n",
    "그냥 이런 규칙이 있다 정도로 넘어가야 할 것 같다."
   ]
  },
  {
   "cell_type": "code",
   "execution_count": null,
   "metadata": {},
   "outputs": [],
   "source": [
    "for i in range(int(input())):\n",
    "    n = int(input())\n",
    "    dp = [1] * 10                       # [1, 1, 1, 1, 1, 1, 1, 1, 1, 1] 배열을 생성한다.\n",
    "\n",
    "    for i in range(n-1):                # 2자리 수를 만들기 위해서는 1번, 3자리 수를 만들기 위해서는 2번 돌아야 한다.\n",
    "        for j in range(10):             \n",
    "            dp[j] = sum(dp[j:])         # 만들어진 배열 dp에서 해당 인덱스 값을 모두 더한다.\n",
    "    print(sum(dp))"
   ]
  },
  {
   "cell_type": "markdown",
   "metadata": {},
   "source": [
    "위 코드에서 두 번째 for 구문을 돌게 되면 dp = [10, 9, 8, 7, 6, 5, 4, 3, 2, 1]으로 저장된다.\n",
    "즉, 00~09까지 10개, 11~19까지 9개, 22~29까지 8개 와 같이 모든 숫자가 더해지면 2자리 수의 모든 경우의 수를 나타낼 수 있다.\n",
    "\n",
    "3자리 수를 구할 때는 2자리 수를 먼저 구한 후, 똑같이 반복하면 된다.\n",
    "\n",
    "이 문제는 백준의 오르막 수(https://www.acmicpc.net/problem/11057) 문제와 똑같이 풀 수 있다."
   ]
  }
 ],
 "metadata": {
  "kernelspec": {
   "display_name": "Python 3.9.7 ('base')",
   "language": "python",
   "name": "python3"
  },
  "language_info": {
   "name": "python",
   "version": "3.9.7"
  },
  "orig_nbformat": 4,
  "vscode": {
   "interpreter": {
    "hash": "d5801b79edcda5763ccfe48c18a4ee1d2165db6bc296bae4c89c41a89d640e66"
   }
  }
 },
 "nbformat": 4,
 "nbformat_minor": 2
}
