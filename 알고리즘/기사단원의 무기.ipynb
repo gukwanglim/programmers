{
 "cells": [
  {
   "attachments": {},
   "cell_type": "markdown",
   "metadata": {},
   "source": [
    "https://school.programmers.co.kr/learn/courses/30/lessons/136798\n",
    "\n",
    "![그래프](./image/54.png)"
   ]
  },
  {
   "cell_type": "code",
   "execution_count": null,
   "metadata": {},
   "outputs": [],
   "source": [
    "def get_cds(n, limit , power):\n",
    "    cnt = 0\n",
    "    for i in range(1, int(n**(1/2))+1): # 제곱근만큼만 반복\n",
    "        if n%i == 0:\n",
    "            if i == n//i: # 제곱근일 경우 -> 1개만 카운트하기\n",
    "                cnt += 1\n",
    "            else:\n",
    "                cnt += 2 # 제곱근이 아닐 경우, 2개 카운트 (i, n//i)\n",
    "        if cnt > limit:  # 소수의 개수가 limit를 넘어가면\n",
    "            return power        # 강제로 power만큼을 return \n",
    "    return cnt\n",
    "\n",
    "    \n",
    "def solution(number, limit, power):\n",
    "    total = 1\n",
    "    for i in range(2, number+1):\n",
    "        len_cds = get_cds(i, limit, power)\n",
    "        total += len_cds\n",
    "\n",
    "    return total"
   ]
  }
 ],
 "metadata": {
  "kernelspec": {
   "display_name": "pydata",
   "language": "python",
   "name": "python3"
  },
  "language_info": {
   "name": "python",
   "version": "3.9.11"
  },
  "orig_nbformat": 4,
  "vscode": {
   "interpreter": {
    "hash": "286b3223e4baa2339d35639af96ec91063d7905066fed95d13bac9e189bc76bf"
   }
  }
 },
 "nbformat": 4,
 "nbformat_minor": 2
}
