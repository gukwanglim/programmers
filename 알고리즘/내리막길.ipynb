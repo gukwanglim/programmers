{
 "cells": [
  {
   "attachments": {},
   "cell_type": "markdown",
   "metadata": {},
   "source": [
    "https://www.acmicpc.net/problem/1520\n",
    "\n",
    "![그래프](./image/13.png)"
   ]
  },
  {
   "cell_type": "code",
   "execution_count": null,
   "metadata": {},
   "outputs": [],
   "source": [
    "import sys\n",
    "input = sys.stdin.readline\n",
    "\n",
    "MOVE = [[0, -1], [-1, 0], [0, 1], [1, 0]]\n",
    "\n",
    "[N, M] = list(map(int, input().split()))\n",
    "info = [list(map(int, input().split())) for n in range(N)]\n",
    "\n",
    "dp = [[-1 for m in range(M)] for n in range(N)]\n",
    "\n",
    "def dfs(y, x):\n",
    "    if y == N - 1 and x == M - 1:\n",
    "        return 1\n",
    "\n",
    "    if dp[y][x] > -1:\n",
    "        return dp[y][x]\n",
    "\n",
    "    dp[y][x] = 0\n",
    "    for [dy, dx] in MOVE:\n",
    "        if y + dy >= 0 and y + dy < N and x + dx >= 0 and x + dx < M:\n",
    "            if info[y][x] > info[y + dy][x + dx]:\n",
    "                dp[y][x] += dfs(y + dy, x + dx)\n",
    "    return dp[y][x]\n",
    "print(dfs(0, 0))"
   ]
  }
 ],
 "metadata": {
  "kernelspec": {
   "display_name": "pydata",
   "language": "python",
   "name": "python3"
  },
  "language_info": {
   "name": "python",
   "version": "3.9.11 (main, Mar 28 2022, 04:40:48) [MSC v.1916 64 bit (AMD64)]"
  },
  "orig_nbformat": 4,
  "vscode": {
   "interpreter": {
    "hash": "286b3223e4baa2339d35639af96ec91063d7905066fed95d13bac9e189bc76bf"
   }
  }
 },
 "nbformat": 4,
 "nbformat_minor": 2
}
