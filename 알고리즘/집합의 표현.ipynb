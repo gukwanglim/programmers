{
 "cells": [
  {
   "cell_type": "markdown",
   "metadata": {},
   "source": [
    "https://www.acmicpc.net/problem/1717\n",
    "\n",
    "![그래프](./image/169.png)"
   ]
  },
  {
   "cell_type": "code",
   "execution_count": null,
   "metadata": {
    "vscode": {
     "languageId": "plaintext"
    }
   },
   "outputs": [],
   "source": [
    "# union find 사용\n",
    "# 문제 그대로 합집합(union)을 실행한 이후, 조건에 포함되는 내용을 찾아(find) 출력\n",
    "\n",
    "import sys\n",
    "input = sys.stdin.readline\n",
    "\n",
    "[SUM, CHECK] = [0, 1]\n",
    "n, m = map(int, input().split())\n",
    "parents = [i for i in range(n + 1)]                     # 연결된 상태(합집합)를 표현할 수 있는 리스트 생성\n",
    "                                                        # 현재는 자기 자신만 연결되어 있다.\n",
    "def find(a):                # find는 parents에 자기 자신이 아닌 다른 원소가 들어있으면 그것을 이용하여 다시 find를 실행\n",
    "    if parents[a] == a:\n",
    "        return a\n",
    "    return find(parents[a])\n",
    "\n",
    "def union(a, b):            # union은 주어진 두 원소 중, 작은 원소의 parents에 큰 원소의 값을 넣는다.\n",
    "    p_1 = find(a)           # 나중에 find를 하게 되면 작은 원소부터 연결되어 있는 큰 원소까지 차례대로 찾아갈 수 있게 된다.\n",
    "    p_2 = find(b)                               # ex) parents[1] = 7이라면 parents[1] = 1이 아니므로 find(7)을 하여 결국에는 7을 return 한다.\n",
    "    parents[min(p_1, p_2)] = max(p_1, p_2)\n",
    "\n",
    "for _ in range(m):\n",
    "    mode, a, b = map(int, input().split())\n",
    "    \n",
    "    if mode == SUM:\n",
    "        union(a, b)\n",
    "    if mode == CHECK:\n",
    "        print('YES' if find(a) == find(b) else 'NO')        # 마지막으로 찾던 두 개의 원소가 같은 값을 return하게 되면 'YES'를 출력한다."
   ]
  }
 ],
 "metadata": {
  "language_info": {
   "name": "python"
  },
  "orig_nbformat": 4
 },
 "nbformat": 4,
 "nbformat_minor": 2
}
