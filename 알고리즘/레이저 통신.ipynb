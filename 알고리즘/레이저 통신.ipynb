{
 "cells": [
  {
   "attachments": {},
   "cell_type": "markdown",
   "metadata": {},
   "source": [
    "https://www.acmicpc.net/problem/6087\n",
    "\n",
    "![그래프](./image/29.png)"
   ]
  },
  {
   "cell_type": "code",
   "execution_count": null,
   "metadata": {},
   "outputs": [],
   "source": [
    "import sys\n",
    "input = sys.stdin.readline\n",
    "\n",
    "[Y, X] = [0, 1]\n",
    "MOVE = [[-1, 0], [0, 1], [1, 0], [0, -1]]\n",
    "\n",
    "[W, H] = list(map(int, input().split()))\n",
    "info = [list(input().strip()) for h in range(H)]\n",
    "\n",
    "loc = []\n",
    "for h in range(H):\n",
    "    for w in range(W):\n",
    "        if info[h][w] == 'C':\n",
    "            loc.append([h, w])\n",
    "            info[h][w] = '.'\n",
    "start = loc[0]\n",
    "end = loc[1]\n",
    "\n",
    "dp = [[[(W * H) for _ in range(len(MOVE))] for w in range(W)] for h in range(H)]\n",
    "\n",
    "stack = [[start[Y], start[X], d, 0] for d in range(len(MOVE))]\n",
    "while stack:\n",
    "    [y, x, d, c] = stack.pop()\n",
    "\n",
    "    for move in range(-1, 2):\n",
    "        dd = (len(MOVE) + d + move) % len(MOVE)\n",
    "        [dy, dx] = MOVE[dd]\n",
    "        if 0 <= y + dy < H and 0 <= x + dx < W and info[y + dy][x + dx] == '.':\n",
    "            if dp[y + dy][x + dx][dd] > c + abs(move):\n",
    "                stack.append([y + dy, x + dx, dd, c + abs(move)])\n",
    "                dp[y + dy][x + dx][dd] = c + abs(move)\n",
    "\n",
    "print(min(dp[end[0]][end[1]]))"
   ]
  }
 ],
 "metadata": {
  "kernelspec": {
   "display_name": "pydata",
   "language": "python",
   "name": "python3"
  },
  "language_info": {
   "name": "python",
   "version": "3.9.11 (main, Mar 28 2022, 04:40:48) [MSC v.1916 64 bit (AMD64)]"
  },
  "orig_nbformat": 4,
  "vscode": {
   "interpreter": {
    "hash": "286b3223e4baa2339d35639af96ec91063d7905066fed95d13bac9e189bc76bf"
   }
  }
 },
 "nbformat": 4,
 "nbformat_minor": 2
}
