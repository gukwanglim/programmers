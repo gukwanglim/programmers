{
 "cells": [
  {
   "attachments": {},
   "cell_type": "markdown",
   "metadata": {},
   "source": [
    "https://www.acmicpc.net/problem/1783\n",
    "\n",
    "![그래프](./image/142.png)"
   ]
  },
  {
   "cell_type": "code",
   "execution_count": null,
   "metadata": {
    "vscode": {
     "languageId": "plaintext"
    }
   },
   "outputs": [],
   "source": [
    "# bfs를 사용하여 방문할 수 있는 칸의 최대 개수를 구하는 것이 아닌, 규칙을 찾고 그에 맞게 그리디를 활용하는 문제\n",
    "\n",
    "import sys\n",
    "input = sys.stdin.readline\n",
    "\n",
    "n, m = map(int, input().split())\n",
    "\n",
    "# n(세로)의 길이가 1인 경우 무슨 수를 쓰더라도 1가지 방법만 존재한다.\n",
    "if n == 1:\n",
    "    print(1)\n",
    "\n",
    "# n의 길이가 2인 경우 5를 초과하는 순간 모든 방법을 사용해야 한다는 조건을 만족시킬 수 없기 때문에 (m + 1) // 2의 점화식을 사용해야 한다.\n",
    "elif n == 2:\n",
    "    print(min(4, (m + 1) // 2))\n",
    "\n",
    "# n의 길이가 3 이상부터는 모든 방법을 사용할 수 있기 때문에 4이상이 나올 수 있다.\n",
    "# 대신 m(가로)의 길이가 m의 크기를 따라간다.\n",
    "elif m <= 6:\n",
    "    print(min(4, m))\n",
    "\n",
    "# m의 길이가 7이상이 될 경우에는 m - 2의 점화식을 따라간다.\n",
    "else:\n",
    "    print(m - 2)"
   ]
  }
 ],
 "metadata": {
  "language_info": {
   "name": "python"
  },
  "orig_nbformat": 4
 },
 "nbformat": 4,
 "nbformat_minor": 2
}
