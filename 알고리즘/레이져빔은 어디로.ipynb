{
 "cells": [
  {
   "attachments": {},
   "cell_type": "markdown",
   "metadata": {},
   "source": [
    "https://www.acmicpc.net/problem/3709\n",
    "\n",
    "![그래프](./image/2.png)"
   ]
  },
  {
   "cell_type": "code",
   "execution_count": null,
   "metadata": {
    "vscode": {
     "languageId": "plaintext"
    }
   },
   "outputs": [],
   "source": [
    "import sys\n",
    "input = sys.stdin.readline\n",
    "\n",
    "MOVE = [[0, -1], [-1, 0], [0, 1], [1, 0]]\n",
    "\n",
    "T = int(input())\n",
    "for _ in range(T):\n",
    "    [N, R] = list(map(int, input().split()))\n",
    "    box = [[False for x in range(N + 2)] for y in range(N + 2)]\n",
    "    for r in range(R):\n",
    "        [y, x] = list(map(int, input().split()))\n",
    "        box[y][x] = True\n",
    "    [y, x] = list(map(int, input().split()))\n",
    "\n",
    "    if y == 0:\n",
    "        m = 3\n",
    "    if y == N + 1:\n",
    "        m = 1\n",
    "    if x == 0:\n",
    "        m = 2\n",
    "    if x == N + 1:\n",
    "        m = 0\n",
    "\n",
    "    visited = [[[False for m in range(4)] for x in range(N + 2)] for y in range(N + 2)]\n",
    "\n",
    "    while not visited[y][x][m]:\n",
    "        visited[y][x][m] = True\n",
    "\n",
    "        if box[y][x]:\n",
    "            m = (m + 1) % 4\n",
    "\n",
    "        y = y + MOVE[m][0]\n",
    "        x = x + MOVE[m][1]\n",
    "        if y == 0 or y == (N + 1) or x == 0 or x == (N + 1):\n",
    "            break\n",
    "\n",
    "    if visited[y][x][m]:\n",
    "        print(0, 0)\n",
    "    else:\n",
    "        print(y, x)"
   ]
  }
 ],
 "metadata": {
  "language_info": {
   "name": "python"
  },
  "orig_nbformat": 4
 },
 "nbformat": 4,
 "nbformat_minor": 2
}
