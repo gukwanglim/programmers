{
 "cells": [
  {
   "attachments": {},
   "cell_type": "markdown",
   "metadata": {},
   "source": [
    "https://school.programmers.co.kr/learn/courses/30/lessons/140108\n",
    "\n",
    "![그래프](./image/60.png)"
   ]
  },
  {
   "cell_type": "code",
   "execution_count": null,
   "metadata": {
    "vscode": {
     "languageId": "plaintext"
    }
   },
   "outputs": [],
   "source": [
    "def solution(s):\n",
    "    answer = 0\n",
    "    s_ = [\"\", 0, 0]\n",
    "    \n",
    "    for i in s:\n",
    "        if s_[0] == \"\":\n",
    "            s_[0] = i\n",
    "            s_[1] += 1\n",
    "        \n",
    "        else:\n",
    "            if s_[0] == i:\n",
    "                s_[1] += 1\n",
    "            else:\n",
    "                s_[2] += 1\n",
    "                \n",
    "            if s_[1] == s_[2]:\n",
    "                answer += 1\n",
    "                s_ = [\"\", 0, 0]\n",
    "        \n",
    "    if s_ != [\"\", 0, 0]:\n",
    "        answer += 1\n",
    "    \n",
    "    \n",
    "    return answer"
   ]
  }
 ],
 "metadata": {
  "language_info": {
   "name": "python"
  },
  "orig_nbformat": 4
 },
 "nbformat": 4,
 "nbformat_minor": 2
}
