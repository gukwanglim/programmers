{
 "cells": [
  {
   "attachments": {},
   "cell_type": "markdown",
   "metadata": {},
   "source": [
    "https://www.acmicpc.net/problem/7546\n",
    "\n",
    "![그래프](./image/45.png)"
   ]
  },
  {
   "cell_type": "code",
   "execution_count": null,
   "metadata": {},
   "outputs": [],
   "source": [
    "import sys\n",
    "input = sys.stdin.readline\n",
    "\n",
    "T = int(input())\n",
    "for t in range(1, T + 1):\n",
    "    print(\"Scenario #{0}:\".format(t))\n",
    "    [b, x, y] = list(input().split())\n",
    "    b = int(b)\n",
    "    x = int(x, b)\n",
    "    y = int(y, b)\n",
    "\n",
    "    dp = [0 for _ in range(y)]\n",
    "    count = 1\n",
    "    rem = x % y\n",
    "    while dp[rem] == 0:\n",
    "        dp[rem] = count\n",
    "        rem = (rem * b) % y\n",
    "        count += 1\n",
    "    \n",
    "    print(0 if rem == 0 else count - dp[rem])\n",
    "    print()"
   ]
  }
 ],
 "metadata": {
  "kernelspec": {
   "display_name": "pydata",
   "language": "python",
   "name": "python3"
  },
  "language_info": {
   "name": "python",
   "version": "3.9.11"
  },
  "orig_nbformat": 4,
  "vscode": {
   "interpreter": {
    "hash": "286b3223e4baa2339d35639af96ec91063d7905066fed95d13bac9e189bc76bf"
   }
  }
 },
 "nbformat": 4,
 "nbformat_minor": 2
}
