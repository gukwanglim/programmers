{
 "cells": [
  {
   "attachments": {},
   "cell_type": "markdown",
   "metadata": {},
   "source": [
    "https://school.programmers.co.kr/learn/courses/30/lessons/12927\n",
    "\n",
    "![그래프](./image/134.png)"
   ]
  },
  {
   "cell_type": "code",
   "execution_count": null,
   "metadata": {
    "vscode": {
     "languageId": "plaintext"
    }
   },
   "outputs": [],
   "source": [
    "# 범위가 좁은 문제로 heap과 sort로 모두 해결이 가능하다.\n",
    "\n",
    "# heap 사용\n",
    "\n",
    "import heapq\n",
    "\n",
    "def solution(n, works):\n",
    "    if sum(works) <= n:\n",
    "        return 0\n",
    "    \n",
    "    works = [(-1) * i for i in works]\n",
    "    heapq.heapify(works)\n",
    "    while n:\n",
    "        check = heapq.heappop(works)\n",
    "        check += 1\n",
    "        heapq.heappush(works, check)\n",
    "        \n",
    "        n -= 1\n",
    "        \n",
    "    \n",
    "    return sum([i ** 2 for i in works])"
   ]
  },
  {
   "cell_type": "code",
   "execution_count": null,
   "metadata": {
    "vscode": {
     "languageId": "plaintext"
    }
   },
   "outputs": [],
   "source": [
    "# sort 사용(bisect 사용)\n",
    "\n",
    "import bisect\n",
    "\n",
    "def solution(n, works):\n",
    "    if sum(works) <= n:\n",
    "        return 0\n",
    "    \n",
    "    works.sort()\n",
    "    while n:\n",
    "        check = works.pop()\n",
    "        check -= 1\n",
    "        bisect.insort(works, check)\n",
    "        \n",
    "        n -= 1\n",
    "        \n",
    "    return sum([i ** 2 for i in works])"
   ]
  }
 ],
 "metadata": {
  "language_info": {
   "name": "python"
  },
  "orig_nbformat": 4
 },
 "nbformat": 4,
 "nbformat_minor": 2
}
