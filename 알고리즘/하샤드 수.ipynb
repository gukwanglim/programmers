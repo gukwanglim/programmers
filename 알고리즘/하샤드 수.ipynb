{
 "cells": [
  {
   "attachments": {},
   "cell_type": "markdown",
   "metadata": {},
   "source": [
    "https://school.programmers.co.kr/learn/courses/30/lessons/12947?language=python3\n",
    "\n",
    "![그래프](./image/110.png)"
   ]
  },
  {
   "cell_type": "code",
   "execution_count": null,
   "metadata": {
    "vscode": {
     "languageId": "plaintext"
    }
   },
   "outputs": [],
   "source": [
    "def solution(x):\n",
    "    b = []\n",
    "    for i in str(x):\n",
    "        b.append(int(i))\n",
    "    if int(x%sum(b)) == 0:\n",
    "        return True\n",
    "    else:\n",
    "        return False"
   ]
  },
  {
   "cell_type": "code",
   "execution_count": null,
   "metadata": {
    "vscode": {
     "languageId": "plaintext"
    }
   },
   "outputs": [],
   "source": [
    "# java 코드\n",
    "\n",
    "class Solution {\n",
    "    public boolean solution(int x) {\n",
    "\n",
    "        String[] xx = Integer.toString(x).split(\"\");\n",
    "        int y = 0;\n",
    "        for(int i=0; i<xx.length; i++){\n",
    "            y += Integer.parseInt(xx[i]);\n",
    "        }\n",
    "\n",
    "\n",
    "        boolean answer = true;\n",
    "\n",
    "        if(x%y != 0){\n",
    "            answer = false;\n",
    "        }\n",
    "        return answer;\n",
    "    }\n",
    "}"
   ]
  }
 ],
 "metadata": {
  "language_info": {
   "name": "python"
  },
  "orig_nbformat": 4
 },
 "nbformat": 4,
 "nbformat_minor": 2
}
