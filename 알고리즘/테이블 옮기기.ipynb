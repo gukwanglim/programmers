{
 "cells": [
  {
   "attachments": {},
   "cell_type": "markdown",
   "metadata": {},
   "source": [
    "https://www.acmicpc.net/problem/7348\n",
    "\n",
    "![그래프](./image/27.png)"
   ]
  },
  {
   "cell_type": "code",
   "execution_count": null,
   "metadata": {},
   "outputs": [],
   "source": [
    "import sys\n",
    "input = sys.stdin.readline\n",
    "\n",
    "T = int(input())\n",
    "for t in range(T):\n",
    "    N = int(input())\n",
    "    info = [list(sorted(map(int, input().split()))) for n in range(N)]\n",
    "    \n",
    "    dp = [0 for _ in range(201)]\n",
    "    for [start, end] in info:\n",
    "        for index in range((start + 1) // 2, ((end + 1) // 2) + 1):\n",
    "            dp[index] += 10\n",
    "    print(max(dp))"
   ]
  }
 ],
 "metadata": {
  "language_info": {
   "name": "python"
  },
  "orig_nbformat": 4
 },
 "nbformat": 4,
 "nbformat_minor": 2
}
