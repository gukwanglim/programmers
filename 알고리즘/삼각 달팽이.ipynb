{
 "cells": [
  {
   "attachments": {},
   "cell_type": "markdown",
   "metadata": {},
   "source": [
    "https://school.programmers.co.kr/learn/courses/30/lessons/68645\n",
    "\n",
    "![그래프](./image/31.png)"
   ]
  },
  {
   "cell_type": "code",
   "execution_count": null,
   "metadata": {
    "vscode": {
     "languageId": "plaintext"
    }
   },
   "outputs": [],
   "source": [
    "def solution(n):\n",
    "    result = [[[] for j in range(i)] for i in range(1,n+1)]\n",
    "    \n",
    "    k = 1\n",
    "    s = 0\n",
    "    t = 0\n",
    "    while n > 0 :\n",
    "        for i in range(s,n+s) :\n",
    "            result[i][t].append(k)\n",
    "            k += 1\n",
    "        n -= 1\n",
    "        for i in range(n) :\n",
    "            t += 1\n",
    "            result[n+s][t].append(k)\n",
    "            k += 1\n",
    "        n -= 1\n",
    "        for i in range(n+s,s,-1) :\n",
    "            t -= 1\n",
    "            result[i][t].append(k)\n",
    "            k += 1\n",
    "        n -= 1\n",
    "        s += 2\n",
    "    \n",
    "    answer = []\n",
    "    for i in result :\n",
    "        temp = []\n",
    "        for j in i :\n",
    "            temp += j\n",
    "        answer += temp\n",
    "    \n",
    "    return answer"
   ]
  }
 ],
 "metadata": {
  "language_info": {
   "name": "python"
  },
  "orig_nbformat": 4
 },
 "nbformat": 4,
 "nbformat_minor": 2
}
