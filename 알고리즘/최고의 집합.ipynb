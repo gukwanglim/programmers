{
 "cells": [
  {
   "attachments": {},
   "cell_type": "markdown",
   "metadata": {},
   "source": [
    "https://school.programmers.co.kr/learn/courses/30/lessons/12938\n",
    "\n",
    "![그래프](./image/81.png)"
   ]
  },
  {
   "cell_type": "code",
   "execution_count": null,
   "metadata": {
    "vscode": {
     "languageId": "plaintext"
    }
   },
   "outputs": [],
   "source": [
    "def solution(n, s):    \n",
    "    a = s // n\n",
    "    a_list = [a] * n \n",
    "    \n",
    "    if a == 0:\n",
    "        return [-1]\n",
    "    \n",
    "    for i in range(s - (a * n)):\n",
    "        a_list[i] += 1\n",
    "        \n",
    "    answer = sorted(a_list)\n",
    "    \n",
    "    return answer"
   ]
  }
 ],
 "metadata": {
  "language_info": {
   "name": "python"
  },
  "orig_nbformat": 4
 },
 "nbformat": 4,
 "nbformat_minor": 2
}
