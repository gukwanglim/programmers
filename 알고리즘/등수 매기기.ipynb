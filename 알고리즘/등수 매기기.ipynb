{
 "cells": [
  {
   "attachments": {},
   "cell_type": "markdown",
   "metadata": {},
   "source": [
    "https://www.acmicpc.net/problem/2012\n",
    "\n",
    "![그래프](./image/121.png)"
   ]
  },
  {
   "cell_type": "code",
   "execution_count": null,
   "metadata": {
    "vscode": {
     "languageId": "plaintext"
    }
   },
   "outputs": [],
   "source": [
    "import sys\n",
    "\n",
    "score = int(sys.stdin.readline())\n",
    "s_list = [int(sys.stdin.readline()) for _ in range(score)]\n",
    "s_list.sort()\n",
    "\n",
    "rank = [i for i in range(1, score+1)]\n",
    "\n",
    "answer = 0\n",
    "for i in range(score):\n",
    "    answer += abs(rank[i] - s_list[i])\n",
    "    \n",
    "print(answer)"
   ]
  }
 ],
 "metadata": {
  "language_info": {
   "name": "python"
  },
  "orig_nbformat": 4
 },
 "nbformat": 4,
 "nbformat_minor": 2
}
