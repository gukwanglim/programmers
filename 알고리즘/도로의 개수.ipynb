{
 "cells": [
  {
   "attachments": {},
   "cell_type": "markdown",
   "metadata": {},
   "source": [
    "https://www.acmicpc.net/problem/1577\n",
    "\n",
    "![그래프](./image/145.png)"
   ]
  },
  {
   "cell_type": "code",
   "execution_count": null,
   "metadata": {
    "vscode": {
     "languageId": "plaintext"
    }
   },
   "outputs": [],
   "source": [
    "# 프로그래머스의 등굣길 문제와 똑같음\n",
    "# 하지만, 한 지점을 통과하지 못하는 것이 아닌, 지점과 지점을 연결시켜주는 도로를 건너지 못하기 때문에 다른 조건이 필요\n",
    "\n",
    "import sys\n",
    "input = sys.stdin.readline\n",
    "\n",
    "n, m = map(int, input().split())\n",
    "block = []\n",
    "\n",
    "for _ in range(int(input())):\n",
    "    block.append(list(map(int, input().split())))\n",
    "\n",
    "maps = [[0] * (n + 1) for _ in range(m + 1)]\n",
    "maps[0][0] = 1\n",
    "\n",
    "for i in range(m+1):\n",
    "    for j in range(n+1):\n",
    "        if j > 0:\n",
    "            if ([j, i, j-1, i] not in block) and ([j-1, i, j, i] not in block):\n",
    "                maps[i][j] += maps[i][j-1]\n",
    "            \n",
    "        if i > 0:\n",
    "            if ([j, i, j, i-1] not in block) and ([j, i-1, j, i] not in block):\n",
    "                maps[i][j] += maps[i-1][j]\n",
    "            \n",
    "print(maps[-1][-1])"
   ]
  }
 ],
 "metadata": {
  "language_info": {
   "name": "python"
  },
  "orig_nbformat": 4
 },
 "nbformat": 4,
 "nbformat_minor": 2
}
