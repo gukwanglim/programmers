{
 "cells": [
  {
   "cell_type": "markdown",
   "metadata": {},
   "source": [
    "https://www.acmicpc.net/problem/2644\n",
    "\n",
    "![그래프](./image/186.png)"
   ]
  },
  {
   "cell_type": "code",
   "execution_count": null,
   "metadata": {
    "vscode": {
     "languageId": "plaintext"
    }
   },
   "outputs": [],
   "source": [
    "from collections import deque\n",
    "import sys\n",
    "input = sys.stdin.readline\n",
    "\n",
    "n = int(input())\n",
    "[s, d] = list(map(int, input().split()))\n",
    "info = [[] for _ in range(n + 1)]\n",
    "m = int(input())\n",
    "for _ in range(m):\n",
    "    [x, y] = list(map(int, input().split()))\n",
    "    info[x].append(y)\n",
    "    info[y].append(x)\n",
    "\n",
    "visited = [False for _ in range(n + 1)]\n",
    "queue = deque([[s, 0]])\n",
    "answer = -1\n",
    "while queue:\n",
    "    [curr, count] = queue.popleft()\n",
    "    visited[curr] = True\n",
    "\n",
    "    if d == curr:\n",
    "        answer = count\n",
    "\n",
    "    for next in info[curr]:\n",
    "        if not visited[next]:\n",
    "            queue.append([next, count + 1])\n",
    "print(answer)"
   ]
  }
 ],
 "metadata": {
  "language_info": {
   "name": "python"
  },
  "orig_nbformat": 4
 },
 "nbformat": 4,
 "nbformat_minor": 2
}
