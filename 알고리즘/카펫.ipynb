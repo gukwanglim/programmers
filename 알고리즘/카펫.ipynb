{
 "cells": [
  {
   "attachments": {},
   "cell_type": "markdown",
   "metadata": {},
   "source": [
    "https://school.programmers.co.kr/learn/courses/30/lessons/42842\n",
    "\n",
    "![그래프](./image/99.png)\n",
    "![그래프](./image/99-2.png)"
   ]
  },
  {
   "cell_type": "code",
   "execution_count": null,
   "metadata": {
    "vscode": {
     "languageId": "plaintext"
    }
   },
   "outputs": [],
   "source": [
    "def solution(brown, yellow):\n",
    "    divisor = []\n",
    "    for i in range(yellow,0,-1) :\n",
    "        if yellow %i == 0 :\n",
    "            divisor.append(i)\n",
    "            \n",
    "    if divisor == [1]:\n",
    "        return [3,3]\n",
    "    else :\n",
    "        inc = 0\n",
    "        if len(divisor)%2 == 0 :\n",
    "            idx = len(divisor)//2\n",
    "            while True :\n",
    "                if (divisor[idx-1-inc]+2)*(divisor[idx+inc]+2) - yellow == brown :\n",
    "                    return [divisor[idx-1-inc]+2,divisor[idx+inc]+2]\n",
    "                else :\n",
    "                    inc += 1\n",
    "        else :\n",
    "            idx = len(divisor)//2\n",
    "            while True :\n",
    "                if (divisor[idx-inc]+2)*(divisor[idx+inc]+2) - yellow == brown :\n",
    "                    return [divisor[idx-inc]+2,divisor[idx+inc]+2]\n",
    "                else :\n",
    "                    inc += 1"
   ]
  }
 ],
 "metadata": {
  "language_info": {
   "name": "python"
  },
  "orig_nbformat": 4
 },
 "nbformat": 4,
 "nbformat_minor": 2
}
