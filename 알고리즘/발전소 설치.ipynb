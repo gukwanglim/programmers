{
 "cells": [
  {
   "cell_type": "markdown",
   "metadata": {},
   "source": [
    "https://www.acmicpc.net/problem/1277\n",
    "\n",
    "![그래프](./image/148.png)"
   ]
  },
  {
   "cell_type": "code",
   "execution_count": null,
   "metadata": {
    "vscode": {
     "languageId": "plaintext"
    }
   },
   "outputs": [],
   "source": [
    "import sys\n",
    "import math\n",
    "import heapq\n",
    "input = sys.stdin.readline\n",
    "\n",
    "[N, W] = list(map(int, input().split()))\n",
    "M = float(input())\n",
    "plant = [list(map(int, input().split())) for n in range(N)]\n",
    "wire = [list(map(int, input().split())) for n in range(W)]\n",
    "\n",
    "                                # [N, W] = [9, 3]\n",
    "                                # M = 2.0\n",
    "                                # plant = [[0, 0], [0, 1], [1, 1], [2, 1], [2, 2], [3, 2], [3, 3], [4, 1], [4, 3]]\n",
    "                                # wire = [[1, 2], [2, 3], [3, 4]]\n",
    "\n",
    "graph = [[200000.0 for x in range(N + 1)] for y in range(N + 1)]\n",
    "for i in range(N):\n",
    "    for j in range(i, N):\n",
    "        dist = math.sqrt(pow(plant[i][0] - plant[j][0], 2) + pow(plant[i][1] - plant[j][1], 2))\n",
    "        if M >= dist:\n",
    "            graph[i + 1][j + 1] = dist\n",
    "            graph[j + 1][i + 1] = dist\n",
    "\n",
    "for [y, x] in wire:\n",
    "    graph[y][x] = 0.0\n",
    "    graph[x][y] = 0.0\n",
    "\n",
    "distance = [200000.0] * (N + 1)\n",
    "\n",
    "start = 1\n",
    "pq = []\n",
    "heapq.heappush(pq, (0, start))\n",
    "distance[start] = 0\n",
    "\n",
    "while pq:\n",
    "    [dist, curr] = heapq.heappop(pq)\n",
    "    if dist > distance[curr]:\n",
    "        continue\n",
    "\n",
    "    for next in range(1, N + 1):\n",
    "        cost = dist + graph[curr][next]\n",
    "        if graph[curr][next] <= M and distance[next] > cost:\n",
    "            distance[next] = cost\n",
    "            heapq.heappush(pq, (cost, next))\n",
    "\n",
    "print(math.floor(distance[N] * 1000))"
   ]
  }
 ],
 "metadata": {
  "language_info": {
   "name": "python"
  },
  "orig_nbformat": 4
 },
 "nbformat": 4,
 "nbformat_minor": 2
}
