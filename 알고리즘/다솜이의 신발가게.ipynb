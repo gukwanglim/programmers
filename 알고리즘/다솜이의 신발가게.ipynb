{
 "cells": [
  {
   "attachments": {},
   "cell_type": "markdown",
   "metadata": {},
   "source": [
    "https://www.acmicpc.net/problem/1661\n",
    "\n",
    "![그래프](./image/3.png)"
   ]
  },
  {
   "cell_type": "code",
   "execution_count": null,
   "metadata": {},
   "outputs": [],
   "source": [
    "import sys\n",
    "input = sys.stdin.readline\n",
    "\n",
    "[N, P] = list(map(int, input().split()))\n",
    "info = sorted([list(map(int, input().split())) for n in range(N)], key= lambda item: (item[1], -item[0])) \n",
    "\n",
    "# [N, P] = [3, 100]\n",
    "# info = sorted([[1, 1], [1, 2], [1, 3]], key= lambda item: (item[1], -item[0])) #97.06\n",
    "\n",
    "# [N, P] = [10, 1000000000]\n",
    "# info = [[10, 2], [2, 3], [6, 2], [3, 2], [3, 1], [2, 3], [9, 3], [4, 3], [2, 3], [10, 1]] #7.921497975738132E8\n",
    "\n",
    "items = {1: [], 2:[], 3:[]}\n",
    "for [c, p] in info:\n",
    "    items[p].append(c)\n",
    "\n",
    "for p in items:\n",
    "    items[p].sort()\n",
    "\n",
    "answer = P\n",
    "for i in range(len(items[1])+1):\n",
    "    I = sum(items[1][:i])\n",
    "    for j in range(len(items[2])+1):\n",
    "        J = sum(items[2][:j])\n",
    "        for k in range(len(items[3])+1):\n",
    "            K = sum(items[3][:k])\n",
    "            answer = min(answer, (P * pow(0.99, i) * pow(0.98, j) * pow(0.97, k)) + I + J + K)\n",
    "print(answer)"
   ]
  }
 ],
 "metadata": {
  "kernelspec": {
   "display_name": "pydata",
   "language": "python",
   "name": "python3"
  },
  "language_info": {
   "name": "python",
   "version": "3.9.11 (main, Mar 28 2022, 04:40:48) [MSC v.1916 64 bit (AMD64)]"
  },
  "orig_nbformat": 4,
  "vscode": {
   "interpreter": {
    "hash": "286b3223e4baa2339d35639af96ec91063d7905066fed95d13bac9e189bc76bf"
   }
  }
 },
 "nbformat": 4,
 "nbformat_minor": 2
}
