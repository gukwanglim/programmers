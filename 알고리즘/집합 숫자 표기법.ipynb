{
 "cells": [
  {
   "attachments": {},
   "cell_type": "markdown",
   "metadata": {},
   "source": [
    "https://www.acmicpc.net/problem/4848\n",
    "\n",
    "![그래프](./image/42.png)"
   ]
  },
  {
   "cell_type": "code",
   "execution_count": null,
   "metadata": {},
   "outputs": [],
   "source": [
    "dp = [0] * 16\n",
    "\n",
    "dp[0] = \"{}\"\n",
    "dp[1] = \"{{}}\"\n",
    "dp[2] = \"{{},{{}}}\"\n",
    "\n",
    "for i in range(3, 16):\n",
    "    dp[i] = dp[i-1][:-1] + ',' + dp[i-1] + '}'\n",
    "\n",
    "for _ in range(int(input())):\n",
    "    x = str(input())\n",
    "    y = str(input())\n",
    "    \n",
    "    for n, num in enumerate(dp):\n",
    "        if num == x:\n",
    "            x = n\n",
    "        if num == y:\n",
    "            y = n\n",
    "            \n",
    "    print(dp[x+y])"
   ]
  }
 ],
 "metadata": {
  "kernelspec": {
   "display_name": "pydata",
   "language": "python",
   "name": "python3"
  },
  "language_info": {
   "name": "python",
   "version": "3.9.11"
  },
  "orig_nbformat": 4,
  "vscode": {
   "interpreter": {
    "hash": "286b3223e4baa2339d35639af96ec91063d7905066fed95d13bac9e189bc76bf"
   }
  }
 },
 "nbformat": 4,
 "nbformat_minor": 2
}
