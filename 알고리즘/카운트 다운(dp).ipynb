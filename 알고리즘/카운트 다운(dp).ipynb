{
 "cells": [
  {
   "attachments": {},
   "cell_type": "markdown",
   "metadata": {},
   "source": [
    "https://school.programmers.co.kr/learn/courses/30/lessons/131129#\n",
    "\n",
    "![그래프](./image/108.png)\n",
    "![그래프](./image/108-2.png)"
   ]
  },
  {
   "cell_type": "code",
   "execution_count": null,
   "metadata": {
    "vscode": {
     "languageId": "plaintext"
    }
   },
   "outputs": [],
   "source": [
    "def solution(target):\n",
    "    points = [[0]]\n",
    "    for i in range(1, target + 1):\n",
    "        if i < 21:\n",
    "            points.append([1, 1])\n",
    "        elif i <= 40 and i % 2 == 0:\n",
    "            points.append([1, 0])\n",
    "        elif i <= 60 and i % 3 == 0:\n",
    "            points.append([1, 0])\n",
    "        elif i == 50:\n",
    "            points.append([1, 1])\n",
    "\n",
    "            # 만약, 아래와 같이 모든 50의 배수에 적용시키게 되면 정답이 아닌 부분이 존재하게 된다.\n",
    "        # elif i % 50 == 0:\n",
    "        #     points.append([i // 50, i // 50])\n",
    "        \n",
    "        else:\n",
    "            points.append([])\n",
    "            \n",
    "    if points[-1] != []:\n",
    "        return points[-1]\n",
    "    \n",
    "    for num, point in enumerate(points):\n",
    "        if point == []:\n",
    "            for i in range(1, 21):\n",
    "                if num >= i:\n",
    "                    count, sb = points[num - i]\n",
    "                    points[num].append([count + 1, sb + 1])\n",
    "                    \n",
    "                if num >= i * 2:\n",
    "                    count, sb = points[num - (i * 2)]\n",
    "                    points[num].append([count + 1, sb])\n",
    "                    \n",
    "                if num >= i * 3:\n",
    "                    count, sb = points[num - (i * 3)]\n",
    "                    points[num].append([count + 1, sb])\n",
    "                    \n",
    "            if num >= 50:\n",
    "                count, sb = points[num - 50]\n",
    "                points[num].append([count + 1, sb + 1])\n",
    "                    \n",
    "            points[num].sort(key = lambda x : [x[0], -x[1]])\n",
    "            points[num] = points[num][0]\n",
    "            \n",
    "    return points[-1]"
   ]
  }
 ],
 "metadata": {
  "language_info": {
   "name": "python"
  },
  "orig_nbformat": 4
 },
 "nbformat": 4,
 "nbformat_minor": 2
}
