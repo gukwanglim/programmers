{
 "cells": [
  {
   "attachments": {},
   "cell_type": "markdown",
   "metadata": {},
   "source": [
    "https://school.programmers.co.kr/learn/courses/30/lessons/161990\n",
    "\n",
    "![그래프](./image/68-1.png)\n",
    "![그래프](./image/68-2.png)"
   ]
  },
  {
   "cell_type": "code",
   "execution_count": null,
   "metadata": {
    "vscode": {
     "languageId": "plaintext"
    }
   },
   "outputs": [],
   "source": [
    "def solution(wallpaper):\n",
    "    x = []\n",
    "    y = []\n",
    "    \n",
    "    for i, j in enumerate(wallpaper):\n",
    "        if j.find('#') >= 0:\n",
    "            x.append(i)\n",
    "        for k, l in enumerate(j):\n",
    "            if l == '#':\n",
    "                y.append(k)\n",
    "                    \n",
    "    return [min(x), min(y), max(x) + 1, max(y) + 1]"
   ]
  }
 ],
 "metadata": {
  "language_info": {
   "name": "python"
  },
  "orig_nbformat": 4
 },
 "nbformat": 4,
 "nbformat_minor": 2
}
