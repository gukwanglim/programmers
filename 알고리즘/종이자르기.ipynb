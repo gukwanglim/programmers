{
 "cells": [
  {
   "cell_type": "markdown",
   "metadata": {},
   "source": [
    "https://www.acmicpc.net/problem/2628\n",
    "\n",
    "![그래프](./image/183.png)"
   ]
  },
  {
   "cell_type": "code",
   "execution_count": null,
   "metadata": {
    "vscode": {
     "languageId": "plaintext"
    }
   },
   "outputs": [],
   "source": [
    "[C, R] = list(map(int, input().split()))\n",
    "N = int(input())\n",
    "info = sorted([list(map(int, input().split())) for _ in  range(N)], key=lambda item: item[1]) + [[0, R], [1, C]]\n",
    "\n",
    "start = [0, 0]\n",
    "answer = [0, 0]\n",
    "\n",
    "for [type, end] in info:\n",
    "    answer[type] = max(answer[type], end - start[type])\n",
    "    start[type] = end\n",
    "\n",
    "print(answer[0] * answer[1])"
   ]
  }
 ],
 "metadata": {
  "language_info": {
   "name": "python"
  },
  "orig_nbformat": 4
 },
 "nbformat": 4,
 "nbformat_minor": 2
}
