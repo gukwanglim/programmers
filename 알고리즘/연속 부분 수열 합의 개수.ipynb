{
 "cells": [
  {
   "attachments": {},
   "cell_type": "markdown",
   "metadata": {},
   "source": [
    "https://school.programmers.co.kr/learn/courses/30/lessons/131701\n",
    "\n",
    "![그래프](./image/55.png)\n",
    "![그래프](./image/55-2.png)"
   ]
  },
  {
   "cell_type": "code",
   "execution_count": null,
   "metadata": {
    "vscode": {
     "languageId": "plaintext"
    }
   },
   "outputs": [],
   "source": [
    "def solution(elements):\n",
    "    answer = 0\n",
    "    number = set()\n",
    "    \n",
    "    l_element = len(elements)\n",
    "    elements = elements * 2\n",
    "    \n",
    "    for i in range(l_element) : \n",
    "        for j in range(l_element) : \n",
    "            number.add(sum(elements[j:j+i+1]))\n",
    "    answer = len(number)\n",
    "    return answer"
   ]
  }
 ],
 "metadata": {
  "language_info": {
   "name": "python"
  },
  "orig_nbformat": 4
 },
 "nbformat": 4,
 "nbformat_minor": 2
}
