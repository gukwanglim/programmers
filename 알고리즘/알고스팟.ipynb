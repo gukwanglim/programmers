{
 "cells": [
  {
   "cell_type": "markdown",
   "metadata": {},
   "source": [
    "https://www.acmicpc.net/problem/1261\n",
    "\n",
    "![그래프](./image/192.png)"
   ]
  },
  {
   "cell_type": "code",
   "execution_count": null,
   "metadata": {
    "vscode": {
     "languageId": "plaintext"
    }
   },
   "outputs": [],
   "source": [
    "import sys\n",
    "import heapq\n",
    "input = sys.stdin.readline\n",
    "\n",
    "INF = 100 * 100 + 1\n",
    "MOVE = [[0, -1], [-1, 0], [0, 1], [1, 0]]\n",
    "[M, N] = map(int, input().split())\n",
    "board = [list(map(int, input().strip())) for _ in range(N)]\n",
    "\n",
    "def isMove(y, x):\n",
    "    return 0 <= y < N and 0 <= x < M\n",
    "\n",
    "def bfs(y, x):\n",
    "    heap = [(0, y, x)]\n",
    "    dp = [[INF for m in range(M)] for n in range(N)]\n",
    "    dp[y][x] = 0\n",
    "\n",
    "    while heap:\n",
    "        (c, y, x) = heapq.heappop(heap)\n",
    "        \n",
    "        for [dy, dx] in MOVE:\n",
    "            if isMove(y + dy, x + dx) and dp[y + dy][x + dx] > board[y + dy][x + dx] + dp[y][x]:\n",
    "                dp[y + dy][x + dx] = board[y + dy][x + dx] + dp[y][x]\n",
    "                heapq.heappush(heap, (dp[y + dy][x + dx], y + dy, x + dx))\n",
    "    return dp[N - 1][M - 1]\n",
    "print(bfs(0, 0))"
   ]
  }
 ],
 "metadata": {
  "language_info": {
   "name": "python"
  },
  "orig_nbformat": 4
 },
 "nbformat": 4,
 "nbformat_minor": 2
}
