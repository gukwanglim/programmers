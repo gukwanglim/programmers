{
 "cells": [
  {
   "attachments": {},
   "cell_type": "markdown",
   "metadata": {},
   "source": [
    "https://school.programmers.co.kr/learn/courses/30/lessons/181187\n",
    "\n",
    "![그래프](./image/100.png)"
   ]
  },
  {
   "cell_type": "code",
   "execution_count": null,
   "metadata": {
    "vscode": {
     "languageId": "plaintext"
    }
   },
   "outputs": [],
   "source": [
    "import math\n",
    "\n",
    "def solution(r1, r2):\n",
    "    answer = 0\n",
    "    \n",
    "    for i in range(1, r2+1):\n",
    "        max_y = math.floor(math.sqrt(r2 ** 2 - i ** 2))\n",
    "        min_y = 0 if i >= r1 else math.ceil(math.sqrt(r1 ** 2 - i ** 2))\n",
    "        \n",
    "        answer += max_y - min_y + 1\n",
    "        \n",
    "    return answer * 4"
   ]
  }
 ],
 "metadata": {
  "language_info": {
   "name": "python"
  },
  "orig_nbformat": 4
 },
 "nbformat": 4,
 "nbformat_minor": 2
}
