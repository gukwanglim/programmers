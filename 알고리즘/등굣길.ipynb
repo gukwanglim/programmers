{
 "cells": [
  {
   "attachments": {},
   "cell_type": "markdown",
   "metadata": {},
   "source": [
    "https://school.programmers.co.kr/learn/courses/30/lessons/42898\n",
    "\n",
    "![그래프](./image/89.png)\n",
    "![그래프](./image/89-2.png)"
   ]
  },
  {
   "cell_type": "code",
   "execution_count": null,
   "metadata": {
    "vscode": {
     "languageId": "plaintext"
    }
   },
   "outputs": [],
   "source": [
    "# dp 문제인 이유가 최단거리를 찾는 것이 아닌 모든 경로를 찾는 것으로 초등학교에서 배운 공식을 사용하기 때문이다\n",
    "# 제일 윗 줄과 왼쪽 줄을 모두 1이라 두고 한 칸씩 위쪽과 외쪽의 숫자를 더하는 방식\n",
    "\n",
    "def solution(m, n, puddles):\n",
    "    maps = [[0] * (m + 1) for _ in range(n + 1)]\n",
    "    \n",
    "    for [i, j] in puddles:\n",
    "        maps[j][i] = -1\n",
    "    maps[0][1] = 1                                      # 0으로 패딩을 넣고 시작점 위에 1을 넣어두면 설계 가능\n",
    "    \n",
    "    for i in range(1, n+1):\n",
    "        for j in range(1, m+1):\n",
    "            if maps[i][j] == -1:                        # 웅덩이가 있는 곳은 못 지나가는 곳으로 -1로 표시한 후, 지나갈 때 0을 넣는다\n",
    "                maps[i][j] = 0\n",
    "            else:\n",
    "                maps[i][j] = (maps[i-1][j] + maps[i][j-1]) % 1_000_000_007\n",
    "                \n",
    "    return maps[-1][-1]"
   ]
  }
 ],
 "metadata": {
  "language_info": {
   "name": "python"
  },
  "orig_nbformat": 4
 },
 "nbformat": 4,
 "nbformat_minor": 2
}
