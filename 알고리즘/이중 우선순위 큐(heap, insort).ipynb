{
 "cells": [
  {
   "attachments": {},
   "cell_type": "markdown",
   "metadata": {},
   "source": [
    "https://school.programmers.co.kr/learn/courses/30/lessons/42628\n",
    "\n",
    "![그래프](./image/80.png)"
   ]
  },
  {
   "cell_type": "code",
   "execution_count": null,
   "metadata": {
    "vscode": {
     "languageId": "plaintext"
    }
   },
   "outputs": [],
   "source": [
    "import heapq\n",
    "\n",
    "def solution(operations):\n",
    "    max_heap = []\n",
    "    min_heap = []\n",
    "    \n",
    "    for operation in operations:\n",
    "        i, j = operation.split(' ')\n",
    "        \n",
    "        if i == 'I':\n",
    "            heapq.heappush(max_heap, -int(j))\n",
    "            heapq.heappush(min_heap, int(j))\n",
    "            \n",
    "        else:\n",
    "            if max_heap and j == '1':\n",
    "                min_heap.remove(-heapq.heappop(max_heap))\n",
    "                heapq.heapify(min_heap)                         # 만약 heapify를 하지 않을 경우에는 heap이 망가지게 되어 문제 발생\n",
    "                                                                # 때문에 heapify를 하여 heap이 망가지지 않게 한다.\n",
    "            elif min_heap and j == '-1':\n",
    "                max_heap.remove(-heapq.heappop(min_heap))\n",
    "                heapq.heapify(max_heap)\n",
    "                \n",
    "    if min_heap:\n",
    "        return [max(min_heap), min(min_heap)]\n",
    "    else:\n",
    "        return [0, 0]"
   ]
  },
  {
   "cell_type": "code",
   "execution_count": null,
   "metadata": {
    "vscode": {
     "languageId": "plaintext"
    }
   },
   "outputs": [],
   "source": [
    "# from bisect import insort 를 사용하면 정렬되는 상태로 숫자 추가 가능\n",
    "\n",
    "from bisect import insort\n",
    "from collections import deque\n",
    "\n",
    "def solution(operations):\n",
    "    queue = deque([])\n",
    "    for operation in operations:\n",
    "        i, j = operation.split(' ')\n",
    "        \n",
    "        if i == 'I':\n",
    "            insort(queue, int(j))\n",
    "        else:\n",
    "            if queue and j == '1':\n",
    "                queue.pop()\n",
    "            elif queue and j == '-1':\n",
    "                queue.popleft()\n",
    "                \n",
    "    if queue:\n",
    "        return [max(queue), min(queue)]\n",
    "    else:\n",
    "        return [0, 0]"
   ]
  }
 ],
 "metadata": {
  "language_info": {
   "name": "python"
  },
  "orig_nbformat": 4
 },
 "nbformat": 4,
 "nbformat_minor": 2
}
