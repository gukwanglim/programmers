{
 "cells": [
  {
   "attachments": {},
   "cell_type": "markdown",
   "metadata": {},
   "source": [
    "https://school.programmers.co.kr/learn/courses/30/lessons/92341\n",
    "\n",
    "![그래프](./image/77.png)\n",
    "![그래프](./image/77-2.png)\n",
    "![그래프](./image/77-3.png)"
   ]
  },
  {
   "cell_type": "code",
   "execution_count": null,
   "metadata": {},
   "outputs": [],
   "source": [
    "import math\n",
    "\n",
    "def stob(s) :\n",
    "    sb = s.split(':') \n",
    "    return 60*int(sb[0]) + int(sb[1])\n",
    "\n",
    "def solution(fees, records):\n",
    "    dic_record = {}\n",
    "    for car in records :\n",
    "        car_list = car.split(' ')\n",
    "        if car_list[2] == \"IN\" :\n",
    "            if car_list[1] in dic_record.keys() :\n",
    "                dic_record[car_list[1]].append(car_list[0])\n",
    "            else :\n",
    "                dic_record[car_list[1]] = [car_list[0]]\n",
    "        else :\n",
    "            dic_record[car_list[1]].append(car_list[0])\n",
    "    \n",
    "    dic_record = dict(sorted(dic_record.items()))\n",
    "    result = []\n",
    "    for value in dic_record.values() :\n",
    "        sum = 0\n",
    "        idx = 0\n",
    "        while idx < len(value) :\n",
    "            try :\n",
    "                sum += stob(value[idx+1]) - stob(value[idx])\n",
    "                idx += 2\n",
    "            except :\n",
    "                sum += 1439 - stob(value[idx])\n",
    "                break\n",
    "        result.append(sum)\n",
    "    \n",
    "    print(result)\n",
    "    for i in range(len(result)) :\n",
    "        if result[i] > fees[0] :\n",
    "            result[i] = fees[1] + math.ceil((result[i]-fees[0])/fees[2]) *fees[3]\n",
    "        else :\n",
    "            result[i] = fees[1]\n",
    "    \n",
    "    return result"
   ]
  }
 ],
 "metadata": {
  "language_info": {
   "name": "python"
  },
  "orig_nbformat": 4
 },
 "nbformat": 4,
 "nbformat_minor": 2
}
