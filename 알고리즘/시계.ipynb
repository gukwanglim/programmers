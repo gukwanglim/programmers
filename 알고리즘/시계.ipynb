{
 "cells": [
  {
   "attachments": {},
   "cell_type": "markdown",
   "metadata": {},
   "source": [
    "https://www.acmicpc.net/problem/2082\n",
    "\n",
    "![그래프](./image/8.png)"
   ]
  },
  {
   "cell_type": "code",
   "execution_count": null,
   "metadata": {},
   "outputs": [],
   "source": [
    "import sys\n",
    "input = sys.stdin.readline\n",
    "\n",
    "[N, M] = [5, 4]\n",
    "NUMBER = ['0b000010010010000'\n",
    "        , '0b110110110110110'\n",
    "        , '0b000110000011000'\n",
    "        , '0b000110000110000'\n",
    "        , '0b010010000110110'\n",
    "        , '0b000011000110000'\n",
    "        , '0b000011000010000'\n",
    "        , '0b000001001001001'\n",
    "        , '0b000010000010000'\n",
    "        , '0b000010000110000']\n",
    "\n",
    "info = ['0b' for m in range(M)]\n",
    "for _ in range(N):\n",
    "    s = input().strip().split(' ')\n",
    "    for i in range(M):\n",
    "        info[i] += s[i]\n",
    "\n",
    "answer = []\n",
    "for s in info:\n",
    "    for [i, number] in enumerate(NUMBER):\n",
    "        if int(s.replace('#', '1').replace('.', '0'), 2) & int(number, 2) == 0:\n",
    "            answer.append(i)\n",
    "            break\n",
    "print(\"{0}{1}:{2}{3}\".format(*answer))"
   ]
  }
 ],
 "metadata": {
  "kernelspec": {
   "display_name": "pydata",
   "language": "python",
   "name": "python3"
  },
  "language_info": {
   "name": "python",
   "version": "3.9.11 (main, Mar 28 2022, 04:40:48) [MSC v.1916 64 bit (AMD64)]"
  },
  "orig_nbformat": 4,
  "vscode": {
   "interpreter": {
    "hash": "286b3223e4baa2339d35639af96ec91063d7905066fed95d13bac9e189bc76bf"
   }
  }
 },
 "nbformat": 4,
 "nbformat_minor": 2
}
