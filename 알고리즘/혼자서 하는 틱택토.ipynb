{
 "cells": [
  {
   "attachments": {},
   "cell_type": "markdown",
   "metadata": {},
   "source": [
    "https://school.programmers.co.kr/learn/courses/30/lessons/160585\n",
    "\n",
    "![그래프](./image/102.png)\n",
    "![그래프](./image/102-2.png)"
   ]
  },
  {
   "cell_type": "code",
   "execution_count": null,
   "metadata": {
    "vscode": {
     "languageId": "plaintext"
    }
   },
   "outputs": [],
   "source": [
    "def solution(board):\n",
    "    O, X = 0, 0\n",
    "    check_O, check_X = 0, 0\n",
    "    \n",
    "    for i in board:\n",
    "        O += i.count('O')\n",
    "        X += i.count('X')\n",
    "        \n",
    "    if 0 <= O-X <= 1:    \n",
    "        # 세로 빙고가 완성될 경우\n",
    "        check = [board[0][i] + board[1][i] + board[2][i] for i in range(3)]\n",
    "        \n",
    "        # 가로, 세로가 완성될 경우(동시에 완성되어도 문제없이 가능하게 작성) -> 두 개가 동시에 완성되는 경우도 딱히 신경 쓸 필요 없음\n",
    "        for i, j in zip(board, check):\n",
    "            if 'OOO' in [i, j]:\n",
    "                check_O += 1\n",
    "            if 'XXX' in [i, j]:\n",
    "                check_X += 1\n",
    "        \n",
    "        # 대각선이 완성될 경우(마찬가지로 동시에 완성될 경우도 가능하게 작성) -> 두 개가 동시에 완성되는 경우도 딱히 신경 쓸 필요 없음\n",
    "        diagonal = [board[0][0] + board[1][1] + board[2][2], board[0][2] + board[1][1] + board[2][0]]\n",
    "        if 'OOO' in diagonal:\n",
    "            check_O += 1\n",
    "        if 'XXX' in diagonal:\n",
    "            check_X += 1\n",
    "    else:\n",
    "        return 0\n",
    "    \n",
    "    # 이 부분의 조건에 부합하기만 한다면 한 번에 두 개의 빙고가 완성되어도 문제 없음\n",
    "    if check_O and check_X:\n",
    "        return 0\n",
    "    if check_O and check_X == 0 and O == X:\n",
    "        return 0\n",
    "    if check_X and check_O == 0 and O != X:\n",
    "        return 0\n",
    "    \n",
    "    return 1"
   ]
  },
  {
   "cell_type": "code",
   "execution_count": null,
   "metadata": {
    "vscode": {
     "languageId": "plaintext"
    }
   },
   "outputs": [],
   "source": [
    "def solution(board):\n",
    "    O, X = 0, 0\n",
    "    check_O, check_X = 0, 0\n",
    "    \n",
    "    for i in board:\n",
    "        O += i.count('O')\n",
    "        X += i.count('X')\n",
    "        \n",
    "    if 0 <= O-X <= 1:    \n",
    "        # 세로 빙고가 완성될 경우\n",
    "        check = [board[0][i] + board[1][i] + board[2][i] for i in range(3)]\n",
    "        \n",
    "        # 실제로 단순 count로 계산한 것도 문제 해결 가능\n",
    "        for i, j in zip(board, check):\n",
    "            check_O += [i, j].count('OOO')\n",
    "            check_X += [i, j].count('XXX')\n",
    "        \n",
    "        # 실제로 단순 count로 계산한 것도 문제 해결 가능\n",
    "        diagonal = [board[0][0] + board[1][1] + board[2][2], board[0][2] + board[1][1] + board[2][0]]\n",
    "        check_O += diagonal.count('OOO')\n",
    "        check_X += diagonal.count('XXX')\n",
    "    else:\n",
    "        return 0\n",
    "    \n",
    "    # 이 부분의 조건에 부합하기만 한다면 한 번에 두 개의 빙고가 완성되어도 문제 없음\n",
    "    if check_O and check_X:\n",
    "        return 0\n",
    "    if check_O and check_X == 0 and O == X:\n",
    "        return 0\n",
    "    if check_X and check_O == 0 and O != X:\n",
    "        return 0\n",
    "    \n",
    "    return 1"
   ]
  }
 ],
 "metadata": {
  "language_info": {
   "name": "python"
  },
  "orig_nbformat": 4
 },
 "nbformat": 4,
 "nbformat_minor": 2
}
