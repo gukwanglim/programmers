{
 "cells": [
  {
   "attachments": {},
   "cell_type": "markdown",
   "metadata": {},
   "source": [
    "https://school.programmers.co.kr/learn/courses/30/lessons/178870\n",
    "\n",
    "![그래프](./image/107.png)"
   ]
  },
  {
   "cell_type": "code",
   "execution_count": null,
   "metadata": {
    "vscode": {
     "languageId": "plaintext"
    }
   },
   "outputs": [],
   "source": [
    "# 누적합은 1차원의 경우 주어진 수의 합을 하나씩 적어서 저장해 놓아야 한다.\n",
    "\n",
    "def solution(sequence, k):\n",
    "    sequence = [0] + sequence\n",
    "    prefix_sum = [0] * len(sequence)\n",
    "    \n",
    "    # 이렇게 저장한 누적합은 (i, j)번째 숫자들의 합을 구할 때, 사용되며\n",
    "    # (i, j)번째 숫자의 합은 prefix_sum[j] - prefix_sum[i-1]의 값이 된다.\n",
    "    for i in range(1, len(sequence)):\n",
    "        prefix_sum[i] = prefix_sum[i - 1] + sequence[i]\n",
    "        \n",
    "    \n",
    "    # 여기서 left, right는 누적합의 시작, 끝 인덱스를 뜻한다.\n",
    "    # an_left, an_right는 최종적인 답을 뜻한다.\n",
    "    # max_range는 가장 범위가 짧은 누적합을 구할 때, 필요한 범위(문제의 최대 범위)를 뜻한다.\n",
    "    left, right = 1, 1\n",
    "    an_left, an_right = -1, -1\n",
    "    max_range = 1_000_000\n",
    "    \n",
    "    while left <= right < len(sequence):\n",
    "        # 누적합을 계산하여 check에 담아 확인\n",
    "        check = prefix_sum[right] - prefix_sum[left - 1]\n",
    "        \n",
    "        # 만약, check가 문제에서 원하는 답보다 작을 경우 오른쪽 수를 늘려준다.\n",
    "        if check < k:\n",
    "            right += 1\n",
    "        # 오른쪽 수를 늘리다 check가 답과 같을 경우 max_range와 범위를 비교하여 범위가 더 좁은 수를 뽑아낸다.\n",
    "        elif check == k:\n",
    "            if max_range > right - left:\n",
    "                max_range = right - left\n",
    "                an_left, an_right = left, right\n",
    "            right += 1\n",
    "        # check를 확인하다 원하는 답을 넘어가는 경우, 오른쪽 숫자를 그대로 두고 왼쪽 숫자를 늘려준다.\n",
    "        else:\n",
    "            left += 1\n",
    "    \n",
    "    \n",
    "    return [an_left - 1, an_right - 1]"
   ]
  }
 ],
 "metadata": {
  "language_info": {
   "name": "python"
  },
  "orig_nbformat": 4
 },
 "nbformat": 4,
 "nbformat_minor": 2
}
