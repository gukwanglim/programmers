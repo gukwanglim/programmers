{
 "cells": [
  {
   "attachments": {},
   "cell_type": "markdown",
   "metadata": {},
   "source": [
    "https://school.programmers.co.kr/learn/courses/30/lessons/131127\n",
    "\n",
    "![그래프](./image/59.png)\n",
    "![그래프](./image/59-2.png)"
   ]
  },
  {
   "cell_type": "code",
   "execution_count": null,
   "metadata": {
    "vscode": {
     "languageId": "plaintext"
    }
   },
   "outputs": [],
   "source": [
    "def solution(want, number, discount):\n",
    "    answer = 0   \n",
    "    \n",
    "    for i in range(len(discount)):\n",
    "        dict_want = dict(zip(want, number))\n",
    "        \n",
    "        if len(discount[i:i+10]) < 10:\n",
    "            break\n",
    "        \n",
    "        else:\n",
    "            for i in discount[i:i+10]:\n",
    "                if i in dict_want:\n",
    "                    dict_want[i] -= 1\n",
    "                    \n",
    "                if list(dict_want.values()).count(0) == len(dict_want):\n",
    "                    answer += 1\n",
    "\n",
    "    return answer"
   ]
  }
 ],
 "metadata": {
  "language_info": {
   "name": "python"
  },
  "orig_nbformat": 4
 },
 "nbformat": 4,
 "nbformat_minor": 2
}
