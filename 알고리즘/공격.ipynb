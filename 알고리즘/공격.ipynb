{
 "cells": [
  {
   "cell_type": "markdown",
   "metadata": {},
   "source": [
    "https://www.acmicpc.net/problem/1430\n",
    "\n",
    "![그래프](./image/151.png)"
   ]
  },
  {
   "cell_type": "code",
   "execution_count": null,
   "metadata": {
    "vscode": {
     "languageId": "plaintext"
    }
   },
   "outputs": [],
   "source": [
    "import sys\n",
    "import math\n",
    "input = sys.stdin.readline\n",
    "\n",
    "[N, R, D, X, Y] = map(int, input().split())\n",
    "info = [list(map(int, input().split())) for _ in range(N)]\n",
    "\n",
    "def getDistance(x1, y1, x2, y2):\n",
    "    return math.sqrt(pow(x1 - x2, 2) + pow(y1 - y2, 2))\n",
    "\n",
    "adj = [[] for _ in range(N)]\n",
    "for i in range(N):\n",
    "    for j in range(i + 1, N):\n",
    "        if getDistance(*info[i], *info[j]) <= R:\n",
    "            adj[i].append(j)\n",
    "            adj[j].append(i)\n",
    "\n",
    "stack = []\n",
    "costs = [N + 1 for _ in range(N)]\n",
    "for node in range(N):\n",
    "    if getDistance(X, Y, *info[node]) <= R:\n",
    "        stack.append([node, 1])\n",
    "\n",
    "while stack:\n",
    "    [curr, cost] = stack.pop()\n",
    "    if cost >= costs[curr]:\n",
    "        continue\n",
    "    costs[curr] = cost\n",
    "    for next in adj[curr]:\n",
    "        stack.append([next, cost + 1])\n",
    "\n",
    "answer = 0\n",
    "for cost in costs:\n",
    "    if cost == N + 1:\n",
    "        continue\n",
    "    answer += D / pow(2, cost - 1)\n",
    "print(answer)"
   ]
  }
 ],
 "metadata": {
  "language_info": {
   "name": "python"
  },
  "orig_nbformat": 4
 },
 "nbformat": 4,
 "nbformat_minor": 2
}
