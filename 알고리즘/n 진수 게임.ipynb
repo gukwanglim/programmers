{
 "cells": [
  {
   "attachments": {},
   "cell_type": "markdown",
   "metadata": {},
   "source": [
    "https://school.programmers.co.kr/learn/courses/30/lessons/17687\n",
    "\n",
    "![그래프](./image/124.png)"
   ]
  },
  {
   "cell_type": "code",
   "execution_count": null,
   "metadata": {
    "vscode": {
     "languageId": "plaintext"
    }
   },
   "outputs": [],
   "source": [
    "def radix_Transformation(num, n) :\n",
    "    dic_R = {10 : \"A\",11 : \"B\",12 : \"C\",13 : \"D\",14 : \"E\", 15 : \"F\"}\n",
    "    temp = []\n",
    "    while num >= n :\n",
    "        if num % n in dic_R.keys() :\n",
    "            temp.append(dic_R[num % n])\n",
    "        else :\n",
    "            temp.append(str(num % n))\n",
    "        num //= n\n",
    "    if num in dic_R.keys() :\n",
    "        temp.append(dic_R[num])\n",
    "    else :\n",
    "        temp.append(str(num))\n",
    "        \n",
    "    return ''.join(temp[::-1])\n",
    "    \n",
    "def solution(n, t, m, p):\n",
    "    order = \"\"\n",
    "    for i in range(t*m) :\n",
    "        order += radix_Transformation(i,n)\n",
    "    result = \"\"\n",
    "    for i in range(len(order)) :\n",
    "        if i%m + 1 == p :\n",
    "            result += order[i]\n",
    "    \n",
    "    return result[:t]"
   ]
  }
 ],
 "metadata": {
  "language_info": {
   "name": "python"
  },
  "orig_nbformat": 4
 },
 "nbformat": 4,
 "nbformat_minor": 2
}
