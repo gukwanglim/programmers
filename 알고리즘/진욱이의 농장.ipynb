{
 "cells": [
  {
   "attachments": {},
   "cell_type": "markdown",
   "metadata": {},
   "source": [
    "https://www.acmicpc.net/problem/1460\n",
    "\n",
    "![그래프](./image/143.png)"
   ]
  },
  {
   "cell_type": "code",
   "execution_count": null,
   "metadata": {
    "vscode": {
     "languageId": "plaintext"
    }
   },
   "outputs": [],
   "source": [
    "import sys\n",
    "input = sys.stdin.readline\n",
    "\n",
    "[N, M] = map(int, input().split())\n",
    "farm = [[0 for c in range(N)] for r in range(N)]\n",
    "for _ in range(M):\n",
    "    [X, Y, L, F] = map(int, input().split())\n",
    "    for r in range(L):\n",
    "        for c in range(L):\n",
    "            farm[Y + r][X + c] = F\n",
    "\n",
    "answer = 0\n",
    "for one in range(1, 8):\n",
    "    for two in range(one, 8):\n",
    "        dp = [[int(farm[r][c] == one or farm[r][c] == two) for c in range(N)] for r in range(N)]\n",
    "        for r in range(1, N):\n",
    "            for c in range(1, N):\n",
    "                if dp[r][c] > 0:\n",
    "                    dp[r][c] = min(dp[r-1][c], dp[r-1][c-1], dp[r][c-1]) + 1\n",
    "                    answer = max(answer, dp[r][c])\n",
    "print(answer * answer)"
   ]
  }
 ],
 "metadata": {
  "language_info": {
   "name": "python"
  },
  "orig_nbformat": 4
 },
 "nbformat": 4,
 "nbformat_minor": 2
}
