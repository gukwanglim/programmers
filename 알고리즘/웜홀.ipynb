{
 "cells": [
  {
   "cell_type": "markdown",
   "metadata": {},
   "source": [
    "https://www.acmicpc.net/problem/1865\n",
    "\n",
    "![그래프](./image/194.png)"
   ]
  },
  {
   "cell_type": "code",
   "execution_count": null,
   "metadata": {
    "vscode": {
     "languageId": "plaintext"
    }
   },
   "outputs": [],
   "source": [
    "import sys\n",
    "input = sys.stdin.readline\n",
    "\n",
    "INF = (500 * 10000) + 1\n",
    "TC = int(input())\n",
    "for _ in range(TC):\n",
    "    [N, M, W] = map(int, input().split())\n",
    "    adj = [[] for _ in range(N + 1)]\n",
    "    for _ in range(M):\n",
    "        [S, E, T] = map(int, input().split())\n",
    "        adj[S].append([E, T])\n",
    "        adj[E].append([S, T])\n",
    "\n",
    "    for _ in range(W):\n",
    "        [S, E, T] = map(int, input().split())\n",
    "        adj[S].append([E, -T])\n",
    "\n",
    "    def timeTravel():\n",
    "        dist = [INF for _ in range(N + 1)]\n",
    "        dist[1] = 0\n",
    "\n",
    "        for i in range(0, N + 1):\n",
    "            for curr in range(0, N + 1):\n",
    "                for [next, cost] in adj[curr]:\n",
    "                    dist[next] = min(dist[next], dist[curr] + cost)\n",
    "        \n",
    "        for curr in range(0, N + 1):\n",
    "            for [next, cost] in adj[curr]:\n",
    "                if dist[next] > dist[curr] + cost:\n",
    "                    return True\n",
    "        return False\n",
    "    \n",
    "    print(\"YES\" if timeTravel() else \"NO\")"
   ]
  }
 ],
 "metadata": {
  "language_info": {
   "name": "python"
  },
  "orig_nbformat": 4
 },
 "nbformat": 4,
 "nbformat_minor": 2
}
