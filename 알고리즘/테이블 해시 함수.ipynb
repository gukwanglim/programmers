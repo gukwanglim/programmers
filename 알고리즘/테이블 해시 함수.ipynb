{
 "cells": [
  {
   "attachments": {},
   "cell_type": "markdown",
   "metadata": {},
   "source": [
    "https://school.programmers.co.kr/learn/courses/30/lessons/147354\n",
    "\n",
    "![그래프](./image/53.png)"
   ]
  },
  {
   "cell_type": "code",
   "execution_count": null,
   "metadata": {},
   "outputs": [],
   "source": [
    "def solution(data, col, row_begin, row_end):\n",
    "    data = sorted(data, key = lambda row: (row[col - 1], -row[0]))\n",
    "\n",
    "    answer = 0\n",
    "    for i in range(row_begin - 1, row_end):\n",
    "        S_i = 0\n",
    "        for item in data[i]:\n",
    "            S_i += (item % (i + 1))\n",
    "        answer = (answer ^ S_i)\n",
    "    return answer"
   ]
  }
 ],
 "metadata": {
  "kernelspec": {
   "display_name": "pydata",
   "language": "python",
   "name": "python3"
  },
  "language_info": {
   "name": "python",
   "version": "3.9.11"
  },
  "orig_nbformat": 4,
  "vscode": {
   "interpreter": {
    "hash": "286b3223e4baa2339d35639af96ec91063d7905066fed95d13bac9e189bc76bf"
   }
  }
 },
 "nbformat": 4,
 "nbformat_minor": 2
}
