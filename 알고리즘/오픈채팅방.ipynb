{
 "cells": [
  {
   "attachments": {},
   "cell_type": "markdown",
   "metadata": {},
   "source": [
    "https://school.programmers.co.kr/learn/courses/30/lessons/42888\n",
    "\n",
    "![그래프](./image/18-1.png)\n",
    "![그래프](./image/18-2.png)"
   ]
  },
  {
   "cell_type": "code",
   "execution_count": null,
   "metadata": {},
   "outputs": [],
   "source": [
    "def solution(record):\n",
    "    dict = {}\n",
    "    list_n = []\n",
    "    answer = []\n",
    "    for i in record:\n",
    "        a = i.split(\" \")\n",
    "        dict[a[1]] = []\n",
    "    for i in record:\n",
    "        a = i.split(\" \")\n",
    "        if a[0] != \"Leave\":\n",
    "            dict[a[1]].append(a[2])\n",
    "        else:\n",
    "            pass\n",
    "    string = \"\"\n",
    "    for i in record:\n",
    "        a = i.split(\" \")\n",
    "        if a[0] == \"Enter\":\n",
    "            string += dict[a[1]][-1]\n",
    "            string += \"님이 들어왔습니다.\"\n",
    "            answer.append(string)\n",
    "            string = \"\"\n",
    "        elif a[0] == \"Leave\":\n",
    "            string += dict[a[1]][-1]\n",
    "            string += \"님이 나갔습니다.\"\n",
    "            answer.append(string)\n",
    "            string = \"\"\n",
    "        else:\n",
    "            pass\n",
    "    return answer"
   ]
  }
 ],
 "metadata": {
  "kernelspec": {
   "display_name": "pydata",
   "language": "python",
   "name": "python3"
  },
  "language_info": {
   "name": "python",
   "version": "3.9.11 (main, Mar 28 2022, 04:40:48) [MSC v.1916 64 bit (AMD64)]"
  },
  "orig_nbformat": 4,
  "vscode": {
   "interpreter": {
    "hash": "286b3223e4baa2339d35639af96ec91063d7905066fed95d13bac9e189bc76bf"
   }
  }
 },
 "nbformat": 4,
 "nbformat_minor": 2
}
