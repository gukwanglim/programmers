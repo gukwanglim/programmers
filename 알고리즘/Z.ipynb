{
 "cells": [
  {
   "cell_type": "markdown",
   "metadata": {},
   "source": [
    "https://www.acmicpc.net/problem/1074\n",
    "\n",
    "![그래프](./image/189-1.png)\n",
    "![그래프](./image/189-2.png)"
   ]
  },
  {
   "cell_type": "code",
   "execution_count": null,
   "metadata": {
    "vscode": {
     "languageId": "plaintext"
    }
   },
   "outputs": [],
   "source": [
    "import sys\n",
    "input = sys.stdin.readline\n",
    "\n",
    "[N, r, c] = map(int, input().split())\n",
    "\n",
    "def recur(N, r, c):\n",
    "    if N < 0:\n",
    "        return 0\n",
    "\n",
    "    if r < pow(2, N):\n",
    "        if c < pow(2, N):\n",
    "            return recur(N - 1, r, c) + (pow(2, N) * pow(2, N) * 0)\n",
    "        else:\n",
    "            return recur(N - 1, r, c - pow(2, N)) + (pow(2, N) * pow(2, N) * 1)\n",
    "    else:\n",
    "        if c < pow(2, N):\n",
    "            return recur(N - 1, r - pow(2, N), c) + (pow(2, N) * pow(2, N) * 2)\n",
    "        else:\n",
    "            return recur(N - 1, r - pow(2, N), c - pow(2, N)) + (pow(2, N) * pow(2, N) * 3)\n",
    "\n",
    "print(recur(N - 1, r, c))"
   ]
  }
 ],
 "metadata": {
  "language_info": {
   "name": "python"
  },
  "orig_nbformat": 4
 },
 "nbformat": 4,
 "nbformat_minor": 2
}
