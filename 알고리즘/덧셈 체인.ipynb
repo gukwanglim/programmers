{
 "cells": [
  {
   "attachments": {},
   "cell_type": "markdown",
   "metadata": {},
   "source": [
    "https://www.acmicpc.net/problem/6590\n",
    "\n",
    "![그래프](./image/23.png)"
   ]
  },
  {
   "cell_type": "code",
   "execution_count": null,
   "metadata": {},
   "outputs": [],
   "source": [
    "import sys\n",
    "input = sys.stdin.readline\n",
    "\n",
    "while True:\n",
    "    n = int(input())\n",
    "    if n == 0:\n",
    "        break\n",
    "\n",
    "    # init    \n",
    "    h = [0 for _ in range(n + n)]\n",
    "    for i in range(n - 1, 0, -1):\n",
    "        h[i] = h[i + i] + 1\n",
    "    lenght = n + 1\n",
    "    cnt = [0 for _ in range(n + n + 1)]\n",
    "    cnt[1] += 1\n",
    "    cnt[2] += 1\n",
    "\n",
    "    w = [1] + [0 for _ in range(n)]\n",
    "    a = [1] + [0 for _ in range(n)]\n",
    "\n",
    "\n",
    "    def dfs(idx, mx):\n",
    "        global lenght\n",
    "        if idx + h[w[idx - 1]] >= lenght:\n",
    "            return\n",
    "\n",
    "        if w[idx-1] == n:\n",
    "            lenght = idx\n",
    "            for i in range(lenght):\n",
    "                a[i] = w[i]\n",
    "            return\n",
    "\n",
    "        for i in range(min(n, mx), w[idx-1], -1):\n",
    "            if not cnt[i]:\n",
    "                continue\n",
    "            w[idx] = i;\n",
    "            for j in range(idx + 1):\n",
    "                cnt[w[j] + i] += 1\n",
    "            dfs(idx + 1, 2 * i);\n",
    "            for j in range(idx + 1):\n",
    "                cnt[w[j] + i] -= 1\n",
    "\n",
    "    dfs(1, 2)\n",
    "    print(a[:lenght])"
   ]
  }
 ],
 "metadata": {
  "kernelspec": {
   "display_name": "pydata",
   "language": "python",
   "name": "python3"
  },
  "language_info": {
   "name": "python",
   "version": "3.9.11 (main, Mar 28 2022, 04:40:48) [MSC v.1916 64 bit (AMD64)]"
  },
  "orig_nbformat": 4,
  "vscode": {
   "interpreter": {
    "hash": "286b3223e4baa2339d35639af96ec91063d7905066fed95d13bac9e189bc76bf"
   }
  }
 },
 "nbformat": 4,
 "nbformat_minor": 2
}
