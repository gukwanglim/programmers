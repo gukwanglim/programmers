{
 "cells": [
  {
   "attachments": {},
   "cell_type": "markdown",
   "metadata": {},
   "source": [
    "https://www.acmicpc.net/problem/1301\n",
    "\n",
    "![그래프](./image/129.png)"
   ]
  },
  {
   "cell_type": "code",
   "execution_count": null,
   "metadata": {
    "vscode": {
     "languageId": "plaintext"
    }
   },
   "outputs": [],
   "source": [
    "import sys\n",
    "input = sys.stdin.readline\n",
    "\n",
    "def getKey(array):\n",
    "    return ''.join(map(lambda item: format(item, '02'), array))\n",
    "\n",
    "N = int(input())\n",
    "info = [0] + [int(input()) for _ in range(N)]\n",
    "dp = [[{} for _ in range(N + 1)] for _ in range(N + 1)]\n",
    "\n",
    "def dfs(prev, curr):\n",
    "    if sum(info) == 0:\n",
    "        return 1\n",
    "    \n",
    "    key = getKey(info)\n",
    "    if key in dp[prev][curr]:\n",
    "        return dp[prev][curr][key]\n",
    "    \n",
    "    dp[prev][curr][key] = 0\n",
    "    for next in range(len(info)):\n",
    "        if prev == next or curr == next or info[next] == 0:\n",
    "            continue\n",
    "        info[next] -= 1\n",
    "        dp[prev][curr][key] += dfs(curr, next)\n",
    "        info[next] += 1\n",
    "    return dp[prev][curr][key]\n",
    "\n",
    "print(dfs(0, 0))"
   ]
  }
 ],
 "metadata": {
  "language_info": {
   "name": "python"
  },
  "orig_nbformat": 4
 },
 "nbformat": 4,
 "nbformat_minor": 2
}
