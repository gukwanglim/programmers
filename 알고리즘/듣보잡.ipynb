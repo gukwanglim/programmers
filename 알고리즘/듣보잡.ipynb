{
 "cells": [
  {
   "attachments": {},
   "cell_type": "markdown",
   "metadata": {},
   "source": [
    "https://www.acmicpc.net/problem/1764\n",
    "\n",
    "![그래프](./image/136.png)"
   ]
  },
  {
   "cell_type": "code",
   "execution_count": null,
   "metadata": {
    "vscode": {
     "languageId": "plaintext"
    }
   },
   "outputs": [],
   "source": [
    "import sys\n",
    "input = sys.stdin.readline\n",
    "\n",
    "[N, M] = list(map(int, input().split()))\n",
    "info = [input().strip() for _ in range(N + M)]\n",
    "A = set(info[:N])\n",
    "B = set(info[-M:])\n",
    "\n",
    "intersection = sorted(A & B) \n",
    "print(len(intersection))\n",
    "for element in intersection:\n",
    "    print(element)"
   ]
  }
 ],
 "metadata": {
  "language_info": {
   "name": "python"
  },
  "orig_nbformat": 4
 },
 "nbformat": 4,
 "nbformat_minor": 2
}
