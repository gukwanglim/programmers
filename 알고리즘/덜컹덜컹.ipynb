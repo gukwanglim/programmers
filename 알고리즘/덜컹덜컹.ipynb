{
 "cells": [
  {
   "cell_type": "markdown",
   "metadata": {},
   "source": [
    "https://www.acmicpc.net/problem/1656\n",
    "\n",
    "![그래프](./image/152.png)"
   ]
  },
  {
   "cell_type": "code",
   "execution_count": null,
   "metadata": {
    "vscode": {
     "languageId": "plaintext"
    }
   },
   "outputs": [],
   "source": [
    "import sys\n",
    "input = sys.stdin.readline\n",
    "\n",
    "[INDEX, LENGHT] = [0, 1]\n",
    "\n",
    "def getAngle(t, a, b):\n",
    "   \t\treturn min((t + a - b) % t, (t + b - a) % t)\n",
    "\n",
    "while True:\n",
    "\tt = int(input())\n",
    "\tif t == 0:\n",
    "\t\tbreak\n",
    "\tinfo = [int(input()) for _ in range(t)]\n",
    "\n",
    "\tdef isPossible(length):\n",
    "\t\tpoints = list(filter(lambda item: item[LENGHT] >= length, enumerate(info)))\n",
    "\t\tmaxAngle = 0\n",
    "\t\tsum = 0\n",
    "\t\tfor index in range(len(points)):\n",
    "\t\t\tpoint1 = points[index]\n",
    "\t\t\tpoint2 = points[(index + 1) % len(points)]\n",
    "\t\t\tangle = getAngle(t, point1[INDEX], point2[INDEX])\n",
    "\n",
    "\t\t\tsum += angle\n",
    "\t\t\tmaxAngle = max(maxAngle, angle)\n",
    "\t\treturn (sum == t) and not (2 * maxAngle == t)\n",
    "\n",
    "\t[left, right] = [min(info), max(info)]\n",
    "\n",
    "\tanswer = left\n",
    "\twhile left <= right:\n",
    "\t\tmid = (left + right) // 2\n",
    "\t\tif isPossible(mid):\n",
    "\t\t\tanswer = mid\n",
    "\t\t\tleft = mid + 1\n",
    "\t\telse:\n",
    "\t\t\tright = mid - 1\n",
    "\t\n",
    "\tprint(sum(map(lambda item: 0 if answer >= item else item - answer, info)), end=\"\\n\\n\")"
   ]
  }
 ],
 "metadata": {
  "language_info": {
   "name": "python"
  },
  "orig_nbformat": 4
 },
 "nbformat": 4,
 "nbformat_minor": 2
}
