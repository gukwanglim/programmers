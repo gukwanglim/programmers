{
 "cells": [
  {
   "cell_type": "markdown",
   "metadata": {},
   "source": [
    "https://www.acmicpc.net/problem/1774\n",
    "\n",
    "![그래프](./image/155.png)"
   ]
  },
  {
   "cell_type": "code",
   "execution_count": null,
   "metadata": {
    "vscode": {
     "languageId": "plaintext"
    }
   },
   "outputs": [],
   "source": [
    "import sys\n",
    "import math\n",
    "input = sys.stdin.readline\n",
    "\n",
    "[X, Y] = [0, 1]\n",
    "[U, V, COST] = [0, 1, 2]\n",
    "[N, M] = map(int, input().split())\n",
    "loc = [list(map(int, input().split())) for _ in range(N)]\n",
    "info = [list(map(int, input().split())) for _ in range(M)]\n",
    "\n",
    "nodes = []\n",
    "for i in range(N - 1):\n",
    "    for j in range(i + 1, N):\n",
    "        nodes.append([i + 1, j + 1, math.sqrt(pow((loc[i][X] - loc[j][X]), 2) + pow((loc[i][Y] - loc[j][Y]), 2))])\n",
    "\n",
    "nodes = sorted(nodes, key = lambda item: (item[COST]))\n",
    "\n",
    "parent = [i for i in range(N + 1)]\n",
    "def find(a):\n",
    "    if a == parent[a]:\n",
    "        return a;\n",
    "    return find(parent[a])\n",
    "\n",
    "def union(a, b):\n",
    "    Pa = find(a)\n",
    "    Pb = find(b)\n",
    "    if Pa < Pb : parent[Pb] = Pa\n",
    "    else : parent[Pa] = Pb\n",
    "\n",
    "for [u, v] in info:\n",
    "    union(u, v)\n",
    "\n",
    "answer = 0.0\n",
    "for [u, v, cost] in nodes:\n",
    "    if find(u) == find(v):\n",
    "        continue\n",
    "    union(u, v)\n",
    "    answer += cost\n",
    "\n",
    "print(\"{:.2f}\".format(round(answer, 2)))"
   ]
  }
 ],
 "metadata": {
  "language_info": {
   "name": "python"
  },
  "orig_nbformat": 4
 },
 "nbformat": 4,
 "nbformat_minor": 2
}
