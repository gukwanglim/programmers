{
 "cells": [
  {
   "attachments": {},
   "cell_type": "markdown",
   "metadata": {},
   "source": [
    "https://school.programmers.co.kr/learn/courses/30/lessons/172927\n",
    "\n",
    "![그래프](./image/86.png)\n",
    "![그래프](./image/86-2.png)"
   ]
  },
  {
   "cell_type": "code",
   "execution_count": null,
   "metadata": {
    "vscode": {
     "languageId": "plaintext"
    }
   },
   "outputs": [],
   "source": [
    "# 그리디\n",
    "import math\n",
    "\n",
    "def solution(picks, minerals):\n",
    "    answer = 0\n",
    "    min_dict = {'diamond':0, 'iron':1, 'stone':2}\n",
    "    score = [[1, 1, 1], [5, 1, 1], [25, 5, 1]]\n",
    "    min_list = []\n",
    "\n",
    "    minerals = minerals[:sum(picks) * 5]\n",
    "    min_list = [[0, 0, 0] for _ in range(math.ceil(len(minerals) / 5))]\n",
    "        \n",
    "    count, i = 0, 0\n",
    "    for mineral in minerals:\n",
    "        if count < 5:\n",
    "            min_list[i][0] += score[0][min_dict[mineral]]\n",
    "            min_list[i][1] += score[1][min_dict[mineral]]\n",
    "            min_list[i][2] += score[2][min_dict[mineral]]\n",
    "            \n",
    "            count += 1\n",
    "            \n",
    "            if count == 5:\n",
    "                count =0\n",
    "                i += 1\n",
    "    \n",
    "    min_list.sort(key = lambda x : [x[2], x[1], x[0]])\n",
    "    \n",
    "    for i, j in enumerate(picks):\n",
    "        for _ in range(j):\n",
    "            if min_list:\n",
    "                answer += min_list.pop()[i]\n",
    "            \n",
    "    return answer"
   ]
  }
 ],
 "metadata": {
  "language_info": {
   "name": "python"
  },
  "orig_nbformat": 4
 },
 "nbformat": 4,
 "nbformat_minor": 2
}
