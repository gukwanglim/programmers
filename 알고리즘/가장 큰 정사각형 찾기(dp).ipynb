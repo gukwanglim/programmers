{
 "cells": [
  {
   "attachments": {},
   "cell_type": "markdown",
   "metadata": {},
   "source": [
    "https://school.programmers.co.kr/learn/courses/30/lessons/12905?language=python3\n",
    "\n",
    "![그래프](./image/111.png)"
   ]
  },
  {
   "cell_type": "code",
   "execution_count": null,
   "metadata": {
    "vscode": {
     "languageId": "plaintext"
    }
   },
   "outputs": [],
   "source": [
    "# 제일 앞 줄(y가 0인 부분과 x가 0인 부분)은 자기 자신이 정사각형일 경우를 제외하면 앞에 존재하는 공간이 없기 때문에 따로 생각한다.\n",
    "# 그 외의 나머지 부분은 사각형이 되는 부분이 모두 채워져 있어야한다.\n",
    "# [[1, 1], [1, 1]]에서 보면 [1][1] 이외의 부분이 1로 채워져 있으며 자기 자신도 1이 있으므로 정사각형이 완성된다. -> [[1, 1], [1, 2]]로 표현\n",
    "# 만약 [[2, 2], [2, 1]]의 모습이 그려졌다면 길이가 2인 정사각형이 주변을 감싸고 있으며 오른쪽 아래 모서리도 1이 있으므로 [[2, 2], [2, 3]]으로 표현된다.\n",
    "\n",
    "def solution(board):\n",
    "    answer = 0\n",
    "    \n",
    "    map_ = list([0] * len(board[0]) for _ in range(len(board)))\n",
    "\n",
    "    for i in range(len(board)):\n",
    "        for j in range(len(board[0])):\n",
    "            if i == 0 or j == 0:\n",
    "                if board[i][j] == 1:\n",
    "                    answer = max(answer, 1)\n",
    "                    map_[i][j] = 1\n",
    "                continue\n",
    "            \n",
    "            # min이 되야하는 이유는 모든 칸이 채워져 있는지 확인하기와 총 그릴 수 있는 정사각형의 한 변의 길이를 알 수 있기 때문이다.\n",
    "            minmum = min(map_[i-1][j], map_[i][j-1], map_[i-1][j-1])\n",
    "            \n",
    "            if board[i][j] == 1:\n",
    "                # 그릴 수 있는 정사각형의 오른쪽 아래 모서리에 현재 정사각형의 길이를 저장\n",
    "                map_[i][j] = minmum + 1\n",
    "                answer = max(answer, map_[i][j])\n",
    "\n",
    "    return answer ** 2"
   ]
  }
 ],
 "metadata": {
  "language_info": {
   "name": "python"
  },
  "orig_nbformat": 4
 },
 "nbformat": 4,
 "nbformat_minor": 2
}
