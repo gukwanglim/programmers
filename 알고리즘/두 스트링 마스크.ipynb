{
 "cells": [
  {
   "attachments": {},
   "cell_type": "markdown",
   "metadata": {},
   "source": [
    "https://www.acmicpc.net/problem/1361\n",
    "\n",
    "![그래프](./image/141.png)"
   ]
  },
  {
   "cell_type": "code",
   "execution_count": null,
   "metadata": {
    "vscode": {
     "languageId": "plaintext"
    }
   },
   "outputs": [],
   "source": [
    "import sys\n",
    "input = sys.stdin.readline\n",
    "from collections import deque\n",
    "\n",
    "S1 = input().strip()\n",
    "S2 = input().strip()\n",
    "\n",
    "def bfs():\n",
    "    queue = deque([[0, 0, '']])\n",
    "    while queue:\n",
    "        [i1, i2, s] = queue.popleft()\n",
    "        if i1 == len(S1) and i2 == len(S2):\n",
    "            return s.replace('*', '')\n",
    "        \n",
    "        if i1 < len(S1) and i2 < len(S2) and S1[i1] == S2[i2]:\n",
    "            queue.append([i1 + 1, i2 + 1, s + S2[i2]])\n",
    "        if i1 < len(S1) and S1[i1] == '*':\n",
    "            if i2 < len(S2) : queue.append([i1, i2 + 1, s + S2[i2]])\n",
    "            queue.append([i1 + 1, i2, s])\n",
    "        if i2 < len(S2) and S2[i2] == '*':\n",
    "            if i1 < len(S1) : queue.append([i1 + 1, i2, s + S1[i1]])\n",
    "            queue.append([i1, i2 + 1, s])\n",
    "    return -1\n",
    "print(bfs())"
   ]
  }
 ],
 "metadata": {
  "language_info": {
   "name": "python"
  },
  "orig_nbformat": 4
 },
 "nbformat": 4,
 "nbformat_minor": 2
}
