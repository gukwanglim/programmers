{
 "cells": [
  {
   "attachments": {},
   "cell_type": "markdown",
   "metadata": {},
   "source": [
    "https://school.programmers.co.kr/learn/courses/30/lessons/133499\n",
    "\n",
    "![그래프](./image/75.png)"
   ]
  },
  {
   "cell_type": "code",
   "execution_count": null,
   "metadata": {
    "vscode": {
     "languageId": "plaintext"
    }
   },
   "outputs": [],
   "source": [
    "def solution(babbling):\n",
    "    answer = 0\n",
    "    \n",
    "    baby = [\"aya\", \"ye\", \"woo\", \"ma\"]\n",
    "    for i in babbling:\n",
    "        for j in baby:\n",
    "            if j*2 not in i:\n",
    "                i = i.replace(j, \" \")\n",
    "\n",
    "        if i.strip() == \"\":\n",
    "            answer += 1\n",
    "    \n",
    "    return answer"
   ]
  }
 ],
 "metadata": {
  "language_info": {
   "name": "python"
  },
  "orig_nbformat": 4
 },
 "nbformat": 4,
 "nbformat_minor": 2
}
