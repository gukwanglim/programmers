{
 "cells": [
  {
   "attachments": {},
   "cell_type": "markdown",
   "metadata": {},
   "source": [
    "https://school.programmers.co.kr/learn/courses/30/lessons/150369#\n",
    "\n",
    "![그래프](./image/104.png)\n",
    "![그래프](./image/104-2.png)\n",
    "![그래프](./image/104-3.png)"
   ]
  },
  {
   "cell_type": "code",
   "execution_count": null,
   "metadata": {
    "vscode": {
     "languageId": "plaintext"
    }
   },
   "outputs": [],
   "source": [
    "# 두 가지의 리스트가 존재할 경우, while 안에 각각의 리스트를 활용하는 while을 사용할 수 있다는 사실도 알아두면 좋다.\n",
    "\n",
    "def solution(cap, n, deliveries, pickups):\n",
    "    answer = 0\n",
    "\n",
    "    # 만약, 제일 마지막 집에 수거나 배달을 하지 않아도 될 경우 아래 while 문에서 max()에 걸리기 때문에 마지막의 0을 pop해주는 것이 좋다.\n",
    "    # 여기서 리스트가 존재한다는 조건이 없다면 런타임 에러 발생\n",
    "    while deliveries and deliveries[-1] == 0:\n",
    "        deliveries.pop()\n",
    "    while pickups and pickups[-1] == 0:\n",
    "        pickups.pop()\n",
    "\n",
    "    while deliveries or pickups:\n",
    "        answer += max(len(deliveries), len(pickups)) * 2\n",
    "        \n",
    "        check_d = check_p = cap\n",
    "        while deliveries:\n",
    "            if deliveries[-1] <= check_d:\n",
    "                check_d -= deliveries.pop()\n",
    "            else:\n",
    "                deliveries[-1] -= check_d\n",
    "                break\n",
    "                \n",
    "        while pickups:\n",
    "            if pickups[-1] <= check_p:\n",
    "                check_p -= pickups.pop()\n",
    "            else:\n",
    "                pickups[-1] -= check_p\n",
    "                break\n",
    "    \n",
    "    return answer"
   ]
  }
 ],
 "metadata": {
  "language_info": {
   "name": "python"
  },
  "orig_nbformat": 4
 },
 "nbformat": 4,
 "nbformat_minor": 2
}
