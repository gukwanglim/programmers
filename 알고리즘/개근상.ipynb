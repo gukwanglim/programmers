{
 "cells": [
  {
   "attachments": {},
   "cell_type": "markdown",
   "metadata": {},
   "source": [
    "https://www.acmicpc.net/problem/1563\n",
    "\n",
    "![그래프](./image/12.png)"
   ]
  },
  {
   "attachments": {},
   "cell_type": "markdown",
   "metadata": {},
   "source": [
    "다시 한번 살펴볼 필요가 있는 문제이다."
   ]
  },
  {
   "cell_type": "code",
   "execution_count": null,
   "metadata": {},
   "outputs": [],
   "source": [
    "import sys\n",
    "input = sys.stdin.readline\n",
    "\n",
    "N = int(input())\n",
    "\n",
    "dp = [[[-1 for a in range(3)] for l in range(2)] for o in range(N + 1)]\n",
    "\n",
    "def dfs(o, l, a):\n",
    "    if l == 2 or a == 3:\n",
    "        return 0\n",
    "\n",
    "    if o == N:\n",
    "        dp[o][l][a] = 1\n",
    "        return dp[o][l][a]\n",
    "\n",
    "    if dp[o][l][a] > -1:\n",
    "        return dp[o][l][a]\n",
    "\n",
    "    dp[o][l][a] = 0\n",
    "    dp[o][l][a] += (dfs(o + 1, l, 0) % 1000000)\n",
    "    dp[o][l][a] += (dfs(o + 1, l + 1, 0) % 1000000)\n",
    "    dp[o][l][a] += (dfs(o + 1, l, a + 1) % 1000000)\n",
    "    return dp[o][l][a]\n",
    "\n",
    "print(dfs(0, 0, 0) % 1000000)"
   ]
  }
 ],
 "metadata": {
  "kernelspec": {
   "display_name": "pydata",
   "language": "python",
   "name": "python3"
  },
  "language_info": {
   "name": "python",
   "version": "3.9.11 (main, Mar 28 2022, 04:40:48) [MSC v.1916 64 bit (AMD64)]"
  },
  "orig_nbformat": 4,
  "vscode": {
   "interpreter": {
    "hash": "286b3223e4baa2339d35639af96ec91063d7905066fed95d13bac9e189bc76bf"
   }
  }
 },
 "nbformat": 4,
 "nbformat_minor": 2
}
