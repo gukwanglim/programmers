{
 "cells": [
  {
   "attachments": {},
   "cell_type": "markdown",
   "metadata": {},
   "source": [
    "https://www.acmicpc.net/problem/1497\n",
    "\n",
    "![그래프](./image/127.png)"
   ]
  },
  {
   "cell_type": "code",
   "execution_count": null,
   "metadata": {
    "vscode": {
     "languageId": "plaintext"
    }
   },
   "outputs": [],
   "source": [
    "import sys\n",
    "input = sys.stdin.readline\n",
    "\n",
    "[N, M] = map(int, input().split())\n",
    "info = []\n",
    "for _ in range(N):\n",
    "    [name, yn] = input().split()\n",
    "    info.append(int('0b' + ''.join(map(lambda c: str(int(c == 'Y')), list(yn))), 2))\n",
    "\n",
    "answer = [[-1, 0]]\n",
    "stack = [[0, 0, 0]]\n",
    "\n",
    "while stack:\n",
    "    [curr, count, state] = stack.pop()\n",
    "    if curr == N:\n",
    "        answer.append([count, state])\n",
    "        continue\n",
    "    stack.append([curr + 1, count, state])\n",
    "    stack.append([curr + 1, count + 1, state | info[curr]])\n",
    "\n",
    "[count, state] = sorted(answer, key=lambda item: (item[1], -item[0])).pop()\n",
    "print(count)"
   ]
  }
 ],
 "metadata": {
  "language_info": {
   "name": "python"
  },
  "orig_nbformat": 4
 },
 "nbformat": 4,
 "nbformat_minor": 2
}
