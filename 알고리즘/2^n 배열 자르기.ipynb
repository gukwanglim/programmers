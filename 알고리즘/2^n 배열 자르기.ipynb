{
 "cells": [
  {
   "attachments": {},
   "cell_type": "markdown",
   "metadata": {},
   "source": [
    "https://school.programmers.co.kr/learn/courses/30/lessons/87390\n",
    "\n",
    "![그래프](./image/114.png)"
   ]
  },
  {
   "cell_type": "code",
   "execution_count": null,
   "metadata": {
    "vscode": {
     "languageId": "plaintext"
    }
   },
   "outputs": [],
   "source": [
    "def solution(n, left, right):\n",
    "    answer = []\n",
    "    \n",
    "    for i in range((left // n) + 1, (right // n) + 2):\n",
    "        answer += [i] * i + ([k for k in range(i + 1, n + 1)])\n",
    "        \n",
    "    index = left % n\n",
    "    \n",
    "    return answer[index : index + right - left + 1]"
   ]
  }
 ],
 "metadata": {
  "language_info": {
   "name": "python"
  },
  "orig_nbformat": 4
 },
 "nbformat": 4,
 "nbformat_minor": 2
}
