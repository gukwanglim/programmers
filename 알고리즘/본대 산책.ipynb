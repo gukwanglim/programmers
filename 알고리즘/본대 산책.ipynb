{
 "cells": [
  {
   "cell_type": "markdown",
   "metadata": {},
   "source": [
    "https://www.acmicpc.net/problem/12849\n",
    "\n",
    "![그래프](./image/157.png)"
   ]
  },
  {
   "cell_type": "code",
   "execution_count": null,
   "metadata": {
    "vscode": {
     "languageId": "plaintext"
    }
   },
   "outputs": [],
   "source": [
    "import sys\n",
    "input = sys.stdin.readline\n",
    "\n",
    "D = int(input())\n",
    "adj = [[0, 1, 1, 0, 0, 0, 0, 0]\n",
    "     , [1, 0, 1, 1, 0, 0, 0, 0]\n",
    "     , [1, 1, 0, 1, 1, 0, 0, 0]\n",
    "     , [0, 1, 1, 0, 1, 1, 0, 0]\n",
    "     , [0, 0, 1, 1, 0, 1, 1, 0]\n",
    "     , [0, 0, 0, 1, 1, 0, 0, 1]\n",
    "     , [0, 0, 0, 0, 1, 0, 0, 1]\n",
    "     , [0, 0, 0, 0, 0, 1, 1, 0]]\n",
    "\n",
    "dp = [[0 for c in range(D + 1)] for r in range(8)]\n",
    "dp[0][0] = 1\n",
    "for d in range(1, D + 1):\n",
    "    for next in range(8):\n",
    "        for prev in range(8):\n",
    "            if adj[prev][next]:\n",
    "                dp[next][d] += dp[prev][d - 1]\n",
    "                dp[next][d] = dp[next][d] % 1000000007\n",
    "\n",
    "print(dp[0][D])"
   ]
  }
 ],
 "metadata": {
  "language_info": {
   "name": "python"
  },
  "orig_nbformat": 4
 },
 "nbformat": 4,
 "nbformat_minor": 2
}
