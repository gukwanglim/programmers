{
 "cells": [
  {
   "attachments": {},
   "cell_type": "markdown",
   "metadata": {},
   "source": [
    "https://www.acmicpc.net/problem/1219\n",
    "\n",
    "![그래프](./image/14.png)"
   ]
  },
  {
   "cell_type": "code",
   "execution_count": null,
   "metadata": {},
   "outputs": [],
   "source": [
    "import sys\n",
    "input = sys.stdin.readline\n",
    "\n",
    "[N, S, D, M] = list(map(int, input().split()))\n",
    "edges = [list(map(int, input().split())) for m in range(M)]\n",
    "maximum = list(map(int, input().split()))\n",
    "\n",
    "# [N, S, D, M] = [5, 0, 4, 7]\n",
    "# edges = [[0, 1, 13], [1, 2, 17], [2, 4, 20], [0, 3, 22], [1, 3, 4747], [2, 0, 10], [3, 4, 10]]\n",
    "# maximum = [0, 0, 0, 0, 0]\n",
    "\n",
    "INF = N * -1000000\n",
    "GEE = N * 1000000\n",
    "\n",
    "dist = [INF] * N\n",
    "\n",
    "dist[S] = maximum[S]\n",
    "for n in range(2 * N):\n",
    "    for m in range(M):\n",
    "        [curr, next, cost] = edges[m]\n",
    "        cost = maximum[next] - cost\n",
    "        if dist[curr] == INF:\n",
    "            continue\n",
    "        if dist[curr] == GEE:\n",
    "            dist[next] = GEE\n",
    "            continue\n",
    "        if dist[curr] + cost > dist[next]:\n",
    "            dist[next] = dist[curr] + cost\n",
    "            if n >= N - 1:\n",
    "                dist[next] = GEE\n",
    "\n",
    "if dist[D] == INF:\n",
    "    print(\"gg\")\n",
    "elif dist[D] == GEE:\n",
    "    print(\"Gee\")\n",
    "else:\n",
    "    print(dist[D])"
   ]
  }
 ],
 "metadata": {
  "kernelspec": {
   "display_name": "pydata",
   "language": "python",
   "name": "python3"
  },
  "language_info": {
   "name": "python",
   "version": "3.9.11 (main, Mar 28 2022, 04:40:48) [MSC v.1916 64 bit (AMD64)]"
  },
  "orig_nbformat": 4,
  "vscode": {
   "interpreter": {
    "hash": "286b3223e4baa2339d35639af96ec91063d7905066fed95d13bac9e189bc76bf"
   }
  }
 },
 "nbformat": 4,
 "nbformat_minor": 2
}
