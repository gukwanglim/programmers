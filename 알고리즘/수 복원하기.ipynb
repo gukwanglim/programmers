{
 "cells": [
  {
   "cell_type": "markdown",
   "metadata": {},
   "source": [
    "https://www.acmicpc.net/problem/2312\n",
    "\n",
    "![그래프](./image/149.png)"
   ]
  },
  {
   "cell_type": "code",
   "execution_count": null,
   "metadata": {
    "vscode": {
     "languageId": "plaintext"
    }
   },
   "outputs": [],
   "source": [
    "import sys\n",
    "input = sys.stdin.readline\n",
    "\n",
    "for _ in range(int(input())):\n",
    "    num = int(input())\n",
    "    n = 2\n",
    "    dict_num = {}\n",
    "    \n",
    "    for i in range(num+1):\n",
    "        dict_num[i] = 0\n",
    "        \n",
    "    while num != 1:\n",
    "        if num % n == 0:\n",
    "            dict_num[n] += 1\n",
    "            num /= n\n",
    "        else:\n",
    "            n += 1\n",
    "            \n",
    "    for i in dict_num.items():\n",
    "        if i[1] != 0:\n",
    "            print(i[0], i[1])"
   ]
  }
 ],
 "metadata": {
  "language_info": {
   "name": "python"
  },
  "orig_nbformat": 4
 },
 "nbformat": 4,
 "nbformat_minor": 2
}
