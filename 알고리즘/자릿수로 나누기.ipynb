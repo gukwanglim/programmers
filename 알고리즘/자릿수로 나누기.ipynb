{
 "cells": [
  {
   "attachments": {},
   "cell_type": "markdown",
   "metadata": {},
   "source": [
    "https://www.acmicpc.net/problem/1490\n",
    "\n",
    "![그래프](./image/132.png)"
   ]
  },
  {
   "cell_type": "code",
   "execution_count": null,
   "metadata": {
    "vscode": {
     "languageId": "plaintext"
    }
   },
   "outputs": [],
   "source": [
    "import math\n",
    "\n",
    "num = int(input())\n",
    "num_list = []\n",
    "\n",
    "for i in str(num):\n",
    "    if int(i) != 0:\n",
    "        num_list.append(int(i))\n",
    "        \n",
    "num_list = list(set(num_list))\n",
    "num_lcm = num_list[0]\n",
    "for i in range(1, len(num_list)):\n",
    "    num_lcm = math.lcm(num_lcm, num_list[i])\n",
    "\n",
    "if num % num_lcm == 0:\n",
    "    print(num)\n",
    "    \n",
    "else:\n",
    "    count = 1\n",
    "    check = False\n",
    "    while True:\n",
    "        for i in range(10**count):\n",
    "            if int(str(num) + '0'*(count - len(str(i))) + str(i)) % num_lcm == 0:\n",
    "                print(int(str(num) + '0'*(count - len(str(i))) + str(i)))\n",
    "                check = True\n",
    "                break\n",
    "        if check:\n",
    "            break\n",
    "        count += 1"
   ]
  }
 ],
 "metadata": {
  "language_info": {
   "name": "python"
  },
  "orig_nbformat": 4
 },
 "nbformat": 4,
 "nbformat_minor": 2
}
