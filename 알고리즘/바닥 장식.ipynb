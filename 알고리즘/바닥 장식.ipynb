{
 "cells": [
  {
   "attachments": {},
   "cell_type": "markdown",
   "metadata": {},
   "source": [
    "https://www.acmicpc.net/problem/1388\n",
    "\n",
    "![그래프](./image/122.png)"
   ]
  },
  {
   "cell_type": "code",
   "execution_count": null,
   "metadata": {
    "vscode": {
     "languageId": "plaintext"
    }
   },
   "outputs": [],
   "source": [
    "# 단순하게 -, ㅣ 하나씩 확인하여 계산하는 방법\n",
    "\n",
    "y, x = map(int, input().split())\n",
    "board = []\n",
    "\n",
    "for _ in range(y):\n",
    "    board.append(list(input()))\n",
    "    \n",
    "count = 0\n",
    "for i in range(y):\n",
    "    check = ''\n",
    "    for j in range(x):\n",
    "        if board[i][j] == '-':\n",
    "            if board[i][j] != check:\n",
    "                count += 1\n",
    "        check = board[i][j]\n",
    "            \n",
    "for j in range(x):\n",
    "    check = ''\n",
    "    for i in range(y):\n",
    "        if board[i][j] == '|':\n",
    "            if board[i][j] != check:\n",
    "                count += 1\n",
    "        check = board[i][j]\n",
    "            \n",
    "print(count)"
   ]
  },
  {
   "cell_type": "code",
   "execution_count": null,
   "metadata": {
    "vscode": {
     "languageId": "plaintext"
    }
   },
   "outputs": [],
   "source": [
    "# dfs를 활용하는 방법\n",
    "\n",
    "def dfs(y, x):\n",
    "    if board[y][x] == '|':\n",
    "        board[y][x] = 1\n",
    "        \n",
    "        for dy in [1, -1]:\n",
    "            Y = y + dy\n",
    "            if (Y > 0 and Y < n) and board[Y][x] == '|':\n",
    "                dfs(Y, x)\n",
    "                \n",
    "    if board[y][x] == '-':\n",
    "        board[y][x] = 1\n",
    "        \n",
    "        for dx in [1, -1]:\n",
    "            X = x + dx\n",
    "            if (X > 0 and X < m) and board[y][X] == '-':\n",
    "                dfs(y, X)\n",
    "                \n",
    "n, m = map(int, input().split())\n",
    "board = []\n",
    "for _ in range(n):\n",
    "    board.append(list(input()))\n",
    "    \n",
    "count = 0\n",
    "for i in range(n):\n",
    "    for j in range(m):\n",
    "        if board[i][j] == '-' or board[i][j] == '|':\n",
    "            dfs(i, j)\n",
    "            count += 1\n",
    "            \n",
    "print(count)"
   ]
  }
 ],
 "metadata": {
  "language_info": {
   "name": "python"
  },
  "orig_nbformat": 4
 },
 "nbformat": 4,
 "nbformat_minor": 2
}
