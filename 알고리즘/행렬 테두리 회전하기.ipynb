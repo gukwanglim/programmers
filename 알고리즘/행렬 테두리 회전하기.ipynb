{
 "cells": [
  {
   "attachments": {},
   "cell_type": "markdown",
   "metadata": {},
   "source": [
    "https://school.programmers.co.kr/learn/courses/30/lessons/77485\n",
    "\n",
    "![그래프](./image/47.png)\n",
    "![그래프](./image/47-2.png)\n",
    "![그래프](./image/47-3.png)"
   ]
  },
  {
   "cell_type": "code",
   "execution_count": null,
   "metadata": {},
   "outputs": [],
   "source": [
    "def solution(rows, columns, queries):\n",
    "    arr = [i for i in range(1,rows*columns+1)]\n",
    "    answer = []\n",
    "    for i in queries :\n",
    "        temp = []\n",
    "        idx_list = []\n",
    "        p = (i[0]-1)*columns+i[1]\n",
    "        for j in range(i[3]-i[1]+1) :\n",
    "            idx_list.append(p)\n",
    "            p += 1\n",
    "        start = i[0]\n",
    "        while start < i[2] - 1 :\n",
    "            idx_list.append(start*columns + i[1])\n",
    "            idx_list.append(start*columns + i[3])\n",
    "            start += 1\n",
    "        p = (i[2]-1)*columns+i[1]\n",
    "        for j in range(i[3]-i[1]+1) :\n",
    "            idx_list.append(p)\n",
    "            p += 1\n",
    "        start = i[0]\n",
    "        temp.append(arr[start*columns + i[1]-1])\n",
    "        idx = (i[0]-1)*columns+i[1]\n",
    "        for j in range(i[3]-i[1]) :\n",
    "            temp.append(arr[idx-1])\n",
    "            idx += 1\n",
    "        while start < i[2] - 1:\n",
    "            start += 1\n",
    "            temp.append(arr[start*columns + i[1]-1])\n",
    "            temp.append(arr[idx-1])\n",
    "            idx += columns\n",
    "        idx2 = (i[2]-1)*columns+i[1] + 1\n",
    "        for j in range(i[3]-i[1]) :\n",
    "            temp.append(arr[idx2-1])\n",
    "            idx2 += 1\n",
    "        temp.append(arr[idx-1])\n",
    "        answer.append(min(temp))\n",
    "        for j in range(len(idx_list)) :\n",
    "            arr[idx_list[j]-1] = 0\n",
    "        for j in range(len(arr)) :\n",
    "            if arr[j] == 0 :\n",
    "                arr[j] = temp.pop(0)\n",
    "    \n",
    "    return answer  "
   ]
  }
 ],
 "metadata": {
  "language_info": {
   "name": "python"
  },
  "orig_nbformat": 4
 },
 "nbformat": 4,
 "nbformat_minor": 2
}
