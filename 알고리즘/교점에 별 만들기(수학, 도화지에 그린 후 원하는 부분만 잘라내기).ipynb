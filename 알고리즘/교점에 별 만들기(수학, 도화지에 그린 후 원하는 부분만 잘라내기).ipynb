{
 "cells": [
  {
   "attachments": {},
   "cell_type": "markdown",
   "metadata": {},
   "source": [
    "https://school.programmers.co.kr/learn/courses/30/lessons/87377\n",
    "\n",
    "![그래프](./image/117.png)\n",
    "![그래프](./image/117-2.png)\n",
    "![그래프](./image/117-3.png)\n",
    "![그래프](./image/117-4.png)\n",
    "![그래프](./image/117-5.png)"
   ]
  },
  {
   "cell_type": "code",
   "execution_count": null,
   "metadata": {
    "vscode": {
     "languageId": "plaintext"
    }
   },
   "outputs": [],
   "source": [
    "def solution(line):    \n",
    "    INF = float('inf')\n",
    "    check, L = [], len(line)\n",
    "    \n",
    "    min_y, max_y, min_x, max_x = INF, -INF, INF, -INF\n",
    "    \n",
    "    for i in range(L):\n",
    "        for j in range(i, L):\n",
    "            \n",
    "            if i == j:\n",
    "                continue\n",
    "            \n",
    "            a, b, c, d, e, f = *line[i], *line[j]\n",
    "            \n",
    "            mo = (a * e) - (b * d)\n",
    "            # 평행인 경우 제외\n",
    "            if mo == 0:\n",
    "                continue\n",
    "            \n",
    "            # 교점을 찾는 공식\n",
    "            y, x = ((c * d) - (a * f)) / mo, ((b * f) - (c * e)) / mo\n",
    "            # 교점이 float일 경우 제외\n",
    "            if (y - int(y)) or (x - int(x)):\n",
    "                continue\n",
    "                \n",
    "            y, x = int(y), int(x)\n",
    "            min_y, max_y = min(min_y, y), max(max_y, y)\n",
    "            min_x, max_x = min(min_x, x), max(max_x, x)\n",
    "            check.append([y, x])\n",
    "            \n",
    "            # min_, max_ 를 활용하여 도화지 그리기\n",
    "            board = list(['.' for _ in range(max_x - min_x + 1)] for _ in range(max_y - min_y + 1))\n",
    "            # print(board)\n",
    "            for y, x in check:\n",
    "                board[max_y - y][x - min_x] = '*'\n",
    "\n",
    "    # 현재 board에는 [[\".\",\".\",\"*\",\".\",\".\"]]와 같은 방식으로 저장되어 있다.\n",
    "    # 이것을 [\"...*...\", \"......\"]와 같은 방식으로 표현하기 위해 join을 사용한다.           \n",
    "    return [''.join(s) for s in board]"
   ]
  }
 ],
 "metadata": {
  "language_info": {
   "name": "python"
  },
  "orig_nbformat": 4
 },
 "nbformat": 4,
 "nbformat_minor": 2
}
