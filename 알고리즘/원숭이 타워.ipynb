{
 "cells": [
  {
   "cell_type": "markdown",
   "metadata": {},
   "source": [
    "https://www.acmicpc.net/problem/1607\n",
    "\n",
    "![그래프](./image/179.png)"
   ]
  },
  {
   "cell_type": "code",
   "execution_count": null,
   "metadata": {
    "vscode": {
     "languageId": "plaintext"
    }
   },
   "outputs": [],
   "source": [
    "N = int(input())\n",
    "\n",
    "answer = 0\n",
    "level = 1\n",
    "\n",
    "while N > 0:\n",
    "    for _ in range(min(level, N)):\n",
    "        answer = (answer + pow(2, level-1)) % 9901\n",
    "        N -= 1\n",
    "    level += 1\n",
    "\n",
    "print(answer)"
   ]
  }
 ],
 "metadata": {
  "language_info": {
   "name": "python"
  },
  "orig_nbformat": 4
 },
 "nbformat": 4,
 "nbformat_minor": 2
}
