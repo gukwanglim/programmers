{
 "cells": [
  {
   "attachments": {},
   "cell_type": "markdown",
   "metadata": {},
   "source": [
    "https://www.acmicpc.net/problem/1515\n",
    "\n",
    "![그래프](./image/125.png)"
   ]
  },
  {
   "cell_type": "code",
   "execution_count": null,
   "metadata": {
    "vscode": {
     "languageId": "plaintext"
    }
   },
   "outputs": [],
   "source": [
    "import sys\n",
    "input = sys.stdin.readline\n",
    "\n",
    "line = input().rstrip()\n",
    "# line = '00000000000000000000000000000000000000000000000000000000000000000000000' # 400\n",
    "\n",
    "start = 0\n",
    "for number in range(1, 30001):\n",
    "    for s in str(number):\n",
    "        if start < len(line) and line[start] == s:\n",
    "            start += 1\n",
    "    if start == len(line):\n",
    "        break\n",
    "print(number)"
   ]
  }
 ],
 "metadata": {
  "language_info": {
   "name": "python"
  },
  "orig_nbformat": 4
 },
 "nbformat": 4,
 "nbformat_minor": 2
}
