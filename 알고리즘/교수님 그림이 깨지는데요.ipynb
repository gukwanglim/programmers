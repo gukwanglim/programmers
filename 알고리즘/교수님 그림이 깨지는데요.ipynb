{
 "cells": [
  {
   "attachments": {},
   "cell_type": "markdown",
   "metadata": {},
   "source": [
    "https://www.acmicpc.net/problem/20205\n",
    "\n",
    "![그래프](./image/115.png)\n",
    "![그래프](./image/115-2.png)"
   ]
  },
  {
   "cell_type": "code",
   "execution_count": null,
   "metadata": {
    "vscode": {
     "languageId": "plaintext"
    }
   },
   "outputs": [],
   "source": [
    "[N, K] = list(map(int, input().split()))\n",
    "\n",
    "photo = [list(map(int, input().split())) for _ in range(N)]\n",
    "\n",
    "for row in range(N * K):\n",
    "    for col in range(N * K):\n",
    "        print(photo[row // K][col // K], end=' ')\n",
    "    print()"
   ]
  }
 ],
 "metadata": {
  "language_info": {
   "name": "python"
  },
  "orig_nbformat": 4
 },
 "nbformat": 4,
 "nbformat_minor": 2
}
