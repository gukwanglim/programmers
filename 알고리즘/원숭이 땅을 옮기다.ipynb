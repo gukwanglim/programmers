{
 "cells": [
  {
   "cell_type": "markdown",
   "metadata": {},
   "source": [
    "https://www.acmicpc.net/problem/1425\n",
    "\n",
    "![그래프](./image/203-1.png)\n",
    "![그래프](./image/203-2.png)"
   ]
  },
  {
   "cell_type": "code",
   "execution_count": null,
   "metadata": {
    "vscode": {
     "languageId": "plaintext"
    }
   },
   "outputs": [],
   "source": [
    "import sys\n",
    "input = sys.stdin.readline\n",
    "\n",
    "[X, Y] = [0, 1]\n",
    "INF = 10000000000\n",
    "\n",
    "N = int(input())\n",
    "info = [list(map(int, input().split())) for _ in range(N)]\n",
    "\n",
    "# N = 3\n",
    "# info = [[1, 4], [4, 1], [1, 1]]\n",
    "\n",
    "#length = 최대의 최소값\n",
    "def isPossible(length):\n",
    "    [start, end] = [-INF, INF]\n",
    "    for i in range(N):\n",
    "        for j in range(i + 1, N):\n",
    "            a = length - abs(info[i][X] - info[j][X]) - abs(info[i][Y] - info[j][Y])\n",
    "            if a < 0:\n",
    "                return False\n",
    "            s = min(info[i][Y], info[j][Y]) - (a // 2)\n",
    "            e = max(info[i][Y], info[j][Y]) + (a // 2)\n",
    "            if e < start or end < s:\n",
    "                return False\n",
    "\n",
    "            if start <= s <= end:\n",
    "                start = s\n",
    "            elif start <= e <= end:\n",
    "                end = e\n",
    "    return True\n",
    "\n",
    "[left, right] = [0, INF]\n",
    "\n",
    "answer = INF\n",
    "while left <= right:\n",
    "    mid = (left + right) // 2\n",
    "\n",
    "    if isPossible(mid):\n",
    "        right = mid - 1\n",
    "        answer = min(answer, mid)\n",
    "    else:\n",
    "        left = mid + 1\n",
    "print(answer)"
   ]
  }
 ],
 "metadata": {
  "language_info": {
   "name": "python"
  },
  "orig_nbformat": 4
 },
 "nbformat": 4,
 "nbformat_minor": 2
}
