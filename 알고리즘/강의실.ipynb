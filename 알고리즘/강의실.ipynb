{
 "cells": [
  {
   "cell_type": "markdown",
   "metadata": {},
   "source": [
    "https://www.acmicpc.net/problem/1374\n",
    "\n",
    "![그래프](./image/207.png)"
   ]
  },
  {
   "cell_type": "code",
   "execution_count": null,
   "metadata": {
    "vscode": {
     "languageId": "plaintext"
    }
   },
   "outputs": [],
   "source": [
    "import heapq\n",
    "\n",
    "N = int(input())\n",
    "info = [list(map(int, input().split())) for _ in range(N)]\n",
    "\n",
    "answer = 0\n",
    "heap = []\n",
    "for [number, start, end] in sorted(info, key=lambda x: x[1]):\n",
    "    while heap and start >= heap[0]:\n",
    "        heapq.heappop(heap)\n",
    "\n",
    "    heapq.heappush(heap, end)\n",
    "    answer = max(answer, len(heap))\n",
    "\n",
    "print(answer)"
   ]
  }
 ],
 "metadata": {
  "language_info": {
   "name": "python"
  },
  "orig_nbformat": 4
 },
 "nbformat": 4,
 "nbformat_minor": 2
}
