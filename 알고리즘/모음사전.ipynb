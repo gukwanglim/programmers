{
 "cells": [
  {
   "attachments": {},
   "cell_type": "markdown",
   "metadata": {},
   "source": [
    "https://school.programmers.co.kr/learn/courses/30/lessons/84512\n",
    "\n",
    "![그래프](./image/118.png)"
   ]
  },
  {
   "cell_type": "code",
   "execution_count": null,
   "metadata": {
    "vscode": {
     "languageId": "plaintext"
    }
   },
   "outputs": [],
   "source": [
    "def solution(word):\n",
    "    word_list = ['A', 'E', 'I', 'O', 'U']\n",
    "    check_list = []\n",
    "\n",
    "    for i in range(4):\n",
    "        for w_l in word_list:\n",
    "            for w in ['A', 'E', 'I', 'O', 'U']:\n",
    "                check_list.append(w_l + w)\n",
    "        word_list += check_list\n",
    "        \n",
    "        word_list = sorted(list(set(word_list)))\n",
    "    \n",
    "    return word_list.index(word) + 1"
   ]
  }
 ],
 "metadata": {
  "language_info": {
   "name": "python"
  },
  "orig_nbformat": 4
 },
 "nbformat": 4,
 "nbformat_minor": 2
}
