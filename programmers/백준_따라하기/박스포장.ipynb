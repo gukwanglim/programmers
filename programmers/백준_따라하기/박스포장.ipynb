{
 "cells": [
  {
   "cell_type": "markdown",
   "metadata": {},
   "source": [
    "https://www.acmicpc.net/problem/1997\n",
    "\n",
    "![그래프](./image/3.png)"
   ]
  },
  {
   "cell_type": "markdown",
   "metadata": {},
   "source": [
    "이 문제는 구현 문제이다.\n",
    "현재는 다른 사람이 푼 문제를 그대로 가져온 상태지만, 직접 문제를 풀고 나만의 방식을 만들어야 한다."
   ]
  },
  {
   "cell_type": "code",
   "execution_count": null,
   "metadata": {},
   "outputs": [],
   "source": [
    "\n",
    "import sys\n",
    "input = sys.stdin.readline\n",
    "\n",
    "[N, W, B] = list(map(int, input().split()))\n",
    "box = [-1 for w in range(W)] \n",
    "\n",
    "def isPossible(b, board):\n",
    "    for h in range(len(board)):\n",
    "        for w in range(W):\n",
    "            if board[h][w] == 'X' and box[w] >= b + h:\n",
    "                return False\n",
    "    return True\n",
    "\n",
    "answer = []\n",
    "for n in range(N):\n",
    "    H = int(input())\n",
    "    board = [input().strip() for n in range(H)][::-1]\n",
    "\n",
    "    start = 0\n",
    "    for b in range(B-H+1):\n",
    "        if isPossible(b, board):\n",
    "            start = b\n",
    "            break\n",
    "    \n",
    "    if start == 0:\n",
    "        box = [-1 for w in range(W)]\n",
    "\n",
    "    for h in range(H):\n",
    "        for w in range(W):\n",
    "            if board[h][w] == 'X':\n",
    "                box[w] = max(box[w], start + h)\n",
    "\n",
    "    if start > 0:\n",
    "        answer.pop()\n",
    "    answer.append(max(box)+1)\n",
    "\n",
    "print(*answer)"
   ]
  }
 ],
 "metadata": {
  "kernelspec": {
   "display_name": "Python 3.9.11 ('pydata')",
   "language": "python",
   "name": "python3"
  },
  "language_info": {
   "name": "python",
   "version": "3.9.11"
  },
  "orig_nbformat": 4,
  "vscode": {
   "interpreter": {
    "hash": "286b3223e4baa2339d35639af96ec91063d7905066fed95d13bac9e189bc76bf"
   }
  }
 },
 "nbformat": 4,
 "nbformat_minor": 2
}
