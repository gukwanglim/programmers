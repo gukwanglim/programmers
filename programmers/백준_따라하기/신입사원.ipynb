{
 "cells": [
  {
   "cell_type": "code",
   "execution_count": null,
   "metadata": {},
   "outputs": [],
   "source": [
    "# 백준에서 신입사원 문제에 input()을 사용하면 시간초과 발생\n",
    "\n",
    "t = int(input())\n",
    "\n",
    "for _ in range(t):\n",
    "    n = int(input())\n",
    "    \n",
    "    n_list = []\n",
    "    for _ in range(n):\n",
    "        a = list(map(int, input().split()))\n",
    "        n_list.append(a)\n",
    "    n_list.sort()\n",
    "    \n",
    "    n_max = n_list[0][1]\n",
    "    answer = 0\n",
    "    \n",
    "    for i in n_list:\n",
    "        if i[1] <= n_max:\n",
    "            answer += 1\n",
    "            n_max = i[1]\n",
    "    print(answer)"
   ]
  },
  {
   "cell_type": "code",
   "execution_count": null,
   "metadata": {},
   "outputs": [],
   "source": [
    "# 시간초과를 해결하기 위해 sys의 stdin.readline()를 사용\n",
    "\n",
    "import sys\n",
    "\n",
    "t = int(sys.stdin.readline())\n",
    "\n",
    "for _ in range(t):\n",
    "    n = int(sys.stdin.readline())\n",
    "    \n",
    "    n_list = []\n",
    "    for _ in range(n):\n",
    "        a = list(map(int, sys.stdin.readline().split()))\n",
    "        n_list.append(a)\n",
    "    n_list.sort()\n",
    "    \n",
    "    n_max = n_list[0][1]\n",
    "    answer = 0\n",
    "    \n",
    "    for i in n_list:\n",
    "        if i[1] <= n_max:\n",
    "            answer += 1\n",
    "            n_max = i[1]\n",
    "    print(answer)"
   ]
  }
 ],
 "metadata": {
  "language_info": {
   "name": "python"
  },
  "orig_nbformat": 4
 },
 "nbformat": 4,
 "nbformat_minor": 2
}
