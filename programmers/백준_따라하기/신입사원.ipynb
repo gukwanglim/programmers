{
 "cells": [
  {
   "cell_type": "code",
   "execution_count": null,
   "metadata": {},
   "outputs": [],
   "source": [
    "t = int(input())\n",
    "n = int(input())\n",
    "\n",
    "for _ in range(t):\n",
    "    n_list = [list(map(int, input().split())) for _ in range(n)]\n",
    "    n_list.sort()\n",
    "    n_max = n_list[0][1]\n",
    "    \n",
    "    answer = 0\n",
    "    for i in n_list:\n",
    "        if i[1] >= n_max:\n",
    "            answer += 1\n",
    "            n_max = i[1]\n",
    "    print(answer)"
   ]
  }
 ],
 "metadata": {
  "language_info": {
   "name": "python"
  },
  "orig_nbformat": 4
 },
 "nbformat": 4,
 "nbformat_minor": 2
}
