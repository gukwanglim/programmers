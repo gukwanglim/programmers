{
 "cells": [
  {
   "attachments": {},
   "cell_type": "markdown",
   "metadata": {},
   "source": [
    "https://www.acmicpc.net/problem/1304\n",
    "\n",
    "![그래프](./image/4.png)"
   ]
  },
  {
   "attachments": {},
   "cell_type": "markdown",
   "metadata": {},
   "source": [
    "1 -> 2 -> 3 -> 4 와 같은 순서로 고속도로가 존재하고, 하나의 지역을 이루기 위해서는 거슬러 올라가는 일반 도로가 존재해야한다.\n",
    "때문에 일반 도로의 리스트 중에서 작은 수에서 큰 수로 가는 도로가 존재할 경우 무시하고 문제를 풀면 된다.\n",
    "\n",
    "하지만, 같은 지역으로 묶인 도시가 여러 개 존재할 경우, 가장 많은 수의 지역이 묶여있는 곳을 기준으로 지역을 엮어야 한다.\n",
    "다시 말해, 1,2가 하나의 지역으로 묶이고, 4,5,6이 하나의 지역으로 묶일 경우, 아무 지역으로 묶여있지 않은 3을 1,2 지역에 포함하여 계산을 실행해야한다."
   ]
  },
  {
   "cell_type": "code",
   "execution_count": null,
   "metadata": {},
   "outputs": [],
   "source": [
    "import sys\n",
    "input = sys.stdin.readline\n",
    "\n",
    "[N, M] = list(map(int, input().split()))\n",
    "info = sorted(filter(lambda m: m[0] > m[1], [list(map(int, input().split())) for m in range(M)]), key=lambda m: m[0])\n",
    "\n",
    "city = [-1 for n in range(N+1)]\n",
    "\n",
    "for [v, w] in info:\n",
    "    for curr in range(w, v+1):\n",
    "        city[curr] = city[w] if city[w] > -1 else w\n",
    "\n",
    "answer = [1]\n",
    "for div in range(2, N+1):\n",
    "    if N % div > 0:\n",
    "        continue\n",
    "\n",
    "    answer.append(div)\n",
    "\n",
    "    count = 0\n",
    "    index = 1\n",
    "    while index <= N:\n",
    "        if city[index] == -1:\n",
    "            count += 1\n",
    "            index += 1\n",
    "        else:\n",
    "            target = city[index]\n",
    "            while index <= N and city[index] == target:\n",
    "                count += 1\n",
    "                index += 1\n",
    "\n",
    "        if count == N // div:\n",
    "            count = 0\n",
    "        elif count > N // div:\n",
    "            answer.pop()\n",
    "            break\n",
    "\n",
    "print(max(answer))"
   ]
  }
 ],
 "metadata": {
  "kernelspec": {
   "display_name": "Python 3.9.11 ('pydata')",
   "language": "python",
   "name": "python3"
  },
  "language_info": {
   "name": "python",
   "version": "3.9.11"
  },
  "orig_nbformat": 4,
  "vscode": {
   "interpreter": {
    "hash": "286b3223e4baa2339d35639af96ec91063d7905066fed95d13bac9e189bc76bf"
   }
  }
 },
 "nbformat": 4,
 "nbformat_minor": 2
}
