{
 "cells": [
  {
   "cell_type": "code",
   "execution_count": null,
   "metadata": {},
   "outputs": [],
   "source": [
    "# heapq 사용\n",
    "\n",
    "import heapq\n",
    "\n",
    "n = int(input())\n",
    "room = []\n",
    "\n",
    "for i in range(n):\n",
    "    _, start, end = map(int, input().split())\n",
    "    room.append([start, end])\n",
    "\n",
    "room.sort()\n",
    "\n",
    "heap = []\n",
    "num = 0\n",
    "\n",
    "for i in room:\n",
    "    if num == 0:\n",
    "        heapq.heappush(heap, i[1])\n",
    "    elif heap[0] <= i[0]:\n",
    "        heapq.heappop(heap)\n",
    "        heapq.heappush(heap, i[1])\n",
    "    else:\n",
    "        heapq.heappush(heap, i[1])\n",
    "    \n",
    "    if len(heap) > num:\n",
    "        num = len(heap)\n",
    "        \n",
    "print(num)\n",
    "\n",
    "# 처음에는 리스트를 가지고 \"수업이 끝나는 시간 <= 수업이 시작하는 시간\" 을 비교하여 리스트의 원소를 교환하고, 추가하는 것으로 만들었다.\n",
    "# 하지만 하나의 원소만을 확인하고 교환, 추가를 결정하게 되어 구현을 실패했다.\n",
    "\n",
    "# 이 문제를 해결하는 것이 heapq 이다."
   ]
  },
  {
   "cell_type": "markdown",
   "metadata": {},
   "source": [
    "heapq 모듈은 이진 트리(binary tree) 기반의 최소 힙(min heap) 자료구조를 제공합니다.\n",
    "\n",
    "     1  ---> root\n",
    "   /   \\\n",
    "  3     5\n",
    " / \\   /\n",
    "4   8 7\n",
    "\n",
    "\n",
    "즉, 3241 순서로 원소가 들어오게 되면 3과 2의 크기를 비교하여 2가 더 작기 때문에 root의 자리에 존재하던 3을 2로 변경하고 3은 아래 자리로 넘겨준다.\n",
    "다시 4를 받게 되면 2보다 크기 때문에 다음 번 자리(위 그림에서는 5번 자리)에 4를 추가한다.\n",
    "여기서 1이 들어오게 되면 root의 자리에 1을 넣는 방식이다.\n",
    "\n",
    "쉽게 말해, \n",
    "[[2, 14], [3, 8], [6, 20], [6, 27], [7, 13], [12, 18], [15, 21], [20, 25]]의 순서로 들어가게 될 경우(뒤에 존재하는 끝나는 시간을 기준으로 넣는다.)\n",
    "\n",
    "[14]\n",
    "[8, 14]\n",
    "[8, 14, 20]\n",
    "[8, 14, 20, 27]\n",
    "[8, 13, 20, 27, 14]\n",
    "[13, 14, 20, 27, 18]\n",
    "[14, 18, 20, 27, 21]\n",
    "[18, 21, 20, 27, 25]\n",
    "\n",
    "의 순서로 들어가게 된다.\n",
    "(처음 존재하는 리스트에 추가(heappush)되는 값은 sort로 자동 정렬, 제거(heappop)를 실행하면 제일 앞의 수(작은 수) 제거)"
   ]
  }
 ],
 "metadata": {
  "kernelspec": {
   "display_name": "pydata",
   "language": "python",
   "name": "python3"
  },
  "language_info": {
   "name": "python",
   "version": "3.9.11 (main, Mar 28 2022, 04:40:48) [MSC v.1916 64 bit (AMD64)]"
  },
  "orig_nbformat": 4,
  "vscode": {
   "interpreter": {
    "hash": "286b3223e4baa2339d35639af96ec91063d7905066fed95d13bac9e189bc76bf"
   }
  }
 },
 "nbformat": 4,
 "nbformat_minor": 2
}
