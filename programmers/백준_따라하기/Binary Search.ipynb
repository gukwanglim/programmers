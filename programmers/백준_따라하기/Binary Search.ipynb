{
 "cells": [
  {
   "cell_type": "code",
   "execution_count": 9,
   "metadata": {},
   "outputs": [
    {
     "name": "stdout",
     "output_type": "stream",
     "text": [
      "result :  10\n",
      "result :  15\n",
      "result :  22\n",
      "left :  11\n",
      "result :  5\n",
      "result :  7\n",
      "left :  16\n",
      "result :  3\n",
      "right :  16\n",
      "result :  4\n",
      "result :  5\n",
      "right :  15\n"
     ]
    }
   ],
   "source": [
    "# 2805_나무 자르기\n",
    "\n",
    "trees = [20, 15, 10 ,17]\n",
    "N = 4\n",
    "M = 7\n",
    "\n",
    "def sum(height):\n",
    "    result = 0\n",
    "    for tree in trees:\n",
    "        if tree > height:\n",
    "            result += (tree - height)\n",
    "            print('result : ', result)\n",
    "    return result\n",
    "\n",
    "left, right = 1, max(trees)-1\n",
    "\n",
    "while left <= right:\n",
    "    mid = (left + right) // 2\n",
    "\n",
    "    if sum(mid) < M:\n",
    "        right = mid - 1\n",
    "        print('right : ', right)\n",
    "    else:\n",
    "        left = mid + 1\n",
    "        print('left : ', left)"
   ]
  },
  {
   "cell_type": "code",
   "execution_count": 4,
   "metadata": {},
   "outputs": [
    {
     "name": "stdout",
     "output_type": "stream",
     "text": [
      "15\n"
     ]
    }
   ],
   "source": [
    "print(right)\n",
    "\n"
   ]
  },
  {
   "cell_type": "code",
   "execution_count": null,
   "metadata": {},
   "outputs": [],
   "source": [
    "# 1477  휴게소 세우기\n",
    "\n",
    "[N, M, L] = list(map(int, input().split()))\n",
    "info = [0] + sorted(list(map(int, input().split()))) + [L]\n",
    "\n",
    "#[N, M, L] = [3, 1, 1000]\n",
    "#info = [0] + [200, 701, 800] + [L]\n",
    "\n",
    "#[N, M, L] = [6, 7, 800]\n",
    "#info = [0] + sorted([622, 411, 201, 555, 755, 82]) + [L]\n",
    "\n",
    "def neededMinCount(line):\n",
    "    count = 0\n",
    "    for index in range(1, len(info)):\n",
    "        section = info[index] - info[index-1]\n",
    "        count += int(section / line)                   # 이 부분은 (휴게소 사이의 거리 / 전체 범위의 중앙값) 을 사용하여 section이 line보다 큰 경우에만 값이 더해진다.\n",
    "        if section % line == 0:\n",
    "            count -= 1              #TODO 왜 정확히 나눠 떨어지면 -1을 해줘야 하지?  -> 휴게소가 필요한 개수를 묻는 것으로 210의 거리에 70의 차이를 나타낸다면 휴게소 2개가 들어가는 순간 끝이다.\n",
    "    return count                                                                    # 하지만, 220의 거리에 70의 차이를 나타낸다면 휴게소가 3개 필요해진다. (아래 그림 참조)\n",
    "\n",
    "\n",
    "[left, right] = [1, L-1]\n",
    "\n",
    "\n",
    "while left <= right:\n",
    "    mid = int((left + right) / 2)\n",
    "\n",
    "    if neededMinCount(mid) > M:\n",
    "        left = mid + 1\n",
    "    else:                               # neededMinCount를 통해 나온 count(휴게소의 개수) 보다 M(필요한 휴게소의 개수)가 작거나 같은 경우 오른쪽(작아지는 방향)을 제거\n",
    "        right = mid - 1\n",
    "\n",
    "print(left)"
   ]
  },
  {
   "cell_type": "markdown",
   "metadata": {},
   "source": [
    "1. 문제를 풀 때, 문제 안에서의 조건만을 생각하지 말고, 제한에서 생각하는 습관 기르기\n",
    "2. 일반적인 for, if 구문으로 풀기 어려움을 느낀다면 다른 방식 생각해보기.(현재로는 이진 분류, DFS, BFS 정도만 존재하지만 이것마저 쉽지 않다.)\n",
    "\n",
    "3. 이진 분류의 가능성을 떠올리기 위해서는\n",
    "    3-1. 문제에서 굳이 정렬을 진행하지 않아도 자연스럽게 정렬이 진행된 형태를 사용해야 하는가?\n",
    "    3-2. 만약, 문제 자체에 정렬이 포함되어 있다면 물어보는 질문사항 또한 정렬이 진행되는것인가?\n",
    "        (이 부분도 살짝 어렵다. 휴게소 세우기의 경우에는 물어보는 질문이 휴게소가 없는 구간의 최댓값의 최솟값을 물어본다.\n",
    "        그냥 질문만 본다면 정렬이 되어있지 않는 질문이지만, 휴게소의 개수에 대해 정렬된 문제라고 생각할 수 있어야 한다.)\n",
    "\n",
    "4. 무엇을 기준으로 이진 분류를 진행해야 하는가?\n",
    "    4-1. 위에서 말했던 것과 동일한다. 휴게소 세우기는 거리의 최댓값이 최솟값이 될 수 있는 것을 물었다. 즉, 거리를 기준으로 이진 분류를 시작해야 한다.\n",
    "\n",
    "5. 머리만 쓸 생각하지 말고 표 혹은 그림으로 그려라.\n",
    "\n",
    "6. 질문을 반대로 생각해보자.\n",
    "    6-1. 휴게소 세우기의 질문은 M 개의 휴게소를 추가할 때, 휴게소와 휴게소 사이의 거리가 최솟값으로 나올 수 있어야 한다.\n",
    "        반대로 생각하면, 휴게소와 휴게소 사이의 최솟값이 주어질 때, 몇 개의 휴게소를 추가해야 하는 것인가를 물어볼 수 있게 된다."
   ]
  },
  {
   "cell_type": "markdown",
   "metadata": {},
   "source": [
    "1. 이진 분류를 진행할 때는 제일 먼전 생각해야 하는 것이 범위에 대한 설정이고, 그 범위를 절반으로 나뉘서 내가 필요한 부분과 필요하지 않는 부분을 나눌 수 있는 방식을 찾는 것.\n",
    "    휴게소 세우기에서 궁극적으로 찾아야 하는 것 = 휴게소 사이의 거리 => 즉, 설정한 범위의 값은 휴게소 사이의 거리를 찾기 위한 것이다."
   ]
  },
  {
   "cell_type": "markdown",
   "metadata": {},
   "source": [
    "![그래프](./image/1.png)"
   ]
  }
 ],
 "metadata": {
  "kernelspec": {
   "display_name": "Python 3.9.7 ('base')",
   "language": "python",
   "name": "python3"
  },
  "language_info": {
   "codemirror_mode": {
    "name": "ipython",
    "version": 3
   },
   "file_extension": ".py",
   "mimetype": "text/x-python",
   "name": "python",
   "nbconvert_exporter": "python",
   "pygments_lexer": "ipython3",
   "version": "3.9.7"
  },
  "orig_nbformat": 4,
  "vscode": {
   "interpreter": {
    "hash": "d5801b79edcda5763ccfe48c18a4ee1d2165db6bc296bae4c89c41a89d640e66"
   }
  }
 },
 "nbformat": 4,
 "nbformat_minor": 2
}
