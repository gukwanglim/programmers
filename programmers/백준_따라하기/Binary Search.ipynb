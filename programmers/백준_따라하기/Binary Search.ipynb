{
 "cells": [
  {
   "cell_type": "code",
   "execution_count": 9,
   "metadata": {},
   "outputs": [
    {
     "name": "stdout",
     "output_type": "stream",
     "text": [
      "result :  10\n",
      "result :  15\n",
      "result :  22\n",
      "left :  11\n",
      "result :  5\n",
      "result :  7\n",
      "left :  16\n",
      "result :  3\n",
      "right :  16\n",
      "result :  4\n",
      "result :  5\n",
      "right :  15\n"
     ]
    }
   ],
   "source": [
    "# 2805_나무 자르기\n",
    "\n",
    "trees = [20, 15, 10 ,17]\n",
    "N = 4\n",
    "M = 7\n",
    "\n",
    "def sum(height):\n",
    "    result = 0\n",
    "    for tree in trees:\n",
    "        if tree > height:\n",
    "            result += (tree - height)\n",
    "            print('result : ', result)\n",
    "    return result\n",
    "\n",
    "left, right = 1, max(trees)-1\n",
    "\n",
    "while left <= right:\n",
    "    mid = (left + right) // 2\n",
    "\n",
    "    if sum(mid) < M:\n",
    "        right = mid - 1\n",
    "        print('right : ', right)\n",
    "    else:\n",
    "        left = mid + 1\n",
    "        print('left : ', left)"
   ]
  },
  {
   "cell_type": "code",
   "execution_count": 4,
   "metadata": {},
   "outputs": [
    {
     "name": "stdout",
     "output_type": "stream",
     "text": [
      "15\n"
     ]
    }
   ],
   "source": [
    "print(right)\n",
    "\n"
   ]
  }
 ],
 "metadata": {
  "kernelspec": {
   "display_name": "Python 3.9.7 ('base')",
   "language": "python",
   "name": "python3"
  },
  "language_info": {
   "codemirror_mode": {
    "name": "ipython",
    "version": 3
   },
   "file_extension": ".py",
   "mimetype": "text/x-python",
   "name": "python",
   "nbconvert_exporter": "python",
   "pygments_lexer": "ipython3",
   "version": "3.9.7"
  },
  "orig_nbformat": 4,
  "vscode": {
   "interpreter": {
    "hash": "d5801b79edcda5763ccfe48c18a4ee1d2165db6bc296bae4c89c41a89d640e66"
   }
  }
 },
 "nbformat": 4,
 "nbformat_minor": 2
}
