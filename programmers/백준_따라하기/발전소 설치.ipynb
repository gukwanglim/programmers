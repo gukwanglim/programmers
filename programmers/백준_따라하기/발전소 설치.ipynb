{
 "cells": [
  {
   "attachments": {},
   "cell_type": "markdown",
   "metadata": {},
   "source": [
    "https://www.acmicpc.net/problem/1277\n",
    "\n",
    "![그래프](./image/6.png)"
   ]
  },
  {
   "attachments": {},
   "cell_type": "markdown",
   "metadata": {},
   "source": [
    "다익스트라 알고리즘을 활용하여 문제를 풀어야 한다. (https://m.blog.naver.com/ndb796/221234424646)"
   ]
  },
  {
   "cell_type": "code",
   "execution_count": null,
   "metadata": {},
   "outputs": [],
   "source": [
    "import sys\n",
    "import math\n",
    "import heapq\n",
    "input = sys.stdin.readline\n",
    "\n",
    "[N, W] = list(map(int, input().split()))\n",
    "M = float(input())\n",
    "plant = [list(map(int, input().split())) for n in range(N)]\n",
    "wire = [list(map(int, input().split())) for n in range(W)]\n",
    "\n",
    "# [N, W] = [9, 3]\n",
    "# M = 2.0\n",
    "# plant = [[0, 0], [0, 1], [1, 1], [2, 1], [2, 2], [3, 2], [3, 3], [4, 1], [4, 3]]\n",
    "# wire = [[1, 2], [2, 3], [3, 4]]\n",
    "\n",
    "graph = [[200000.0 for x in range(N + 1)] for y in range(N + 1)]\n",
    "for i in range(N):\n",
    "    for j in range(i, N):\n",
    "        dist = math.sqrt(pow(plant[i][0] - plant[j][0], 2) + pow(plant[i][1] - plant[j][1], 2))\n",
    "        if M >= dist:\n",
    "            graph[i + 1][j + 1] = dist\n",
    "            graph[j + 1][i + 1] = dist\n",
    "\n",
    "for [y, x] in wire:\n",
    "    graph[y][x] = 0.0\n",
    "    graph[x][y] = 0.0\n",
    "\n",
    "distance = [200000.0] * (N + 1)\n",
    "\n",
    "start = 1\n",
    "pq = []\n",
    "heapq.heappush(pq, (0, start))\n",
    "distance[start] = 0\n",
    "\n",
    "while pq:\n",
    "    [dist, curr] = heapq.heappop(pq)\n",
    "    if dist > distance[curr]:\n",
    "        continue\n",
    "\n",
    "    for next in range(1, N + 1):\n",
    "        cost = dist + graph[curr][next]\n",
    "        if graph[curr][next] <= M and distance[next] > cost:\n",
    "            distance[next] = cost\n",
    "            heapq.heappush(pq, (cost, next))\n",
    "\n",
    "print(math.floor(distance[N] * 1000))"
   ]
  }
 ],
 "metadata": {
  "kernelspec": {
   "display_name": "pydata",
   "language": "python",
   "name": "python3"
  },
  "language_info": {
   "name": "python",
   "version": "3.9.11 (main, Mar 28 2022, 04:40:48) [MSC v.1916 64 bit (AMD64)]"
  },
  "orig_nbformat": 4,
  "vscode": {
   "interpreter": {
    "hash": "286b3223e4baa2339d35639af96ec91063d7905066fed95d13bac9e189bc76bf"
   }
  }
 },
 "nbformat": 4,
 "nbformat_minor": 2
}
