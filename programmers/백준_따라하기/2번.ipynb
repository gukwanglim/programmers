{
 "cells": [
  {
   "cell_type": "code",
   "execution_count": null,
   "metadata": {},
   "outputs": [],
   "source": [
    "# 20205번 픽셀 늘리기\n",
    "\n",
    "n, m = map(int, input().split())\n",
    "\n",
    "for i in range(n):\n",
    "    p = list(map(int, input().split()))\n",
    "    \n",
    "    for i in range(m):\n",
    "        a = []\n",
    "        for j in range(n):\n",
    "            a += [p[j]] * m\n",
    "        print(*a)\n",
    "\n",
    "        # 리스트를 출력할 때, *list 와 같이 사용하게 되면 리스트 형태가 아닌 숫자의 형태로 출력하게 된다.   <Asterisk(*)>\n",
    "\n",
    "# 더 간단한 방법\n",
    "\n",
    "[N, K] = list(map(int, input().split()))\n",
    "\n",
    "photo = [list(map(int, input().split())) for _ in range(N)]\n",
    "\n",
    "for row in range(N * K):\n",
    "    for col in range(N * K):\n",
    "        print(photo[row // K][col // K], end=' ')\n",
    "    print()"
   ]
  },
  {
   "cell_type": "code",
   "execution_count": null,
   "metadata": {},
   "outputs": [],
   "source": [
    "# 1849번 평행 사변형 그리기\n",
    "\n"
   ]
  },
  {
   "cell_type": "code",
   "execution_count": null,
   "metadata": {},
   "outputs": [],
   "source": [
    "# 24336번 무궁화호\n",
    "# 역 번호가 증가하는 방향은 하행, 감소하는 방향은 상행"
   ]
  },
  {
   "cell_type": "code",
   "execution_count": null,
   "metadata": {},
   "outputs": [],
   "source": [
    "# 1826번 연료채우기\n",
    "# 최소한 주유소에 멈춰 도착지에 도착하기"
   ]
  },
  {
   "cell_type": "code",
   "execution_count": null,
   "metadata": {},
   "outputs": [],
   "source": [
    "# 1891번 사분면"
   ]
  }
 ],
 "metadata": {
  "kernelspec": {
   "display_name": "Python 3.9.7 ('base')",
   "language": "python",
   "name": "python3"
  },
  "language_info": {
   "codemirror_mode": {
    "name": "ipython",
    "version": 3
   },
   "file_extension": ".py",
   "mimetype": "text/x-python",
   "name": "python",
   "nbconvert_exporter": "python",
   "pygments_lexer": "ipython3",
   "version": "3.9.7"
  },
  "orig_nbformat": 4,
  "vscode": {
   "interpreter": {
    "hash": "d5801b79edcda5763ccfe48c18a4ee1d2165db6bc296bae4c89c41a89d640e66"
   }
  }
 },
 "nbformat": 4,
 "nbformat_minor": 2
}
