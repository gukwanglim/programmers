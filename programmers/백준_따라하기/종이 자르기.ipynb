{
 "cells": [
  {
   "cell_type": "code",
   "execution_count": null,
   "metadata": {},
   "outputs": [],
   "source": [
    "# 2628\n",
    "\n",
    "column, row = map(int, input().split())\n",
    "num = int(input())\n",
    "\n",
    "row_list = [i for i in range(row + 1)]\n",
    "column_list = [i for i in range(column + 1)]\n",
    "\n",
    "for i in range(num):\n",
    "    p_slice = list(map(int, input().split()))\n",
    "    \n",
    "    if p_slice[0] == 0:\n",
    "        if p_slice[1] in row_list:\n",
    "            row_a = row_list[ : p_slice[1] + 1]\n",
    "            row_b = row_list[p_slice[1] : ]\n",
    "            print('1 : ', row_a, row_b)\n",
    "\n",
    "            if len(row_a) >= len(row_b):\n",
    "                row_list = row_a\n",
    "            else:\n",
    "                row_list = row_b\n",
    "            \n",
    "    elif p_slice[0] == 1:\n",
    "        if p_slice[1] in column_list:\n",
    "            column_a = column_list[ : p_slice[1] + 1]\n",
    "            column_b = column_list[p_slice[1] : ]\n",
    "\n",
    "            if len(column_a) >= len(column_b):\n",
    "                column_list = column_a\n",
    "            else:\n",
    "                column_list = column_b\n",
    "            \n",
    "print((len(row_list) - 1) * (len(column_list) - 1))\n",
    "print(row_list)\n",
    "print(column_list)\n",
    "\n",
    "# 일단 input을 모두 받고 sort로 정리한 다음에 차례대로 쪼개기"
   ]
  }
 ],
 "metadata": {
  "language_info": {
   "name": "python"
  },
  "orig_nbformat": 4
 },
 "nbformat": 4,
 "nbformat_minor": 2
}
