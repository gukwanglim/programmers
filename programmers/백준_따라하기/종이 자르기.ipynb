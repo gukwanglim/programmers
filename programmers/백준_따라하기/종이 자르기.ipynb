{
 "cells": [
  {
   "cell_type": "code",
   "execution_count": null,
   "metadata": {},
   "outputs": [],
   "source": [
    "# 2628\n",
    "\n",
    "column, row = map(int, input().split())\n",
    "num = int(input())\n",
    "\n",
    "row_list = [i for i in range(row + 1)]\n",
    "column_list = [i for i in range(column + 1)]\n",
    "\n",
    "for i in range(num):\n",
    "    p_slice = list(map(int, input().split()))\n",
    "    \n",
    "    if p_slice[0] == 0:\n",
    "        if p_slice[1] in row_list:\n",
    "            row_a = row_list[ : p_slice[1] + 1]\n",
    "            row_b = row_list[p_slice[1] : ]\n",
    "            print('1 : ', row_a, row_b)\n",
    "\n",
    "            if len(row_a) >= len(row_b):\n",
    "                row_list = row_a\n",
    "            else:\n",
    "                row_list = row_b\n",
    "            \n",
    "    elif p_slice[0] == 1:\n",
    "        if p_slice[1] in column_list:\n",
    "            column_a = column_list[ : p_slice[1] + 1]\n",
    "            column_b = column_list[p_slice[1] : ]\n",
    "\n",
    "            if len(column_a) >= len(column_b):\n",
    "                column_list = column_a\n",
    "            else:\n",
    "                column_list = column_b\n",
    "            \n",
    "print((len(row_list) - 1) * (len(column_list) - 1))\n",
    "print(row_list)\n",
    "print(column_list)\n",
    "\n",
    "# 일단 input을 모두 받고 sort로 정리한 다음에 차례대로 쪼개기\n",
    "# 이렇게 생각하면 더 머리 아픔"
   ]
  },
  {
   "cell_type": "code",
   "execution_count": null,
   "metadata": {},
   "outputs": [],
   "source": [
    "w, h = map(int, input().split())\n",
    "num = int(input())\n",
    "\n",
    "w_ = [0, w]\n",
    "h_ = [0, h]\n",
    "\n",
    "for i in range(num):\n",
    "    p_slice = list(map(int, input().split()))\n",
    "    \n",
    "    if p_slice[0] == 0:\n",
    "        h_.append(p_slice[1])\n",
    "    elif p_slice[0] == 1:\n",
    "        w_.append(p_slice[1])\n",
    "\n",
    "h_.sort()\n",
    "w_.sort()\n",
    "\n",
    "h_d = 0\n",
    "for i in range(len(h_) - 1):\n",
    "    if h_d <= (h_[i + 1] - h_[i]):\n",
    "        h_d = h_[i + 1] - h_[i]\n",
    "        \n",
    "w_d = 0\n",
    "for i in range(len(w_) - 1):\n",
    "    if w_d <= (w_[i + 1] - w_[i]):\n",
    "        w_d = w_[i + 1] - w_[i]\n",
    "\n",
    "print(h_d * w_d)\n",
    "\n",
    "# 그냥 간격을 나눈 후, 그 간격이 제일 큰 값끼리 곱하면 됌"
   ]
  }
 ],
 "metadata": {
  "kernelspec": {
   "display_name": "pydata",
   "language": "python",
   "name": "python3"
  },
  "language_info": {
   "name": "python",
   "version": "3.9.11 (main, Mar 28 2022, 04:40:48) [MSC v.1916 64 bit (AMD64)]"
  },
  "orig_nbformat": 4,
  "vscode": {
   "interpreter": {
    "hash": "286b3223e4baa2339d35639af96ec91063d7905066fed95d13bac9e189bc76bf"
   }
  }
 },
 "nbformat": 4,
 "nbformat_minor": 2
}
