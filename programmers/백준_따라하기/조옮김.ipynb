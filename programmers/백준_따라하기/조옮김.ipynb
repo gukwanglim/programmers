{
 "cells": [
  {
   "cell_type": "code",
   "execution_count": null,
   "metadata": {},
   "outputs": [],
   "source": [
    "# 4723\n",
    "\n",
    "p_list = ['A', 'A#', 'B', 'C', 'C#', 'D', 'D#', 'E', 'F', 'F#', 'G', 'G#']\n",
    "\n",
    "while True:\n",
    "    p = list(map(str, input().split(' ')))\n",
    "    if p[0] == '***':\n",
    "        break\n",
    "    else:\n",
    "        up_down = int(input())\n",
    "        if up_down == 1:\n",
    "            answer = []\n",
    "            for i in p:\n",
    "                if i == 'G#':\n",
    "                    answer.append('A')\n",
    "                elif i in p_list:\n",
    "                    answer.append(str(p_list[p_list.index(i) + 1]))\n",
    "                else:\n",
    "                    if i[-1] == 'b':\n",
    "                        answer.append(i[0])\n",
    "                    elif i[-1] == '#':\n",
    "                        answer.append(str(p_list[p_list.index(i[0]) + 2]))\n",
    "        elif up_down == -1:\n",
    "            answer = []\n",
    "            for i in p:\n",
    "                if i == 'A':\n",
    "                    answer.append('G#')\n",
    "                elif i in p_list:\n",
    "                    answer.append(str(p_list[p_list.index(i) - 1]))\n",
    "                else:\n",
    "                    if i[-1] == 'b':\n",
    "                        answer.append(str(p_list[p_list.index(i[0]) - 2]))\n",
    "                    elif i[-1] == '#':\n",
    "                        answer.append(i[:-1])\n",
    "        print(*answer)"
   ]
  },
  {
   "cell_type": "code",
   "execution_count": null,
   "metadata": {},
   "outputs": [],
   "source": [
    "d='A A# B C C# D D# E F F# G G#'.split()\n",
    "s=input()\n",
    "while s!='*'*3:\n",
    "    n=int(input())\n",
    "    print(*[d[(d.index(i[0])+' #'.find((i+' ')[1])+n)%12] for i in s.split()])\n",
    "    s=input()"
   ]
  }
 ],
 "metadata": {
  "language_info": {
   "name": "python"
  },
  "orig_nbformat": 4
 },
 "nbformat": 4,
 "nbformat_minor": 2
}
