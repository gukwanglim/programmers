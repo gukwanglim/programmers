{
 "cells": [
  {
   "cell_type": "markdown",
   "metadata": {},
   "source": [
    "https://www.acmicpc.net/problem/1862\n",
    "\n",
    "![그래프](./image/2.png)"
   ]
  },
  {
   "cell_type": "markdown",
   "metadata": {},
   "source": [
    "진수 변환 문제이다.\n",
    "쉽게 말해, 2진법일 경우에는 \n",
    "    1 1 0\n",
    "    4 2 1\n",
    "            으로 숫자를 표현할 수 있다.\n",
    "\n",
    "이 문제의 경우에는 9진법으로 변환한 것이다. 즉, 0~8까지의 숫자만을 사용하여 수를 표현한 것이다.\n",
    "대신 4가 없는 것으로 0~3까지는 원래의 숫자를 사용하고, 5~9까지를 사용하며서 4 대신 5를 사용하는 것이라고 할 수 있다.\n",
    "기본적으로 9진법을 기반으로 사용한다면 \n",
    "\n",
    "    5  4  3\n",
    "    81 9  1\n",
    "            으로 숫자를 표현하면 된다."
   ]
  },
  {
   "cell_type": "code",
   "execution_count": null,
   "metadata": {},
   "outputs": [],
   "source": [
    "M = str(input()).strip()[::-1]                              # 진수를 사용하는 것으로 뒤에 있는 숫자면서 사용하는 것이 편하다.\n",
    "\n",
    "answer = 0\n",
    "for i in range(len(M)):\n",
    "    answer += (int(M[i]) - (int(M[i]) > 4)) * pow(9, i)     # 4보다 큰 숫자가 들어온 경우, True를 받아 -1을 실행해준 상태에서 9**자릿수 를 사용하면 된다.\n",
    "print(answer)"
   ]
  }
 ],
 "metadata": {
  "kernelspec": {
   "display_name": "Python 3.9.11 ('pydata')",
   "language": "python",
   "name": "python3"
  },
  "language_info": {
   "name": "python",
   "version": "3.9.11 (main, Mar 28 2022, 04:40:48) [MSC v.1916 64 bit (AMD64)]"
  },
  "orig_nbformat": 4,
  "vscode": {
   "interpreter": {
    "hash": "286b3223e4baa2339d35639af96ec91063d7905066fed95d13bac9e189bc76bf"
   }
  }
 },
 "nbformat": 4,
 "nbformat_minor": 2
}
