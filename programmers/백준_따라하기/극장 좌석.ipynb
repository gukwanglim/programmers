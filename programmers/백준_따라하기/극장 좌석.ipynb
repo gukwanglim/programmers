{
 "cells": [
  {
   "attachments": {},
   "cell_type": "markdown",
   "metadata": {},
   "source": [
    "https://www.acmicpc.net/problem/2302\n",
    "\n",
    "![그래프](./image/5.png)"
   ]
  },
  {
   "attachments": {},
   "cell_type": "markdown",
   "metadata": {},
   "source": [
    "VIP 좌석을 고정시킨 상태에서 띄워져있는 좌석에 나올 수 있는 경우의 수를 각자 곱하면 된다.\n",
    "\n",
    "예제를 보면 4, 7번 좌석이 VIP이므로 1, 2, 3 // 5, 6 // 8, 9 좌석을 나눠 생각해야한다.\n",
    "때문에 1, 2, 3에서 나올 수 있는 경우의 수 3가지와 5, 6 // 8, 9에서 나올 수 있는 2가지를 곱한다면\n",
    "    3 * 2 * 2 = 12 라는 결과를 도출할 수 있게 된다.\n",
    "\n",
    "여기서 VIP로 인해 나눠지는 좌석에서 나올 수 있는 경우의 수를 구하는 방식은 피보나치를 이용하면 된다."
   ]
  },
  {
   "cell_type": "code",
   "execution_count": null,
   "metadata": {},
   "outputs": [],
   "source": [
    "dp = [0, 1, 2]\n",
    "for n in range(40):\n",
    "    dp.append(dp[-2] + dp[-1])\n",
    "\n",
    "N = int(input())\n",
    "M = int(input())\n",
    "info = [0] + [int(input()) for m in range(M)] + [N + 1]\n",
    "\n",
    "# N = 9\n",
    "# M = 2\n",
    "# info = [0] + [4, 7] + [N + 1]\n",
    "\n",
    "answer = 1\n",
    "for index in range(1, M + 2):\n",
    "    count = info[index] - info[index - 1] - 1\n",
    "    if count == 0:\n",
    "        continue\n",
    "    answer = answer * dp[count]\n",
    "print(answer)"
   ]
  }
 ],
 "metadata": {
  "kernelspec": {
   "display_name": "pydata",
   "language": "python",
   "name": "python3"
  },
  "language_info": {
   "name": "python",
   "version": "3.9.11 (main, Mar 28 2022, 04:40:48) [MSC v.1916 64 bit (AMD64)]"
  },
  "orig_nbformat": 4,
  "vscode": {
   "interpreter": {
    "hash": "286b3223e4baa2339d35639af96ec91063d7905066fed95d13bac9e189bc76bf"
   }
  }
 },
 "nbformat": 4,
 "nbformat_minor": 2
}
