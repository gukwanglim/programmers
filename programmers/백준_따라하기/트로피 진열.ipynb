{
 "cells": [
  {
   "cell_type": "code",
   "execution_count": null,
   "metadata": {},
   "outputs": [],
   "source": [
    "# 1668 트로피 진열 https://www.acmicpc.net/problem/1668\n",
    "\n",
    "n = int(input())\n",
    "t_list = []\n",
    "\n",
    "for _ in range(n):\n",
    "    t = int(input())\n",
    "    t_list.append(t)\n",
    "\n",
    "    \n",
    "def Trophy(t_list):\n",
    "    \n",
    "    answer = 1\n",
    "    a = t_list[0]\n",
    "    \n",
    "    for i in range(1, len(t_list)):\n",
    "        \n",
    "        if a < t_list[i]:\n",
    "            answer += 1\n",
    "            a = t_list[i]\n",
    "\n",
    "    print(answer)\n",
    "\n",
    "    \n",
    "Trophy(t_list)\n",
    "Trophy(t_list[::-1])"
   ]
  },
  {
   "cell_type": "code",
   "execution_count": null,
   "metadata": {},
   "outputs": [],
   "source": [
    "eval(a)"
   ]
  }
 ],
 "metadata": {
  "language_info": {
   "name": "python"
  },
  "orig_nbformat": 4
 },
 "nbformat": 4,
 "nbformat_minor": 2
}
