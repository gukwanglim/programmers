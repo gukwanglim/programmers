{
 "cells": [
  {
   "cell_type": "code",
   "execution_count": null,
   "metadata": {},
   "outputs": [],
   "source": [
    "# 간단해 보이지만 문제가 있었다. 만약, (4, 4)를 비교할 경우 2를 두 번 나눠줄 수 있지만 한 번 나눈 후, 3으로 넘어가기 때문에 answr = 2로 나온다.(answer = 4가 나와야 한다.)\n",
    "# 이 문제를 해결하기 위해 if 구문을 추가했다.\n",
    "# 또한, a = 1 일 경우, while 구문을 거치지 않고 answer를 반환하게 된다.\n",
    "# 이 문제를 해결하기 위해 while 밖에 if 구문을 추가했다.\n",
    "\n",
    "a, b = map(int, input().split())\n",
    "\n",
    "n = 1\n",
    "\n",
    "answer = 0\n",
    "\n",
    "while n < a:\n",
    "    if (a % b == 0) or (b % a == 0):\n",
    "        answer = min(a, b)\n",
    "        break\n",
    "    elif (a % n == 0) & (b % n == 0):\n",
    "        answer = n\n",
    "    n += 1\n",
    "    \n",
    "if a == 1:\n",
    "    answer = a\n",
    "    \n",
    "print(answer)\n",
    "print(answer * int(a / answer) * int(b / answer))"
   ]
  }
 ],
 "metadata": {
  "language_info": {
   "name": "python"
  },
  "orig_nbformat": 4
 },
 "nbformat": 4,
 "nbformat_minor": 2
}
