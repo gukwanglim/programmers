{
 "cells": [
  {
   "cell_type": "code",
   "execution_count": null,
   "metadata": {},
   "outputs": [],
   "source": [
    "# 10984\n",
    "\n",
    "t = int(input())\n",
    "\n",
    "for i in range(t):\n",
    "    n = int(input())\n",
    "    total = 0\n",
    "    gpa_ = 0\n",
    "\n",
    "    for j in range(n):\n",
    "        c, g = map(float, input().split())\n",
    "        total += c\n",
    "        gpa_ += c * g\n",
    "    gpa = gpa_ / total\n",
    "\n",
    "    print(int(total), round(gpa, 1))\n"
   ]
  },
  {
   "cell_type": "code",
   "execution_count": 1,
   "metadata": {},
   "outputs": [
    {
     "ename": "ValueError",
     "evalue": "invalid literal for int() with base 10: ''",
     "output_type": "error",
     "traceback": [
      "\u001b[1;31m---------------------------------------------------------------------------\u001b[0m",
      "\u001b[1;31mValueError\u001b[0m                                Traceback (most recent call last)",
      "\u001b[1;32mc:\\Users\\kwang\\Desktop\\programmers\\programmers\\백준_따라하기\\학점.ipynb 셀 2\u001b[0m in \u001b[0;36m<cell line: 3>\u001b[1;34m()\u001b[0m\n\u001b[0;32m      <a href='vscode-notebook-cell:/c%3A/Users/kwang/Desktop/programmers/programmers/%EB%B0%B1%EC%A4%80_%EB%94%B0%EB%9D%BC%ED%95%98%EA%B8%B0/%ED%95%99%EC%A0%90.ipynb#W1sZmlsZQ%3D%3D?line=0'>1</a>\u001b[0m \u001b[39m# 3063\u001b[39;00m\n\u001b[1;32m----> <a href='vscode-notebook-cell:/c%3A/Users/kwang/Desktop/programmers/programmers/%EB%B0%B1%EC%A4%80_%EB%94%B0%EB%9D%BC%ED%95%98%EA%B8%B0/%ED%95%99%EC%A0%90.ipynb#W1sZmlsZQ%3D%3D?line=2'>3</a>\u001b[0m \u001b[39mfor\u001b[39;00m _ \u001b[39min\u001b[39;00m \u001b[39mrange\u001b[39m(\u001b[39mint\u001b[39;49m(\u001b[39minput\u001b[39;49m())):\n\u001b[0;32m      <a href='vscode-notebook-cell:/c%3A/Users/kwang/Desktop/programmers/programmers/%EB%B0%B1%EC%A4%80_%EB%94%B0%EB%9D%BC%ED%95%98%EA%B8%B0/%ED%95%99%EC%A0%90.ipynb#W1sZmlsZQ%3D%3D?line=3'>4</a>\u001b[0m     x1, y1, x2, y2, x3, y3, x4, y4 \u001b[39m=\u001b[39m \u001b[39mmap\u001b[39m(\u001b[39mint\u001b[39m, \u001b[39minput\u001b[39m()\u001b[39m.\u001b[39msplit())\n\u001b[0;32m      <a href='vscode-notebook-cell:/c%3A/Users/kwang/Desktop/programmers/programmers/%EB%B0%B1%EC%A4%80_%EB%94%B0%EB%9D%BC%ED%95%98%EA%B8%B0/%ED%95%99%EC%A0%90.ipynb#W1sZmlsZQ%3D%3D?line=5'>6</a>\u001b[0m     \u001b[39mif\u001b[39;00m x1 \u001b[39m>\u001b[39m x4:\n",
      "\u001b[1;31mValueError\u001b[0m: invalid literal for int() with base 10: ''"
     ]
    }
   ],
   "source": [
    "# 3063\n",
    "\n",
    "t = int(input())\n",
    "\n",
    "for i in range(t):\n",
    "    x1, y1, x2, y2, x3, y3, x4, y4 = map(int, input().split())\n",
    "    a = (x2 - x1) * (y2 - y1)\n",
    "\n",
    "    if x1 > x4:\n",
    "        print(int(a))\n",
    "    \n",
    "    elif x2 < x3:\n",
    "        print(int(a))\n",
    "\n",
    "    elif y1 > y4:\n",
    "        print(int(a))\n",
    "    \n",
    "    elif y2 < y3:\n",
    "        print(int(a))\n",
    "\n",
    "    else:\n",
    "\n",
    "        x1_ = max(x1, x3)\n",
    "        y1_ = max(y1, y3)\n",
    "        x2_ = min(x2, x4)\n",
    "        y2_ = min(y2, y4)\n",
    "\n",
    "        width = x2_ - x1_\n",
    "        hight = y2_ - y1_\n",
    "\n",
    "        b = width * hight\n",
    "        \n",
    "\n",
    "        print(int(a) - int(b))"
   ]
  },
  {
   "cell_type": "code",
   "execution_count": null,
   "metadata": {},
   "outputs": [],
   "source": [
    "# 16456번 하와왕와\n",
    "\n",
    "# 어떤 섬을 거쳐 바로 다음 섬으로 갈 수 있고(+1)\n",
    "# 어떤 섬을 건너 뛰어 그 다음 섬으로 갈 수 있고(+2)\n",
    "# 이전 섬으로 돌아갈 수 있는(-1)\n",
    "\n",
    "# 예를 들어 5개의 섬을 모두 가는 방법은 [1 1 1 1], [1 2 -1 2], [1 1 2 -1], [2 -1 2 1] 4 가지 이다.\n",
    "\n",
    "n = int(input())\n",
    "\n",
    "# 먼저 섬의 수 만큼 리스트를 생성한다\n",
    "dp = [0 for _ in range(n)]\n",
    "\n",
    "# 섬이 1개라면 1가지, 2개라면 1가지, 3개라면 2가지 방법으로 갈 수 있다.\n",
    "dp[0] = dp[1] = 1\n",
    "dp[2] = 2\n",
    "\n",
    "# 마지막의 도착할 섬까지 갈 수 있는 방법은 마지막에서 세 번째 뒤에 있는 섬에 도착하는 방법과 마지막 바로 이전 섬에 도착하는 방법을 더한 수와 같다.\n",
    "# 여기서 % 1000000009를 하지 않으면 출력초과가 발생한다.\n",
    "for i in range(3, n):\n",
    "    dp[i] = (dp[i-3] + dp[i-1]) % 1000000009\n",
    "\n",
    "print(dp[n-1])\n"
   ]
  },
  {
   "cell_type": "code",
   "execution_count": 1,
   "metadata": {},
   "outputs": [
    {
     "name": "stdout",
     "output_type": "stream",
     "text": [
      "{0: [], 1: [], 2: []}\n"
     ]
    }
   ],
   "source": [
    "N = 3\n",
    "info = {key:[] for key in range(N)}\n",
    "print(info)"
   ]
  }
 ],
 "metadata": {
  "kernelspec": {
   "display_name": "Python 3.9.7 ('base')",
   "language": "python",
   "name": "python3"
  },
  "language_info": {
   "codemirror_mode": {
    "name": "ipython",
    "version": 3
   },
   "file_extension": ".py",
   "mimetype": "text/x-python",
   "name": "python",
   "nbconvert_exporter": "python",
   "pygments_lexer": "ipython3",
   "version": "3.9.7"
  },
  "orig_nbformat": 4,
  "vscode": {
   "interpreter": {
    "hash": "d5801b79edcda5763ccfe48c18a4ee1d2165db6bc296bae4c89c41a89d640e66"
   }
  }
 },
 "nbformat": 4,
 "nbformat_minor": 2
}
