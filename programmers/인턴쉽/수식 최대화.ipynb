{
 "cells": [
  {
   "cell_type": "code",
   "execution_count": null,
   "metadata": {},
   "outputs": [],
   "source": [
    "# https://latte-is-horse.tistory.com/132\n",
    "\n",
    "from itertools import permutations\n",
    "from collections import deque\n",
    "\n",
    "def solution(expression):\n",
    "    answer = 0\n",
    "    ops = [\"*\", \"+\", \"-\"]\n",
    "    \n",
    "    # 스택 생성\n",
    "    li = []\n",
    "    s = 0\n",
    "    for i, v in enumerate(expression):\n",
    "        if v in [\"*\", \"+\", \"-\"]:\n",
    "            li.append(expression[s:i])\n",
    "            li.append(v)\n",
    "            s = i + 1\n",
    "    else:\n",
    "        li.append(expression[s:])\n",
    "    \n",
    "    # expression에 없는 연산자는 ops에서 제거\n",
    "    for op in ops:\n",
    "        if op not in expression:\n",
    "            ops.remove(op)\n",
    "            \n",
    "    # ops에 있는 연산자로 구성할 수 있는 모든 우선순위 생성\n",
    "    primarity = permutations(ops)\n",
    "    \n",
    "    for case in primarity: # 최대 6가지의 연산자 우선순위 조합\n",
    "        stacks = [deque(li), deque()]\n",
    "        t1 = 1\n",
    "        for c in case: # 각 경우에서 연산자 처리\n",
    "            t1 = (t1+1) % 2 # 스택 토글 변수\n",
    "            t2 = (t1+1) % 2\n",
    "            while len(stacks[t1]):\n",
    "                item = stacks[t1].popleft()\n",
    "                if len(stacks[t2]) and stacks[t2][-1] == c:\n",
    "                    c = stacks[t2].pop()\n",
    "                    n = stacks[t2].pop()\n",
    "                    item = str(eval(str(n)+c+str(item)))\n",
    "                stacks[t2].append(item)\n",
    "            \n",
    "        result = stacks[len(ops)%2].pop()\n",
    "        result = abs(int(result))\n",
    "        answer = max(answer, result)\n",
    "            \n",
    "    return answer"
   ]
  }
 ],
 "metadata": {
  "language_info": {
   "name": "python"
  },
  "orig_nbformat": 4
 },
 "nbformat": 4,
 "nbformat_minor": 2
}
