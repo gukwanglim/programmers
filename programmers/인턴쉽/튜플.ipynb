{
 "cells": [
  {
   "cell_type": "code",
   "execution_count": null,
   "metadata": {},
   "outputs": [],
   "source": [
    "# https://school.programmers.co.kr/learn/courses/30/lessons/64065\n",
    "\n",
    "def solution(s):\n",
    "    answer = []\n",
    "    \n",
    "    a = s[2:-2].split('},{')\n",
    "    \n",
    "    a.sort(key = len)                             # sort의 경우 (key = len)을 이용하여 하나의 원소의 길이를 기준으로 정렬할 수 있게 된다.\n",
    "    \n",
    "    for i in a:\n",
    "        temp = set(list(map(int, i.split(','))))          # set은 파이썬에서 집합으로 만드는 함수로\n",
    "        answer += list(set.difference(temp, answer))      # set의 difference를 사용하여 차집합을 구할 수 있다.\n",
    "\n",
    "    return answer"
   ]
  }
 ],
 "metadata": {
  "language_info": {
   "name": "python"
  },
  "orig_nbformat": 4
 },
 "nbformat": 4,
 "nbformat_minor": 2
}
