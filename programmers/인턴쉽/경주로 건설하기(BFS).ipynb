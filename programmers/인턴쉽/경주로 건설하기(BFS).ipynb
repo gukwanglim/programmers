{
 "cells": [
  {
   "cell_type": "code",
   "execution_count": null,
   "metadata": {},
   "outputs": [],
   "source": [
    "# https://haeseok.medium.com/%ED%94%84%EB%A1%9C%EA%B7%B8%EB%9E%98%EB%A8%B8%EC%8A%A4-%EA%B2%BD%EC%A3%BC%EB%A1%9C-%EA%B1%B4%EC%84%A4-6331021a7536\n",
    "\n",
    "from collections import deque\n",
    "\n",
    "\n",
    "def calc_cost(cur_dir, nex_dir, cost):\n",
    "    if (cur_dir == 'R' or cur_dir == 'L') and (nex_dir == 'L' or nex_dir == 'R'):  \n",
    "        return cost + 100\n",
    "    if (cur_dir == 'D' or cur_dir == 'U') and (nex_dir == 'D' or nex_dir == 'U'):  \n",
    "        return cost + 100\n",
    "    if (cur_dir == 'R' or cur_dir == 'L') and (nex_dir == 'D' or nex_dir == 'U'):  \n",
    "        return cost + 600\n",
    "    if (cur_dir == 'D' or cur_dir == 'U') and (nex_dir == 'R' or nex_dir == 'L'):  \n",
    "        return cost + 600\n",
    "\n",
    "    \n",
    "def bfs(x, y, cost, direct):\n",
    "    queue = deque([(x, y, cost, direct)])\n",
    "    check = [[0 for _ in range(N)] for _ in range(N)]\n",
    "    check[x][y] = 1\n",
    "    while queue:\n",
    "        x, y, cost, cur_dir = queue.popleft()\n",
    "        if x == N-1 and y == N-1:\n",
    "            answer.append(cost)\n",
    "            continue\n",
    "        for i, j, d in (0, 1, 'R'), (1, 0, 'D'), (0, -1, 'L'), (-1, 0, 'U'):\n",
    "            new_x, new_y, new_cost = x+i, y+j, calc_cost(cur_dir, d, cost)\n",
    "            if new_x < 0 or new_y < 0 or new_x >= N or new_y >= N:\n",
    "                continue\n",
    "            if not new_board[new_x][new_y]:\n",
    "                if not check[new_x][new_y] or check[new_x][new_y] > new_cost:\n",
    "                    check[new_x][new_y] = new_cost\n",
    "                    queue.append((new_x, new_y, new_cost, d))\n",
    "    \n",
    "\n",
    "def solution(board):\n",
    "    global N, check, new_board, answer\n",
    "    answer = []\n",
    "    N = len(board)\n",
    "    new_board = [board[i][:] for i in range(N)]\n",
    "    bfs(0, 0, 0, 'R')\n",
    "    bfs(0, 0, 0, 'D')\n",
    "    return min(answer)"
   ]
  }
 ],
 "metadata": {
  "language_info": {
   "name": "python"
  },
  "orig_nbformat": 4
 },
 "nbformat": 4,
 "nbformat_minor": 2
}
