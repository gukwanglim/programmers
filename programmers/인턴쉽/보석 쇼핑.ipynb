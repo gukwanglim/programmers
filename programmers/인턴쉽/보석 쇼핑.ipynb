{
 "cells": [
  {
   "cell_type": "code",
   "execution_count": null,
   "metadata": {},
   "outputs": [],
   "source": [
    "# https://haeseok.medium.com/%ED%94%84%EB%A1%9C%EA%B7%B8%EB%9E%98%EB%A8%B8%EC%8A%A4-%EB%B3%B4%EC%84%9D%EC%87%BC%ED%95%91-a901de0ce34\n",
    "\n",
    "from collections import defaultdict\n",
    "\n",
    "\n",
    "def solution(gems):\n",
    "    answer = [0, 0]\n",
    "    candidates = []\n",
    "    start, end = 0, 0\n",
    "    gems_len, gem_kind = len(gems), len(set(gems))\n",
    "    gems_dict = defaultdict(lambda: 0)\n",
    "    \n",
    "    while True:\n",
    "        kind = len(gems_dict)\n",
    "        if start == gems_len:\n",
    "            break\n",
    "        if kind == gem_kind:\n",
    "            candidates.append((start, end))\n",
    "            gems_dict[gems[start]] -= 1\n",
    "            if gems_dict[gems[start]] == 0:\n",
    "                del gems_dict[gems[start]]\n",
    "            start += 1\n",
    "            continue\n",
    "        if end == gems_len:\n",
    "            break\n",
    "        if kind != gem_kind:\n",
    "            gems_dict[gems[end]] += 1\n",
    "            end += 1\n",
    "            continue\n",
    "\n",
    "    length = float('inf')\n",
    "    for s, e in candidates:\n",
    "        if length > e-s:\n",
    "            length = e-s\n",
    "            answer[0] = s + 1\n",
    "            answer[1] = e\n",
    "    return answer"
   ]
  }
 ],
 "metadata": {
  "language_info": {
   "name": "python"
  },
  "orig_nbformat": 4
 },
 "nbformat": 4,
 "nbformat_minor": 2
}
