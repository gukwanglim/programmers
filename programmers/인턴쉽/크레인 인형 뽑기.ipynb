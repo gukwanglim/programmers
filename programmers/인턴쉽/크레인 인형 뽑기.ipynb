{
 "cells": [
  {
   "cell_type": "code",
   "execution_count": null,
   "metadata": {},
   "outputs": [],
   "source": [
    "# https://school.programmers.co.kr/learn/courses/30/lessons/64061\n",
    "\n",
    "def solution(board, moves):\n",
    "    answer = 0\n",
    "    answer_list = []\n",
    "    \n",
    "    for i in moves:\n",
    "        for j in range(len(board)):\n",
    "            if board[j][i-1] != 0:\n",
    "                answer_list.append(board[j][i-1])\n",
    "                board[j][i-1] = 0\n",
    "\n",
    "                if len(answer_list) >= 2:\n",
    "                    if answer_list[-2] == answer_list[-1]:\n",
    "                        answer_list = answer_list[:-2]\n",
    "                        answer += 2\n",
    "                break\n",
    "    \n",
    "    return answer"
   ]
  }
 ],
 "metadata": {
  "language_info": {
   "name": "python"
  },
  "orig_nbformat": 4
 },
 "nbformat": 4,
 "nbformat_minor": 2
}
