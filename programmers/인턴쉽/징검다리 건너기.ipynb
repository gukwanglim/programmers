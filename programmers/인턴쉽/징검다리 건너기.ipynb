{
 "cells": [
  {
   "cell_type": "code",
   "execution_count": null,
   "metadata": {},
   "outputs": [],
   "source": [
    "# https://wiselog.tistory.com/65\n",
    "\n",
    "def solution(stones, k):\n",
    "    left = 1\n",
    "    right = 200000000\n",
    "    while left <= right:\n",
    "        temp = stones.copy()\n",
    "        mid = (left + right) // 2\n",
    "        cnt = 0\n",
    "        for t in temp:\n",
    "            if t - mid <= 0:\n",
    "                cnt += 1\n",
    "            else:\n",
    "                cnt = 0\n",
    "            if cnt >= k:\n",
    "                break\n",
    "        if cnt >= k:\n",
    "            right = mid - 1\n",
    "        else:\n",
    "            left = mid + 1\n",
    "        \n",
    "    return left"
   ]
  }
 ],
 "metadata": {
  "language_info": {
   "name": "python"
  },
  "orig_nbformat": 4
 },
 "nbformat": 4,
 "nbformat_minor": 2
}
