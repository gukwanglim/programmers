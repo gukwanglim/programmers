{
 "cells": [
  {
   "cell_type": "code",
   "execution_count": null,
   "metadata": {},
   "outputs": [],
   "source": [
    "# https://velog.io/@sem/%ED%94%84%EB%A1%9C%EA%B7%B8%EB%9E%98%EB%A8%B8%EC%8A%A4-LEVEL2-%EA%B1%B0%EB%A6%AC%EB%91%90%EA%B8%B0-%ED%99%95%EC%9D%B8%ED%95%98%EA%B8%B0-Python\n",
    "\n",
    "from collections import deque\n",
    "\n",
    "def bfs(p):\n",
    "    start = []\n",
    "    \n",
    "    for i in range(5): # 시작점이 되는 P 좌표 구하기\n",
    "        for j in range(5):\n",
    "            if p[i][j] == 'P':\n",
    "                start.append([i, j])\n",
    "    \n",
    "    for s in start:\n",
    "        queue = deque([s])  # 큐에 초기값\n",
    "        visited = [[0]*5 for i in range(5)]   # 방문 처리 리스트\n",
    "        distance = [[0]*5 for i in range(5)]  # 경로 길이 리스트\n",
    "        visited[s[0]][s[1]] = 1\n",
    "        \n",
    "        while queue:\n",
    "            y, x = queue.popleft()\n",
    "        \n",
    "            dx = [-1, 1, 0, 0]  # 좌우\n",
    "            dy = [0, 0, -1, 1]  # 상하\n",
    "\n",
    "            for i in range(4):\n",
    "                nx = x + dx[i]\n",
    "                ny = y + dy[i]\n",
    "\n",
    "                if 0<=nx<5 and 0<=ny<5 and visited[ny][nx] == 0:\n",
    "                    \n",
    "                    if p[ny][nx] == 'O':\n",
    "                        queue.append([ny, nx])\n",
    "                        visited[ny][nx] = 1\n",
    "                        distance[ny][nx] = distance[y][x] + 1\n",
    "                    \n",
    "                    if p[ny][nx] == 'P' and distance[y][x] <= 1:\n",
    "                        return 0\n",
    "    return 1\n",
    "\n",
    "\n",
    "def solution(places):\n",
    "    answer = []\n",
    "    \n",
    "    for i in places:\n",
    "        answer.append(bfs(i))\n",
    "    \n",
    "    return answer"
   ]
  }
 ],
 "metadata": {
  "language_info": {
   "name": "python"
  },
  "orig_nbformat": 4
 },
 "nbformat": 4,
 "nbformat_minor": 2
}
