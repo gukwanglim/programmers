{
 "cells": [
  {
   "cell_type": "code",
   "execution_count": null,
   "metadata": {},
   "outputs": [],
   "source": [
    "# https://school.programmers.co.kr/learn/courses/30/lessons/81301\n",
    "\n",
    "def solution(s):\n",
    "    \n",
    "    word_list=['zero','one','two','three','four','five','six','seven','eight','nine']\n",
    "    \n",
    "    for i, j in enumerate(word_list):\n",
    "        s = s.replace(j, str(i))\n",
    "    \n",
    "    return int(s)\n",
    "\n",
    "# 단순하게 문자열을 replace 하면 문제가 해결된다."
   ]
  }
 ],
 "metadata": {
  "language_info": {
   "name": "python"
  },
  "orig_nbformat": 4
 },
 "nbformat": 4,
 "nbformat_minor": 2
}
