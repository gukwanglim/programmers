{
 "cells": [
  {
   "cell_type": "code",
   "execution_count": null,
   "metadata": {},
   "outputs": [],
   "source": [
    "def solution(today, terms, privacies):\n",
    "    answer = []\n",
    "    index = []\n",
    "    a = 0\n",
    "    b = 0\n",
    "    c = 0\n",
    "\n",
    "    for i in range(len(privacies)):\n",
    "        index.append(i + 1)\n",
    "\n",
    "    for i in range(len(terms)):\n",
    "        for j in range(len(privacies)):\n",
    "            if terms[i].split(\" \")[0] == privacies[j].split(\" \")[1]:\n",
    "                b = int(terms[i].split(\" \")[1]) + int(privacies[j].split(\" \")[0].split(\".\")[1])\n",
    "                c_1 = str(int(privacies[j].split(\" \")[0].split(\".\")[2]) - 1)\n",
    "                if c_1 == \"0\":\n",
    "                    b = b - 1\n",
    "                    c = 28\n",
    "                    print(\"b \", b)\n",
    "                if b > 12:\n",
    "                    a = int(privacies[j].split(\" \")[0].split(\".\")[0]) + 1\n",
    "                if int(today.split(\".\")[0]) > a:\n",
    "                    answer.append(index[j])\n",
    "                    break\n",
    "                if (int(today.split(\".\")[0]) == a) and (int(today.split(\".\")[1]) > b):\n",
    "                    answer.append(index[j])\n",
    "                    break\n",
    "                if (int(today.split(\".\")[0]) == a) and (int(today.split(\".\")[1]) == b) and (int(today.split(\".\")[2]) > c):\n",
    "                    answer.append(index[j])\n",
    "                    break\n",
    "    answer.sort()\n",
    "    print(answer)\n",
    "\n",
    "    return answer"
   ]
  }
 ],
 "metadata": {
  "language_info": {
   "name": "python"
  },
  "orig_nbformat": 4
 },
 "nbformat": 4,
 "nbformat_minor": 2
}
