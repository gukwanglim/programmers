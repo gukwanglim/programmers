{
 "cells": [
  {
   "attachments": {},
   "cell_type": "markdown",
   "metadata": {},
   "source": [
    "https://school.programmers.co.kr/learn/courses/30/lessons/43238\n",
    "\n",
    "![그래프](./image/1.png)"
   ]
  },
  {
   "cell_type": "code",
   "execution_count": null,
   "metadata": {},
   "outputs": [],
   "source": [
    "def solution(n, times):\n",
    "    time  = [0,100000000000000000000] # 최대치\n",
    "    while time != [0,0]:\n",
    "        if time[0] == time[1]:\n",
    "            return time[0]\n",
    "        count = 0 \n",
    "        a = time[0] + ((time[1]-time[0])//2)\n",
    "        for i in times:\n",
    "            count += int(a/i)\n",
    "        if count > n:\n",
    "            time[1] -= ((time[1]-time[0])//2) +1\n",
    "        elif count < n:\n",
    "            time[0] += ((time[1]-time[0])//2) +1\n",
    "        else:\n",
    "            if time[1]-time[0] > 10:\n",
    "                time[1] -= ((time[1]-time[0])//2) +1\n",
    "            else:\n",
    "                while time[1]-time[0] != 0:\n",
    "                    count = 0\n",
    "                    for i in times:\n",
    "                        count += int(time[0]/i)\n",
    "                    if count == n:\n",
    "                        return time[0]\n",
    "                    else:\n",
    "                        time[0] += 1"
   ]
  }
 ],
 "metadata": {
  "kernelspec": {
   "display_name": "pydata",
   "language": "python",
   "name": "python3"
  },
  "language_info": {
   "name": "python",
   "version": "3.9.11 (main, Mar 28 2022, 04:40:48) [MSC v.1916 64 bit (AMD64)]"
  },
  "orig_nbformat": 4,
  "vscode": {
   "interpreter": {
    "hash": "286b3223e4baa2339d35639af96ec91063d7905066fed95d13bac9e189bc76bf"
   }
  }
 },
 "nbformat": 4,
 "nbformat_minor": 2
}
