{
 "cells": [
  {
   "cell_type": "markdown",
   "metadata": {},
   "source": [
    "완전 탐색? 이라고 해야하나?\n",
    "\n",
    "머쓱이는 태어난 지 11개월 된 조카를 돌보고 있습니다. 조카는 아직 \"aya\", \"ye\", \"woo\", \"ma\" 네 가지 발음과 네 가지 발음을 조합해서 만들 수 있는 발음밖에 하지 못하고 연속해서 같은 발음을 하는 것을 어려워합니다. 문자열 배열 babbling이 매개변수로 주어질 때, 머쓱이의 조카가 발음할 수 있는 단어의 개수를 return하도록 solution 함수를 완성해주세요.\n",
    "\n",
    "<제한사항>\n",
    "- 1 ≤ babbling의 길이 ≤ 10\n",
    "- 1 ≤ babbling[i]의 길이 ≤ 30\n",
    "- 문자열은 알파벳 소문자로만 이루어져 있습니다.\n",
    "\n",
    "<입출력의 예>\n",
    "입력 : [\"aya\", \"yee\", \"u\", \"maa\"]\t                    출력 : 1\n",
    "입력 : [\"ayaye\", \"uuu\", \"yeye\", \"yemawoo\", \"ayaayaa\"]\t출력 : 2"
   ]
  },
  {
   "cell_type": "code",
   "execution_count": null,
   "metadata": {},
   "outputs": [],
   "source": [
    "# \"aya\", \"ye\", \"woo\", \"ma\"로 조합할 수 있는 단어를 찾는 것이 아니라, 조합할 수 있는 단어를 제거하고, 완전히 제거된 단어의 수를 찾으면 된다.\n",
    "\n",
    "def solution(babbling):\n",
    "    answer = 0\n",
    "    \n",
    "    baby = [\"aya\", \"ye\", \"woo\", \"ma\"]\n",
    "    \n",
    "    for i in babbling:\n",
    "        for j in baby:\n",
    "            if j * 2 not in i:\n",
    "                i = i.replace(j, '')       # replace의 경우는 i.replace()만 사용하면 적용되지 않는다. 코드와 같이 i = i.replace(j, '')를 사용해 i에 저장해줘야 한다.\n",
    "        if len(i) == 0:\n",
    "            answer += 1\n",
    "    \n",
    "    return answer\n"
   ]
  },
  {
   "cell_type": "code",
   "execution_count": null,
   "metadata": {},
   "outputs": [],
   "source": [
    "# 스택을 사용하는 경우\n",
    "\n",
    "'''\n",
    "사용가능 단어 목록에서 \n",
    "검증 문장 내부에 사용여부를 찾음\n",
    "\n",
    "찾는데 성공한다면 스택에 찾은 단어의 인덱스를 스택에 넣음\n",
    "-> 새롭게 쌓인 스택이 기존 스택값과 같다면 불가능함(연속 불가능 조건)\n",
    "-> 찾은 단어는 replace로 한번만 제거\n",
    "'''\n",
    "\n",
    "\n",
    "\n",
    "def solution(babbling):\n",
    "    babbling_list = {'a':'aya', 'y':'ye', 'w':'woo', 'm':'ma'}\n",
    "\n",
    "    answer = 0\n",
    "    for word in babbling:                   # 검증할 문장\n",
    "        stack = list()\n",
    "        flag = True\n",
    "        keys = babbling_list.keys()\n",
    "\n",
    "        while word and word[0] in keys:\n",
    "            if len(word) < 2:\n",
    "                break\n",
    "            new_stack = word[0]\n",
    "            word = word.replace(babbling_list[word[0]],'',1)\n",
    "            if not stack or stack[-1] != new_stack:\n",
    "                stack.append(new_stack)\n",
    "            elif stack[-1] == new_stack:\n",
    "                flag = False\n",
    "                break\n",
    "\n",
    "        if not word and flag:\n",
    "            answer +=1\n",
    "\n",
    "    return answer"
   ]
  }
 ],
 "metadata": {
  "kernelspec": {
   "display_name": "Python 3.9.7 ('base')",
   "language": "python",
   "name": "python3"
  },
  "language_info": {
   "name": "python",
   "version": "3.9.7"
  },
  "orig_nbformat": 4,
  "vscode": {
   "interpreter": {
    "hash": "d5801b79edcda5763ccfe48c18a4ee1d2165db6bc296bae4c89c41a89d640e66"
   }
  }
 },
 "nbformat": 4,
 "nbformat_minor": 2
}
