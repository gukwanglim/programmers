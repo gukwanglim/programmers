{
 "cells": [
  {
   "cell_type": "code",
   "execution_count": null,
   "metadata": {},
   "outputs": [],
   "source": [
    "# deque 사용하기\n",
    "\n",
    "from collections import deque\n",
    "\n",
    "def solution(numbers, direction):\n",
    "    \n",
    "    num_list = deque([i for i in numbers])\n",
    "    \n",
    "    if direction == \"right\":\n",
    "        num_list.appendleft(num_list.pop())\n",
    "    else:\n",
    "        num_list.append(num_list.popleft())\n",
    "    \n",
    "    return list(num_list)"
   ]
  }
 ],
 "metadata": {
  "language_info": {
   "name": "python"
  },
  "orig_nbformat": 4
 },
 "nbformat": 4,
 "nbformat_minor": 2
}
