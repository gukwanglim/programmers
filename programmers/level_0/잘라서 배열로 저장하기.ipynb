{
 "cells": [
  {
   "cell_type": "code",
   "execution_count": null,
   "metadata": {},
   "outputs": [],
   "source": [
    "# 하나의 배열을 잘라서 저장하기 위해서는 다음과 같다 (2차원 만들기와 함께 보면 좋은 것)\n",
    "\n",
    "def solution(my_str, n):\n",
    "    answer = [my_str[i*n:(i+1)*n] for i in range((len(my_str)-1)//n+1)]\n",
    "    return answer"
   ]
  }
 ],
 "metadata": {
  "language_info": {
   "name": "python"
  },
  "orig_nbformat": 4
 },
 "nbformat": 4,
 "nbformat_minor": 2
}
