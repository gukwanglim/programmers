{
 "cells": [
  {
   "cell_type": "code",
   "execution_count": null,
   "metadata": {},
   "outputs": [],
   "source": [
    "# https://school.programmers.co.kr/learn/courses/30/lessons/120812\n",
    "\n",
    "def solution(array):\n",
    "    answer = 0\n",
    "    array_dict = {}\n",
    "    \n",
    "    for i in array:\n",
    "        if i not in array_dict:\n",
    "            array_dict[i] = 0\n",
    "    \n",
    "    for i in array:\n",
    "        array_dict[i] += 1\n",
    "    \n",
    "    for i in array_dict.values():\n",
    "        if i == max(array_dict.values()):\n",
    "            answer += 1\n",
    "    \n",
    "    if answer > 1:\n",
    "        answer = -1\n",
    "    else:\n",
    "        answer = max(array_dict, key = array_dict.get)    \n",
    "    \n",
    "    return answer\n",
    "\n",
    "# 최빈값을 구하기 위해서는 'from collections import Counter'를 사용하면 편하지만 딕셔너리를 사용하여 문제를 해결했다.\n",
    "# 딕셔너리의 key, vaule를 따로 뽑아내기 위해서는 .keys(), .values()를 사용하면 되고,\n",
    "# value가 최대값인 key를 뽑아내기 위해서는 위 코드와 같이 max(array_dict, key = array_dict.get)의 .get을 사용하면 된다."
   ]
  },
  {
   "cell_type": "code",
   "execution_count": null,
   "metadata": {},
   "outputs": [],
   "source": [
    "# 물론, 딕셔너리를 사용하지 않고 단순 리스트와 count() 함수를 이용해도 문제를 풀 수 있다.\n",
    "\n",
    "def solution(array):\n",
    "    answer = 0\n",
    "    value = []\n",
    "    count = []\n",
    "\n",
    "    for i in range(len(array)):\n",
    "        if array[i] not in value:\n",
    "            value.append(array[i])\n",
    "\n",
    "    for i in range(len(value)):\n",
    "        count.append(array.count(value[i]))\n",
    "\n",
    "    if count.count(max(count)) != 1:\n",
    "        answer = -1\n",
    "    else: answer = value[count.index(max(count))]\n",
    "\n",
    "    return answer"
   ]
  }
 ],
 "metadata": {
  "language_info": {
   "name": "python"
  },
  "orig_nbformat": 4
 },
 "nbformat": 4,
 "nbformat_minor": 2
}
