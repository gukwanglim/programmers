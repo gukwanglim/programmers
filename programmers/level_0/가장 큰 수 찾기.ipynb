{
 "cells": [
  {
   "cell_type": "code",
   "execution_count": null,
   "metadata": {},
   "outputs": [],
   "source": [
    "# list.index()를 사용하면 () 안의 문자(혹은 숫자)의 인덱스를 찾아준다.\n",
    "\n",
    "def solution(array):\n",
    "    return [max(array), array.index(max(array))]"
   ]
  }
 ],
 "metadata": {
  "language_info": {
   "name": "python"
  },
  "orig_nbformat": 4
 },
 "nbformat": 4,
 "nbformat_minor": 2
}
