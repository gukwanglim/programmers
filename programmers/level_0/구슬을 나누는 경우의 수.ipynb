{
 "cells": [
  {
   "cell_type": "code",
   "execution_count": null,
   "metadata": {},
   "outputs": [],
   "source": [
    "# https://slowsure.tistory.com/m/138 경우의 수\n",
    "\n",
    "import itertools\n",
    "\n",
    "def solution(balls, share):\n",
    "    ball_list = []\n",
    "    \n",
    "    for i in range(balls):\n",
    "        ball_list.append(i)\n",
    "    \n",
    "    answer = list(itertools.combinations(ball_list, share))\n",
    "    \n",
    "    return len(answer)\n",
    "\n",
    "# 하지만 조합을 사용하게 되면 타임에러가 발생한다."
   ]
  }
 ],
 "metadata": {
  "language_info": {
   "name": "python"
  },
  "orig_nbformat": 4
 },
 "nbformat": 4,
 "nbformat_minor": 2
}
