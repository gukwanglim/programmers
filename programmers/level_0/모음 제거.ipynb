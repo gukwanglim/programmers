{
 "cells": [
  {
   "cell_type": "code",
   "execution_count": null,
   "metadata": {},
   "outputs": [],
   "source": [
    "# 주어진 문자열에서 모음을 만나면 continuer로 넘기고 아니라면 answer에 넣는다\n",
    "\n",
    "def solution(my_string):\n",
    "    answer = ''\n",
    "\n",
    "    for c in my_string:\n",
    "        if c in ['a', 'e', 'i', 'o', 'u']:\n",
    "            continue\n",
    "        answer += c\n",
    "\n",
    "    return answer"
   ]
  }
 ],
 "metadata": {
  "language_info": {
   "name": "python"
  },
  "orig_nbformat": 4
 },
 "nbformat": 4,
 "nbformat_minor": 2
}
