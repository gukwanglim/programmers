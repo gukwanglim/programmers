{
 "cells": [
  {
   "cell_type": "code",
   "execution_count": null,
   "metadata": {},
   "outputs": [],
   "source": [
    "# 문자열(혹은 숫자)은 map을 사용하여 list의 형태로 변환한 뒤, join()을 이용하여 다시 합친다.\n",
    "\n",
    "def solution(my_string):\n",
    "    answer = []\n",
    "    \n",
    "    list_str = list(map(str, my_string))\n",
    "    list_str.reverse()\n",
    "    \n",
    "    for i in list_str:\n",
    "        answer.append(i)\n",
    "        \n",
    "    answer = ''.join(answer)\n",
    "        \n",
    "    return answer"
   ]
  }
 ],
 "metadata": {
  "language_info": {
   "name": "python"
  },
  "orig_nbformat": 4
 },
 "nbformat": 4,
 "nbformat_minor": 2
}
