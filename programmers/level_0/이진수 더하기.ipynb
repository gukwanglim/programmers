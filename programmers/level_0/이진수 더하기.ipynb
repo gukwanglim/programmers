{
 "cells": [
  {
   "cell_type": "code",
   "execution_count": null,
   "metadata": {},
   "outputs": [],
   "source": [
    "# 문제 풀기에 앞서 이진수 계산\n",
    "\n",
    "s = '1101'\n",
    "\n",
    "s = s[::-1]\n",
    "print(s)\n",
    "\n",
    "ten = 0\n",
    "\n",
    "for i in range(len(s)):\n",
    "    if i == 0:\n",
    "        if s[int(i)] == '1':\n",
    "            x = 1\n",
    "        else:\n",
    "            x = 0\n",
    "        ten += x\n",
    "\n",
    "    else:\n",
    "        if s[i] == '1':\n",
    "            ten = ten + (2 ** i)\n",
    "\n",
    "print(ten)"
   ]
  },
  {
   "cell_type": "code",
   "execution_count": null,
   "metadata": {},
   "outputs": [],
   "source": [
    "# 위 코드를 참조하여 작성\n",
    "\n",
    "def two(s):\n",
    "    ten = 0\n",
    "    for i in range(len(s)):\n",
    "        if i == 0:\n",
    "            if s[int(i)] == '1':\n",
    "                x = 1\n",
    "            else:\n",
    "                x = 0\n",
    "            ten += x\n",
    "\n",
    "        else:\n",
    "            if s[i] == '1':\n",
    "                ten = ten + (2 ** i)\n",
    "    return ten\n",
    "\n",
    "def solution(bin1, bin2):\n",
    "    answer = ''\n",
    "\n",
    "    bin1 = str(bin1)[::-1]\n",
    "    bin2 = str(bin2)[::-1]\n",
    "    \n",
    "    a = two(bin1)\n",
    "    b = two(bin2)\n",
    "        \n",
    "    return bin(a + b)[2:]\n",
    "\n",
    "\n",
    "# 이런 식으로도 간단하게 표현 가능\n",
    "\n",
    "def solution(bin1):\n",
    "    bin1_size = len(bin1)\n",
    "\n",
    "    sum = 0\n",
    "\n",
    "    for i in bin1:\n",
    "        sum += int(i) * (2 ** (bin1_size - 1))\n",
    "        bin1_size -= 1"
   ]
  }
 ],
 "metadata": {
  "kernelspec": {
   "display_name": "Python 3.9.7 ('base')",
   "language": "python",
   "name": "python3"
  },
  "language_info": {
   "name": "python",
   "version": "3.9.7"
  },
  "orig_nbformat": 4,
  "vscode": {
   "interpreter": {
    "hash": "d5801b79edcda5763ccfe48c18a4ee1d2165db6bc296bae4c89c41a89d640e66"
   }
  }
 },
 "nbformat": 4,
 "nbformat_minor": 2
}
