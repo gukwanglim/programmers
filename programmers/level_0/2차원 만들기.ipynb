{
 "cells": [
  {
   "cell_type": "code",
   "execution_count": null,
   "metadata": {},
   "outputs": [],
   "source": [
    "# 하나의 리스트를 정해진 개수로 나눠 2차원을 만들기 위해서는 아래 코드와 같이 사용하면 된다.\n",
    "\n",
    "def solution(num_list, n):\n",
    "    return [num_list[ix-n:ix] for ix in range(n, len(num_list)+1, n)]"
   ]
  }
 ],
 "metadata": {
  "language_info": {
   "name": "python"
  },
  "orig_nbformat": 4
 },
 "nbformat": 4,
 "nbformat_minor": 2
}
