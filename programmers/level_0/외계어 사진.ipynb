{
 "cells": [
  {
   "cell_type": "code",
   "execution_count": null,
   "metadata": {},
   "outputs": [],
   "source": [
    "# 옹알이 문제와 같이 존재하는 dic에서 spell을 하나씩 지워 len이 0인 것이 존재할 때 return\n",
    "\n",
    "def solution(spell, dic):\n",
    "    answer = 2\n",
    "\n",
    "    for i in dic:\n",
    "        spell_copy = ''.join(spell)\n",
    "        for j in spell:\n",
    "            if j in i:\n",
    "                i = i.replace(j, '')\n",
    "                spell_copy = spell_copy.replace(j, '')\n",
    "                if (len(i) == 0) & (len(spell_copy) == 0):\n",
    "                    answer = 1\n",
    "                    break\n",
    "    \n",
    "    return answer"
   ]
  },
  {
   "cell_type": "code",
   "execution_count": null,
   "metadata": {},
   "outputs": [],
   "source": [
    "# 집합(set())을 사용하여 문제를 해결할 수도 있다.\n",
    "\n",
    "def solution(spell, dic):\n",
    "    spell = set(spell)\n",
    "    for s in dic:\n",
    "        if not spell-set(s):\n",
    "            return 1\n",
    "    return 2\n",
    "\n",
    "# https://blockdmask.tistory.com/m/451 set에 대한 설명"
   ]
  }
 ],
 "metadata": {
  "language_info": {
   "name": "python"
  },
  "orig_nbformat": 4
 },
 "nbformat": 4,
 "nbformat_minor": 2
}
