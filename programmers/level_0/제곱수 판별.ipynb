{
 "cells": [
  {
   "cell_type": "code",
   "execution_count": null,
   "metadata": {},
   "outputs": [],
   "source": [
    "# 제공된 숫자가 정수(int)인지 판단하기 위해서는 1로 나눠 나머지가 0이면 된다\n",
    "\n",
    "def solution(n):\n",
    "    answer = 2\n",
    "    \n",
    "    if n ** 0.5 % 1 == 0:\n",
    "        answer = 1\n",
    "        \n",
    "    return answer"
   ]
  }
 ],
 "metadata": {
  "language_info": {
   "name": "python"
  },
  "orig_nbformat": 4
 },
 "nbformat": 4,
 "nbformat_minor": 2
}
