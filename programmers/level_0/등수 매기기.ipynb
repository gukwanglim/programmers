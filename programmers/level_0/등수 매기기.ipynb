{
 "cells": [
  {
   "cell_type": "code",
   "execution_count": null,
   "metadata": {},
   "outputs": [],
   "source": [
    "# https://school.programmers.co.kr/learn/courses/30/lessons/120882\n",
    "\n",
    "def solution(score):\n",
    "    answer = []\n",
    "    sum_list = []\n",
    "    s_dict = {}\n",
    "    \n",
    "    for i in score:\n",
    "        sum_list.append(sum(i))\n",
    "    \n",
    "    for i, j in enumerate(sorted(sum_list, reverse=True), start = 1):\n",
    "        if j not in s_dict:\n",
    "            s_dict[j] = i\n",
    "    \n",
    "    for i in sum_list:\n",
    "        answer.append(s_dict[i])\n",
    "    \n",
    "    return answer\n",
    "\n",
    "# 등수 매기기와 같은 문제는 리스트를 정렬한 뒤, 등수를 정한 다음, 원래의 리스트 순서대로 등수를 출력해야한다.\n",
    "# 이런 문제는 단순하게 for, if 구문을 사용하여 반환하기 힘들기 때문에 딕셔너리를 사용해야 한다."
   ]
  }
 ],
 "metadata": {
  "kernelspec": {
   "display_name": "Python 3.9.11 ('pydata')",
   "language": "python",
   "name": "python3"
  },
  "language_info": {
   "name": "python",
   "version": "3.9.11"
  },
  "orig_nbformat": 4,
  "vscode": {
   "interpreter": {
    "hash": "286b3223e4baa2339d35639af96ec91063d7905066fed95d13bac9e189bc76bf"
   }
  }
 },
 "nbformat": 4,
 "nbformat_minor": 2
}
