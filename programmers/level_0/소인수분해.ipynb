{
 "cells": [
  {
   "cell_type": "code",
   "execution_count": null,
   "metadata": {},
   "outputs": [],
   "source": [
    "# 소인수분해 소스 코드\n",
    "\n",
    "def factorization(x):\n",
    "    d = 2\n",
    "\n",
    "    while d <= x:\n",
    "        if x % d == 0:\n",
    "            print(d)\n",
    "            x = x / d\n",
    "        else:\n",
    "            d = d + 1\n",
    "\n",
    "# 소인수분해(Prime Factorization)란 1보다 큰 자연수인 소인수(소수인 인수)들만의 곱으로 표현하는 것을 말한다. \n",
    "# 소인수는 일단 1이라는 값이 아닌 2부터 시작하는 것이 핵심이며, 2로 나누지 못할 경우 2에서 +1를 해주면서 나누어지는지 체크하면 된다."
   ]
  },
  {
   "cell_type": "code",
   "execution_count": null,
   "metadata": {},
   "outputs": [],
   "source": [
    "# 소인수분해 소스 코드를 활용한 문제 풀이 \n",
    "\n",
    "def solution(n):\n",
    "    answer = []\n",
    "    d = 2  \n",
    "\n",
    "    while d <= n:\n",
    "        if n % d == 0:\n",
    "            if d in answer:\n",
    "                n /= d\n",
    "                continue\n",
    "            else:\n",
    "                answer.append(d)\n",
    "                n /= d\n",
    "        else:\n",
    "            d += 1\n",
    "    \n",
    "    return answer\n",
    "\n",
    "# not in 을 활용하면 더 짧아진다.\n",
    "\n",
    "def solution(n):\n",
    "    answer = []\n",
    "    d = 2\n",
    "    while d <= n:\n",
    "        if n % d == 0:\n",
    "            n /= d\n",
    "            if d not in answer:\n",
    "                answer.append(d)\n",
    "        else:\n",
    "            d += 1\n",
    "    return answer"
   ]
  }
 ],
 "metadata": {
  "language_info": {
   "name": "python"
  },
  "orig_nbformat": 4
 },
 "nbformat": 4,
 "nbformat_minor": 2
}
