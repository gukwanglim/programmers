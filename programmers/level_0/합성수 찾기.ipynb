{
 "cells": [
  {
   "cell_type": "code",
   "execution_count": null,
   "metadata": {},
   "outputs": [],
   "source": [
    "# 합성수는 약수가 3개 이상인 수로 약수를 찾는 방법은 나눠서 나머지가 0인 수들의 집합이다.\n",
    "\n",
    "def solution(n):\n",
    "    answer = 0\n",
    "    \n",
    "    for i in range(1, n + 1):\n",
    "        a = []\n",
    "        for j in range(1, i + 1):\n",
    "            if i % j == 0:\n",
    "                a.append(j)\n",
    "            if len(a) > 2:\n",
    "                answer += 1\n",
    "                break\n",
    "    \n",
    "    return answer"
   ]
  }
 ],
 "metadata": {
  "language_info": {
   "name": "python"
  },
  "orig_nbformat": 4
 },
 "nbformat": 4,
 "nbformat_minor": 2
}
