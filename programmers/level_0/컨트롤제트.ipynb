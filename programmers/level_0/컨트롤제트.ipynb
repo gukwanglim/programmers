{
 "cells": [
  {
   "cell_type": "code",
   "execution_count": null,
   "metadata": {},
   "outputs": [],
   "source": [
    "# https://school.programmers.co.kr/learn/courses/30/lessons/120853#\n",
    "\n",
    "def solution(s):\n",
    "    \n",
    "    s = s.split()\n",
    "    num_list = []\n",
    "    \n",
    "    for i in range(len(s)):\n",
    "        if i == 0 and s[0] == 'Z':\n",
    "            continue\n",
    "        elif s[i] != 'Z':\n",
    "            num_list.append(int(s[i]))\n",
    "        elif s[i] == 'Z':\n",
    "            num_list.pop()\n",
    "    \n",
    "    return sum(num_list)\n",
    "\n",
    "\n",
    "# 일반적인 ctrl + z 와 같이 두 번을 연달아 누를 경우 발생하는 과정을 생략해선 안 된다.\n",
    "# 1, 2, 3, Z, Z로 들어갈 경우 1+2+3-3-2 로 작동해야 한다."
   ]
  }
 ],
 "metadata": {
  "language_info": {
   "name": "python"
  },
  "orig_nbformat": 4
 },
 "nbformat": 4,
 "nbformat_minor": 2
}
