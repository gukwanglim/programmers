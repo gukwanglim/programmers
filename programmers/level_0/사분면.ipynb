{
 "cells": [
  {
   "cell_type": "code",
   "execution_count": null,
   "metadata": {},
   "outputs": [],
   "source": [
    "# x,y를 곱해서 음수일 경우, 양수일 경우로 생각\n",
    "\n",
    "def solution(dot):\n",
    "    x,y = dot\n",
    "    if x*y>0:\n",
    "        return 1 if x>0 else 3\n",
    "    else:\n",
    "        return 4 if x>0 else 2"
   ]
  }
 ],
 "metadata": {
  "language_info": {
   "name": "python"
  },
  "orig_nbformat": 4
 },
 "nbformat": 4,
 "nbformat_minor": 2
}
