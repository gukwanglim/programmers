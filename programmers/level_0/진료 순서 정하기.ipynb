{
 "cells": [
  {
   "cell_type": "code",
   "execution_count": null,
   "metadata": {},
   "outputs": [],
   "source": [
    "# 이중 for 구문을 사용하지 않고 index 사용하기\n",
    "\n",
    "def solution(emergency):\n",
    "    return [sorted(emergency, reverse=True).index(e) + 1 for e in emergency]"
   ]
  }
 ],
 "metadata": {
  "language_info": {
   "name": "python"
  },
  "orig_nbformat": 4
 },
 "nbformat": 4,
 "nbformat_minor": 2
}
