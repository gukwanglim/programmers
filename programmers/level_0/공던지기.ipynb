{
 "cells": [
  {
   "cell_type": "code",
   "execution_count": null,
   "metadata": {},
   "outputs": [],
   "source": [
    "# 인덱스를 헷갈리지 말자\n",
    "\n",
    "def solution(numbers, k):\n",
    "    trun = 0\n",
    "    \n",
    "    for i in range(k):\n",
    "        if i == 0:\n",
    "            answer = numbers[i]\n",
    "        else:\n",
    "            trun += 2\n",
    "            if trun >= len(numbers):\n",
    "                trun -= (len(numbers))\n",
    "            answer = numbers[trun]\n",
    "    \n",
    "    \n",
    "    return answer"
   ]
  },
  {
   "cell_type": "code",
   "execution_count": null,
   "metadata": {},
   "outputs": [],
   "source": [
    "# 수학적으로 접근\n",
    "\n",
    "def solution(numbers, k):\n",
    "    return 2 * (k - 1) % numbers[-1] + 1"
   ]
  }
 ],
 "metadata": {
  "language_info": {
   "name": "python"
  },
  "orig_nbformat": 4
 },
 "nbformat": 4,
 "nbformat_minor": 2
}
