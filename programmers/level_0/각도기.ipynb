{
 "cells": [
  {
   "cell_type": "markdown",
   "metadata": {},
   "source": [
    "각에서 0도 초과 90도 미만은 예각, 90도는 직각, 90도 초과 180도 미만은 둔각 180도는 평각으로 분류합니다. 각 angle이 매개변수로 주어질 때 예각일 때 1, 직각일 때 2, 둔각일 때 3, 평각일 때 4를 return하도록 solution 함수를 완성해주세요."
   ]
  },
  {
   "cell_type": "code",
   "execution_count": null,
   "metadata": {},
   "outputs": [],
   "source": [
    "# if 문으로 간단하게 풀 수 있는 문제지만, 아래 코드와 같이 수식으로 적을 수 있다.\n",
    "# 여기서 (angle % 90 > 0) * 1 부분은 angle % 90은 나머지를 반환하고, 그 나머지가 0보다 클 경우 True, 작을 경우 False를 반환한다.\n",
    "# 이 상태에서 1을 곱하게 되면 True일 경우에는 1을 반환하고, False일 경우에는 0을 반환한다.\n",
    "\n",
    "def solution(angle):\n",
    "    answer = (angle // 90) * 2 + (angle % 90 > 0) * 1\n",
    "    return answer"
   ]
  }
 ],
 "metadata": {
  "kernelspec": {
   "display_name": "Python 3.9.7 ('base')",
   "language": "python",
   "name": "python3"
  },
  "language_info": {
   "name": "python",
   "version": "3.9.7"
  },
  "orig_nbformat": 4,
  "vscode": {
   "interpreter": {
    "hash": "d5801b79edcda5763ccfe48c18a4ee1d2165db6bc296bae4c89c41a89d640e66"
   }
  }
 },
 "nbformat": 4,
 "nbformat_minor": 2
}
