{
 "cells": [
  {
   "cell_type": "code",
   "execution_count": null,
   "metadata": {},
   "outputs": [],
   "source": [
    "def solution(s1, s2):\n",
    "    answer = 0\n",
    "    \n",
    "    for i in s1:\n",
    "        if i in s2:\n",
    "            answer += 1\n",
    "    \n",
    "    return answer\n",
    "\n",
    "# 아래와 같이 set을 사용하면 된다\n",
    "\n",
    "def solution(s1, s2):\n",
    "    return len(set(s1)&set(s2))"
   ]
  }
 ],
 "metadata": {
  "language_info": {
   "name": "python"
  },
  "orig_nbformat": 4
 },
 "nbformat": 4,
 "nbformat_minor": 2
}
