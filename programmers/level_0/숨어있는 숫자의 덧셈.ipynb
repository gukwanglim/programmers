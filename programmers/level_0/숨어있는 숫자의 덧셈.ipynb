{
 "cells": [
  {
   "cell_type": "code",
   "execution_count": null,
   "metadata": {},
   "outputs": [],
   "source": [
    "# 문자열 안의 숫자는 str.isdigit()으로 찾는다\n",
    "\n",
    "def solution(my_string):\n",
    "    answer = 0\n",
    "    \n",
    "    list_str = list(map(str, my_string))\n",
    "    \n",
    "    for i in list_str:\n",
    "        if str.isdigit(i) == True:\n",
    "            answer += int(i)\n",
    "    \n",
    "    return answer"
   ]
  }
 ],
 "metadata": {
  "language_info": {
   "name": "python"
  },
  "orig_nbformat": 4
 },
 "nbformat": 4,
 "nbformat_minor": 2
}
