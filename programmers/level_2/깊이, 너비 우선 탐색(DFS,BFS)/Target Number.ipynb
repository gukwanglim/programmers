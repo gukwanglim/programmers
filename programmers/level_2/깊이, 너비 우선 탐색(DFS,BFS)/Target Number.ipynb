{
 "cells": [
  {
   "cell_type": "code",
   "execution_count": null,
   "metadata": {},
   "outputs": [],
   "source": [
    "#BFS 풀이 \n",
    "def solution(numbers, target):\n",
    "    answer = 0\n",
    "    leaves = [0]\n",
    "    for num in numbers:\n",
    "        tmp = []\n",
    "        for parent in leaves:\n",
    "            tmp.append(parent + num)\n",
    "            tmp.append(parent - num)\n",
    "        leaves = tmp\n",
    "    # 여기까지가 모든 경우의 수를 쌓어 넣는 것.\n",
    "\n",
    "    for leaf in leaves:\n",
    "        if leaf == target:\n",
    "            answer += 1\n",
    "    return answer"
   ]
  },
  {
   "cell_type": "code",
   "execution_count": 2,
   "metadata": {},
   "outputs": [
    {
     "name": "stdout",
     "output_type": "stream",
     "text": [
      "[1, -1]\n",
      "[2, 0, 0, -2]\n",
      "[3, 1, 1, -1, 1, -1, -1, -3]\n",
      "[4, 2, 2, 0, 2, 0, 0, -2, 2, 0, 0, -2, 0, -2, -2, -4]\n",
      "[5, 3, 3, 1, 3, 1, 1, -1, 3, 1, 1, -1, 1, -1, -1, -3, 3, 1, 1, -1, 1, -1, -1, -3, 1, -1, -1, -3, -1, -3, -3, -5]\n"
     ]
    }
   ],
   "source": [
    "# BFS 코드 설명\n",
    "numbers = [1, 1, 1, 1, 1]\n",
    "target = 3\n",
    "\n",
    "leaves = [0]                                  # leaves는 원소 0을 가지를 리스트로 시작\n",
    "\n",
    "for num in numbers:                           # num에 첫 번재 1이 들어간 후, 코드를 통과하면 1이 +일 경우와 -일 경우가 tmp을 통해 leaves에 저장된다. -> leaves = [1, -1]\n",
    "    tmp = []                                  # num에 두 번째 1이 들어간 후, tmp은 초기화가 되며, 코드를 통과하면 첫 번째 1만 존재할 때 만들어진 1, -1에 두 번째 1이 들어가 만들어진 1, -1이 각각 합해져 leavse = [2, 0, 0, -2]가 된다.\n",
    "    for parent in leaves:                     # num에 세 번째 1이 들어간 후, tmp은 초기화가 되며, 코드를 통과하면 두 번째 1로 인해 만들어진 2, 0, 0, -2에 1, -1이 각각 합해져 leaves = [3, 1, 1, -1, 1, -1, -1, -3]이 된다.\n",
    "        tmp.append(parent + num)\n",
    "        tmp.append(parent - num)\n",
    "    leaves = tmp                              # 모든 과정을 반복하면 처음 numbers 리스트에 있는 값의 +,-를 합한 모든 경우의 수가 leaves에 저장된다.\n",
    "    print(leaves)\n",
    "\n",
    "# [1, -1]\n",
    "# [2, 0, 0, -2]\n",
    "# [3, 1, 1, -1, 1, -1, -1, -3]\n",
    "# [4, 2, 2, 0, 2, 0, 0, -2, 2, 0, 0, -2, 0, -2, -2, -4]\n",
    "# [5, 3, 3, 1, 3, 1, 1, -1, 3, 1, 1, -1, 1, -1, -1, -3, 3, 1, 1, -1, 1, -1, -1, -3, 1, -1, -1, -3, -1, -3, -3, -5]"
   ]
  },
  {
   "cell_type": "code",
   "execution_count": null,
   "metadata": {},
   "outputs": [],
   "source": [
    "#DFS 풀이\n",
    "def solution(numbers, target):\n",
    "    answer = DFS(numbers, target, 0)\n",
    "    return answer\n",
    "\n",
    "def DFS(numbers, target, depth):\n",
    "    answer = 0\n",
    "    if depth == len(numbers):\n",
    "        print(numbers)\n",
    "        if sum(numbers) == target:\n",
    "            return 1\n",
    "        else: return 0\n",
    "    else:\n",
    "        answer += DFS(numbers, target, depth+1)\n",
    "        numbers[depth] *= -1\n",
    "        answer += DFS(numbers, target, depth+1)\n",
    "        return answer"
   ]
  },
  {
   "cell_type": "code",
   "execution_count": null,
   "metadata": {},
   "outputs": [],
   "source": [
    "# 다른 DFS 풀이\n",
    "def solution(numbers, target):\n",
    "    stack = [[0,0]]\n",
    "    answer = 0\n",
    "    l = len(numbers)\n",
    "    while stack != []:\n",
    "        a = stack.pop()\n",
    "        if a[1] == l:\n",
    "            if a[0] == target:\n",
    "                answer += 1\n",
    "        else:\n",
    "            stack.append([a[0]+numbers[a[1]],a[1]+1])\n",
    "            stack.append([a[0]-numbers[a[1]],a[1]+1])\n",
    "        \n",
    "    \n",
    "    return answer"
   ]
  }
 ],
 "metadata": {
  "kernelspec": {
   "display_name": "Python 3.9.7 ('base')",
   "language": "python",
   "name": "python3"
  },
  "language_info": {
   "codemirror_mode": {
    "name": "ipython",
    "version": 3
   },
   "file_extension": ".py",
   "mimetype": "text/x-python",
   "name": "python",
   "nbconvert_exporter": "python",
   "pygments_lexer": "ipython3",
   "version": "3.9.7"
  },
  "orig_nbformat": 4,
  "vscode": {
   "interpreter": {
    "hash": "d5801b79edcda5763ccfe48c18a4ee1d2165db6bc296bae4c89c41a89d640e66"
   }
  }
 },
 "nbformat": 4,
 "nbformat_minor": 2
}
