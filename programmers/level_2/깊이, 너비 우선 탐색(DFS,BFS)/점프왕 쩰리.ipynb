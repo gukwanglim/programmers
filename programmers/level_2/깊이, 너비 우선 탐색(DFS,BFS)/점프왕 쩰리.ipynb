{
 "cells": [
  {
   "cell_type": "code",
   "execution_count": null,
   "metadata": {},
   "outputs": [],
   "source": [
    "# https://www.acmicpc.net/problem/16173 16173 점프왕 쩰리\n",
    "\n",
    "from collections import deque\n",
    "\n",
    "move = [[1, 0], [0, 1]]\n",
    "\n",
    "n = int(input())\n",
    "\n",
    "board = [list(map(int, input().split())) for _ in range(n)]\n",
    "\n",
    "isBound = lambda y, x: y > -1 and y < n and x > -1 and x < n\n",
    "\n",
    "queue = deque()\n",
    "queue.append([0, 0])\n",
    "visited = [[False for _ in range(n)] for _ in range(n)]\n",
    "\n",
    "while queue:\n",
    "    (y, x) = queue.popleft()\n",
    "    visited[y][x] = True\n",
    "    if board[y][x] == -1:\n",
    "        break\n",
    "        \n",
    "    for m in move:\n",
    "        [dy, dx] = list(map(lambda d: d * board[y][x], m))            # lambda와 map의 사용으로 m * board[y][x]가 된다. 즉, board[y][x]에 있는 값 만큼 곱해지는 것으로 그만큼 칸을 이동하는 것이 된다.\n",
    "        print('1 : ', [dy, dx])\n",
    "        if isBound(y+dy, x+dx) and not visited[y+dy][x+dx]:\n",
    "            queue.append((y+dy, x+dx))\n",
    "            print('queue : ', queue)\n",
    "print('HaruHaru') if visited[n-1][n-1] else print('Hing')"
   ]
  }
 ],
 "metadata": {
  "kernelspec": {
   "display_name": "Python 3.9.11 ('pydata')",
   "language": "python",
   "name": "python3"
  },
  "language_info": {
   "name": "python",
   "version": "3.9.11"
  },
  "orig_nbformat": 4,
  "vscode": {
   "interpreter": {
    "hash": "286b3223e4baa2339d35639af96ec91063d7905066fed95d13bac9e189bc76bf"
   }
  }
 },
 "nbformat": 4,
 "nbformat_minor": 2
}
