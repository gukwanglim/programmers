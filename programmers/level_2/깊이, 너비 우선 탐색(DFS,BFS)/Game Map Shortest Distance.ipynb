{
 "cells": [
  {
   "cell_type": "code",
   "execution_count": null,
   "metadata": {},
   "outputs": [],
   "source": [
    "# 참고 코드\n",
    "\n",
    "from collections import deque\n",
    "\n",
    "DIRECTION = [(0, -1), (1, 0), (0, 1), (-1, 0)]\n",
    "\n",
    "def solution(maps):\n",
    "    n, m = len(maps), len(maps[0])\n",
    "    \n",
    "    isBound = lambda y, x: (y>=0 and y < n and x>=0 and x < m)                 # 범위를 벗어나지 못하게하는 코드\n",
    "    \n",
    "    queue = deque()\n",
    "    queue.append([0, 0, 1])\n",
    "    \n",
    "    while queue:\n",
    "        [y, x, dist] = queue.popleft()                                         # pop은 출력한 후, 제거하는 것으로 queue 리스트에서는 값이 없지만, [y, x, dist]에는 없어진 값이 들어가게 된다.\n",
    "        if y == n-1 and x == m-1:                             # 문제에서 시작지점은 (1, 1)으로 설정했지만, 실제 인덱스에서는 (0, 0)으로 시작하기 때문에 y, x의 좌표가 n-1, m-1일 때, 멈춰야한다.\n",
    "            return dist\n",
    "        for (dy, dx) in DIRECTION:                            # DIRECTION은 '좌, 하, 상, 우'로 움직이는 것을 나타낸 것이다.  \n",
    "            if isBound(y+dy, x+dx):                                              # isBound()는 범위에서 움직일 수 있는 경우에만 코드가 작성되게 만들어 놓았다.\n",
    "                if maps[y+dy][x+dx] == 1 or maps[y+dy][x+dx] > dist+1:               # maps[y+dy][x+dx] == 1일 때 코드가 작동하는 이유는 움직일 수 있는 길이 되는 곳이며 만약, 이미 왔던 길이라면 코드가 작성되지 않게 한다. 또한, 뒤의 maps[y+dy][x+dx] > dist+1는 오류가 발생했을 때는 나타낸 것이라고 생각하면 된다.\n",
    "                    maps[y+dy][x+dx] = dist + 1                       # 이렇게 한 번 움직이면 dist에 값이 1씩 증가(코드가 돌아가는 도중(길이 두 갈래로 나뉘게 되는 경우)에는 이전에 가지고 있던 값을 가지고만 움직이는 것이다.)\n",
    "                    queue.append([y+dy, x+dx, dist+1])              # 두 갈래로 나뉘어서 움직이게 된다고해도 둘 중 한 곳은 멀리 돌아가거나 왔던 길을 돌아가는 것이기 때문에 queue에 들어가도 상관없다.(잘못된 길들은 알아서 뛰어넘게 된다.)\n",
    "    return -1"
   ]
  },
  {
   "cell_type": "markdown",
   "metadata": {},
   "source": [
    "deque는 스택과 큐의 기능을 모두 가진 객체로 출입구를 양 쪽에 가지고 있다.\n",
    "(스택처럼 사용 가능하고, 큐처럼 사용이 가능하다.)"
   ]
  },
  {
   "cell_type": "code",
   "execution_count": 4,
   "metadata": {},
   "outputs": [
    {
     "name": "stdout",
     "output_type": "stream",
     "text": [
      "deque(['l', 'o', 'v', 'e'])\n"
     ]
    }
   ],
   "source": [
    "from collections import deque\n",
    "\n",
    "dq = deque('love')\n",
    "print(dq)"
   ]
  },
  {
   "cell_type": "markdown",
   "metadata": {},
   "source": [
    "1. 스택 구현 : append(), pop()\n",
    "    스택은 마지막(오른쪽 끝)에서 입출력한다.\n",
    "    \n",
    "    입력시에는 appen() 메소드를 이용하고, 출력시에는 pop()을 이용한다."
   ]
  },
  {
   "cell_type": "code",
   "execution_count": 2,
   "metadata": {},
   "outputs": [
    {
     "name": "stdout",
     "output_type": "stream",
     "text": [
      "deque(['m'])\n"
     ]
    }
   ],
   "source": [
    "dq.append('m')         # 오른쪽 끝 항목에 추가\n",
    "print(dq)"
   ]
  },
  {
   "cell_type": "code",
   "execution_count": 3,
   "metadata": {},
   "outputs": [
    {
     "name": "stdout",
     "output_type": "stream",
     "text": [
      "deque(['l', 'o', 'v', 'e'])\n"
     ]
    }
   ],
   "source": [
    "dq.pop()           # 오른쪽 끝 항목에서 가져오며 삭제\n",
    "print(dq)"
   ]
  },
  {
   "cell_type": "markdown",
   "metadata": {},
   "source": [
    "2. 큐 구현 : appendleft(), pop(), append(), popleft()\n",
    "    큐는 왼쪽(처음)에서 입력되고, 오른쪽(마지막)에서 출력된다.\n",
    "    \n",
    "    오른쪽 출력 시에는 위 코드에서 봤던대로 pop()을 사용하면 된다.\n",
    "    왼쪽에 값을 입력할 때는 appendleft() 메소드를 사용하면 된다.\n",
    "    반대로 오른쪽에 값을 넣고 싶으면 append(), 왼쪽에서 값을 빼고 싶으면 popleft()를 사용한다."
   ]
  },
  {
   "cell_type": "code",
   "execution_count": 8,
   "metadata": {},
   "outputs": [
    {
     "name": "stdout",
     "output_type": "stream",
     "text": [
      "deque(['i', 'l', 'o', 'v', 'e'])\n"
     ]
    }
   ],
   "source": [
    "dq.appendleft('i')            # 왼쪽에 'i' 입력\n",
    "print(dq)"
   ]
  },
  {
   "cell_type": "code",
   "execution_count": 9,
   "metadata": {},
   "outputs": [
    {
     "name": "stdout",
     "output_type": "stream",
     "text": [
      "deque(['i', 'l', 'o', 'v'])\n"
     ]
    }
   ],
   "source": [
    "dq.pop()                      # 오른쪽에서 'e' 출력\n",
    "print(dq)"
   ]
  },
  {
   "cell_type": "markdown",
   "metadata": {},
   "source": [
    "3. deque 확장하기 : extend(), extendleft()\n",
    "    deque를 확장할 때는 extend() 메소드를 사용한다. 기본적으로 오른쪽으로 확장한다.\n",
    "    왼쪽으로 확장하고 싶을 때는 extendleft() 메소드를 사용한다."
   ]
  },
  {
   "cell_type": "code",
   "execution_count": 10,
   "metadata": {},
   "outputs": [
    {
     "name": "stdout",
     "output_type": "stream",
     "text": [
      "deque(['i', 'l', 'o', 'v', 'y', 'o', 'u'])\n"
     ]
    }
   ],
   "source": [
    "dq.extend('you')                   # 오른쪽으로 'y', 'o', 'u' 확장\n",
    "print(dq)"
   ]
  },
  {
   "cell_type": "code",
   "execution_count": 11,
   "metadata": {},
   "outputs": [
    {
     "name": "stdout",
     "output_type": "stream",
     "text": [
      "deque(['i', 'i', 'l', 'o', 'v', 'y', 'o', 'u'])\n"
     ]
    }
   ],
   "source": [
    "dq.extendleft('i')               # 왼쪽으로 'i' 확장\n",
    "print(dq)"
   ]
  },
  {
   "cell_type": "markdown",
   "metadata": {},
   "source": [
    "4. 리스트처럼 사용 : insert(), remove()\n",
    "    deque는 리스트처럼 중간 내용을 수정하거나 새 항목을 입력하거나 삭제할 수 있다."
   ]
  },
  {
   "cell_type": "code",
   "execution_count": 12,
   "metadata": {},
   "outputs": [
    {
     "name": "stdout",
     "output_type": "stream",
     "text": [
      "deque(['i', 'i', 'n', 'o', 'v', 'y', 'o', 'u'])\n"
     ]
    }
   ],
   "source": [
    "dq[2] = 'n'                   # 인덱스를 이용하여 항목 수정\n",
    "print(dq)"
   ]
  },
  {
   "cell_type": "markdown",
   "metadata": {},
   "source": [
    "새 항목을 입력하거나 기본 항목을 삭제할 때는 insert()와 remove() 메소드를 사용한다."
   ]
  },
  {
   "cell_type": "code",
   "execution_count": 14,
   "metadata": {},
   "outputs": [
    {
     "name": "stdout",
     "output_type": "stream",
     "text": [
      "deque(['i', 'w', 'w', 'i', 'n', 'o', 'v', 'y', 'o', 'u'])\n"
     ]
    }
   ],
   "source": [
    "dq.insert(1, 'w')               # 1번 항목에 'w' 추가\n",
    "print(dq)"
   ]
  },
  {
   "cell_type": "code",
   "execution_count": 15,
   "metadata": {},
   "outputs": [
    {
     "name": "stdout",
     "output_type": "stream",
     "text": [
      "deque(['i', 'w', 'w', 'i', 'n', 'o', 'v', 'y', 'o', 'u', 'v'])\n"
     ]
    }
   ],
   "source": [
    "dq.insert(100, 'v')            # 100번 항목이 없으므로 제일 뒤에 'v' 추가\n",
    "print(dq)"
   ]
  },
  {
   "cell_type": "code",
   "execution_count": 16,
   "metadata": {},
   "outputs": [
    {
     "name": "stdout",
     "output_type": "stream",
     "text": [
      "deque(['i', 'w', 'w', 'i', 'n', 'o', 'y', 'o', 'u', 'v'])\n"
     ]
    }
   ],
   "source": [
    "dq.remove('v')                  # 같은 항목이 존재할 경우 왼쪽부터 삭제\n",
    "print(dq)"
   ]
  },
  {
   "cell_type": "markdown",
   "metadata": {},
   "source": [
    "5. dequed의 내용을 좌우로 반전 : reverse()"
   ]
  },
  {
   "cell_type": "code",
   "execution_count": 17,
   "metadata": {},
   "outputs": [
    {
     "name": "stdout",
     "output_type": "stream",
     "text": [
      "deque(['v', 'u', 'o', 'y', 'o', 'n', 'i', 'w', 'w', 'i'])\n"
     ]
    }
   ],
   "source": [
    "dq.reverse()\n",
    "print(dq)"
   ]
  },
  {
   "cell_type": "code",
   "execution_count": 5,
   "metadata": {},
   "outputs": [
    {
     "name": "stdout",
     "output_type": "stream",
     "text": [
      "deque(['o', 'v', 'e'])\n"
     ]
    }
   ],
   "source": [
    "dq.popleft()\n",
    "print(dq)"
   ]
  }
 ],
 "metadata": {
  "kernelspec": {
   "display_name": "Python 3.9.7 ('base')",
   "language": "python",
   "name": "python3"
  },
  "language_info": {
   "codemirror_mode": {
    "name": "ipython",
    "version": 3
   },
   "file_extension": ".py",
   "mimetype": "text/x-python",
   "name": "python",
   "nbconvert_exporter": "python",
   "pygments_lexer": "ipython3",
   "version": "3.9.7"
  },
  "orig_nbformat": 4,
  "vscode": {
   "interpreter": {
    "hash": "d5801b79edcda5763ccfe48c18a4ee1d2165db6bc296bae4c89c41a89d640e66"
   }
  }
 },
 "nbformat": 4,
 "nbformat_minor": 2
}
