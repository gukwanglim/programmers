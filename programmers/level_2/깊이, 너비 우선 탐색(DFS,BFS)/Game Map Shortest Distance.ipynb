{
 "cells": [
  {
   "cell_type": "code",
   "execution_count": null,
   "metadata": {},
   "outputs": [],
   "source": [
    "# 참고 코드\n",
    "\n",
    "from collections import deque\n",
    "\n",
    "DIRECTION = [(0, -1), (1, 0), (0, 1), (-1, 0)]\n",
    "\n",
    "def solution(maps):\n",
    "    n, m = len(maps), len(maps[0])\n",
    "    \n",
    "    isBound = lambda y, x: (y>=0 and y < n and x>=0 and x < m)                 # 범위를 벗어나지 못하게하는 코드\n",
    "    \n",
    "    queue = deque()\n",
    "    queue.append([0, 0, 1])\n",
    "    \n",
    "    while queue:\n",
    "        [y, x, dist] = queue.popleft()\n",
    "        if y == n-1 and x == m-1:\n",
    "            return dist;\n",
    "        for (dy, dx) in DIRECTION:\n",
    "            if isBound(y+dy, x+dx):\n",
    "                if maps[y+dy][x+dx] == 1 or maps[y+dy][x+dx] > dist+1:\n",
    "                    maps[y+dy][x+dx] = dist + 1\n",
    "                    queue.append([y+dy, x+dx, dist+1])\n",
    "    return -1"
   ]
  },
  {
   "cell_type": "markdown",
   "metadata": {},
   "source": [
    "deque는 스택과 큐의 기능을 모두 가진 객체로 출입구를 양 쪽에 가지고 있다.\n",
    "(스택처럼 사용 가능하고, 큐처럼 사용이 가능하다.)"
   ]
  },
  {
   "cell_type": "code",
   "execution_count": 1,
   "metadata": {},
   "outputs": [
    {
     "name": "stdout",
     "output_type": "stream",
     "text": [
      "deque([])\n"
     ]
    }
   ],
   "source": [
    "from collections import deque\n",
    "\n",
    "dq = deque()\n",
    "print(dq)"
   ]
  },
  {
   "cell_type": "markdown",
   "metadata": {},
   "source": [
    "1. 스택 구현 : append(), pop()\n",
    "    스택은 마지막(오른쪽 끝)에서 입출력한다.\n",
    "    \n",
    "    입력시에는 appen() 메소드를 이용하고, 출력시에는 pop()을 이용한다."
   ]
  },
  {
   "cell_type": "code",
   "execution_count": 2,
   "metadata": {},
   "outputs": [
    {
     "name": "stdout",
     "output_type": "stream",
     "text": [
      "deque(['m'])\n"
     ]
    }
   ],
   "source": [
    "dq.append('m')         # 오른쪽 끝 항목에 추가\n",
    "print(dq)"
   ]
  },
  {
   "cell_type": "code",
   "execution_count": 3,
   "metadata": {},
   "outputs": [
    {
     "name": "stdout",
     "output_type": "stream",
     "text": [
      "deque(['l', 'o', 'v', 'e'])\n"
     ]
    }
   ],
   "source": [
    "dq.pop()           # 오른쪽 끝 항목에서 가져오며 삭제\n",
    "print(dq)"
   ]
  },
  {
   "cell_type": "markdown",
   "metadata": {},
   "source": [
    "2. 큐 구현 : appendleft(), pop(), append(), popleft()\n",
    "    큐는 왼쪽(처음)에서 입력되고, 오른쪽(마지막)에서 출력된다.\n",
    "    \n",
    "    오른쪽 출력 시에는 위 코드에서 봤던대로 pop()을 사용하면 된다.\n",
    "    왼쪽에 값을 입력할 때는 appendleft() 메소드를 사용하면 된다.\n",
    "    반대로 오른쪽에 값을 넣고 싶으면 append(), 왼쪽에서 값을 빼고 싶으면 popleft()를 사용한다."
   ]
  },
  {
   "cell_type": "code",
   "execution_count": 8,
   "metadata": {},
   "outputs": [
    {
     "name": "stdout",
     "output_type": "stream",
     "text": [
      "deque(['i', 'l', 'o', 'v', 'e'])\n"
     ]
    }
   ],
   "source": [
    "dq.appendleft('i')            # 왼쪽에 'i' 입력\n",
    "print(dq)"
   ]
  },
  {
   "cell_type": "code",
   "execution_count": 9,
   "metadata": {},
   "outputs": [
    {
     "name": "stdout",
     "output_type": "stream",
     "text": [
      "deque(['i', 'l', 'o', 'v'])\n"
     ]
    }
   ],
   "source": [
    "dq.pop()                      # 오른쪽에서 'e' 출력\n",
    "print(dq)"
   ]
  },
  {
   "cell_type": "markdown",
   "metadata": {},
   "source": [
    "3. deque 확장하기 : extend(), extendleft()\n",
    "    deque를 확장할 때는 extend() 메소드를 사용한다. 기본적으로 오른쪽으로 확장한다.\n",
    "    왼쪽으로 확장하고 싶을 때는 extendleft() 메소드를 사용한다."
   ]
  },
  {
   "cell_type": "code",
   "execution_count": 10,
   "metadata": {},
   "outputs": [
    {
     "name": "stdout",
     "output_type": "stream",
     "text": [
      "deque(['i', 'l', 'o', 'v', 'y', 'o', 'u'])\n"
     ]
    }
   ],
   "source": [
    "dq.extend('you')                   # 오른쪽으로 'y', 'o', 'u' 확장\n",
    "print(dq)"
   ]
  },
  {
   "cell_type": "code",
   "execution_count": 11,
   "metadata": {},
   "outputs": [
    {
     "name": "stdout",
     "output_type": "stream",
     "text": [
      "deque(['i', 'i', 'l', 'o', 'v', 'y', 'o', 'u'])\n"
     ]
    }
   ],
   "source": [
    "dq.extendleft('i')               # 왼쪽으로 'i' 확장\n",
    "print(dq)"
   ]
  },
  {
   "cell_type": "markdown",
   "metadata": {},
   "source": [
    "4. 리스트처럼 사용 : insert(), remove()\n",
    "    deque는 리스트처럼 중간 내용을 수정하거나 새 항목을 입력하거나 삭제할 수 있다."
   ]
  },
  {
   "cell_type": "code",
   "execution_count": 12,
   "metadata": {},
   "outputs": [
    {
     "name": "stdout",
     "output_type": "stream",
     "text": [
      "deque(['i', 'i', 'n', 'o', 'v', 'y', 'o', 'u'])\n"
     ]
    }
   ],
   "source": [
    "dq[2] = 'n'                   # 인덱스를 이용하여 항목 수정\n",
    "print(dq)"
   ]
  },
  {
   "cell_type": "markdown",
   "metadata": {},
   "source": [
    "새 항목을 입력하거나 기본 항목을 삭제할 때는 insert()와 remove() 메소드를 사용한다."
   ]
  },
  {
   "cell_type": "code",
   "execution_count": 14,
   "metadata": {},
   "outputs": [
    {
     "name": "stdout",
     "output_type": "stream",
     "text": [
      "deque(['i', 'w', 'w', 'i', 'n', 'o', 'v', 'y', 'o', 'u'])\n"
     ]
    }
   ],
   "source": [
    "dq.insert(1, 'w')               # 1번 항목에 'w' 추가\n",
    "print(dq)"
   ]
  },
  {
   "cell_type": "code",
   "execution_count": 15,
   "metadata": {},
   "outputs": [
    {
     "name": "stdout",
     "output_type": "stream",
     "text": [
      "deque(['i', 'w', 'w', 'i', 'n', 'o', 'v', 'y', 'o', 'u', 'v'])\n"
     ]
    }
   ],
   "source": [
    "dq.insert(100, 'v')            # 100번 항목이 없으므로 제일 뒤에 'v' 추가\n",
    "print(dq)"
   ]
  },
  {
   "cell_type": "code",
   "execution_count": 16,
   "metadata": {},
   "outputs": [
    {
     "name": "stdout",
     "output_type": "stream",
     "text": [
      "deque(['i', 'w', 'w', 'i', 'n', 'o', 'y', 'o', 'u', 'v'])\n"
     ]
    }
   ],
   "source": [
    "dq.remove('v')                  # 같은 항목이 존재할 경우 왼쪽부터 삭제\n",
    "print(dq)"
   ]
  },
  {
   "cell_type": "markdown",
   "metadata": {},
   "source": [
    "5. dequed의 내용을 좌우로 반전 : reverse()"
   ]
  },
  {
   "cell_type": "code",
   "execution_count": 17,
   "metadata": {},
   "outputs": [
    {
     "name": "stdout",
     "output_type": "stream",
     "text": [
      "deque(['v', 'u', 'o', 'y', 'o', 'n', 'i', 'w', 'w', 'i'])\n"
     ]
    }
   ],
   "source": [
    "dq.reverse()\n",
    "print(dq)"
   ]
  }
 ],
 "metadata": {
  "kernelspec": {
   "display_name": "Python 3.9.7 ('base')",
   "language": "python",
   "name": "python3"
  },
  "language_info": {
   "codemirror_mode": {
    "name": "ipython",
    "version": 3
   },
   "file_extension": ".py",
   "mimetype": "text/x-python",
   "name": "python",
   "nbconvert_exporter": "python",
   "pygments_lexer": "ipython3",
   "version": "3.9.7"
  },
  "orig_nbformat": 4,
  "vscode": {
   "interpreter": {
    "hash": "d5801b79edcda5763ccfe48c18a4ee1d2165db6bc296bae4c89c41a89d640e66"
   }
  }
 },
 "nbformat": 4,
 "nbformat_minor": 2
}
