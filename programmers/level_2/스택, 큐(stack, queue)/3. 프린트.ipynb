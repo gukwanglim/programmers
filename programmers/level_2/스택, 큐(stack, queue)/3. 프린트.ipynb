{
 "cells": [
  {
   "cell_type": "markdown",
   "metadata": {},
   "source": [
    "## 문제 설명\n",
    "\n",
    "일반적인 프린터는 인쇄 요청이 들어온 순서대로 인쇄합니다. 그렇기 때문에 중요한 문서가 나중에 인쇄될 수 있습니다. 이런 문제를 보완하기 위해 중요도가 높은 문서를 먼저 인쇄하는 프린터를 개발했습니다. 이 새롭게 개발한 프린터는 아래와 같은 방식으로 인쇄 작업을 수행합니다.\n",
    "\n",
    "1. 인쇄 대기목록의 가장 앞에 있는 문서(J)를 대기목록에서 꺼냅니다.\n",
    "2. 나머지 인쇄 대기목록에서 J보다 중요도가 높은 문서가 한 개라도 존재하면 J를 대기목록의 가장 마지막에 넣습니다.\n",
    "3. 그렇지 않으면 J를 인쇄합니다.\n",
    "\n",
    "예를 들어, 4개의 문서(A, B, C, D)가 순서대로 인쇄 대기목록에 있고 중요도가 2 1 3 2 라면 C D A B 순으로 인쇄하게 됩니다.\n",
    "\n",
    "내가 인쇄를 요청한 문서가 몇 번째로 인쇄되는지 알고 싶습니다. 위의 예에서 C는 1번째로, A는 3번째로 인쇄됩니다.\n",
    "\n",
    "현재 대기목록에 있는 문서의 중요도가 순서대로 담긴 배열 priorities와 내가 인쇄를 요청한 문서가 현재 대기목록의 어떤 위치에 있는지를 알려주는 location이 매개변수로 주어질 때, 내가 인쇄를 요청한 문서가 몇 번째로 인쇄되는지 return 하도록 solution 함수를 작성해주세요.\n",
    "\n",
    "### 제한사항\n",
    "\n",
    "- 현재 대기목록에는 1개 이상 100개 이하의 문서가 있습니다.\n",
    "- 인쇄 작업의 중요도는 1~9로 표현하며 숫자가 클수록 중요하다는 뜻입니다.\n",
    "- ocation은 0 이상 (현재 대기목록에 있는 작업 수 - 1) 이하의 값을 가지며 대기목록의 가장 앞에 있으면 0, 두 번째에 있으면 1로 표현합니다."
   ]
  },
  {
   "cell_type": "markdown",
   "metadata": {},
   "source": [
    "입출력 예\n",
    "\n",
    "priorities\t        location\t return\n",
    "-----------------------------------------\n",
    "[2, 1, 3, 2]\t        2\t        1\n",
    "[1, 1, 9, 1, 1, 1]\t    0\t        5"
   ]
  },
  {
   "cell_type": "markdown",
   "metadata": {},
   "source": [
    "### 입출력 예 설명\n",
    "\n",
    "- 예제 #1\n",
    "\n",
    "    문제에 나온 예와 같습니다.\n",
    "\n",
    "- 예제 #2\n",
    "\n",
    "    6개의 문서(A, B, C, D, E, F)가 인쇄 대기목록에 있고 중요도가 1 1 9 1 1 1 이므로 C D E F A B 순으로 인쇄합니다."
   ]
  },
  {
   "cell_type": "code",
   "execution_count": null,
   "metadata": {},
   "outputs": [],
   "source": [
    "def solution(p, l):\n",
    "    answer = 0\n",
    "    index = []\n",
    "    \n",
    "    for i in range(len(p)):\n",
    "        index.append(i)\n",
    "    \n",
    "    while len(p) != 0:\n",
    "        if p[0] == max(p):\n",
    "            answer += 1\n",
    "            if index[0] == l:\n",
    "                return answer\n",
    "            else:\n",
    "                p.pop(0)\n",
    "                index.pop(0)\n",
    "        else:\n",
    "            p.append(p[0])\n",
    "            index.append(index[0])\n",
    "            p.pop(0)\n",
    "            index.pop(0)\n",
    "            \n",
    "    return answer"
   ]
  },
  {
   "cell_type": "markdown",
   "metadata": {},
   "source": [
    "- enumerate를 사용하면 되는데 까먹고 있었음.\n",
    "- 그외의 나머지 방법은 아래와 같다."
   ]
  },
  {
   "cell_type": "code",
   "execution_count": null,
   "metadata": {},
   "outputs": [],
   "source": [
    "# False, True 로 변경해서 사용\n",
    "\n",
    "def solution(pr, lo):\n",
    "    answer = 0\n",
    "    tg = [False for i in range(len(pr))]\n",
    "    tg[lo] = True # tg = [False, False, True, False]\n",
    "    while pr != []:\n",
    "        if max(pr) == pr[0]:\n",
    "            pr.pop(0)\n",
    "            answer += 1\n",
    "            n = tg.pop(0)\n",
    "            if n:\n",
    "                return answer\n",
    "        else:\n",
    "            pr.append(pr.pop(0))\n",
    "            tg.append(tg.pop(0))"
   ]
  },
  {
   "cell_type": "markdown",
   "metadata": {},
   "source": [
    "- 이 방식에서 pr.append(pr.pop(0))과 같이 사용하면 굳이 pop()과 append()를 나눠 사용하지 않아도 괜찮다."
   ]
  },
  {
   "cell_type": "code",
   "execution_count": null,
   "metadata": {},
   "outputs": [],
   "source": [
    "# deque 사용\n",
    "\n",
    "from collections import deque\n",
    "def solution(priorities, location):\n",
    "    index_list = deque([i for i in range(len(priorities))])\n",
    "    maximum = max(priorities)\n",
    "    answer = 0\n",
    "    while True:\n",
    "        index = index_list.popleft()\n",
    "        if priorities[index] < maximum:\n",
    "            index_list.append(index)\n",
    "        else:\n",
    "            answer += 1\n",
    "            priorities[index] = 0\n",
    "            maximum = max(priorities)\n",
    "            if index == location:\n",
    "                return answer"
   ]
  }
 ],
 "metadata": {
  "kernelspec": {
   "display_name": "Python 3.9.7 ('base')",
   "language": "python",
   "name": "python3"
  },
  "language_info": {
   "name": "python",
   "version": "3.9.7"
  },
  "orig_nbformat": 4,
  "vscode": {
   "interpreter": {
    "hash": "d5801b79edcda5763ccfe48c18a4ee1d2165db6bc296bae4c89c41a89d640e66"
   }
  }
 },
 "nbformat": 4,
 "nbformat_minor": 2
}
