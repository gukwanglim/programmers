{
 "cells": [
  {
   "cell_type": "markdown",
   "metadata": {},
   "source": [
    "## 문제 설명\n",
    "\n",
    "초 단위로 기록된 주식가격이 담긴 배열 prices가 매개변수로 주어질 때, 가격이 떨어지지 않은 기간은 몇 초인지를 return 하도록 solution 함수를 완성하세요.\n",
    "\n",
    "## 제한사항\n",
    "\n",
    "- prices의 각 가격은 1 이상 10,000 이하인 자연수입니다.\n",
    "- prices의 길이는 2 이상 100,000 이하입니다."
   ]
  },
  {
   "cell_type": "markdown",
   "metadata": {},
   "source": [
    "### 입출력 예\n",
    "\n",
    "prices\t            return\n",
    "------------------------------------\n",
    "[1, 2, 3, 2, 3]\t    [4, 3, 1, 1, 0]"
   ]
  },
  {
   "cell_type": "markdown",
   "metadata": {},
   "source": [
    "### 입출력 예 설명\n",
    "\n",
    "- 1초 시점의 ₩1은 끝까지 가격이 떨어지지 않았습니다.\n",
    "- 2초 시점의 ₩2은 끝까지 가격이 떨어지지 않았습니다.\n",
    "- 3초 시점의 ₩3은 1초뒤에 가격이 떨어집니다. 따라서 1초간 가격이 떨어지지 않은 것으로 봅니다.\n",
    "- 4초 시점의 ₩2은 1초간 가격이 떨어지지 않았습니다.\n",
    "- 5초 시점의 ₩3은 0초간 가격이 떨어지지 않았습니다."
   ]
  },
  {
   "cell_type": "code",
   "execution_count": null,
   "metadata": {},
   "outputs": [],
   "source": [
    "# 효율성 테스트 실패\n",
    "\n",
    "def solution(prices):   \n",
    "    answer = []\n",
    "    \n",
    "    while len(prices) != 0:\n",
    "        num = 0\n",
    "        a = prices.pop(0)\n",
    "        for i in prices:\n",
    "            if a <= i:\n",
    "                num += 1\n",
    "            else:\n",
    "                num += 1\n",
    "                break\n",
    "        answer.append(num)\n",
    "    \n",
    "    return answer"
   ]
  },
  {
   "cell_type": "code",
   "execution_count": null,
   "metadata": {},
   "outputs": [],
   "source": [
    "# deque 사용으로 시간 복잡도 완화\n",
    "\n",
    "from collections import deque\n",
    "\n",
    "def solution(prices):   \n",
    "    answer = []\n",
    "    prices = deque(prices)\n",
    "    \n",
    "    while len(prices) != 0:\n",
    "        num = 0\n",
    "        a = prices.popleft()\n",
    "        for i in prices:\n",
    "            if a <= i:\n",
    "                num += 1\n",
    "            else:\n",
    "                num += 1\n",
    "                break\n",
    "        answer.append(num)\n",
    "    \n",
    "    return answer"
   ]
  }
 ],
 "metadata": {
  "kernelspec": {
   "display_name": "Python 3.9.7 ('base')",
   "language": "python",
   "name": "python3"
  },
  "language_info": {
   "name": "python",
   "version": "3.9.7"
  },
  "orig_nbformat": 4,
  "vscode": {
   "interpreter": {
    "hash": "d5801b79edcda5763ccfe48c18a4ee1d2165db6bc296bae4c89c41a89d640e66"
   }
  }
 },
 "nbformat": 4,
 "nbformat_minor": 2
}
