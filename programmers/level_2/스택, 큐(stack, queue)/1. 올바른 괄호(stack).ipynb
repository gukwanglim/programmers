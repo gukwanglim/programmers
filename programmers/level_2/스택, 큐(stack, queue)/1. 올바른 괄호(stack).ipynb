{
 "cells": [
  {
   "cell_type": "markdown",
   "metadata": {},
   "source": [
    "## 스택(stack)\n",
    "\n",
    "스택(stack)이란 쌓아 올린다는 것을 의미한다. \n",
    "따라서 스택 자료구조라는 것은 책을 쌓는 것처럼 차곡차곡 쌓아 올린 형태의 자료구조를 말한다.\n",
    "\n",
    "## 스택의 특징\n",
    "\n",
    "스택은 위의 사진처럼 같은 구조와 크기의 자료를 정해진 방향으로만 쌓을수 있고,\n",
    "top으로 정한 곳을 통해서만 접근할 수 있다.\n",
    "top에는 가장 위에 있는 자료는 가장 최근에 들어온 자료를 가리키고 있으며,\n",
    "삽입되는 새 자료는 top이 가리키는 자료의 위에 쌓이게 된다.\n",
    "스택에서 자료를 삭제할 때도 top을 통해서만 가능하다.\n",
    "스택에서 top을 통해 삽입하는 연산을 'push' , top을 통한 삭제하는 연산을 'pop'이라고 한다.\n",
    " \n",
    "따라서 스택은 시간 순서에 따라 자료가 쌓여서 가장 마지막에 삽입된 자료가 가장 먼저 삭제된다는\n",
    "구조적 특징을 가지게 된다.\n",
    " \n",
    "이러한 스택의 구조를 후입선출(LIFO, Last-In-First-Out) 구조이라고 한다.\n",
    "\n",
    "## 스택의 활용 예시\n",
    "\n",
    "스택의 특징인  후입선출(LIFO)을 활용하여 여러 분야에서 활용 가능하다.\n",
    "\n",
    "- 웹 브라우저 방문기록 (뒤로 가기) : 가장 나중에 열린 페이지부터 다시 보여준다.\n",
    "- 역순 문자열 만들기 : 가장 나중에 입력된 문자부터 출력한다.\n",
    "- 실행 취소 (undo) : 가장 나중에 실행된 것부터 실행을 취소한다.\n",
    "- 후위 표기법 계산\n",
    "- 수식의 괄호 검사 (연산자 우선순위 표현을 위한 괄호 검사)"
   ]
  },
  {
   "cell_type": "markdown",
   "metadata": {},
   "source": [
    "### 문제\n",
    "\n",
    "괄호가 바르게 짝지어졌다는 것은 '(' 문자로 열렸으면 반드시 짝지어서 ')' 문자로 닫혀야 한다는 뜻입니다. 예를 들어\n",
    "\n",
    "- \"()()\" 또는 \"(())()\" 는 올바른 괄호입니다.\n",
    "- \")()(\" 또는 \"(()(\" 는 올바르지 않은 괄호입니다.\n",
    "'(' 또는 ')' 로만 이루어진 문자열 s가 주어졌을 때, 문자열 s가 올바른 괄호이면 true를 return 하고, 올바르지 않은 괄호이면 false를 return 하는 solution 함수를 완성해 주세요.\n",
    "\n",
    "제한사항\n",
    "\n",
    "문자열 s의 길이 : 100,000 이하의 자연수\n",
    "문자열 s는 '(' 또는 ')' 로만 이루어져 있습니다."
   ]
  },
  {
   "cell_type": "markdown",
   "metadata": {},
   "source": [
    "\n",
    "입출력 예\n",
    "s\t        answer\n",
    "-------------------\n",
    "\"()()\"\t    true\n",
    "\"(())()\"\ttrue\n",
    "\")()(\"\t    false\n",
    "\"(()(\"\t    false"
   ]
  },
  {
   "cell_type": "code",
   "execution_count": 1,
   "metadata": {},
   "outputs": [],
   "source": [
    "def solution(s):\n",
    "\n",
    "    stack = []\n",
    "    \n",
    "    for i in s:\n",
    "        if i == \"(\":\n",
    "            stack.append(i)\n",
    "        else:\n",
    "            if len(stack) == 0:\n",
    "                return False\n",
    "            else:\n",
    "                stack.pop()\n",
    "    if len(stack) == 0:\n",
    "        return True\n",
    "    else:\n",
    "        return False"
   ]
  },
  {
   "cell_type": "markdown",
   "metadata": {},
   "source": [
    "문제를 보면 (로 시작해서 )로 끝나야 하나의 괄호가 만들어진다.\n",
    "그렇기 때문에 쌍을 이뤄야만 True를 반환할 수 있게 된다.\n",
    "\n",
    "때문에 stack = []에 (를 넣고 )를 만나게 되면 pop()을 이용하여 한 쌍의 괄호를 지워준다.(pop()를 사용하는 것이 스택의 핵심이라고 할 수 있다.)\n",
    "-> pop()을 사용하게 되면 나중에 들어왔던 정보가 먼저 사라진다.(1, 2, 3이 들어가게 되면 3, 2, 1의 순서로 삭제.)"
   ]
  }
 ],
 "metadata": {
  "kernelspec": {
   "display_name": "Python 3.9.7 ('base')",
   "language": "python",
   "name": "python3"
  },
  "language_info": {
   "codemirror_mode": {
    "name": "ipython",
    "version": 3
   },
   "file_extension": ".py",
   "mimetype": "text/x-python",
   "name": "python",
   "nbconvert_exporter": "python",
   "pygments_lexer": "ipython3",
   "version": "3.9.7"
  },
  "orig_nbformat": 4,
  "vscode": {
   "interpreter": {
    "hash": "d5801b79edcda5763ccfe48c18a4ee1d2165db6bc296bae4c89c41a89d640e66"
   }
  }
 },
 "nbformat": 4,
 "nbformat_minor": 2
}
